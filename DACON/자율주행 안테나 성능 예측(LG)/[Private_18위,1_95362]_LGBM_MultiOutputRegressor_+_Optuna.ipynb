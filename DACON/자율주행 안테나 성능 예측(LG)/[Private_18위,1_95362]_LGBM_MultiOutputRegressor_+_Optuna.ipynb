{
  "cells": [
    {
      "cell_type": "code",
      "source": [
        "!pip install optuna"
      ],
      "metadata": {
        "id": "o5lJMaQUynV2"
      },
      "id": "o5lJMaQUynV2",
      "execution_count": null,
      "outputs": []
    },
    {
      "cell_type": "code",
      "execution_count": 2,
      "metadata": {
        "colab": {
          "base_uri": "https://localhost:8080/"
        },
        "id": "V9O0r4WQhzlE",
        "outputId": "d5a797ba-d94d-4932-b553-6d0e05452645"
      },
      "outputs": [
        {
          "output_type": "stream",
          "name": "stdout",
          "text": [
            "Mounted at /content/drive\n"
          ]
        }
      ],
      "source": [
        "import pandas as pd\n",
        "import numpy as np\n",
        "from sklearn import datasets, ensemble\n",
        "from lightgbm import LGBMRegressor\n",
        "from tqdm import tqdm\n",
        "\n",
        "import optuna\n",
        "from sklearn.model_selection import KFold\n",
        "from sklearn.metrics import make_scorer, mean_squared_error\n",
        "from sklearn.model_selection import train_test_split\n",
        "from sklearn.multioutput import MultiOutputRegressor\n",
        "\n",
        "from google.colab import drive\n",
        "drive.mount('/content/drive')"
      ],
      "id": "V9O0r4WQhzlE"
    },
    {
      "cell_type": "code",
      "execution_count": 3,
      "metadata": {
        "id": "df5eb0eb"
      },
      "outputs": [],
      "source": [
        "path = '/content/drive/MyDrive/DACON/자율주행 안테나 성능 예측 경진대회(LG 주최)/LG_outputs/'\n",
        "train = pd.read_csv(path + 'train.csv')\n",
        "test = pd.read_csv(path + 'test.csv')\n",
        "submission = pd.read_csv(path + 'sample_submission.csv')\n",
        "y_feature_spec_info = pd.read_csv(path + 'meta/y_feature_spec_info.csv')"
      ],
      "id": "df5eb0eb"
    },
    {
      "cell_type": "code",
      "execution_count": 4,
      "metadata": {
        "id": "ONQmlYi7_nAY"
      },
      "outputs": [],
      "source": [
        "target_list = []\n",
        "min_list = []\n",
        "max_list = []\n",
        "for i in range(len(y_feature_spec_info)):\n",
        "    target_list.append(y_feature_spec_info['Feature'][i])\n",
        "    min_list.append(y_feature_spec_info['최소'][i])\n",
        "    max_list.append(y_feature_spec_info['최대'][i])"
      ],
      "id": "ONQmlYi7_nAY"
    },
    {
      "cell_type": "code",
      "execution_count": 5,
      "metadata": {
        "id": "zbytjYWaWOkZ"
      },
      "outputs": [],
      "source": [
        "X = train[[\n",
        "    'X_01', 'X_03', 'X_05', 'X_06', 'X_07', 'X_08', 'X_09', 'X_12', 'X_14', 'X_15', 'X_16', 'X_17', 'X_19', 'X_20', \n",
        "    'X_21', 'X_22', 'X_24', 'X_25', 'X_26', 'X_27', 'X_28', 'X_29', 'X_30', \n",
        "    'X_31', 'X_32', 'X_33', 'X_35', 'X_37', 'X_38', 'X_39', 'X_40', \n",
        "    'X_41', 'X_42', 'X_43', 'X_44', 'X_46', 'X_49', 'X_50', \n",
        "    'X_51', 'X_52', 'X_53', 'X_54', 'X_55', 'X_56'\n",
        "    ]]\n",
        "y = train[[\n",
        "    'Y_01', 'Y_02', 'Y_03', 'Y_04', 'Y_05', 'Y_06', 'Y_07', 'Y_08', 'Y_09', 'Y_10', \n",
        "    'Y_11', 'Y_12', 'Y_13', 'Y_14'\n",
        "    ]]"
      ],
      "id": "zbytjYWaWOkZ"
    },
    {
      "cell_type": "code",
      "execution_count": 6,
      "metadata": {
        "id": "4d1ab7c6"
      },
      "outputs": [],
      "source": [
        "target = test[X.columns]"
      ],
      "id": "4d1ab7c6"
    },
    {
      "cell_type": "code",
      "execution_count": 7,
      "metadata": {
        "id": "68f34faf"
      },
      "outputs": [],
      "source": [
        "# LG 평가 기준을 반영한 점수 정산 함수\n",
        "def lg_nrmse(gt, preds):\n",
        "    all_nrmse = []\n",
        "    for idx in range(14): \n",
        "        rmse = mean_squared_error(gt.iloc[:,idx], preds[:,idx], squared = False)\n",
        "        nrmse = rmse / np.mean(np.abs(gt.iloc[:,idx]))\n",
        "        all_nrmse.append(nrmse)\n",
        "    score = 1.2 * np.sum(all_nrmse[:8]) + 1.0 * np.sum(all_nrmse[8:15])\n",
        "    return score"
      ],
      "id": "68f34faf"
    },
    {
      "cell_type": "code",
      "execution_count": 8,
      "metadata": {
        "id": "5496a328"
      },
      "outputs": [],
      "source": [
        "kf = KFold(n_splits = 10, random_state = 2022, shuffle = True)"
      ],
      "id": "5496a328"
    },
    {
      "cell_type": "code",
      "execution_count": null,
      "metadata": {
        "id": "wistAfo-hfCm"
      },
      "outputs": [],
      "source": [
        "def objective_cat(trial):\n",
        "\n",
        "    x_train, x_test, y_train, y_test = train_test_split(X, y, test_size=0.2, random_state=2022)\n",
        "\n",
        "    params = {\n",
        "        'objective': 'regression',\n",
        "        'verbose': -1,\n",
        "        'metric': 'rmse', \n",
        "        'num_leaves': trial.suggest_int('num_leaves', 2, 1024, step=1, log=True), \n",
        "        'colsample_bytree': trial.suggest_uniform('colsample_bytree', 0.7, 1.0),\n",
        "        'reg_alpha': trial.suggest_uniform('reg_alpha', 0.0, 1.0),\n",
        "        'reg_lambda': trial.suggest_uniform('reg_lambda', 0.0, 10.0),\n",
        "        'max_depth': trial.suggest_int('max_depth',3, 15),\n",
        "        'learning_rate': trial.suggest_loguniform(\"learning_rate\", 1e-8, 1e-2),\n",
        "        'n_estimators': trial.suggest_int('n_estimators', 100, 3000),\n",
        "        'min_child_samples': trial.suggest_int('min_child_samples', 5, 100),\n",
        "        'subsample': trial.suggest_loguniform('subsample', 0.4, 1),\n",
        "        'random_state': trial.suggest_int('random_state', 0, 100),\n",
        "    }\n",
        "\n",
        "    # LGBMRegressor을 통해 예측 진행\n",
        "    model = MultiOutputRegressor(LGBMRegressor(**params))\n",
        "    model.fit(x_train, y_train)\n",
        "\n",
        "    pred = model.predict(x_test)\n",
        "\n",
        "    # LG 채점 기준(nrmse)에 따라 채점 진행 후 점수 반환\n",
        "    rmse = lg_nrmse(y_test, pred)\n",
        "\n",
        "\n",
        "    return rmse"
      ],
      "id": "wistAfo-hfCm"
    },
    {
      "cell_type": "code",
      "execution_count": null,
      "metadata": {
        "id": "Cg6VkUeXQbQJ"
      },
      "outputs": [],
      "source": [
        "# Optuna를 통해 최적의 모델 선정\n",
        "study = optuna.create_study(direction=\"minimize\")\n",
        "study.optimize(objective_cat, n_trials=300)\n",
        "\n",
        "# 위에서 구한 최적의 모델의 parameter을 저장\n",
        "params=study.best_params \n",
        "params['metric'] = 'rmse'\n",
        "params['objective'] = 'regression'"
      ],
      "id": "Cg6VkUeXQbQJ"
    },
    {
      "cell_type": "code",
      "execution_count": null,
      "metadata": {
        "id": "25c6f43b"
      },
      "outputs": [],
      "source": [
        "# K Fold 진행\n",
        "NRMSES = []\n",
        "pred = np.zeros((target.shape[0], 14))\n",
        "for i, idx in enumerate(kf.split(X, y)):\n",
        "\n",
        "    # train, valid split해준다.\n",
        "    tr_x, tr_y = X.loc[idx[0]], y.loc[idx[0]]\n",
        "    val_x, val_y = X.loc[idx[1]], y.loc[idx[1]]\n",
        "    \n",
        "    model = MultiOutputRegressor(LGBMRegressor(**params))\n",
        "    model.fit(tr_x, tr_y)\n",
        "    \n",
        "    val_pred = model.predict(val_x)\n",
        "    NRMSE = lg_nrmse(val_y, val_pred)\n",
        "    print(f\"{i + 1} Fold NRMSE = {NRMSE}\")\n",
        "    NRMSES.append(NRMSE)\n",
        "    \n",
        "    # K Fold로 split된 train set으로 training된 다수의 모델의 output을 단순 평균 내어줌(model Ensemble)\n",
        "    fold_pred = model.predict(target) / kf.n_splits\n",
        "    pred += fold_pred"
      ],
      "id": "25c6f43b"
    },
    {
      "cell_type": "code",
      "execution_count": null,
      "metadata": {
        "id": "8158befe",
        "scrolled": true
      },
      "outputs": [],
      "source": [
        "np.mean(NRMSES) "
      ],
      "id": "8158befe"
    },
    {
      "cell_type": "code",
      "execution_count": null,
      "metadata": {
        "id": "82ce7c8f"
      },
      "outputs": [],
      "source": [
        "submission.iloc[:, 1:] = pred"
      ],
      "id": "82ce7c8f"
    },
    {
      "cell_type": "code",
      "execution_count": null,
      "metadata": {
        "id": "6b28defd"
      },
      "outputs": [],
      "source": [
        "submission.to_csv(path + 'lgbm_kfold_optuna_fold10_rm21318343645_best.csv', index = False)"
      ],
      "id": "6b28defd"
    },
    {
      "cell_type": "code",
      "source": [],
      "metadata": {
        "id": "BbZaC-Hps3lh"
      },
      "id": "BbZaC-Hps3lh",
      "execution_count": null,
      "outputs": []
    }
  ],
  "metadata": {
    "colab": {
      "machine_shape": "hm",
      "provenance": []
    },
    "gpuClass": "standard",
    "kernelspec": {
      "display_name": "Python 3 (ipykernel)",
      "language": "python",
      "name": "python3"
    },
    "language_info": {
      "codemirror_mode": {
        "name": "ipython",
        "version": 3
      },
      "file_extension": ".py",
      "mimetype": "text/x-python",
      "name": "python",
      "nbconvert_exporter": "python",
      "pygments_lexer": "ipython3",
      "version": "3.9.7"
    }
  },
  "nbformat": 4,
  "nbformat_minor": 5
}