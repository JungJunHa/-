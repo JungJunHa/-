{
  "nbformat": 4,
  "nbformat_minor": 0,
  "metadata": {
    "colab": {
      "provenance": [],
      "collapsed_sections": []
    },
    "kernelspec": {
      "name": "python3",
      "display_name": "Python 3"
    },
    "language_info": {
      "name": "python"
    }
  },
  "cells": [
    {
      "cell_type": "code",
      "execution_count": null,
      "metadata": {
        "colab": {
          "base_uri": "https://localhost:8080/"
        },
        "id": "12k14Ag4oIBN",
        "outputId": "5ba50e48-5642-47ad-8631-eee16a1b38bd"
      },
      "outputs": [
        {
          "output_type": "stream",
          "name": "stdout",
          "text": [
            "Mounted at /content/drive\n"
          ]
        }
      ],
      "source": [
        "from google.colab import drive\n",
        "drive.mount('/content/drive')"
      ]
    },
    {
      "cell_type": "code",
      "source": [
        "!pip install optuna"
      ],
      "metadata": {
        "colab": {
          "base_uri": "https://localhost:8080/"
        },
        "id": "SVYEhmBxovm3",
        "outputId": "ecd89a13-efa1-4a74-fdf0-2cfdb92b1959"
      },
      "execution_count": null,
      "outputs": [
        {
          "output_type": "stream",
          "name": "stdout",
          "text": [
            "Looking in indexes: https://pypi.org/simple, https://us-python.pkg.dev/colab-wheels/public/simple/\n",
            "Collecting optuna\n",
            "  Downloading optuna-2.10.1-py3-none-any.whl (308 kB)\n",
            "\u001b[K     |████████████████████████████████| 308 kB 3.8 MB/s \n",
            "\u001b[?25hRequirement already satisfied: scipy!=1.4.0 in /usr/local/lib/python3.7/dist-packages (from optuna) (1.7.3)\n",
            "Requirement already satisfied: numpy in /usr/local/lib/python3.7/dist-packages (from optuna) (1.21.6)\n",
            "Collecting alembic\n",
            "  Downloading alembic-1.8.1-py3-none-any.whl (209 kB)\n",
            "\u001b[K     |████████████████████████████████| 209 kB 43.5 MB/s \n",
            "\u001b[?25hCollecting cliff\n",
            "  Downloading cliff-3.10.1-py3-none-any.whl (81 kB)\n",
            "\u001b[K     |████████████████████████████████| 81 kB 8.2 MB/s \n",
            "\u001b[?25hRequirement already satisfied: PyYAML in /usr/local/lib/python3.7/dist-packages (from optuna) (3.13)\n",
            "Collecting cmaes>=0.8.2\n",
            "  Downloading cmaes-0.8.2-py3-none-any.whl (15 kB)\n",
            "Requirement already satisfied: packaging>=20.0 in /usr/local/lib/python3.7/dist-packages (from optuna) (21.3)\n",
            "Requirement already satisfied: tqdm in /usr/local/lib/python3.7/dist-packages (from optuna) (4.64.0)\n",
            "Collecting colorlog\n",
            "  Downloading colorlog-6.6.0-py2.py3-none-any.whl (11 kB)\n",
            "Requirement already satisfied: sqlalchemy>=1.1.0 in /usr/local/lib/python3.7/dist-packages (from optuna) (1.4.39)\n",
            "Requirement already satisfied: pyparsing!=3.0.5,>=2.0.2 in /usr/local/lib/python3.7/dist-packages (from packaging>=20.0->optuna) (3.0.9)\n",
            "Requirement already satisfied: greenlet!=0.4.17 in /usr/local/lib/python3.7/dist-packages (from sqlalchemy>=1.1.0->optuna) (1.1.2)\n",
            "Requirement already satisfied: importlib-metadata in /usr/local/lib/python3.7/dist-packages (from sqlalchemy>=1.1.0->optuna) (4.12.0)\n",
            "Requirement already satisfied: importlib-resources in /usr/local/lib/python3.7/dist-packages (from alembic->optuna) (5.9.0)\n",
            "Collecting Mako\n",
            "  Downloading Mako-1.2.1-py3-none-any.whl (78 kB)\n",
            "\u001b[K     |████████████████████████████████| 78 kB 5.7 MB/s \n",
            "\u001b[?25hCollecting stevedore>=2.0.1\n",
            "  Downloading stevedore-3.5.0-py3-none-any.whl (49 kB)\n",
            "\u001b[K     |████████████████████████████████| 49 kB 3.6 MB/s \n",
            "\u001b[?25hCollecting cmd2>=1.0.0\n",
            "  Downloading cmd2-2.4.2-py3-none-any.whl (147 kB)\n",
            "\u001b[K     |████████████████████████████████| 147 kB 45.2 MB/s \n",
            "\u001b[?25hCollecting autopage>=0.4.0\n",
            "  Downloading autopage-0.5.1-py3-none-any.whl (29 kB)\n",
            "Requirement already satisfied: PrettyTable>=0.7.2 in /usr/local/lib/python3.7/dist-packages (from cliff->optuna) (3.3.0)\n",
            "Collecting pbr!=2.1.0,>=2.0.0\n",
            "  Downloading pbr-5.9.0-py2.py3-none-any.whl (112 kB)\n",
            "\u001b[K     |████████████████████████████████| 112 kB 48.8 MB/s \n",
            "\u001b[?25hRequirement already satisfied: typing-extensions in /usr/local/lib/python3.7/dist-packages (from cmd2>=1.0.0->cliff->optuna) (4.1.1)\n",
            "Requirement already satisfied: attrs>=16.3.0 in /usr/local/lib/python3.7/dist-packages (from cmd2>=1.0.0->cliff->optuna) (22.1.0)\n",
            "Collecting pyperclip>=1.6\n",
            "  Downloading pyperclip-1.8.2.tar.gz (20 kB)\n",
            "Requirement already satisfied: wcwidth>=0.1.7 in /usr/local/lib/python3.7/dist-packages (from cmd2>=1.0.0->cliff->optuna) (0.2.5)\n",
            "Requirement already satisfied: zipp>=0.5 in /usr/local/lib/python3.7/dist-packages (from importlib-metadata->sqlalchemy>=1.1.0->optuna) (3.8.1)\n",
            "Requirement already satisfied: MarkupSafe>=0.9.2 in /usr/local/lib/python3.7/dist-packages (from Mako->alembic->optuna) (2.0.1)\n",
            "Building wheels for collected packages: pyperclip\n",
            "  Building wheel for pyperclip (setup.py) ... \u001b[?25l\u001b[?25hdone\n",
            "  Created wheel for pyperclip: filename=pyperclip-1.8.2-py3-none-any.whl size=11137 sha256=9f3908345ab27bce11ea0660e0b327481dedb5bc92d54cb64665a9292ca95373\n",
            "  Stored in directory: /root/.cache/pip/wheels/9f/18/84/8f69f8b08169c7bae2dde6bd7daf0c19fca8c8e500ee620a28\n",
            "Successfully built pyperclip\n",
            "Installing collected packages: pyperclip, pbr, stevedore, Mako, cmd2, autopage, colorlog, cmaes, cliff, alembic, optuna\n",
            "Successfully installed Mako-1.2.1 alembic-1.8.1 autopage-0.5.1 cliff-3.10.1 cmaes-0.8.2 cmd2-2.4.2 colorlog-6.6.0 optuna-2.10.1 pbr-5.9.0 pyperclip-1.8.2 stevedore-3.5.0\n"
          ]
        }
      ]
    },
    {
      "cell_type": "code",
      "source": [
        "import pandas as pd\n",
        "import numpy as np\n",
        "from sklearn import datasets, ensemble\n",
        "import optuna\n",
        "from sklearn import datasets, ensemble\n",
        "from sklearn.inspection import permutation_importance\n",
        "from sklearn.metrics import mean_squared_error\n",
        "from sklearn.model_selection import train_test_split\n",
        "from sklearn.model_selection import KFold\n",
        "from tqdm import tqdm\n",
        "from xgboost import XGBRegressor\n",
        "from lightgbm import LGBMRegressor"
      ],
      "metadata": {
        "id": "X7seBUwEovkL"
      },
      "execution_count": null,
      "outputs": []
    },
    {
      "cell_type": "code",
      "source": [
        "path = '/content/drive/MyDrive/Datasets/lg_aimers/lg aimers/'\n",
        "\n",
        "train = pd.read_csv(path + 'train.csv')\n",
        "test = pd.read_csv(path + 'test.csv')\n",
        "submission = pd.read_csv(path + 'sample_submission.csv')"
      ],
      "metadata": {
        "id": "IRMPiLc6ovh1"
      },
      "execution_count": null,
      "outputs": []
    },
    {
      "cell_type": "code",
      "source": [
        "target_list = ['Y_01', 'Y_02', 'Y_03', 'Y_04', 'Y_05', 'Y_06',\n",
        "       'Y_07', 'Y_08', 'Y_09', 'Y_10', 'Y_11', 'Y_12', 'Y_13', 'Y_14']"
      ],
      "metadata": {
        "id": "M8vkm5EApuO9"
      },
      "execution_count": null,
      "outputs": []
    },
    {
      "cell_type": "code",
      "source": [
        "for i in tqdm(range(0,3)):\n",
        "    globals()['train_{}'.format(target_list[i])] = train[['X_01', 'X_02', 'X_03', 'X_04', 'X_05', 'X_06', 'X_07', 'X_08',\n",
        "       'X_09', 'X_10', 'X_11', 'X_12', 'X_13', 'X_14', 'X_15', 'X_16', 'X_17',\n",
        "       'X_18', 'X_19', 'X_20', 'X_21', 'X_22', 'X_23', 'X_24', 'X_25', 'X_26',\n",
        "       'X_27', 'X_28', 'X_29', 'X_30', 'X_31', 'X_32', 'X_33', 'X_34', 'X_35',\n",
        "       'X_36', 'X_37', 'X_38', 'X_39', 'X_40', 'X_41', 'X_42', 'X_43', 'X_44',\n",
        "       'X_45', 'X_46', 'X_47', 'X_48', 'X_49', 'X_50', 'X_51', 'X_52', 'X_53',\n",
        "       'X_54', 'X_55', 'X_56', f'{target_list[i]}']]\n",
        "    locals()['train_{}'.format(target_list[i])].drop(columns=['X_48', 'X_47', 'X_23', 'X_04'], inplace=True)"
      ],
      "metadata": {
        "colab": {
          "base_uri": "https://localhost:8080/"
        },
        "id": "GRiPluW0ovfP",
        "outputId": "0164fb9d-5cde-4b0b-da16-17bd4ca94a1f"
      },
      "execution_count": null,
      "outputs": [
        {
          "output_type": "stream",
          "name": "stderr",
          "text": [
            "  0%|          | 0/3 [00:00<?, ?it/s]/usr/local/lib/python3.7/dist-packages/pandas/core/frame.py:4913: SettingWithCopyWarning: \n",
            "A value is trying to be set on a copy of a slice from a DataFrame\n",
            "\n",
            "See the caveats in the documentation: https://pandas.pydata.org/pandas-docs/stable/user_guide/indexing.html#returning-a-view-versus-a-copy\n",
            "  errors=errors,\n",
            "100%|██████████| 3/3 [00:00<00:00, 38.02it/s]\n"
          ]
        }
      ]
    },
    {
      "cell_type": "code",
      "source": [
        "X = train_Y_01.loc[:, 'X_01':'X_56']\n",
        "y = train_Y_01.loc[:, 'Y_01':]"
      ],
      "metadata": {
        "id": "4rBhK2efqS4I"
      },
      "execution_count": null,
      "outputs": []
    },
    {
      "cell_type": "code",
      "source": [
        "target = test[X.columns]"
      ],
      "metadata": {
        "id": "L8i89nZSqPMV"
      },
      "execution_count": null,
      "outputs": []
    },
    {
      "cell_type": "code",
      "source": [
        "def objective_cat(trial):\n",
        "    \"\"\"\n",
        "    Objective function to tune a `CatBoostRegressor` model.\n",
        "    \"\"\"\n",
        "\n",
        "    x_train, x_test, y_train, y_test = train_test_split(X, y, test_size=0.2, random_state=42)\n",
        "\n",
        "    params = {\n",
        "        'loss' : 'squared_error',\n",
        "        'min_samples_split':trial.suggest_int(\"min_samples_split\", 3, 20),\n",
        "        'min_samples_leaf':trial.suggest_int(\"min_samples_leaf\", 3, 20),\n",
        "        'n_estimators':trial.suggest_int(\"n_estimators\", 3, 2000),\n",
        "        'learning_rate' : trial.suggest_uniform('learning_rate',0.01, 1),\n",
        "        'subsample' : trial.suggest_uniform('subsample',0.1, 1),\n",
        "        'criterion' : 'friedman_mse',\n",
        "        'max_depth': trial.suggest_int('max_depth',1, 15),\n",
        "        'warm_start' : True,\n",
        "        'verbose' : 0,\n",
        "        'random_state' : 42\n",
        "\n",
        "\n",
        "    }\n",
        "\n",
        "\n",
        "    model = ensemble.GradientBoostingRegressor(\n",
        "        # objective = 'MultiRMSE',\n",
        "        **params,\n",
        "    )\n",
        "    model.fit(x_train, y_train)\n",
        "\n",
        "    pred = model.predict(x_test)\n",
        "\n",
        "    rmse = mean_squared_error(y_test, pred)\n",
        "\n",
        "\n",
        "    return rmse"
      ],
      "metadata": {
        "id": "tuMf3eX5oval"
      },
      "execution_count": null,
      "outputs": []
    },
    {
      "cell_type": "code",
      "source": [
        "study_catboost = optuna.create_study(direction=\"minimize\")\n",
        "study_catboost.optimize(objective_cat, n_trials=30)"
      ],
      "metadata": {
        "colab": {
          "base_uri": "https://localhost:8080/"
        },
        "id": "zSEWMXartqvs",
        "outputId": "7b5bec62-0490-4dd9-f0ab-658095b1c844"
      },
      "execution_count": null,
      "outputs": [
        {
          "output_type": "stream",
          "name": "stderr",
          "text": [
            "\u001b[32m[I 2022-08-09 08:24:41,911]\u001b[0m A new study created in memory with name: no-name-e9d22ec0-72c8-48b4-9e66-504d2d1e4f63\u001b[0m\n"
          ]
        },
        {
          "output_type": "stream",
          "name": "stdout",
          "text": [
            "[08:24:42] WARNING: /workspace/src/objective/regression_obj.cu:152: reg:linear is now deprecated in favor of reg:squarederror.\n"
          ]
        },
        {
          "output_type": "stream",
          "name": "stderr",
          "text": [
            "\u001b[32m[I 2022-08-09 08:24:56,521]\u001b[0m Trial 0 finished with value: 0.12262789449360724 and parameters: {'min_samples_split': 12, 'min_samples_leaf': 10, 'n_estimators': 240, 'learning_rate': 0.078664635282602, 'subsample': 0.8812409644488226, 'max_depth': 3}. Best is trial 0 with value: 0.12262789449360724.\u001b[0m\n"
          ]
        },
        {
          "output_type": "stream",
          "name": "stdout",
          "text": [
            "[08:24:56] WARNING: /workspace/src/objective/regression_obj.cu:152: reg:linear is now deprecated in favor of reg:squarederror.\n"
          ]
        },
        {
          "output_type": "stream",
          "name": "stderr",
          "text": [
            "\u001b[32m[I 2022-08-09 08:25:56,204]\u001b[0m Trial 1 finished with value: 0.16773076643079488 and parameters: {'min_samples_split': 15, 'min_samples_leaf': 19, 'n_estimators': 170, 'learning_rate': 0.2529672907462705, 'subsample': 0.38857883477214916, 'max_depth': 12}. Best is trial 0 with value: 0.12262789449360724.\u001b[0m\n"
          ]
        },
        {
          "output_type": "stream",
          "name": "stdout",
          "text": [
            "[08:25:56] WARNING: /workspace/src/objective/regression_obj.cu:152: reg:linear is now deprecated in favor of reg:squarederror.\n"
          ]
        },
        {
          "output_type": "stream",
          "name": "stderr",
          "text": [
            "\u001b[32m[I 2022-08-09 08:26:25,721]\u001b[0m Trial 2 finished with value: 0.1261701144670915 and parameters: {'min_samples_split': 20, 'min_samples_leaf': 10, 'n_estimators': 1137, 'learning_rate': 0.9447408322483026, 'subsample': 0.9348483601617023, 'max_depth': 1}. Best is trial 0 with value: 0.12262789449360724.\u001b[0m\n"
          ]
        },
        {
          "output_type": "stream",
          "name": "stdout",
          "text": [
            "[08:26:25] WARNING: /workspace/src/objective/regression_obj.cu:152: reg:linear is now deprecated in favor of reg:squarederror.\n"
          ]
        },
        {
          "output_type": "stream",
          "name": "stderr",
          "text": [
            "\u001b[32m[I 2022-08-09 08:29:50,126]\u001b[0m Trial 3 finished with value: 0.13132806452915555 and parameters: {'min_samples_split': 6, 'min_samples_leaf': 5, 'n_estimators': 1528, 'learning_rate': 0.11866547901690286, 'subsample': 0.6679239653781784, 'max_depth': 15}. Best is trial 0 with value: 0.12262789449360724.\u001b[0m\n"
          ]
        },
        {
          "output_type": "stream",
          "name": "stdout",
          "text": [
            "[08:29:50] WARNING: /workspace/src/objective/regression_obj.cu:152: reg:linear is now deprecated in favor of reg:squarederror.\n"
          ]
        },
        {
          "output_type": "stream",
          "name": "stderr",
          "text": [
            "\u001b[32m[I 2022-08-09 08:33:15,053]\u001b[0m Trial 4 finished with value: 0.1266332522229585 and parameters: {'min_samples_split': 10, 'min_samples_leaf': 4, 'n_estimators': 1056, 'learning_rate': 0.05286494155002189, 'subsample': 0.7604795889365827, 'max_depth': 8}. Best is trial 0 with value: 0.12262789449360724.\u001b[0m\n"
          ]
        },
        {
          "output_type": "stream",
          "name": "stdout",
          "text": [
            "[08:33:15] WARNING: /workspace/src/objective/regression_obj.cu:152: reg:linear is now deprecated in favor of reg:squarederror.\n"
          ]
        },
        {
          "output_type": "stream",
          "name": "stderr",
          "text": [
            "\u001b[32m[I 2022-08-09 08:38:32,152]\u001b[0m Trial 5 finished with value: 2.7001189063618662 and parameters: {'min_samples_split': 20, 'min_samples_leaf': 5, 'n_estimators': 1390, 'learning_rate': 0.728861294307796, 'subsample': 0.33007664556624094, 'max_depth': 10}. Best is trial 0 with value: 0.12262789449360724.\u001b[0m\n"
          ]
        },
        {
          "output_type": "stream",
          "name": "stdout",
          "text": [
            "[08:38:32] WARNING: /workspace/src/objective/regression_obj.cu:152: reg:linear is now deprecated in favor of reg:squarederror.\n"
          ]
        },
        {
          "output_type": "stream",
          "name": "stderr",
          "text": [
            "\u001b[32m[I 2022-08-09 08:40:07,692]\u001b[0m Trial 6 finished with value: 0.1662237114628459 and parameters: {'min_samples_split': 3, 'min_samples_leaf': 18, 'n_estimators': 1629, 'learning_rate': 0.6577865877255668, 'subsample': 0.9293795503394051, 'max_depth': 3}. Best is trial 0 with value: 0.12262789449360724.\u001b[0m\n"
          ]
        },
        {
          "output_type": "stream",
          "name": "stdout",
          "text": [
            "[08:40:07] WARNING: /workspace/src/objective/regression_obj.cu:152: reg:linear is now deprecated in favor of reg:squarederror.\n"
          ]
        },
        {
          "output_type": "stream",
          "name": "stderr",
          "text": [
            "\u001b[32m[I 2022-08-09 08:41:42,290]\u001b[0m Trial 7 finished with value: 45.23299847114643 and parameters: {'min_samples_split': 10, 'min_samples_leaf': 9, 'n_estimators': 771, 'learning_rate': 0.679166861954678, 'subsample': 0.22444785345469165, 'max_depth': 8}. Best is trial 0 with value: 0.12262789449360724.\u001b[0m\n"
          ]
        },
        {
          "output_type": "stream",
          "name": "stdout",
          "text": [
            "[08:41:42] WARNING: /workspace/src/objective/regression_obj.cu:152: reg:linear is now deprecated in favor of reg:squarederror.\n"
          ]
        },
        {
          "output_type": "stream",
          "name": "stderr",
          "text": [
            "\u001b[32m[I 2022-08-09 08:43:10,823]\u001b[0m Trial 8 finished with value: 0.1952209730967118 and parameters: {'min_samples_split': 8, 'min_samples_leaf': 16, 'n_estimators': 541, 'learning_rate': 0.6829766044072065, 'subsample': 0.7882640898243614, 'max_depth': 7}. Best is trial 0 with value: 0.12262789449360724.\u001b[0m\n"
          ]
        },
        {
          "output_type": "stream",
          "name": "stdout",
          "text": [
            "[08:43:10] WARNING: /workspace/src/objective/regression_obj.cu:152: reg:linear is now deprecated in favor of reg:squarederror.\n"
          ]
        },
        {
          "output_type": "stream",
          "name": "stderr",
          "text": [
            "\u001b[32m[I 2022-08-09 08:47:25,226]\u001b[0m Trial 9 finished with value: 0.13752301524931818 and parameters: {'min_samples_split': 6, 'min_samples_leaf': 7, 'n_estimators': 1941, 'learning_rate': 0.1718037404392047, 'subsample': 0.7679445468401751, 'max_depth': 6}. Best is trial 0 with value: 0.12262789449360724.\u001b[0m\n"
          ]
        },
        {
          "output_type": "stream",
          "name": "stdout",
          "text": [
            "[08:47:25] WARNING: /workspace/src/objective/regression_obj.cu:152: reg:linear is now deprecated in favor of reg:squarederror.\n"
          ]
        },
        {
          "output_type": "stream",
          "name": "stderr",
          "text": [
            "\u001b[32m[I 2022-08-09 08:47:27,340]\u001b[0m Trial 10 finished with value: 0.12422906531984773 and parameters: {'min_samples_split': 15, 'min_samples_leaf': 13, 'n_estimators': 21, 'learning_rate': 0.35592158182280886, 'subsample': 0.535337066263167, 'max_depth': 4}. Best is trial 0 with value: 0.12262789449360724.\u001b[0m\n"
          ]
        },
        {
          "output_type": "stream",
          "name": "stdout",
          "text": [
            "[08:47:27] WARNING: /workspace/src/objective/regression_obj.cu:152: reg:linear is now deprecated in favor of reg:squarederror.\n"
          ]
        },
        {
          "output_type": "stream",
          "name": "stderr",
          "text": [
            "\u001b[32m[I 2022-08-09 08:47:32,301]\u001b[0m Trial 11 finished with value: 0.1278054482781763 and parameters: {'min_samples_split': 14, 'min_samples_leaf': 14, 'n_estimators': 54, 'learning_rate': 0.3791312333714295, 'subsample': 0.501245677075218, 'max_depth': 4}. Best is trial 0 with value: 0.12262789449360724.\u001b[0m\n"
          ]
        },
        {
          "output_type": "stream",
          "name": "stdout",
          "text": [
            "[08:47:32] WARNING: /workspace/src/objective/regression_obj.cu:152: reg:linear is now deprecated in favor of reg:squarederror.\n"
          ]
        },
        {
          "output_type": "stream",
          "name": "stderr",
          "text": [
            "\u001b[32m[I 2022-08-09 08:47:44,297]\u001b[0m Trial 12 finished with value: 0.1239158415552634 and parameters: {'min_samples_split': 15, 'min_samples_leaf': 13, 'n_estimators': 405, 'learning_rate': 0.3790753708612349, 'subsample': 0.5715177944045459, 'max_depth': 1}. Best is trial 0 with value: 0.12262789449360724.\u001b[0m\n"
          ]
        },
        {
          "output_type": "stream",
          "name": "stdout",
          "text": [
            "[08:47:44] WARNING: /workspace/src/objective/regression_obj.cu:152: reg:linear is now deprecated in favor of reg:squarederror.\n"
          ]
        },
        {
          "output_type": "stream",
          "name": "stderr",
          "text": [
            "\u001b[32m[I 2022-08-09 08:47:55,058]\u001b[0m Trial 13 finished with value: 0.12352654925481703 and parameters: {'min_samples_split': 13, 'min_samples_leaf': 11, 'n_estimators': 420, 'learning_rate': 0.48675928759940335, 'subsample': 0.9972749284921133, 'max_depth': 1}. Best is trial 0 with value: 0.12262789449360724.\u001b[0m\n"
          ]
        },
        {
          "output_type": "stream",
          "name": "stdout",
          "text": [
            "[08:47:55] WARNING: /workspace/src/objective/regression_obj.cu:152: reg:linear is now deprecated in favor of reg:squarederror.\n"
          ]
        },
        {
          "output_type": "stream",
          "name": "stderr",
          "text": [
            "\u001b[32m[I 2022-08-09 08:48:22,302]\u001b[0m Trial 14 finished with value: 0.1364875666809135 and parameters: {'min_samples_split': 13, 'min_samples_leaf': 10, 'n_estimators': 484, 'learning_rate': 0.5318990416656411, 'subsample': 0.9573309513288544, 'max_depth': 3}. Best is trial 0 with value: 0.12262789449360724.\u001b[0m\n"
          ]
        },
        {
          "output_type": "stream",
          "name": "stdout",
          "text": [
            "[08:48:22] WARNING: /workspace/src/objective/regression_obj.cu:152: reg:linear is now deprecated in favor of reg:squarederror.\n"
          ]
        },
        {
          "output_type": "stream",
          "name": "stderr",
          "text": [
            "\u001b[32m[I 2022-08-09 08:48:41,005]\u001b[0m Trial 15 finished with value: 0.12487190067770458 and parameters: {'min_samples_split': 17, 'min_samples_leaf': 8, 'n_estimators': 742, 'learning_rate': 0.9607726384374462, 'subsample': 0.9978969073322623, 'max_depth': 1}. Best is trial 0 with value: 0.12262789449360724.\u001b[0m\n"
          ]
        },
        {
          "output_type": "stream",
          "name": "stdout",
          "text": [
            "[08:48:41] WARNING: /workspace/src/objective/regression_obj.cu:152: reg:linear is now deprecated in favor of reg:squarederror.\n"
          ]
        },
        {
          "output_type": "stream",
          "name": "stderr",
          "text": [
            "\u001b[32m[I 2022-08-09 08:49:11,132]\u001b[0m Trial 16 finished with value: 0.15491638456833617 and parameters: {'min_samples_split': 12, 'min_samples_leaf': 12, 'n_estimators': 302, 'learning_rate': 0.5257881575892488, 'subsample': 0.8445301984586063, 'max_depth': 5}. Best is trial 0 with value: 0.12262789449360724.\u001b[0m\n"
          ]
        },
        {
          "output_type": "stream",
          "name": "stdout",
          "text": [
            "[08:49:11] WARNING: /workspace/src/objective/regression_obj.cu:152: reg:linear is now deprecated in favor of reg:squarederror.\n"
          ]
        },
        {
          "output_type": "stream",
          "name": "stderr",
          "text": [
            "\u001b[32m[I 2022-08-09 08:49:41,616]\u001b[0m Trial 17 finished with value: 0.12612765339083667 and parameters: {'min_samples_split': 17, 'min_samples_leaf': 15, 'n_estimators': 634, 'learning_rate': 0.24494279899967358, 'subsample': 0.6775779929112854, 'max_depth': 2}. Best is trial 0 with value: 0.12262789449360724.\u001b[0m\n"
          ]
        },
        {
          "output_type": "stream",
          "name": "stdout",
          "text": [
            "[08:49:41] WARNING: /workspace/src/objective/regression_obj.cu:152: reg:linear is now deprecated in favor of reg:squarederror.\n"
          ]
        },
        {
          "output_type": "stream",
          "name": "stderr",
          "text": [
            "\u001b[32m[I 2022-08-09 08:51:04,650]\u001b[0m Trial 18 finished with value: 0.21138316206612168 and parameters: {'min_samples_split': 10, 'min_samples_leaf': 11, 'n_estimators': 903, 'learning_rate': 0.8177397111100292, 'subsample': 0.8598562135674559, 'max_depth': 10}. Best is trial 0 with value: 0.12262789449360724.\u001b[0m\n"
          ]
        },
        {
          "output_type": "stream",
          "name": "stdout",
          "text": [
            "[08:51:04] WARNING: /workspace/src/objective/regression_obj.cu:152: reg:linear is now deprecated in favor of reg:squarederror.\n"
          ]
        },
        {
          "output_type": "stream",
          "name": "stderr",
          "text": [
            "\u001b[32m[I 2022-08-09 08:51:38,692]\u001b[0m Trial 19 finished with value: 0.15952022205383487 and parameters: {'min_samples_split': 17, 'min_samples_leaf': 7, 'n_estimators': 300, 'learning_rate': 0.4609950100410962, 'subsample': 0.6626142921221254, 'max_depth': 5}. Best is trial 0 with value: 0.12262789449360724.\u001b[0m\n"
          ]
        },
        {
          "output_type": "stream",
          "name": "stdout",
          "text": [
            "[08:51:38] WARNING: /workspace/src/objective/regression_obj.cu:152: reg:linear is now deprecated in favor of reg:squarederror.\n"
          ]
        },
        {
          "output_type": "stream",
          "name": "stderr",
          "text": [
            "\u001b[32m[I 2022-08-09 08:51:49,655]\u001b[0m Trial 20 finished with value: 0.12341691323124689 and parameters: {'min_samples_split': 8, 'min_samples_leaf': 16, 'n_estimators': 184, 'learning_rate': 0.02684146865725695, 'subsample': 0.8721841215946099, 'max_depth': 3}. Best is trial 0 with value: 0.12262789449360724.\u001b[0m\n"
          ]
        },
        {
          "output_type": "stream",
          "name": "stdout",
          "text": [
            "[08:51:49] WARNING: /workspace/src/objective/regression_obj.cu:152: reg:linear is now deprecated in favor of reg:squarederror.\n"
          ]
        },
        {
          "output_type": "stream",
          "name": "stderr",
          "text": [
            "\u001b[32m[I 2022-08-09 08:52:00,248]\u001b[0m Trial 21 finished with value: 0.13682197101481405 and parameters: {'min_samples_split': 8, 'min_samples_leaf': 16, 'n_estimators': 178, 'learning_rate': 0.012052473029233957, 'subsample': 0.8723617687693953, 'max_depth': 3}. Best is trial 0 with value: 0.12262789449360724.\u001b[0m\n"
          ]
        },
        {
          "output_type": "stream",
          "name": "stdout",
          "text": [
            "[08:52:00] WARNING: /workspace/src/objective/regression_obj.cu:152: reg:linear is now deprecated in favor of reg:squarederror.\n"
          ]
        },
        {
          "output_type": "stream",
          "name": "stderr",
          "text": [
            "\u001b[32m[I 2022-08-09 08:52:14,244]\u001b[0m Trial 22 finished with value: 0.12294692041004707 and parameters: {'min_samples_split': 11, 'min_samples_leaf': 20, 'n_estimators': 333, 'learning_rate': 0.1284144486305801, 'subsample': 0.8921517459475206, 'max_depth': 2}. Best is trial 0 with value: 0.12262789449360724.\u001b[0m\n"
          ]
        },
        {
          "output_type": "stream",
          "name": "stdout",
          "text": [
            "[08:52:14] WARNING: /workspace/src/objective/regression_obj.cu:152: reg:linear is now deprecated in favor of reg:squarederror.\n"
          ]
        },
        {
          "output_type": "stream",
          "name": "stderr",
          "text": [
            "\u001b[32m[I 2022-08-09 08:52:34,196]\u001b[0m Trial 23 finished with value: 0.1227005853708943 and parameters: {'min_samples_split': 8, 'min_samples_leaf': 20, 'n_estimators': 193, 'learning_rate': 0.10071962862145006, 'subsample': 0.7336347152989471, 'max_depth': 5}. Best is trial 0 with value: 0.12262789449360724.\u001b[0m\n"
          ]
        },
        {
          "output_type": "stream",
          "name": "stdout",
          "text": [
            "[08:52:34] WARNING: /workspace/src/objective/regression_obj.cu:152: reg:linear is now deprecated in favor of reg:squarederror.\n"
          ]
        },
        {
          "output_type": "stream",
          "name": "stderr",
          "text": [
            "\u001b[32m[I 2022-08-09 08:53:57,761]\u001b[0m Trial 24 finished with value: 0.136407245537971 and parameters: {'min_samples_split': 11, 'min_samples_leaf': 20, 'n_estimators': 629, 'learning_rate': 0.16818793323768028, 'subsample': 0.7315679186620757, 'max_depth': 6}. Best is trial 0 with value: 0.12262789449360724.\u001b[0m\n"
          ]
        },
        {
          "output_type": "stream",
          "name": "stdout",
          "text": [
            "[08:53:57] WARNING: /workspace/src/objective/regression_obj.cu:152: reg:linear is now deprecated in favor of reg:squarederror.\n"
          ]
        },
        {
          "output_type": "stream",
          "name": "stderr",
          "text": [
            "\u001b[32m[I 2022-08-09 08:54:29,938]\u001b[0m Trial 25 finished with value: 0.13820027874935492 and parameters: {'min_samples_split': 6, 'min_samples_leaf': 19, 'n_estimators': 292, 'learning_rate': 0.26352644070467046, 'subsample': 0.6069625308210045, 'max_depth': 5}. Best is trial 0 with value: 0.12262789449360724.\u001b[0m\n"
          ]
        },
        {
          "output_type": "stream",
          "name": "stdout",
          "text": [
            "[08:54:30] WARNING: /workspace/src/objective/regression_obj.cu:152: reg:linear is now deprecated in favor of reg:squarederror.\n"
          ]
        },
        {
          "output_type": "stream",
          "name": "stderr",
          "text": [
            "\u001b[32m[I 2022-08-09 08:54:31,373]\u001b[0m Trial 26 finished with value: 0.13196347788747081 and parameters: {'min_samples_split': 3, 'min_samples_leaf': 18, 'n_estimators': 24, 'learning_rate': 0.0965226612368562, 'subsample': 0.11834309126719345, 'max_depth': 4}. Best is trial 0 with value: 0.12262789449360724.\u001b[0m\n"
          ]
        },
        {
          "output_type": "stream",
          "name": "stdout",
          "text": [
            "[08:54:31] WARNING: /workspace/src/objective/regression_obj.cu:152: reg:linear is now deprecated in favor of reg:squarederror.\n"
          ]
        },
        {
          "output_type": "stream",
          "name": "stderr",
          "text": [
            "\u001b[32m[I 2022-08-09 08:55:09,049]\u001b[0m Trial 27 finished with value: 0.12413244623315497 and parameters: {'min_samples_split': 9, 'min_samples_leaf': 20, 'n_estimators': 877, 'learning_rate': 0.17801634172269032, 'subsample': 0.8196294087311325, 'max_depth': 2}. Best is trial 0 with value: 0.12262789449360724.\u001b[0m\n"
          ]
        },
        {
          "output_type": "stream",
          "name": "stdout",
          "text": [
            "[08:55:09] WARNING: /workspace/src/objective/regression_obj.cu:152: reg:linear is now deprecated in favor of reg:squarederror.\n"
          ]
        },
        {
          "output_type": "stream",
          "name": "stderr",
          "text": [
            "\u001b[32m[I 2022-08-09 08:56:29,969]\u001b[0m Trial 28 finished with value: 0.12812992446033963 and parameters: {'min_samples_split': 12, 'min_samples_leaf': 17, 'n_estimators': 552, 'learning_rate': 0.11038492981944682, 'subsample': 0.9136641262278582, 'max_depth': 7}. Best is trial 0 with value: 0.12262789449360724.\u001b[0m\n"
          ]
        },
        {
          "output_type": "stream",
          "name": "stdout",
          "text": [
            "[08:56:30] WARNING: /workspace/src/objective/regression_obj.cu:152: reg:linear is now deprecated in favor of reg:squarederror.\n"
          ]
        },
        {
          "output_type": "stream",
          "name": "stderr",
          "text": [
            "\u001b[32m[I 2022-08-09 08:57:08,896]\u001b[0m Trial 29 finished with value: 0.17010011560250382 and parameters: {'min_samples_split': 5, 'min_samples_leaf': 18, 'n_estimators': 142, 'learning_rate': 0.277236462714216, 'subsample': 0.4512426841669581, 'max_depth': 10}. Best is trial 0 with value: 0.12262789449360724.\u001b[0m\n"
          ]
        }
      ]
    },
    {
      "cell_type": "code",
      "source": [
        "params=study_catboost.best_params "
      ],
      "metadata": {
        "id": "vwsC9EmkttOS"
      },
      "execution_count": null,
      "outputs": []
    },
    {
      "cell_type": "code",
      "source": [
        "# params=study_catboost.best_params \n",
        "# params['objective'] = 'MultiRMSE'\n",
        "# params['random_state'] = 42 "
      ],
      "metadata": {
        "id": "iZ63PUTJ0-A_"
      },
      "execution_count": null,
      "outputs": []
    },
    {
      "cell_type": "code",
      "source": [
        "params=study_catboost.best_params \n",
        "params['loss'] = 'squared_error'\n",
        "params['random_state'] = 42 "
      ],
      "metadata": {
        "id": "xIu5Q5oyKA1G"
      },
      "execution_count": null,
      "outputs": []
    },
    {
      "cell_type": "code",
      "source": [
        "kf = KFold(n_splits = 5, random_state = 42, shuffle = True)"
      ],
      "metadata": {
        "id": "-9_XgUXzqTA9"
      },
      "execution_count": null,
      "outputs": []
    },
    {
      "cell_type": "code",
      "source": [
        "NRMSES = []\n",
        "cb_pred = np.zeros(target.shape[0])\n",
        "for i, idx in enumerate(kf.split(X, y)) :\n",
        "    tr_x, tr_y = X.loc[idx[0]], y.loc[idx[0]]\n",
        "    val_x, val_y = X.loc[idx[1]], y.loc[idx[1]]\n",
        "    \n",
        "    cb = ensemble.GradientBoostingRegressor(**params)\n",
        "    cb.fit(tr_x, tr_y)\n",
        "    \n",
        "    val_pred = cb.predict(val_x)\n",
        "    NRMSE = mean_squared_error(val_y, val_pred, squared=False)\n",
        "    print(f\"{i + 1} Fold NRMSE = {NRMSE}\")\n",
        "    NRMSES.append(NRMSE)\n",
        "    \n",
        "    fold_pred = cb.predict(target) / kf.n_splits\n",
        "    cb_pred += fold_pred"
      ],
      "metadata": {
        "colab": {
          "base_uri": "https://localhost:8080/"
        },
        "id": "uDwfn7CJKAy0",
        "outputId": "d1054f50-08d0-4c1b-8378-b95dfd627b62"
      },
      "execution_count": null,
      "outputs": [
        {
          "output_type": "stream",
          "name": "stdout",
          "text": [
            "[09:01:59] WARNING: /workspace/src/objective/regression_obj.cu:152: reg:linear is now deprecated in favor of reg:squarederror.\n",
            "1 Fold NRMSE = 0.35042614987580833\n",
            "[09:02:16] WARNING: /workspace/src/objective/regression_obj.cu:152: reg:linear is now deprecated in favor of reg:squarederror.\n",
            "2 Fold NRMSE = 0.34633349100749633\n",
            "[09:02:32] WARNING: /workspace/src/objective/regression_obj.cu:152: reg:linear is now deprecated in favor of reg:squarederror.\n",
            "3 Fold NRMSE = 0.3410720547358708\n",
            "[09:02:47] WARNING: /workspace/src/objective/regression_obj.cu:152: reg:linear is now deprecated in favor of reg:squarederror.\n",
            "4 Fold NRMSE = 0.3481742141675928\n",
            "[09:03:03] WARNING: /workspace/src/objective/regression_obj.cu:152: reg:linear is now deprecated in favor of reg:squarederror.\n",
            "5 Fold NRMSE = 0.34994203205254176\n"
          ]
        }
      ]
    },
    {
      "cell_type": "code",
      "source": [
        "np.mean(NRMSES)"
      ],
      "metadata": {
        "id": "U-SR9TJ_KAwl",
        "colab": {
          "base_uri": "https://localhost:8080/"
        },
        "outputId": "2f1382fa-2b49-427d-c048-d109e33dcc12"
      },
      "execution_count": null,
      "outputs": [
        {
          "output_type": "execute_result",
          "data": {
            "text/plain": [
              "0.347189588367862"
            ]
          },
          "metadata": {},
          "execution_count": 21
        }
      ]
    }
  ]
}