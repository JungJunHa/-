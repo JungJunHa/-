{
  "cells": [
    {
      "cell_type": "code",
      "source": [
        "from google.colab import drive\n",
        "drive.mount('/content/drive')"
      ],
      "metadata": {
        "colab": {
          "base_uri": "https://localhost:8080/"
        },
        "id": "ijQBdPY_3ijo",
        "outputId": "8de3bce5-1b2a-466b-878c-062e8ff74ae8"
      },
      "id": "ijQBdPY_3ijo",
      "execution_count": null,
      "outputs": [
        {
          "output_type": "stream",
          "name": "stdout",
          "text": [
            "Drive already mounted at /content/drive; to attempt to forcibly remount, call drive.mount(\"/content/drive\", force_remount=True).\n"
          ]
        }
      ]
    },
    {
      "cell_type": "code",
      "source": [
        "!pip install optuna\n",
        "!pip install catboost==0.23"
      ],
      "metadata": {
        "colab": {
          "base_uri": "https://localhost:8080/"
        },
        "id": "UZG-a-o24J4b",
        "outputId": "13d079ae-6f5d-4527-aeeb-706a55d669d1"
      },
      "id": "UZG-a-o24J4b",
      "execution_count": null,
      "outputs": [
        {
          "output_type": "stream",
          "name": "stdout",
          "text": [
            "Looking in indexes: https://pypi.org/simple, https://us-python.pkg.dev/colab-wheels/public/simple/\n",
            "Requirement already satisfied: optuna in /usr/local/lib/python3.7/dist-packages (2.10.1)\n",
            "Requirement already satisfied: PyYAML in /usr/local/lib/python3.7/dist-packages (from optuna) (3.13)\n",
            "Requirement already satisfied: scipy!=1.4.0 in /usr/local/lib/python3.7/dist-packages (from optuna) (1.7.3)\n",
            "Requirement already satisfied: alembic in /usr/local/lib/python3.7/dist-packages (from optuna) (1.8.1)\n",
            "Requirement already satisfied: sqlalchemy>=1.1.0 in /usr/local/lib/python3.7/dist-packages (from optuna) (1.4.39)\n",
            "Requirement already satisfied: colorlog in /usr/local/lib/python3.7/dist-packages (from optuna) (6.6.0)\n",
            "Requirement already satisfied: packaging>=20.0 in /usr/local/lib/python3.7/dist-packages (from optuna) (21.3)\n",
            "Requirement already satisfied: cliff in /usr/local/lib/python3.7/dist-packages (from optuna) (3.10.1)\n",
            "Requirement already satisfied: numpy in /usr/local/lib/python3.7/dist-packages (from optuna) (1.21.6)\n",
            "Requirement already satisfied: tqdm in /usr/local/lib/python3.7/dist-packages (from optuna) (4.64.0)\n",
            "Requirement already satisfied: cmaes>=0.8.2 in /usr/local/lib/python3.7/dist-packages (from optuna) (0.8.2)\n",
            "Requirement already satisfied: pyparsing!=3.0.5,>=2.0.2 in /usr/local/lib/python3.7/dist-packages (from packaging>=20.0->optuna) (3.0.9)\n",
            "Requirement already satisfied: greenlet!=0.4.17 in /usr/local/lib/python3.7/dist-packages (from sqlalchemy>=1.1.0->optuna) (1.1.2)\n",
            "Requirement already satisfied: importlib-metadata in /usr/local/lib/python3.7/dist-packages (from sqlalchemy>=1.1.0->optuna) (4.12.0)\n",
            "Requirement already satisfied: Mako in /usr/local/lib/python3.7/dist-packages (from alembic->optuna) (1.2.1)\n",
            "Requirement already satisfied: importlib-resources in /usr/local/lib/python3.7/dist-packages (from alembic->optuna) (5.9.0)\n",
            "Requirement already satisfied: cmd2>=1.0.0 in /usr/local/lib/python3.7/dist-packages (from cliff->optuna) (2.4.2)\n",
            "Requirement already satisfied: stevedore>=2.0.1 in /usr/local/lib/python3.7/dist-packages (from cliff->optuna) (3.5.0)\n",
            "Requirement already satisfied: PrettyTable>=0.7.2 in /usr/local/lib/python3.7/dist-packages (from cliff->optuna) (3.3.0)\n",
            "Requirement already satisfied: autopage>=0.4.0 in /usr/local/lib/python3.7/dist-packages (from cliff->optuna) (0.5.1)\n",
            "Requirement already satisfied: pbr!=2.1.0,>=2.0.0 in /usr/local/lib/python3.7/dist-packages (from cliff->optuna) (5.9.0)\n",
            "Requirement already satisfied: typing-extensions in /usr/local/lib/python3.7/dist-packages (from cmd2>=1.0.0->cliff->optuna) (4.1.1)\n",
            "Requirement already satisfied: wcwidth>=0.1.7 in /usr/local/lib/python3.7/dist-packages (from cmd2>=1.0.0->cliff->optuna) (0.2.5)\n",
            "Requirement already satisfied: pyperclip>=1.6 in /usr/local/lib/python3.7/dist-packages (from cmd2>=1.0.0->cliff->optuna) (1.8.2)\n",
            "Requirement already satisfied: attrs>=16.3.0 in /usr/local/lib/python3.7/dist-packages (from cmd2>=1.0.0->cliff->optuna) (22.1.0)\n",
            "Requirement already satisfied: zipp>=0.5 in /usr/local/lib/python3.7/dist-packages (from importlib-metadata->sqlalchemy>=1.1.0->optuna) (3.8.1)\n",
            "Requirement already satisfied: MarkupSafe>=0.9.2 in /usr/local/lib/python3.7/dist-packages (from Mako->alembic->optuna) (2.0.1)\n",
            "Looking in indexes: https://pypi.org/simple, https://us-python.pkg.dev/colab-wheels/public/simple/\n",
            "Requirement already satisfied: catboost==0.23 in /usr/local/lib/python3.7/dist-packages (0.23)\n",
            "Requirement already satisfied: matplotlib in /usr/local/lib/python3.7/dist-packages (from catboost==0.23) (3.2.2)\n",
            "Requirement already satisfied: plotly in /usr/local/lib/python3.7/dist-packages (from catboost==0.23) (5.5.0)\n",
            "Requirement already satisfied: scipy in /usr/local/lib/python3.7/dist-packages (from catboost==0.23) (1.7.3)\n",
            "Requirement already satisfied: six in /usr/local/lib/python3.7/dist-packages (from catboost==0.23) (1.15.0)\n",
            "Requirement already satisfied: graphviz in /usr/local/lib/python3.7/dist-packages (from catboost==0.23) (0.10.1)\n",
            "Requirement already satisfied: numpy>=1.16.0 in /usr/local/lib/python3.7/dist-packages (from catboost==0.23) (1.21.6)\n",
            "Requirement already satisfied: pandas>=0.24.0 in /usr/local/lib/python3.7/dist-packages (from catboost==0.23) (1.3.5)\n",
            "Requirement already satisfied: pytz>=2017.3 in /usr/local/lib/python3.7/dist-packages (from pandas>=0.24.0->catboost==0.23) (2022.1)\n",
            "Requirement already satisfied: python-dateutil>=2.7.3 in /usr/local/lib/python3.7/dist-packages (from pandas>=0.24.0->catboost==0.23) (2.8.2)\n",
            "Requirement already satisfied: pyparsing!=2.0.4,!=2.1.2,!=2.1.6,>=2.0.1 in /usr/local/lib/python3.7/dist-packages (from matplotlib->catboost==0.23) (3.0.9)\n",
            "Requirement already satisfied: cycler>=0.10 in /usr/local/lib/python3.7/dist-packages (from matplotlib->catboost==0.23) (0.11.0)\n",
            "Requirement already satisfied: kiwisolver>=1.0.1 in /usr/local/lib/python3.7/dist-packages (from matplotlib->catboost==0.23) (1.4.4)\n",
            "Requirement already satisfied: typing-extensions in /usr/local/lib/python3.7/dist-packages (from kiwisolver>=1.0.1->matplotlib->catboost==0.23) (4.1.1)\n",
            "Requirement already satisfied: tenacity>=6.2.0 in /usr/local/lib/python3.7/dist-packages (from plotly->catboost==0.23) (8.0.1)\n"
          ]
        }
      ]
    },
    {
      "cell_type": "code",
      "execution_count": null,
      "id": "291da8e6",
      "metadata": {
        "id": "291da8e6"
      },
      "outputs": [],
      "source": [
        "import pandas as pd\n",
        "import numpy as np\n",
        "from sklearn import datasets, ensemble\n",
        "import optuna\n",
        "from catboost import CatBoostRegressor\n",
        "from tqdm import tqdm"
      ]
    },
    {
      "cell_type": "code",
      "source": [
        "path = '/content/drive/MyDrive/DACON/lg_am/'\n",
        "\n",
        "train = pd.read_csv(path + 'train.csv')\n",
        "test = pd.read_csv(path + 'test.csv')\n",
        "submission = pd.read_csv(path + 'sample_submission.csv')"
      ],
      "metadata": {
        "id": "XMQZa3SJ3zFX"
      },
      "id": "XMQZa3SJ3zFX",
      "execution_count": null,
      "outputs": []
    },
    {
      "cell_type": "code",
      "execution_count": null,
      "id": "df5eb0eb",
      "metadata": {
        "id": "df5eb0eb"
      },
      "outputs": [],
      "source": [
        "target_list = ['Y_01', 'Y_02', 'Y_03', 'Y_04', 'Y_05', 'Y_06',\n",
        "       'Y_07', 'Y_08', 'Y_09', 'Y_10', 'Y_11', 'Y_12', 'Y_13', 'Y_14']"
      ]
    },
    {
      "cell_type": "code",
      "source": [
        "for i in tqdm(range(len(target_list))):\n",
        "    globals()['train_{}'.format(target_list[i])] = train[['X_01', 'X_02', 'X_03', 'X_04', 'X_05', 'X_06', 'X_07', 'X_08',\n",
        "       'X_09', 'X_10', 'X_11', 'X_12', 'X_13', 'X_14', 'X_15', 'X_16', 'X_17',\n",
        "       'X_18', 'X_19', 'X_20', 'X_21', 'X_22', 'X_23', 'X_24', 'X_25', 'X_26',\n",
        "       'X_27', 'X_28', 'X_29', 'X_30', 'X_31', 'X_32', 'X_33', 'X_34', 'X_35',\n",
        "       'X_36', 'X_37', 'X_38', 'X_39', 'X_40', 'X_41', 'X_42', 'X_43', 'X_44',\n",
        "       'X_45', 'X_46', 'X_47', 'X_48', 'X_49', 'X_50', 'X_51', 'X_52', 'X_53',\n",
        "       'X_54', 'X_55', 'X_56', f'{target_list[i]}']]\n",
        "    locals()['train_{}'.format(target_list[i])].drop(columns=['X_48', 'X_47', 'X_23', 'X_04'], inplace=True)"
      ],
      "metadata": {
        "colab": {
          "base_uri": "https://localhost:8080/"
        },
        "id": "vdFgcv4guPcR",
        "outputId": "e1ed4150-5e21-42f2-b019-bd124992ba4a"
      },
      "id": "vdFgcv4guPcR",
      "execution_count": null,
      "outputs": [
        {
          "output_type": "stream",
          "name": "stderr",
          "text": [
            "  0%|          | 0/14 [00:00<?, ?it/s]/usr/local/lib/python3.7/dist-packages/pandas/core/frame.py:4913: SettingWithCopyWarning: \n",
            "A value is trying to be set on a copy of a slice from a DataFrame\n",
            "\n",
            "See the caveats in the documentation: https://pandas.pydata.org/pandas-docs/stable/user_guide/indexing.html#returning-a-view-versus-a-copy\n",
            "  errors=errors,\n",
            "100%|██████████| 14/14 [00:00<00:00, 74.60it/s]\n"
          ]
        }
      ]
    },
    {
      "cell_type": "markdown",
      "source": [
        "## Y_04"
      ],
      "metadata": {
        "id": "Q9tABoTpXw4l"
      },
      "id": "Q9tABoTpXw4l"
    },
    {
      "cell_type": "code",
      "source": [
        "train_Y_04.columns"
      ],
      "metadata": {
        "colab": {
          "base_uri": "https://localhost:8080/"
        },
        "id": "6XJbb60gXwVp",
        "outputId": "dcf3463b-2909-44f8-ff66-20185776c901"
      },
      "id": "6XJbb60gXwVp",
      "execution_count": null,
      "outputs": [
        {
          "output_type": "execute_result",
          "data": {
            "text/plain": [
              "Index(['X_01', 'X_02', 'X_03', 'X_05', 'X_06', 'X_07', 'X_08', 'X_09', 'X_10',\n",
              "       'X_11', 'X_12', 'X_13', 'X_14', 'X_15', 'X_16', 'X_17', 'X_18', 'X_19',\n",
              "       'X_20', 'X_21', 'X_22', 'X_24', 'X_25', 'X_26', 'X_27', 'X_28', 'X_29',\n",
              "       'X_30', 'X_31', 'X_32', 'X_33', 'X_34', 'X_35', 'X_36', 'X_37', 'X_38',\n",
              "       'X_39', 'X_40', 'X_41', 'X_42', 'X_43', 'X_44', 'X_45', 'X_46', 'X_49',\n",
              "       'X_50', 'X_51', 'X_52', 'X_53', 'X_54', 'X_55', 'X_56', 'Y_04'],\n",
              "      dtype='object')"
            ]
          },
          "metadata": {},
          "execution_count": 7
        }
      ]
    },
    {
      "cell_type": "code",
      "execution_count": null,
      "id": "6ffff27e",
      "metadata": {
        "id": "6ffff27e"
      },
      "outputs": [],
      "source": [
        "X = train_Y_04[['X_01', 'X_02', 'X_03', 'X_05', 'X_06', 'X_07', 'X_08', 'X_09', 'X_10',\n",
        "       'X_11', 'X_12', 'X_13', 'X_14', 'X_15', 'X_16', 'X_17', 'X_18', 'X_19',\n",
        "       'X_20', 'X_21', 'X_22', 'X_24', 'X_25', 'X_26', 'X_27', 'X_28', 'X_29',\n",
        "       'X_30', 'X_31', 'X_32', 'X_33', 'X_34', 'X_35', 'X_36', 'X_37', 'X_38',\n",
        "       'X_39', 'X_40', 'X_41', 'X_42', 'X_43', 'X_44', 'X_45', 'X_46', 'X_49',\n",
        "       'X_50', 'X_51', 'X_52', 'X_53', 'X_54', 'X_55', 'X_56']]\n",
        "y = train_Y_04.loc[:, 'Y_04':]"
      ]
    },
    {
      "cell_type": "code",
      "execution_count": null,
      "id": "4d1ab7c6",
      "metadata": {
        "id": "4d1ab7c6"
      },
      "outputs": [],
      "source": [
        "target = test[X.columns]"
      ]
    },
    {
      "cell_type": "code",
      "execution_count": null,
      "id": "5060aa29",
      "metadata": {
        "id": "5060aa29"
      },
      "outputs": [],
      "source": [
        "from sklearn.model_selection import KFold\n",
        "from sklearn.metrics import make_scorer, mean_squared_error\n",
        "from sklearn.model_selection import train_test_split"
      ]
    },
    {
      "cell_type": "code",
      "execution_count": null,
      "id": "5496a328",
      "metadata": {
        "id": "5496a328"
      },
      "outputs": [],
      "source": [
        "kf = KFold(n_splits = 5, random_state = 42, shuffle = True)"
      ]
    },
    {
      "cell_type": "code",
      "source": [
        "def objective_cat(trial):\n",
        "    \"\"\"\n",
        "    Objective function to tune a `CatBoostRegressor` model.\n",
        "    \"\"\"\n",
        "\n",
        "    x_train, x_test, y_train, y_test = train_test_split(X, y, test_size=0.2, random_state=42)\n",
        "\n",
        "    params = {\n",
        "        'objective' :  'RMSE',\n",
        "        'iterations':trial.suggest_int(\"iterations\", 30, 400),\n",
        "        'od_wait':trial.suggest_int('od_wait', 500, 2300),\n",
        "        'learning_rate' : trial.suggest_uniform('learning_rate',0.01, 1),\n",
        "        'reg_lambda': trial.suggest_uniform('reg_lambda',1e-5,100),\n",
        "        # 'subsample': trial.suggest_uniform('subsample',0,1),\n",
        "        'random_strength': trial.suggest_uniform('random_strength',10,50),\n",
        "        'depth': trial.suggest_int('depth',1, 15),\n",
        "        'min_data_in_leaf': trial.suggest_int('min_data_in_leaf',1,30),\n",
        "        'leaf_estimation_iterations': trial.suggest_int('leaf_estimation_iterations',1,15),\n",
        "        'verbose' : False\n",
        "    }\n",
        "\n",
        "\n",
        "    model = CatBoostRegressor(\n",
        "        # objective = 'MultiRMSE',\n",
        "        random_state=42,\n",
        "        **params,\n",
        "    )\n",
        "    model.fit(x_train, y_train, eval_set = [(x_test, y_test)], early_stopping_rounds = 500, verbose = 2000)\n",
        "\n",
        "    pred = model.predict(x_test)\n",
        "\n",
        "    rmse = mean_squared_error(y_test, pred, squared=False)\n",
        "\n",
        "\n",
        "    return rmse"
      ],
      "metadata": {
        "id": "7fiIwTn_4VS-"
      },
      "id": "7fiIwTn_4VS-",
      "execution_count": null,
      "outputs": []
    },
    {
      "cell_type": "code",
      "source": [
        "study_catboost = optuna.create_study(direction=\"minimize\")\n",
        "study_catboost.optimize(objective_cat, n_trials=30)"
      ],
      "metadata": {
        "colab": {
          "base_uri": "https://localhost:8080/"
        },
        "id": "lFbp7pFf6Smc",
        "outputId": "cbe06f67-3f17-4979-a3ed-c0daa3e034a7"
      },
      "id": "lFbp7pFf6Smc",
      "execution_count": null,
      "outputs": [
        {
          "output_type": "stream",
          "name": "stderr",
          "text": [
            "\u001b[32m[I 2022-08-05 01:43:26,970]\u001b[0m A new study created in memory with name: no-name-5a17e587-326c-47b8-8025-15c8c02f253e\u001b[0m\n"
          ]
        },
        {
          "output_type": "stream",
          "name": "stdout",
          "text": [
            "0:\tlearn: 2.6755814\ttest: 2.6456691\tbest: 2.6456691 (0)\ttotal: 76.7ms\tremaining: 27.7s\n"
          ]
        },
        {
          "output_type": "stream",
          "name": "stderr",
          "text": [
            "\u001b[32m[I 2022-08-05 01:43:33,888]\u001b[0m Trial 0 finished with value: 2.6284699301140084 and parameters: {'iterations': 362, 'od_wait': 868, 'learning_rate': 0.3107505502071587, 'reg_lambda': 69.5968038359678, 'random_strength': 37.239932622654244, 'depth': 8, 'min_data_in_leaf': 5, 'leaf_estimation_iterations': 8}. Best is trial 0 with value: 2.6284699301140084.\u001b[0m\n"
          ]
        },
        {
          "output_type": "stream",
          "name": "stdout",
          "text": [
            "361:\tlearn: 2.3428037\ttest: 2.6880094\tbest: 2.6284699 (40)\ttotal: 6.8s\tremaining: 0us\n",
            "\n",
            "bestTest = 2.628469938\n",
            "bestIteration = 40\n",
            "\n",
            "Shrink model to first 41 iterations.\n",
            "0:\tlearn: 2.6901293\ttest: 2.6577827\tbest: 2.6577827 (0)\ttotal: 17.5ms\tremaining: 962ms\n"
          ]
        },
        {
          "output_type": "stream",
          "name": "stderr",
          "text": [
            "\u001b[32m[I 2022-08-05 01:43:35,023]\u001b[0m Trial 1 finished with value: 2.6288873274971576 and parameters: {'iterations': 56, 'od_wait': 2278, 'learning_rate': 0.06907441515923798, 'reg_lambda': 29.176790343551495, 'random_strength': 41.26242400833928, 'depth': 5, 'min_data_in_leaf': 25, 'leaf_estimation_iterations': 12}. Best is trial 0 with value: 2.6284699301140084.\u001b[0m\n"
          ]
        },
        {
          "output_type": "stream",
          "name": "stdout",
          "text": [
            "55:\tlearn: 2.6567550\ttest: 2.6288873\tbest: 2.6288873 (55)\ttotal: 1.07s\tremaining: 0us\n",
            "\n",
            "bestTest = 2.628887335\n",
            "bestIteration = 55\n",
            "\n",
            "0:\tlearn: 2.6576365\ttest: 2.6362748\tbest: 2.6362748 (0)\ttotal: 607ms\tremaining: 3m 48s\n"
          ]
        },
        {
          "output_type": "stream",
          "name": "stderr",
          "text": [
            "\u001b[32m[I 2022-08-05 01:46:38,328]\u001b[0m Trial 2 finished with value: 2.630744917554843 and parameters: {'iterations': 378, 'od_wait': 1182, 'learning_rate': 0.9554532577506323, 'reg_lambda': 60.018662271528214, 'random_strength': 16.205813628508498, 'depth': 15, 'min_data_in_leaf': 13, 'leaf_estimation_iterations': 7}. Best is trial 0 with value: 2.6284699301140084.\u001b[0m\n"
          ]
        },
        {
          "output_type": "stream",
          "name": "stdout",
          "text": [
            "377:\tlearn: 0.7708788\ttest: 3.2246589\tbest: 2.6307449 (3)\ttotal: 3m 3s\tremaining: 0us\n",
            "\n",
            "bestTest = 2.630744925\n",
            "bestIteration = 3\n",
            "\n",
            "Shrink model to first 4 iterations.\n",
            "0:\tlearn: 2.6740464\ttest: 2.6451081\tbest: 2.6451081 (0)\ttotal: 13.9ms\tremaining: 4.44s\n"
          ]
        },
        {
          "output_type": "stream",
          "name": "stderr",
          "text": [
            "\u001b[32m[I 2022-08-05 01:46:41,832]\u001b[0m Trial 3 finished with value: 2.629016109528846 and parameters: {'iterations': 320, 'od_wait': 2173, 'learning_rate': 0.6195049932745197, 'reg_lambda': 98.76044079305855, 'random_strength': 49.834694828569866, 'depth': 5, 'min_data_in_leaf': 21, 'leaf_estimation_iterations': 6}. Best is trial 0 with value: 2.6284699301140084.\u001b[0m\n"
          ]
        },
        {
          "output_type": "stream",
          "name": "stdout",
          "text": [
            "319:\tlearn: 2.4857695\ttest: 2.6881698\tbest: 2.6290161 (10)\ttotal: 3.4s\tremaining: 0us\n",
            "\n",
            "bestTest = 2.629016117\n",
            "bestIteration = 10\n",
            "\n",
            "Shrink model to first 11 iterations.\n",
            "0:\tlearn: 2.6621267\ttest: 2.6355284\tbest: 2.6355284 (0)\ttotal: 28.7ms\tremaining: 10.6s\n"
          ]
        },
        {
          "output_type": "stream",
          "name": "stderr",
          "text": [
            "\u001b[32m[I 2022-08-05 01:46:50,033]\u001b[0m Trial 4 finished with value: 2.6323498341678646 and parameters: {'iterations': 371, 'od_wait': 2234, 'learning_rate': 0.6926650326327842, 'reg_lambda': 12.354152466112849, 'random_strength': 21.714824307078622, 'depth': 8, 'min_data_in_leaf': 5, 'leaf_estimation_iterations': 11}. Best is trial 0 with value: 2.6284699301140084.\u001b[0m\n"
          ]
        },
        {
          "output_type": "stream",
          "name": "stdout",
          "text": [
            "370:\tlearn: 2.0561072\ttest: 2.9164852\tbest: 2.6323498 (9)\ttotal: 8.09s\tremaining: 0us\n",
            "\n",
            "bestTest = 2.632349842\n",
            "bestIteration = 9\n",
            "\n",
            "Shrink model to first 10 iterations.\n",
            "0:\tlearn: 2.6705935\ttest: 2.6416145\tbest: 2.6416145 (0)\ttotal: 12.8ms\tremaining: 2.26s\n"
          ]
        },
        {
          "output_type": "stream",
          "name": "stderr",
          "text": [
            "\u001b[32m[I 2022-08-05 01:46:52,223]\u001b[0m Trial 5 finished with value: 2.626939041558804 and parameters: {'iterations': 178, 'od_wait': 1832, 'learning_rate': 0.5171807247856004, 'reg_lambda': 88.81128567480182, 'random_strength': 17.92181437951883, 'depth': 10, 'min_data_in_leaf': 2, 'leaf_estimation_iterations': 1}. Best is trial 5 with value: 2.626939041558804.\u001b[0m\n"
          ]
        },
        {
          "output_type": "stream",
          "name": "stdout",
          "text": [
            "177:\tlearn: 2.5447991\ttest: 2.6453295\tbest: 2.6269390 (22)\ttotal: 2.1s\tremaining: 0us\n",
            "\n",
            "bestTest = 2.626939049\n",
            "bestIteration = 22\n",
            "\n",
            "Shrink model to first 23 iterations.\n",
            "0:\tlearn: 2.6706723\ttest: 2.6429436\tbest: 2.6429436 (0)\ttotal: 20ms\tremaining: 4.31s\n"
          ]
        },
        {
          "output_type": "stream",
          "name": "stderr",
          "text": [
            "\u001b[32m[I 2022-08-05 01:46:55,519]\u001b[0m Trial 6 finished with value: 2.6333069764908363 and parameters: {'iterations': 217, 'od_wait': 2081, 'learning_rate': 0.9023674655941103, 'reg_lambda': 22.002064763916167, 'random_strength': 40.52924313082778, 'depth': 5, 'min_data_in_leaf': 15, 'leaf_estimation_iterations': 10}. Best is trial 5 with value: 2.626939041558804.\u001b[0m\n"
          ]
        },
        {
          "output_type": "stream",
          "name": "stdout",
          "text": [
            "216:\tlearn: 2.4692666\ttest: 2.7374251\tbest: 2.6333070 (15)\ttotal: 3.2s\tremaining: 0us\n",
            "\n",
            "bestTest = 2.633306984\n",
            "bestIteration = 15\n",
            "\n",
            "Shrink model to first 16 iterations.\n",
            "0:\tlearn: 2.6754104\ttest: 2.6462368\tbest: 2.6462368 (0)\ttotal: 384ms\tremaining: 1m 28s\n"
          ]
        },
        {
          "output_type": "stream",
          "name": "stderr",
          "text": [
            "\u001b[32m[I 2022-08-05 01:48:22,255]\u001b[0m Trial 7 finished with value: 2.6298509240079144 and parameters: {'iterations': 233, 'od_wait': 1426, 'learning_rate': 0.30089810661158606, 'reg_lambda': 85.10328076858718, 'random_strength': 35.56275883421151, 'depth': 14, 'min_data_in_leaf': 21, 'leaf_estimation_iterations': 13}. Best is trial 5 with value: 2.626939041558804.\u001b[0m\n"
          ]
        },
        {
          "output_type": "stream",
          "name": "stdout",
          "text": [
            "232:\tlearn: 1.9268174\ttest: 2.7469228\tbest: 2.6298509 (9)\ttotal: 1m 26s\tremaining: 0us\n",
            "\n",
            "bestTest = 2.629850931\n",
            "bestIteration = 9\n",
            "\n",
            "Shrink model to first 10 iterations.\n",
            "0:\tlearn: 2.6864061\ttest: 2.6554721\tbest: 2.6554721 (0)\ttotal: 15.8ms\tremaining: 4.04s\n"
          ]
        },
        {
          "output_type": "stream",
          "name": "stderr",
          "text": [
            "\u001b[32m[I 2022-08-05 01:48:26,259]\u001b[0m Trial 8 finished with value: 2.6274030218085027 and parameters: {'iterations': 257, 'od_wait': 1945, 'learning_rate': 0.2307138588100014, 'reg_lambda': 97.87851095051246, 'random_strength': 14.342883453799882, 'depth': 2, 'min_data_in_leaf': 1, 'leaf_estimation_iterations': 15}. Best is trial 5 with value: 2.626939041558804.\u001b[0m\n"
          ]
        },
        {
          "output_type": "stream",
          "name": "stdout",
          "text": [
            "256:\tlearn: 2.6405581\ttest: 2.6290601\tbest: 2.6274030 (54)\ttotal: 3.92s\tremaining: 0us\n",
            "\n",
            "bestTest = 2.627403029\n",
            "bestIteration = 54\n",
            "\n",
            "Shrink model to first 55 iterations.\n",
            "0:\tlearn: 2.6768276\ttest: 2.6500247\tbest: 2.6500247 (0)\ttotal: 13.4ms\tremaining: 751ms\n"
          ]
        },
        {
          "output_type": "stream",
          "name": "stderr",
          "text": [
            "\u001b[32m[I 2022-08-05 01:48:27,062]\u001b[0m Trial 9 finished with value: 2.6308939092946164 and parameters: {'iterations': 57, 'od_wait': 1591, 'learning_rate': 0.8662225121289214, 'reg_lambda': 5.729301390250787, 'random_strength': 23.50533301914442, 'depth': 2, 'min_data_in_leaf': 5, 'leaf_estimation_iterations': 12}. Best is trial 5 with value: 2.626939041558804.\u001b[0m\n"
          ]
        },
        {
          "output_type": "stream",
          "name": "stdout",
          "text": [
            "56:\tlearn: 2.6455704\ttest: 2.6323641\tbest: 2.6308939 (18)\ttotal: 731ms\tremaining: 0us\n",
            "\n",
            "bestTest = 2.630893917\n",
            "bestIteration = 18\n",
            "\n",
            "Shrink model to first 19 iterations.\n",
            "0:\tlearn: 2.6702315\ttest: 2.6416313\tbest: 2.6416313 (0)\ttotal: 31.9ms\tremaining: 4.02s\n"
          ]
        },
        {
          "output_type": "stream",
          "name": "stderr",
          "text": [
            "\u001b[32m[I 2022-08-05 01:48:31,028]\u001b[0m Trial 10 finished with value: 2.6284057628559494 and parameters: {'iterations': 127, 'od_wait': 521, 'learning_rate': 0.4480809805497538, 'reg_lambda': 43.98737364555932, 'random_strength': 10.479905343489925, 'depth': 12, 'min_data_in_leaf': 30, 'leaf_estimation_iterations': 2}. Best is trial 5 with value: 2.626939041558804.\u001b[0m\n"
          ]
        },
        {
          "output_type": "stream",
          "name": "stdout",
          "text": [
            "126:\tlearn: 2.4106934\ttest: 2.6627302\tbest: 2.6284058 (23)\ttotal: 3.85s\tremaining: 0us\n",
            "\n",
            "bestTest = 2.62840577\n",
            "bestIteration = 23\n",
            "\n",
            "Shrink model to first 24 iterations.\n",
            "0:\tlearn: 2.6914350\ttest: 2.6588790\tbest: 2.6588790 (0)\ttotal: 66ms\tremaining: 9.9s\n"
          ]
        },
        {
          "output_type": "stream",
          "name": "stderr",
          "text": [
            "\u001b[32m[I 2022-08-05 01:48:39,693]\u001b[0m Trial 11 finished with value: 2.6268577468111363 and parameters: {'iterations': 151, 'od_wait': 1748, 'learning_rate': 0.02559065943328398, 'reg_lambda': 99.30389046215151, 'random_strength': 10.125468336664836, 'depth': 11, 'min_data_in_leaf': 1, 'leaf_estimation_iterations': 15}. Best is trial 11 with value: 2.6268577468111363.\u001b[0m\n"
          ]
        },
        {
          "output_type": "stream",
          "name": "stdout",
          "text": [
            "150:\tlearn: 2.6477542\ttest: 2.6268891\tbest: 2.6268578 (148)\ttotal: 8.53s\tremaining: 0us\n",
            "\n",
            "bestTest = 2.626857754\n",
            "bestIteration = 148\n",
            "\n",
            "Shrink model to first 149 iterations.\n",
            "0:\tlearn: 2.6917351\ttest: 2.6591231\tbest: 2.6591231 (0)\ttotal: 18.7ms\tremaining: 2.99s\n"
          ]
        },
        {
          "output_type": "stream",
          "name": "stderr",
          "text": [
            "\u001b[32m[I 2022-08-05 01:48:42,168]\u001b[0m Trial 12 finished with value: 2.6272663359112456 and parameters: {'iterations': 161, 'od_wait': 1754, 'learning_rate': 0.02504259924373252, 'reg_lambda': 82.70166745798878, 'random_strength': 24.203226895931067, 'depth': 11, 'min_data_in_leaf': 11, 'leaf_estimation_iterations': 1}. Best is trial 11 with value: 2.6268577468111363.\u001b[0m\n"
          ]
        },
        {
          "output_type": "stream",
          "name": "stdout",
          "text": [
            "160:\tlearn: 2.6533165\ttest: 2.6272663\tbest: 2.6272663 (160)\ttotal: 2.34s\tremaining: 0us\n",
            "\n",
            "bestTest = 2.627266343\n",
            "bestIteration = 160\n",
            "\n",
            "0:\tlearn: 2.6682846\ttest: 2.6399651\tbest: 2.6399651 (0)\ttotal: 29.7ms\tremaining: 3.92s\n"
          ]
        },
        {
          "output_type": "stream",
          "name": "stderr",
          "text": [
            "\u001b[32m[I 2022-08-05 01:48:45,747]\u001b[0m Trial 13 finished with value: 2.6280192465875083 and parameters: {'iterations': 133, 'od_wait': 1834, 'learning_rate': 0.49907593544659407, 'reg_lambda': 78.98248989813601, 'random_strength': 17.477157597025855, 'depth': 11, 'min_data_in_leaf': 1, 'leaf_estimation_iterations': 4}. Best is trial 11 with value: 2.6268577468111363.\u001b[0m\n"
          ]
        },
        {
          "output_type": "stream",
          "name": "stdout",
          "text": [
            "132:\tlearn: 2.3942449\ttest: 2.6840732\tbest: 2.6280193 (13)\ttotal: 3.47s\tremaining: 0us\n",
            "\n",
            "bestTest = 2.628019254\n",
            "bestIteration = 13\n",
            "\n",
            "Shrink model to first 14 iterations.\n",
            "0:\tlearn: 2.6624465\ttest: 2.6357348\tbest: 2.6357348 (0)\ttotal: 26.3ms\tremaining: 4.35s\n"
          ]
        },
        {
          "output_type": "stream",
          "name": "stderr",
          "text": [
            "\u001b[32m[I 2022-08-05 01:48:49,540]\u001b[0m Trial 14 finished with value: 2.6293675596463824 and parameters: {'iterations': 166, 'od_wait': 1233, 'learning_rate': 0.6998651313091119, 'reg_lambda': 50.29015332640486, 'random_strength': 10.129699023951018, 'depth': 10, 'min_data_in_leaf': 9, 'leaf_estimation_iterations': 5}. Best is trial 11 with value: 2.6268577468111363.\u001b[0m\n"
          ]
        },
        {
          "output_type": "stream",
          "name": "stdout",
          "text": [
            "165:\tlearn: 2.1875595\ttest: 2.7907750\tbest: 2.6293676 (1)\ttotal: 3.68s\tremaining: 0us\n",
            "\n",
            "bestTest = 2.629367567\n",
            "bestIteration = 1\n",
            "\n",
            "Shrink model to first 2 iterations.\n",
            "0:\tlearn: 2.6702154\ttest: 2.6417705\tbest: 2.6417705 (0)\ttotal: 243ms\tremaining: 1m 8s\n"
          ]
        },
        {
          "output_type": "stream",
          "name": "stderr",
          "text": [
            "\u001b[32m[I 2022-08-05 01:49:51,677]\u001b[0m Trial 15 finished with value: 2.630682632913449 and parameters: {'iterations': 281, 'od_wait': 1597, 'learning_rate': 0.4249455133834569, 'reg_lambda': 90.15307902752811, 'random_strength': 30.97697518407079, 'depth': 13, 'min_data_in_leaf': 8, 'leaf_estimation_iterations': 15}. Best is trial 11 with value: 2.6268577468111363.\u001b[0m\n"
          ]
        },
        {
          "output_type": "stream",
          "name": "stdout",
          "text": [
            "280:\tlearn: 1.7366062\ttest: 2.8406349\tbest: 2.6306826 (7)\ttotal: 1m 1s\tremaining: 0us\n",
            "\n",
            "bestTest = 2.63068264\n",
            "bestIteration = 7\n",
            "\n",
            "Shrink model to first 8 iterations.\n",
            "0:\tlearn: 2.6816871\ttest: 2.6507147\tbest: 2.6507147 (0)\ttotal: 18.6ms\tremaining: 1.9s\n"
          ]
        },
        {
          "output_type": "stream",
          "name": "stderr",
          "text": [
            "\u001b[32m[I 2022-08-05 01:49:53,291]\u001b[0m Trial 16 finished with value: 2.625578899503457 and parameters: {'iterations': 103, 'od_wait': 1609, 'learning_rate': 0.19357260131405404, 'reg_lambda': 68.25673693779959, 'random_strength': 18.108905551642163, 'depth': 9, 'min_data_in_leaf': 1, 'leaf_estimation_iterations': 3}. Best is trial 16 with value: 2.625578899503457.\u001b[0m\n"
          ]
        },
        {
          "output_type": "stream",
          "name": "stdout",
          "text": [
            "102:\tlearn: 2.6197367\ttest: 2.6267338\tbest: 2.6255789 (67)\ttotal: 1.5s\tremaining: 0us\n",
            "\n",
            "bestTest = 2.625578907\n",
            "bestIteration = 67\n",
            "\n",
            "Shrink model to first 68 iterations.\n",
            "0:\tlearn: 2.6842783\ttest: 2.6529867\tbest: 2.6529867 (0)\ttotal: 22.1ms\tremaining: 2.08s\n"
          ]
        },
        {
          "output_type": "stream",
          "name": "stderr",
          "text": [
            "\u001b[32m[I 2022-08-05 01:49:55,013]\u001b[0m Trial 17 finished with value: 2.6268724085320696 and parameters: {'iterations': 95, 'od_wait': 1088, 'learning_rate': 0.15125470527141327, 'reg_lambda': 69.28864250971507, 'random_strength': 28.72063580928161, 'depth': 7, 'min_data_in_leaf': 19, 'leaf_estimation_iterations': 9}. Best is trial 16 with value: 2.625578899503457.\u001b[0m\n"
          ]
        },
        {
          "output_type": "stream",
          "name": "stdout",
          "text": [
            "94:\tlearn: 2.6423771\ttest: 2.6268724\tbest: 2.6268724 (94)\ttotal: 1.62s\tremaining: 0us\n",
            "\n",
            "bestTest = 2.626872416\n",
            "bestIteration = 94\n",
            "\n",
            "0:\tlearn: 2.6825855\ttest: 2.6514528\tbest: 2.6514528 (0)\ttotal: 19.8ms\tremaining: 1.88s\n"
          ]
        },
        {
          "output_type": "stream",
          "name": "stderr",
          "text": [
            "\u001b[32m[I 2022-08-05 01:49:56,677]\u001b[0m Trial 18 finished with value: 2.6263709187070416 and parameters: {'iterations': 96, 'od_wait': 1451, 'learning_rate': 0.1733554007028257, 'reg_lambda': 43.829362793977495, 'random_strength': 20.558412643086292, 'depth': 9, 'min_data_in_leaf': 6, 'leaf_estimation_iterations': 4}. Best is trial 16 with value: 2.625578899503457.\u001b[0m\n"
          ]
        },
        {
          "output_type": "stream",
          "name": "stdout",
          "text": [
            "95:\tlearn: 2.6235416\ttest: 2.6270776\tbest: 2.6263709 (25)\ttotal: 1.56s\tremaining: 0us\n",
            "\n",
            "bestTest = 2.626370926\n",
            "bestIteration = 25\n",
            "\n",
            "Shrink model to first 26 iterations.\n",
            "0:\tlearn: 2.6831319\ttest: 2.6520364\tbest: 2.6520364 (0)\ttotal: 11.3ms\tremaining: 1.05s\n"
          ]
        },
        {
          "output_type": "stream",
          "name": "stderr",
          "text": [
            "\u001b[32m[I 2022-08-05 01:49:57,672]\u001b[0m Trial 19 finished with value: 2.6259715219152175 and parameters: {'iterations': 94, 'od_wait': 1364, 'learning_rate': 0.17461799544912848, 'reg_lambda': 40.18882228080933, 'random_strength': 28.285629830046638, 'depth': 6, 'min_data_in_leaf': 8, 'leaf_estimation_iterations': 3}. Best is trial 16 with value: 2.625578899503457.\u001b[0m\n"
          ]
        },
        {
          "output_type": "stream",
          "name": "stdout",
          "text": [
            "93:\tlearn: 2.6448495\ttest: 2.6260493\tbest: 2.6259715 (86)\ttotal: 899ms\tremaining: 0us\n",
            "\n",
            "bestTest = 2.625971529\n",
            "bestIteration = 86\n",
            "\n",
            "Shrink model to first 87 iterations.\n",
            "0:\tlearn: 2.6752505\ttest: 2.6457209\tbest: 2.6457209 (0)\ttotal: 9.68ms\tremaining: 290ms\n"
          ]
        },
        {
          "output_type": "stream",
          "name": "stderr",
          "text": [
            "\u001b[32m[I 2022-08-05 01:49:58,088]\u001b[0m Trial 20 finished with value: 2.6283554563656666 and parameters: {'iterations': 31, 'od_wait': 976, 'learning_rate': 0.34111254857949014, 'reg_lambda': 31.005118130335617, 'random_strength': 27.127681003159708, 'depth': 7, 'min_data_in_leaf': 10, 'leaf_estimation_iterations': 3}. Best is trial 16 with value: 2.625578899503457.\u001b[0m\n"
          ]
        },
        {
          "output_type": "stream",
          "name": "stdout",
          "text": [
            "30:\tlearn: 2.6497356\ttest: 2.6293392\tbest: 2.6283555 (18)\ttotal: 332ms\tremaining: 0us\n",
            "\n",
            "bestTest = 2.628355464\n",
            "bestIteration = 18\n",
            "\n",
            "Shrink model to first 19 iterations.\n",
            "0:\tlearn: 2.6854287\ttest: 2.6539206\tbest: 2.6539206 (0)\ttotal: 13.8ms\tremaining: 1.51s\n"
          ]
        },
        {
          "output_type": "stream",
          "name": "stderr",
          "text": [
            "\u001b[32m[I 2022-08-05 01:49:59,372]\u001b[0m Trial 21 finished with value: 2.6278483770878553 and parameters: {'iterations': 111, 'od_wait': 1382, 'learning_rate': 0.13116287884868472, 'reg_lambda': 47.27439674122162, 'random_strength': 20.489466069196027, 'depth': 6, 'min_data_in_leaf': 7, 'leaf_estimation_iterations': 4}. Best is trial 16 with value: 2.625578899503457.\u001b[0m\n"
          ]
        },
        {
          "output_type": "stream",
          "name": "stdout",
          "text": [
            "110:\tlearn: 2.6457887\ttest: 2.6281782\tbest: 2.6278484 (106)\ttotal: 1.19s\tremaining: 0us\n",
            "\n",
            "bestTest = 2.627848384\n",
            "bestIteration = 106\n",
            "\n",
            "Shrink model to first 107 iterations.\n",
            "0:\tlearn: 2.6811738\ttest: 2.6502854\tbest: 2.6502854 (0)\ttotal: 18.2ms\tremaining: 1.37s\n"
          ]
        },
        {
          "output_type": "stream",
          "name": "stderr",
          "text": [
            "\u001b[32m[I 2022-08-05 01:50:00,610]\u001b[0m Trial 22 finished with value: 2.627517923785894 and parameters: {'iterations': 76, 'od_wait': 1451, 'learning_rate': 0.2004001305820434, 'reg_lambda': 39.58069459933119, 'random_strength': 31.024560309906775, 'depth': 9, 'min_data_in_leaf': 4, 'leaf_estimation_iterations': 3}. Best is trial 16 with value: 2.625578899503457.\u001b[0m\n"
          ]
        },
        {
          "output_type": "stream",
          "name": "stdout",
          "text": [
            "75:\tlearn: 2.6303459\ttest: 2.6290247\tbest: 2.6275179 (15)\ttotal: 1.14s\tremaining: 0us\n",
            "\n",
            "bestTest = 2.627517931\n",
            "bestIteration = 15\n",
            "\n",
            "Shrink model to first 16 iterations.\n",
            "0:\tlearn: 2.6830245\ttest: 2.6527802\tbest: 2.6527802 (0)\ttotal: 16.1ms\tremaining: 3.06s\n"
          ]
        },
        {
          "output_type": "stream",
          "name": "stderr",
          "text": [
            "\u001b[32m[I 2022-08-05 01:50:02,549]\u001b[0m Trial 23 finished with value: 2.6265854142483684 and parameters: {'iterations': 191, 'od_wait': 1584, 'learning_rate': 0.24150960454050444, 'reg_lambda': 57.26872103911814, 'random_strength': 25.701281109606484, 'depth': 3, 'min_data_in_leaf': 12, 'leaf_estimation_iterations': 6}. Best is trial 16 with value: 2.625578899503457.\u001b[0m\n"
          ]
        },
        {
          "output_type": "stream",
          "name": "stdout",
          "text": [
            "190:\tlearn: 2.6325720\ttest: 2.6283925\tbest: 2.6265854 (96)\ttotal: 1.83s\tremaining: 0us\n",
            "\n",
            "bestTest = 2.626585422\n",
            "bestIteration = 96\n",
            "\n",
            "Shrink model to first 97 iterations.\n",
            "0:\tlearn: 2.6860798\ttest: 2.6543664\tbest: 2.6543664 (0)\ttotal: 17.3ms\tremaining: 1.54s\n"
          ]
        },
        {
          "output_type": "stream",
          "name": "stderr",
          "text": [
            "\u001b[32m[I 2022-08-05 01:50:04,020]\u001b[0m Trial 24 finished with value: 2.6265199493907994 and parameters: {'iterations': 90, 'od_wait': 1339, 'learning_rate': 0.11258164046811737, 'reg_lambda': 34.14549896760571, 'random_strength': 20.160527657895813, 'depth': 9, 'min_data_in_leaf': 7, 'leaf_estimation_iterations': 3}. Best is trial 16 with value: 2.625578899503457.\u001b[0m\n"
          ]
        },
        {
          "output_type": "stream",
          "name": "stdout",
          "text": [
            "89:\tlearn: 2.6442376\ttest: 2.6269433\tbest: 2.6265200 (74)\ttotal: 1.37s\tremaining: 0us\n",
            "\n",
            "bestTest = 2.626519957\n",
            "bestIteration = 74\n",
            "\n",
            "Shrink model to first 75 iterations.\n",
            "0:\tlearn: 2.6749069\ttest: 2.6453269\tbest: 2.6453269 (0)\ttotal: 8.52ms\tremaining: 290ms\n"
          ]
        },
        {
          "output_type": "stream",
          "name": "stderr",
          "text": [
            "\u001b[32m[I 2022-08-05 01:50:04,429]\u001b[0m Trial 25 finished with value: 2.6274266533258457 and parameters: {'iterations': 35, 'od_wait': 741, 'learning_rate': 0.3646628503193823, 'reg_lambda': 59.646416091483275, 'random_strength': 13.654913018971039, 'depth': 4, 'min_data_in_leaf': 3, 'leaf_estimation_iterations': 5}. Best is trial 16 with value: 2.625578899503457.\u001b[0m\n"
          ]
        },
        {
          "output_type": "stream",
          "name": "stdout",
          "text": [
            "34:\tlearn: 2.6547647\ttest: 2.6274267\tbest: 2.6274267 (34)\ttotal: 325ms\tremaining: 0us\n",
            "\n",
            "bestTest = 2.627426661\n",
            "bestIteration = 34\n",
            "\n",
            "0:\tlearn: 2.6819791\ttest: 2.6511058\tbest: 2.6511058 (0)\ttotal: 9.36ms\tremaining: 1.19s\n"
          ]
        },
        {
          "output_type": "stream",
          "name": "stderr",
          "text": [
            "\u001b[32m[I 2022-08-05 01:50:05,745]\u001b[0m Trial 26 finished with value: 2.628247507786674 and parameters: {'iterations': 128, 'od_wait': 1253, 'learning_rate': 0.19650883604156572, 'reg_lambda': 19.696259739623166, 'random_strength': 34.44907949320116, 'depth': 7, 'min_data_in_leaf': 14, 'leaf_estimation_iterations': 2}. Best is trial 16 with value: 2.625578899503457.\u001b[0m\n"
          ]
        },
        {
          "output_type": "stream",
          "name": "stdout",
          "text": [
            "127:\tlearn: 2.6196422\ttest: 2.6301373\tbest: 2.6282475 (88)\ttotal: 1.22s\tremaining: 0us\n",
            "\n",
            "bestTest = 2.628247515\n",
            "bestIteration = 88\n",
            "\n",
            "Shrink model to first 89 iterations.\n",
            "0:\tlearn: 2.6769001\ttest: 2.6467785\tbest: 2.6467785 (0)\ttotal: 14.9ms\tremaining: 1.52s\n"
          ]
        },
        {
          "output_type": "stream",
          "name": "stderr",
          "text": [
            "\u001b[32m[I 2022-08-05 01:50:07,673]\u001b[0m Trial 27 finished with value: 2.625742218475668 and parameters: {'iterations': 103, 'od_wait': 1530, 'learning_rate': 0.28457570986223774, 'reg_lambda': 69.29464804776677, 'random_strength': 22.85180196734555, 'depth': 9, 'min_data_in_leaf': 18, 'leaf_estimation_iterations': 5}. Best is trial 16 with value: 2.625578899503457.\u001b[0m\n"
          ]
        },
        {
          "output_type": "stream",
          "name": "stdout",
          "text": [
            "102:\tlearn: 2.5628497\ttest: 2.6331824\tbest: 2.6257422 (55)\ttotal: 1.82s\tremaining: 0us\n",
            "\n",
            "bestTest = 2.625742226\n",
            "bestIteration = 55\n",
            "\n",
            "Shrink model to first 56 iterations.\n",
            "0:\tlearn: 2.6781077\ttest: 2.6479853\tbest: 2.6479853 (0)\ttotal: 14.5ms\tremaining: 2.06s\n"
          ]
        },
        {
          "output_type": "stream",
          "name": "stderr",
          "text": [
            "\u001b[32m[I 2022-08-05 01:50:09,643]\u001b[0m Trial 28 finished with value: 2.6271035017995685 and parameters: {'iterations': 143, 'od_wait': 1626, 'learning_rate': 0.2758231385823604, 'reg_lambda': 70.39848339985582, 'random_strength': 28.39704288166949, 'depth': 6, 'min_data_in_leaf': 17, 'leaf_estimation_iterations': 7}. Best is trial 16 with value: 2.625578899503457.\u001b[0m\n"
          ]
        },
        {
          "output_type": "stream",
          "name": "stdout",
          "text": [
            "142:\tlearn: 2.5783735\ttest: 2.6373331\tbest: 2.6271035 (58)\ttotal: 1.86s\tremaining: 0us\n",
            "\n",
            "bestTest = 2.627103509\n",
            "bestIteration = 58\n",
            "\n",
            "Shrink model to first 59 iterations.\n",
            "0:\tlearn: 2.6740058\ttest: 2.6444104\tbest: 2.6444104 (0)\ttotal: 15.7ms\tremaining: 3.06s\n"
          ]
        },
        {
          "output_type": "stream",
          "name": "stderr",
          "text": [
            "\u001b[32m[I 2022-08-05 01:50:12,607]\u001b[0m Trial 29 finished with value: 2.6266068994904086 and parameters: {'iterations': 196, 'od_wait': 1025, 'learning_rate': 0.3495832914683483, 'reg_lambda': 71.19729468607613, 'random_strength': 32.342734114463894, 'depth': 8, 'min_data_in_leaf': 17, 'leaf_estimation_iterations': 5}. Best is trial 16 with value: 2.625578899503457.\u001b[0m\n"
          ]
        },
        {
          "output_type": "stream",
          "name": "stdout",
          "text": [
            "195:\tlearn: 2.4794855\ttest: 2.6512959\tbest: 2.6266069 (43)\ttotal: 2.85s\tremaining: 0us\n",
            "\n",
            "bestTest = 2.626606907\n",
            "bestIteration = 43\n",
            "\n",
            "Shrink model to first 44 iterations.\n"
          ]
        }
      ]
    },
    {
      "cell_type": "code",
      "source": [
        "params=study_catboost.best_params \n",
        "params['objective'] = 'RMSE'\n",
        "params['random_state'] = 42 "
      ],
      "metadata": {
        "id": "RITzKtqA6TpH"
      },
      "id": "RITzKtqA6TpH",
      "execution_count": null,
      "outputs": []
    },
    {
      "cell_type": "code",
      "source": [
        "params"
      ],
      "metadata": {
        "colab": {
          "base_uri": "https://localhost:8080/"
        },
        "id": "rb33OOyJ29oP",
        "outputId": "e1bfad31-1d2e-4c08-f655-bf5d59554ac6"
      },
      "id": "rb33OOyJ29oP",
      "execution_count": null,
      "outputs": [
        {
          "output_type": "execute_result",
          "data": {
            "text/plain": [
              "{'depth': 9,\n",
              " 'iterations': 103,\n",
              " 'leaf_estimation_iterations': 3,\n",
              " 'learning_rate': 0.19357260131405404,\n",
              " 'min_data_in_leaf': 1,\n",
              " 'objective': 'RMSE',\n",
              " 'od_wait': 1609,\n",
              " 'random_state': 42,\n",
              " 'random_strength': 18.108905551642163,\n",
              " 'reg_lambda': 68.25673693779959}"
            ]
          },
          "metadata": {},
          "execution_count": 16
        }
      ]
    },
    {
      "cell_type": "code",
      "execution_count": null,
      "id": "25c6f43b",
      "metadata": {
        "colab": {
          "base_uri": "https://localhost:8080/"
        },
        "id": "25c6f43b",
        "outputId": "391f7fbb-fe34-42db-fcf5-8e92b51fa5e5"
      },
      "outputs": [
        {
          "output_type": "stream",
          "name": "stdout",
          "text": [
            "0:\tlearn: 2.6369422\ttest: 2.6369422\ttest1: 2.7876289\tbest: 2.7876289 (0)\ttotal: 16.4ms\tremaining: 1.67s\n",
            "102:\tlearn: 2.5731457\ttest: 2.5731457\ttest1: 2.7686963\tbest: 2.7663827 (68)\ttotal: 1.63s\tremaining: 0us\n",
            "\n",
            "bestTest = 2.766382658\n",
            "bestIteration = 68\n",
            "\n",
            "Shrink model to first 69 iterations.\n",
            "1 Fold NRMSE = 2.7663826552021606\n",
            "0:\tlearn: 2.6790050\ttest: 2.6790050\ttest1: 2.6632261\tbest: 2.6632261 (0)\ttotal: 18.4ms\tremaining: 1.87s\n",
            "102:\tlearn: 2.6234004\ttest: 2.6234004\ttest1: 2.6426479\tbest: 2.6414279 (26)\ttotal: 1.63s\tremaining: 0us\n",
            "\n",
            "bestTest = 2.641427926\n",
            "bestIteration = 26\n",
            "\n",
            "Shrink model to first 27 iterations.\n",
            "2 Fold NRMSE = 2.6414279318573146\n",
            "0:\tlearn: 2.6970783\ttest: 2.6970783\ttest1: 2.6087794\tbest: 2.6087794 (0)\ttotal: 19.8ms\tremaining: 2.02s\n",
            "102:\tlearn: 2.6381011\ttest: 2.6381011\ttest1: 2.5855843\tbest: 2.5835383 (29)\ttotal: 1.76s\tremaining: 0us\n",
            "\n",
            "bestTest = 2.583538349\n",
            "bestIteration = 29\n",
            "\n",
            "Shrink model to first 30 iterations.\n",
            "3 Fold NRMSE = 2.583538354984123\n",
            "0:\tlearn: 2.6878771\ttest: 2.6878771\ttest1: 2.6393320\tbest: 2.6393320 (0)\ttotal: 20.8ms\tremaining: 2.12s\n",
            "102:\tlearn: 2.6233460\ttest: 2.6233460\ttest1: 2.6149478\tbest: 2.6104286 (40)\ttotal: 1.74s\tremaining: 0us\n",
            "\n",
            "bestTest = 2.610428648\n",
            "bestIteration = 40\n",
            "\n",
            "Shrink model to first 41 iterations.\n",
            "4 Fold NRMSE = 2.6104286456808037\n"
          ]
        }
      ],
      "source": [
        "NRMSES = []\n",
        "cb_pred = np.zeros(target.shape[0])\n",
        "for i, idx in enumerate(kf.split(X, y)) :\n",
        "    tr_x, tr_y = X.loc[idx[0]], y.loc[idx[0]]\n",
        "    val_x, val_y = X.loc[idx[1]], y.loc[idx[1]]\n",
        "    \n",
        "    cb = CatBoostRegressor(**params)\n",
        "    cb.fit(tr_x, tr_y, eval_set = [(tr_x, tr_y), (val_x, val_y)], early_stopping_rounds = 500, verbose = 2000)\n",
        "    \n",
        "    val_pred = cb.predict(val_x)\n",
        "    NRMSE = mean_squared_error(val_y, val_pred, squared=False)\n",
        "    print(f\"{i + 1} Fold RMSE = {NRMSE}\")\n",
        "    NRMSES.append(NRMSE)\n",
        "    \n",
        "    fold_pred = cb.predict(target) / kf.n_splits\n",
        "    cb_pred += fold_pred"
      ]
    },
    {
      "cell_type": "code",
      "execution_count": null,
      "id": "8158befe",
      "metadata": {
        "scrolled": true,
        "colab": {
          "base_uri": "https://localhost:8080/"
        },
        "id": "8158befe",
        "outputId": "eb2c9e94-5aa9-4eac-8749-61219838bc7d"
      },
      "outputs": [
        {
          "output_type": "execute_result",
          "data": {
            "text/plain": [
              "2.6504443969311007"
            ]
          },
          "metadata": {},
          "execution_count": 18
        }
      ],
      "source": [
        "np.mean(NRMSES)"
      ]
    },
    {
      "cell_type": "code",
      "source": [
        "NRMSES"
      ],
      "metadata": {
        "id": "R16upe4oAG08",
        "colab": {
          "base_uri": "https://localhost:8080/"
        },
        "outputId": "52d246d6-2493-464a-9bd2-12c507417f97"
      },
      "id": "R16upe4oAG08",
      "execution_count": null,
      "outputs": [
        {
          "output_type": "execute_result",
          "data": {
            "text/plain": [
              "[2.7663826552021606, 2.6414279318573146, 2.583538354984123, 2.6104286456808037]"
            ]
          },
          "metadata": {},
          "execution_count": 19
        }
      ]
    },
    {
      "cell_type": "code",
      "source": [],
      "metadata": {
        "id": "tJ6fLJL2jRsi"
      },
      "id": "tJ6fLJL2jRsi",
      "execution_count": null,
      "outputs": []
    }
  ],
  "metadata": {
    "kernelspec": {
      "display_name": "Python 3 (ipykernel)",
      "language": "python",
      "name": "python3"
    },
    "language_info": {
      "codemirror_mode": {
        "name": "ipython",
        "version": 3
      },
      "file_extension": ".py",
      "mimetype": "text/x-python",
      "name": "python",
      "nbconvert_exporter": "python",
      "pygments_lexer": "ipython3",
      "version": "3.9.7"
    },
    "colab": {
      "provenance": [],
      "machine_shape": "hm",
      "collapsed_sections": []
    },
    "gpuClass": "standard"
  },
  "nbformat": 4,
  "nbformat_minor": 5
}