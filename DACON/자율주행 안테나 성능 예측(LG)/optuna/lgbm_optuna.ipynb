{
  "cells": [
    {
      "cell_type": "code",
      "source": [
        "from google.colab import drive\n",
        "drive.mount('/content/drive')"
      ],
      "metadata": {
        "colab": {
          "base_uri": "https://localhost:8080/"
        },
        "id": "ijQBdPY_3ijo",
        "outputId": "c39282b6-d99c-489b-bf68-e69759c23f85"
      },
      "id": "ijQBdPY_3ijo",
      "execution_count": null,
      "outputs": [
        {
          "output_type": "stream",
          "name": "stdout",
          "text": [
            "Drive already mounted at /content/drive; to attempt to forcibly remount, call drive.mount(\"/content/drive\", force_remount=True).\n"
          ]
        }
      ]
    },
    {
      "cell_type": "code",
      "source": [
        "!pip install optuna"
      ],
      "metadata": {
        "colab": {
          "base_uri": "https://localhost:8080/"
        },
        "id": "UZG-a-o24J4b",
        "outputId": "ef0db7e0-c557-45d3-fc5f-cb3ff70e6b83"
      },
      "id": "UZG-a-o24J4b",
      "execution_count": null,
      "outputs": [
        {
          "output_type": "stream",
          "name": "stdout",
          "text": [
            "Looking in indexes: https://pypi.org/simple, https://us-python.pkg.dev/colab-wheels/public/simple/\n",
            "Requirement already satisfied: optuna in /usr/local/lib/python3.7/dist-packages (2.10.1)\n",
            "Requirement already satisfied: cmaes>=0.8.2 in /usr/local/lib/python3.7/dist-packages (from optuna) (0.8.2)\n",
            "Requirement already satisfied: colorlog in /usr/local/lib/python3.7/dist-packages (from optuna) (6.6.0)\n",
            "Requirement already satisfied: cliff in /usr/local/lib/python3.7/dist-packages (from optuna) (3.10.1)\n",
            "Requirement already satisfied: numpy in /usr/local/lib/python3.7/dist-packages (from optuna) (1.21.6)\n",
            "Requirement already satisfied: PyYAML in /usr/local/lib/python3.7/dist-packages (from optuna) (3.13)\n",
            "Requirement already satisfied: alembic in /usr/local/lib/python3.7/dist-packages (from optuna) (1.8.1)\n",
            "Requirement already satisfied: packaging>=20.0 in /usr/local/lib/python3.7/dist-packages (from optuna) (21.3)\n",
            "Requirement already satisfied: scipy!=1.4.0 in /usr/local/lib/python3.7/dist-packages (from optuna) (1.7.3)\n",
            "Requirement already satisfied: sqlalchemy>=1.1.0 in /usr/local/lib/python3.7/dist-packages (from optuna) (1.4.39)\n",
            "Requirement already satisfied: tqdm in /usr/local/lib/python3.7/dist-packages (from optuna) (4.64.0)\n",
            "Requirement already satisfied: pyparsing!=3.0.5,>=2.0.2 in /usr/local/lib/python3.7/dist-packages (from packaging>=20.0->optuna) (3.0.9)\n",
            "Requirement already satisfied: greenlet!=0.4.17 in /usr/local/lib/python3.7/dist-packages (from sqlalchemy>=1.1.0->optuna) (1.1.2)\n",
            "Requirement already satisfied: importlib-metadata in /usr/local/lib/python3.7/dist-packages (from sqlalchemy>=1.1.0->optuna) (4.12.0)\n",
            "Requirement already satisfied: importlib-resources in /usr/local/lib/python3.7/dist-packages (from alembic->optuna) (5.9.0)\n",
            "Requirement already satisfied: Mako in /usr/local/lib/python3.7/dist-packages (from alembic->optuna) (1.2.1)\n",
            "Requirement already satisfied: PrettyTable>=0.7.2 in /usr/local/lib/python3.7/dist-packages (from cliff->optuna) (3.3.0)\n",
            "Requirement already satisfied: cmd2>=1.0.0 in /usr/local/lib/python3.7/dist-packages (from cliff->optuna) (2.4.2)\n",
            "Requirement already satisfied: autopage>=0.4.0 in /usr/local/lib/python3.7/dist-packages (from cliff->optuna) (0.5.1)\n",
            "Requirement already satisfied: pbr!=2.1.0,>=2.0.0 in /usr/local/lib/python3.7/dist-packages (from cliff->optuna) (5.9.0)\n",
            "Requirement already satisfied: stevedore>=2.0.1 in /usr/local/lib/python3.7/dist-packages (from cliff->optuna) (3.5.0)\n",
            "Requirement already satisfied: typing-extensions in /usr/local/lib/python3.7/dist-packages (from cmd2>=1.0.0->cliff->optuna) (4.1.1)\n",
            "Requirement already satisfied: pyperclip>=1.6 in /usr/local/lib/python3.7/dist-packages (from cmd2>=1.0.0->cliff->optuna) (1.8.2)\n",
            "Requirement already satisfied: wcwidth>=0.1.7 in /usr/local/lib/python3.7/dist-packages (from cmd2>=1.0.0->cliff->optuna) (0.2.5)\n",
            "Requirement already satisfied: attrs>=16.3.0 in /usr/local/lib/python3.7/dist-packages (from cmd2>=1.0.0->cliff->optuna) (22.1.0)\n",
            "Requirement already satisfied: zipp>=0.5 in /usr/local/lib/python3.7/dist-packages (from importlib-metadata->sqlalchemy>=1.1.0->optuna) (3.8.1)\n",
            "Requirement already satisfied: MarkupSafe>=0.9.2 in /usr/local/lib/python3.7/dist-packages (from Mako->alembic->optuna) (2.0.1)\n"
          ]
        }
      ]
    },
    {
      "cell_type": "code",
      "execution_count": null,
      "id": "291da8e6",
      "metadata": {
        "id": "291da8e6"
      },
      "outputs": [],
      "source": [
        "import pandas as pd\n",
        "import numpy as np\n",
        "from sklearn import datasets, ensemble\n",
        "import optuna\n",
        "from lightgbm import LGBMRegressor\n",
        "from tqdm import tqdm"
      ]
    },
    {
      "cell_type": "code",
      "source": [
        "path = '/content/drive/MyDrive/DACON/lg_am/'\n",
        "\n",
        "train = pd.read_csv(path + 'train.csv')\n",
        "test = pd.read_csv(path + 'test.csv')\n",
        "submission = pd.read_csv(path + 'sample_submission.csv')"
      ],
      "metadata": {
        "id": "XMQZa3SJ3zFX"
      },
      "id": "XMQZa3SJ3zFX",
      "execution_count": null,
      "outputs": []
    },
    {
      "cell_type": "code",
      "execution_count": null,
      "id": "df5eb0eb",
      "metadata": {
        "id": "df5eb0eb"
      },
      "outputs": [],
      "source": [
        "target_list = ['Y_01', 'Y_02', 'Y_03', 'Y_04', 'Y_05', 'Y_06',\n",
        "       'Y_07', 'Y_08', 'Y_09', 'Y_10', 'Y_11', 'Y_12', 'Y_13', 'Y_14']"
      ]
    },
    {
      "cell_type": "code",
      "source": [
        "for i in tqdm(range(len(target_list))):\n",
        "    globals()['train_{}'.format(target_list[i])] = train[['X_01', 'X_02', 'X_03', 'X_04', 'X_05', 'X_06', 'X_07', 'X_08',\n",
        "       'X_09', 'X_10', 'X_11', 'X_12', 'X_13', 'X_14', 'X_15', 'X_16', 'X_17',\n",
        "       'X_18', 'X_19', 'X_20', 'X_21', 'X_22', 'X_23', 'X_24', 'X_25', 'X_26',\n",
        "       'X_27', 'X_28', 'X_29', 'X_30', 'X_31', 'X_32', 'X_33', 'X_34', 'X_35',\n",
        "       'X_36', 'X_37', 'X_38', 'X_39', 'X_40', 'X_41', 'X_42', 'X_43', 'X_44',\n",
        "       'X_45', 'X_46', 'X_47', 'X_48', 'X_49', 'X_50', 'X_51', 'X_52', 'X_53',\n",
        "       'X_54', 'X_55', 'X_56', f'{target_list[i]}']]\n",
        "    locals()['train_{}'.format(target_list[i])].drop(columns=['X_48', 'X_47', 'X_23', 'X_04'], inplace=True)"
      ],
      "metadata": {
        "colab": {
          "base_uri": "https://localhost:8080/"
        },
        "id": "vdFgcv4guPcR",
        "outputId": "42697ec9-c3b4-4b80-bf0d-f3ed5ac6b4fd"
      },
      "id": "vdFgcv4guPcR",
      "execution_count": null,
      "outputs": [
        {
          "output_type": "stream",
          "name": "stderr",
          "text": [
            "  0%|          | 0/14 [00:00<?, ?it/s]/usr/local/lib/python3.7/dist-packages/pandas/core/frame.py:4913: SettingWithCopyWarning: \n",
            "A value is trying to be set on a copy of a slice from a DataFrame\n",
            "\n",
            "See the caveats in the documentation: https://pandas.pydata.org/pandas-docs/stable/user_guide/indexing.html#returning-a-view-versus-a-copy\n",
            "  errors=errors,\n",
            "100%|██████████| 14/14 [00:00<00:00, 74.44it/s]\n"
          ]
        }
      ]
    },
    {
      "cell_type": "code",
      "execution_count": null,
      "id": "6ffff27e",
      "metadata": {
        "id": "6ffff27e"
      },
      "outputs": [],
      "source": [
        "X = train_Y_06.loc[:, 'X_01':'X_56']\n",
        "y = train_Y_06.loc[:, 'Y_06':]"
      ]
    },
    {
      "cell_type": "code",
      "execution_count": null,
      "id": "4d1ab7c6",
      "metadata": {
        "id": "4d1ab7c6"
      },
      "outputs": [],
      "source": [
        "target = test[X.columns]"
      ]
    },
    {
      "cell_type": "code",
      "execution_count": null,
      "id": "5060aa29",
      "metadata": {
        "id": "5060aa29"
      },
      "outputs": [],
      "source": [
        "from sklearn.model_selection import KFold\n",
        "from sklearn.metrics import make_scorer, mean_squared_error\n",
        "from sklearn.model_selection import train_test_split"
      ]
    },
    {
      "cell_type": "code",
      "execution_count": null,
      "id": "5496a328",
      "metadata": {
        "id": "5496a328"
      },
      "outputs": [],
      "source": [
        "kf = KFold(n_splits = 5, random_state = 42, shuffle = True)"
      ]
    },
    {
      "cell_type": "code",
      "source": [
        "def objective_cat(trial):\n",
        "    \"\"\"\n",
        "    Objective function to tune a `CatBoostRegressor` model.\n",
        "    \"\"\"\n",
        "\n",
        "    x_train, x_test, y_train, y_test = train_test_split(X, y, test_size=0.2, random_state=42)\n",
        "\n",
        "    param = {\n",
        "        'metric': 'rmse', \n",
        "         'random_state': 42,\n",
        "        'n_estimators': 20000,\n",
        "        'reg_alpha': trial.suggest_loguniform('reg_alpha', 1e-3, 10.0),\n",
        "        'reg_lambda': trial.suggest_loguniform('reg_lambda', 1e-3, 10.0),\n",
        "        'colsample_bytree': trial.suggest_categorical('colsample_bytree', [0.3,0.4,0.5,0.6,0.7,0.8,0.9, 1.0]),\n",
        "        'subsample': trial.suggest_categorical('subsample', [0.4,0.5,0.6,0.7,0.8,1.0]),\n",
        "        'learning_rate': trial.suggest_categorical('learning_rate', [0.006,0.008,0.01,0.014,0.017,0.02]),\n",
        "        'max_depth': trial.suggest_categorical('max_depth', [10,20,100]),\n",
        "        'num_leaves' : trial.suggest_int('num_leaves', 2, 1000),\n",
        "        'min_child_samples': trial.suggest_int('min_child_samples', 1, 300),\n",
        "        'cat_smooth' : trial.suggest_int('min_data_per_groups', 1, 100)\n",
        "    }\n",
        "\n",
        "\n",
        "    model = LGBMRegressor(**param)  \n",
        "    model.fit(x_train, y_train, eval_set = [(x_test, y_test)], early_stopping_rounds = 500, verbose = 2000)\n",
        "\n",
        "    pred = model.predict(x_test)\n",
        "\n",
        "    rmse = mean_squared_error(y_test, pred, squared=False)\n",
        "\n",
        "\n",
        "    return rmse"
      ],
      "metadata": {
        "id": "7fiIwTn_4VS-"
      },
      "id": "7fiIwTn_4VS-",
      "execution_count": null,
      "outputs": []
    },
    {
      "cell_type": "code",
      "source": [
        "study_catboost = optuna.create_study(direction=\"minimize\")\n",
        "study_catboost.optimize(objective_cat, n_trials=30)"
      ],
      "metadata": {
        "colab": {
          "base_uri": "https://localhost:8080/"
        },
        "id": "lFbp7pFf6Smc",
        "outputId": "a11d3533-f7db-493c-ebd8-c8e6bd67eeb1"
      },
      "id": "lFbp7pFf6Smc",
      "execution_count": null,
      "outputs": [
        {
          "output_type": "stream",
          "name": "stderr",
          "text": [
            "\u001b[32m[I 2022-08-05 01:32:59,883]\u001b[0m A new study created in memory with name: no-name-11173b99-9088-4705-b65f-896cba2555a3\u001b[0m\n"
          ]
        },
        {
          "output_type": "stream",
          "name": "stdout",
          "text": [
            "Training until validation scores don't improve for 500 rounds.\n",
            "Early stopping, best iteration is:\n",
            "[768]\tvalid_0's rmse: 1.62099\n"
          ]
        },
        {
          "output_type": "stream",
          "name": "stderr",
          "text": [
            "\u001b[32m[I 2022-08-05 01:33:29,114]\u001b[0m Trial 0 finished with value: 1.6209862651472413 and parameters: {'reg_alpha': 1.0510590831209259, 'reg_lambda': 4.697936036300781, 'colsample_bytree': 0.7, 'subsample': 0.8, 'learning_rate': 0.02, 'max_depth': 100, 'num_leaves': 347, 'min_child_samples': 130, 'min_data_per_groups': 2}. Best is trial 0 with value: 1.6209862651472413.\u001b[0m\n"
          ]
        },
        {
          "output_type": "stream",
          "name": "stdout",
          "text": [
            "Training until validation scores don't improve for 500 rounds.\n",
            "Early stopping, best iteration is:\n",
            "[955]\tvalid_0's rmse: 1.63391\n"
          ]
        },
        {
          "output_type": "stream",
          "name": "stderr",
          "text": [
            "\u001b[32m[I 2022-08-05 01:33:40,374]\u001b[0m Trial 1 finished with value: 1.6339109134132421 and parameters: {'reg_alpha': 0.014020676155573439, 'reg_lambda': 7.4822870658278005, 'colsample_bytree': 0.6, 'subsample': 0.6, 'learning_rate': 0.02, 'max_depth': 100, 'num_leaves': 724, 'min_child_samples': 200, 'min_data_per_groups': 1}. Best is trial 0 with value: 1.6209862651472413.\u001b[0m\n"
          ]
        },
        {
          "output_type": "stream",
          "name": "stdout",
          "text": [
            "Training until validation scores don't improve for 500 rounds.\n",
            "Early stopping, best iteration is:\n",
            "[979]\tvalid_0's rmse: 1.61388\n"
          ]
        },
        {
          "output_type": "stream",
          "name": "stderr",
          "text": [
            "\u001b[32m[I 2022-08-05 01:33:55,296]\u001b[0m Trial 2 finished with value: 1.613877284520306 and parameters: {'reg_alpha': 0.4815198599036182, 'reg_lambda': 0.08205311610451968, 'colsample_bytree': 0.5, 'subsample': 0.6, 'learning_rate': 0.017, 'max_depth': 20, 'num_leaves': 556, 'min_child_samples': 79, 'min_data_per_groups': 33}. Best is trial 2 with value: 1.613877284520306.\u001b[0m\n"
          ]
        },
        {
          "output_type": "stream",
          "name": "stdout",
          "text": [
            "Training until validation scores don't improve for 500 rounds.\n",
            "[2000]\tvalid_0's rmse: 1.64656\n",
            "Early stopping, best iteration is:\n",
            "[2143]\tvalid_0's rmse: 1.64606\n"
          ]
        },
        {
          "output_type": "stream",
          "name": "stderr",
          "text": [
            "\u001b[32m[I 2022-08-05 01:34:08,845]\u001b[0m Trial 3 finished with value: 1.6460619874979752 and parameters: {'reg_alpha': 0.003030135253149236, 'reg_lambda': 0.0043394314643236545, 'colsample_bytree': 0.5, 'subsample': 0.6, 'learning_rate': 0.01, 'max_depth': 20, 'num_leaves': 682, 'min_child_samples': 286, 'min_data_per_groups': 19}. Best is trial 2 with value: 1.613877284520306.\u001b[0m\n"
          ]
        },
        {
          "output_type": "stream",
          "name": "stdout",
          "text": [
            "Training until validation scores don't improve for 500 rounds.\n",
            "[2000]\tvalid_0's rmse: 1.64428\n",
            "[4000]\tvalid_0's rmse: 1.63674\n",
            "Early stopping, best iteration is:\n",
            "[3959]\tvalid_0's rmse: 1.63642\n"
          ]
        },
        {
          "output_type": "stream",
          "name": "stderr",
          "text": [
            "\u001b[32m[I 2022-08-05 01:34:26,165]\u001b[0m Trial 4 finished with value: 1.6364199411041542 and parameters: {'reg_alpha': 0.07645718886766452, 'reg_lambda': 6.774346001621026, 'colsample_bytree': 0.3, 'subsample': 0.7, 'learning_rate': 0.008, 'max_depth': 10, 'num_leaves': 749, 'min_child_samples': 82, 'min_data_per_groups': 83}. Best is trial 2 with value: 1.613877284520306.\u001b[0m\n"
          ]
        },
        {
          "output_type": "stream",
          "name": "stdout",
          "text": [
            "Training until validation scores don't improve for 500 rounds.\n",
            "[2000]\tvalid_0's rmse: 1.62268\n",
            "Early stopping, best iteration is:\n",
            "[1860]\tvalid_0's rmse: 1.62148\n"
          ]
        },
        {
          "output_type": "stream",
          "name": "stderr",
          "text": [
            "\u001b[32m[I 2022-08-05 01:34:42,589]\u001b[0m Trial 5 finished with value: 1.6214824649597417 and parameters: {'reg_alpha': 0.013177964081146572, 'reg_lambda': 0.14370525714802165, 'colsample_bytree': 0.4, 'subsample': 0.7, 'learning_rate': 0.014, 'max_depth': 20, 'num_leaves': 109, 'min_child_samples': 78, 'min_data_per_groups': 39}. Best is trial 2 with value: 1.613877284520306.\u001b[0m\n"
          ]
        },
        {
          "output_type": "stream",
          "name": "stdout",
          "text": [
            "Training until validation scores don't improve for 500 rounds.\n",
            "[2000]\tvalid_0's rmse: 1.65019\n",
            "Early stopping, best iteration is:\n",
            "[1611]\tvalid_0's rmse: 1.64925\n"
          ]
        },
        {
          "output_type": "stream",
          "name": "stderr",
          "text": [
            "\u001b[32m[I 2022-08-05 01:34:52,309]\u001b[0m Trial 6 finished with value: 1.6492451214077581 and parameters: {'reg_alpha': 0.01953867048143683, 'reg_lambda': 0.07222378302970213, 'colsample_bytree': 0.3, 'subsample': 0.7, 'learning_rate': 0.02, 'max_depth': 100, 'num_leaves': 92, 'min_child_samples': 267, 'min_data_per_groups': 42}. Best is trial 2 with value: 1.613877284520306.\u001b[0m\n"
          ]
        },
        {
          "output_type": "stream",
          "name": "stdout",
          "text": [
            "Training until validation scores don't improve for 500 rounds.\n",
            "[2000]\tvalid_0's rmse: 1.60115\n",
            "Early stopping, best iteration is:\n",
            "[2208]\tvalid_0's rmse: 1.601\n"
          ]
        },
        {
          "output_type": "stream",
          "name": "stderr",
          "text": [
            "\u001b[32m[I 2022-08-05 01:36:24,624]\u001b[0m Trial 7 finished with value: 1.6010002316651262 and parameters: {'reg_alpha': 4.034267715982515, 'reg_lambda': 0.2827672609924353, 'colsample_bytree': 0.5, 'subsample': 0.8, 'learning_rate': 0.006, 'max_depth': 100, 'num_leaves': 934, 'min_child_samples': 20, 'min_data_per_groups': 71}. Best is trial 7 with value: 1.6010002316651262.\u001b[0m\n"
          ]
        },
        {
          "output_type": "stream",
          "name": "stdout",
          "text": [
            "Training until validation scores don't improve for 500 rounds.\n",
            "[2000]\tvalid_0's rmse: 1.64198\n",
            "Early stopping, best iteration is:\n",
            "[1597]\tvalid_0's rmse: 1.64118\n"
          ]
        },
        {
          "output_type": "stream",
          "name": "stderr",
          "text": [
            "\u001b[32m[I 2022-08-05 01:36:37,190]\u001b[0m Trial 8 finished with value: 1.641183900956478 and parameters: {'reg_alpha': 0.015088828815678043, 'reg_lambda': 0.3367536783497881, 'colsample_bytree': 0.6, 'subsample': 0.5, 'learning_rate': 0.01, 'max_depth': 20, 'num_leaves': 122, 'min_child_samples': 216, 'min_data_per_groups': 15}. Best is trial 7 with value: 1.6010002316651262.\u001b[0m\n"
          ]
        },
        {
          "output_type": "stream",
          "name": "stdout",
          "text": [
            "Training until validation scores don't improve for 500 rounds.\n",
            "[2000]\tvalid_0's rmse: 1.64467\n",
            "[4000]\tvalid_0's rmse: 1.64415\n",
            "Early stopping, best iteration is:\n",
            "[4006]\tvalid_0's rmse: 1.64414\n"
          ]
        },
        {
          "output_type": "stream",
          "name": "stderr",
          "text": [
            "\u001b[32m[I 2022-08-05 01:38:57,295]\u001b[0m Trial 9 finished with value: 1.6441440026154963 and parameters: {'reg_alpha': 4.099779185166105, 'reg_lambda': 0.011380531445231665, 'colsample_bytree': 0.4, 'subsample': 0.7, 'learning_rate': 0.008, 'max_depth': 20, 'num_leaves': 832, 'min_child_samples': 2, 'min_data_per_groups': 1}. Best is trial 7 with value: 1.6010002316651262.\u001b[0m\n"
          ]
        },
        {
          "output_type": "stream",
          "name": "stdout",
          "text": [
            "Training until validation scores don't improve for 500 rounds.\n",
            "[2000]\tvalid_0's rmse: 1.59038\n",
            "Early stopping, best iteration is:\n",
            "[1620]\tvalid_0's rmse: 1.58504\n"
          ]
        },
        {
          "output_type": "stream",
          "name": "stderr",
          "text": [
            "\u001b[32m[I 2022-08-05 01:39:18,375]\u001b[0m Trial 10 finished with value: 1.5850359859165948 and parameters: {'reg_alpha': 5.478372946908454, 'reg_lambda': 0.8638369362800319, 'colsample_bytree': 1.0, 'subsample': 1.0, 'learning_rate': 0.006, 'max_depth': 10, 'num_leaves': 988, 'min_child_samples': 21, 'min_data_per_groups': 70}. Best is trial 10 with value: 1.5850359859165948.\u001b[0m\n"
          ]
        },
        {
          "output_type": "stream",
          "name": "stdout",
          "text": [
            "Training until validation scores don't improve for 500 rounds.\n",
            "[2000]\tvalid_0's rmse: 1.59636\n",
            "Early stopping, best iteration is:\n",
            "[2063]\tvalid_0's rmse: 1.59624\n"
          ]
        },
        {
          "output_type": "stream",
          "name": "stderr",
          "text": [
            "\u001b[32m[I 2022-08-05 01:39:54,380]\u001b[0m Trial 11 finished with value: 1.5962355006697975 and parameters: {'reg_alpha': 7.14602187323631, 'reg_lambda': 0.9814028004544224, 'colsample_bytree': 1.0, 'subsample': 1.0, 'learning_rate': 0.006, 'max_depth': 10, 'num_leaves': 975, 'min_child_samples': 10, 'min_data_per_groups': 71}. Best is trial 10 with value: 1.5850359859165948.\u001b[0m\n"
          ]
        },
        {
          "output_type": "stream",
          "name": "stdout",
          "text": [
            "Training until validation scores don't improve for 500 rounds.\n",
            "Early stopping, best iteration is:\n",
            "[952]\tvalid_0's rmse: 1.60541\n"
          ]
        },
        {
          "output_type": "stream",
          "name": "stderr",
          "text": [
            "\u001b[32m[I 2022-08-05 01:40:06,202]\u001b[0m Trial 12 finished with value: 1.6054054246441738 and parameters: {'reg_alpha': 7.292549490285536, 'reg_lambda': 1.4349608535929819, 'colsample_bytree': 1.0, 'subsample': 1.0, 'learning_rate': 0.006, 'max_depth': 10, 'num_leaves': 987, 'min_child_samples': 39, 'min_data_per_groups': 66}. Best is trial 10 with value: 1.5850359859165948.\u001b[0m\n"
          ]
        },
        {
          "output_type": "stream",
          "name": "stdout",
          "text": [
            "Training until validation scores don't improve for 500 rounds.\n",
            "[2000]\tvalid_0's rmse: 1.63917\n",
            "Early stopping, best iteration is:\n",
            "[2429]\tvalid_0's rmse: 1.63771\n"
          ]
        },
        {
          "output_type": "stream",
          "name": "stderr",
          "text": [
            "\u001b[32m[I 2022-08-05 01:40:23,209]\u001b[0m Trial 13 finished with value: 1.6377147904051814 and parameters: {'reg_alpha': 0.945455083738462, 'reg_lambda': 0.6966110236508568, 'colsample_bytree': 1.0, 'subsample': 1.0, 'learning_rate': 0.006, 'max_depth': 10, 'num_leaves': 455, 'min_child_samples': 130, 'min_data_per_groups': 96}. Best is trial 10 with value: 1.5850359859165948.\u001b[0m\n"
          ]
        },
        {
          "output_type": "stream",
          "name": "stdout",
          "text": [
            "Training until validation scores don't improve for 500 rounds.\n",
            "Early stopping, best iteration is:\n",
            "[1189]\tvalid_0's rmse: 1.62812\n"
          ]
        },
        {
          "output_type": "stream",
          "name": "stderr",
          "text": [
            "\u001b[32m[I 2022-08-05 01:40:34,682]\u001b[0m Trial 14 finished with value: 1.6281230388367138 and parameters: {'reg_alpha': 0.19078157219060718, 'reg_lambda': 1.6906453685072438, 'colsample_bytree': 1.0, 'subsample': 1.0, 'learning_rate': 0.006, 'max_depth': 10, 'num_leaves': 888, 'min_child_samples': 48, 'min_data_per_groups': 58}. Best is trial 10 with value: 1.5850359859165948.\u001b[0m\n"
          ]
        },
        {
          "output_type": "stream",
          "name": "stdout",
          "text": [
            "Training until validation scores don't improve for 500 rounds.\n",
            "[2000]\tvalid_0's rmse: 1.63552\n",
            "Early stopping, best iteration is:\n",
            "[3286]\tvalid_0's rmse: 1.63362\n"
          ]
        },
        {
          "output_type": "stream",
          "name": "stderr",
          "text": [
            "\u001b[32m[I 2022-08-05 01:40:53,066]\u001b[0m Trial 15 finished with value: 1.6336204831246184 and parameters: {'reg_alpha': 8.703481400331603, 'reg_lambda': 0.023932837544932924, 'colsample_bytree': 0.9, 'subsample': 0.4, 'learning_rate': 0.006, 'max_depth': 10, 'num_leaves': 1000, 'min_child_samples': 177, 'min_data_per_groups': 79}. Best is trial 10 with value: 1.5850359859165948.\u001b[0m\n"
          ]
        },
        {
          "output_type": "stream",
          "name": "stdout",
          "text": [
            "Training until validation scores don't improve for 500 rounds.\n",
            "Early stopping, best iteration is:\n",
            "[220]\tvalid_0's rmse: 1.61961\n"
          ]
        },
        {
          "output_type": "stream",
          "name": "stderr",
          "text": [
            "\u001b[32m[I 2022-08-05 01:41:07,799]\u001b[0m Trial 16 finished with value: 1.6196146647490388 and parameters: {'reg_alpha': 1.7732512183344638, 'reg_lambda': 1.2682386123462717, 'colsample_bytree': 1.0, 'subsample': 1.0, 'learning_rate': 0.017, 'max_depth': 10, 'num_leaves': 600, 'min_child_samples': 2, 'min_data_per_groups': 94}. Best is trial 10 with value: 1.5850359859165948.\u001b[0m\n"
          ]
        },
        {
          "output_type": "stream",
          "name": "stdout",
          "text": [
            "Training until validation scores don't improve for 500 rounds.\n",
            "Early stopping, best iteration is:\n",
            "[1040]\tvalid_0's rmse: 1.62637\n"
          ]
        },
        {
          "output_type": "stream",
          "name": "stderr",
          "text": [
            "\u001b[32m[I 2022-08-05 01:41:14,943]\u001b[0m Trial 17 finished with value: 1.6263733801974274 and parameters: {'reg_alpha': 0.26479122857456705, 'reg_lambda': 2.6247673649982524, 'colsample_bytree': 0.8, 'subsample': 1.0, 'learning_rate': 0.014, 'max_depth': 10, 'num_leaves': 824, 'min_child_samples': 106, 'min_data_per_groups': 54}. Best is trial 10 with value: 1.5850359859165948.\u001b[0m\n"
          ]
        },
        {
          "output_type": "stream",
          "name": "stdout",
          "text": [
            "Training until validation scores don't improve for 500 rounds.\n",
            "Early stopping, best iteration is:\n",
            "[982]\tvalid_0's rmse: 1.6126\n"
          ]
        },
        {
          "output_type": "stream",
          "name": "stderr",
          "text": [
            "\u001b[32m[I 2022-08-05 01:41:25,204]\u001b[0m Trial 18 finished with value: 1.612598108248598 and parameters: {'reg_alpha': 2.0421630502881523, 'reg_lambda': 0.5000247963264549, 'colsample_bytree': 1.0, 'subsample': 0.5, 'learning_rate': 0.006, 'max_depth': 10, 'num_leaves': 289, 'min_child_samples': 47, 'min_data_per_groups': 83}. Best is trial 10 with value: 1.5850359859165948.\u001b[0m\n"
          ]
        },
        {
          "output_type": "stream",
          "name": "stdout",
          "text": [
            "Training until validation scores don't improve for 500 rounds.\n",
            "[2000]\tvalid_0's rmse: 1.63375\n",
            "Early stopping, best iteration is:\n",
            "[3268]\tvalid_0's rmse: 1.63194\n"
          ]
        },
        {
          "output_type": "stream",
          "name": "stderr",
          "text": [
            "\u001b[32m[I 2022-08-05 01:41:44,830]\u001b[0m Trial 19 finished with value: 1.631944233017824 and parameters: {'reg_alpha': 0.06885878790691123, 'reg_lambda': 0.17829109309771687, 'colsample_bytree': 0.9, 'subsample': 0.4, 'learning_rate': 0.006, 'max_depth': 10, 'num_leaves': 838, 'min_child_samples': 160, 'min_data_per_groups': 66}. Best is trial 10 with value: 1.5850359859165948.\u001b[0m\n"
          ]
        },
        {
          "output_type": "stream",
          "name": "stdout",
          "text": [
            "Training until validation scores don't improve for 500 rounds.\n",
            "[2000]\tvalid_0's rmse: 1.61219\n",
            "Early stopping, best iteration is:\n",
            "[1840]\tvalid_0's rmse: 1.61172\n"
          ]
        },
        {
          "output_type": "stream",
          "name": "stderr",
          "text": [
            "\u001b[32m[I 2022-08-05 01:41:58,201]\u001b[0m Trial 20 finished with value: 1.6117213102012204 and parameters: {'reg_alpha': 0.0010448197734400024, 'reg_lambda': 0.0011580726632759149, 'colsample_bytree': 0.8, 'subsample': 1.0, 'learning_rate': 0.006, 'max_depth': 10, 'num_leaves': 654, 'min_child_samples': 55, 'min_data_per_groups': 49}. Best is trial 10 with value: 1.5850359859165948.\u001b[0m\n"
          ]
        },
        {
          "output_type": "stream",
          "name": "stdout",
          "text": [
            "Training until validation scores don't improve for 500 rounds.\n",
            "[2000]\tvalid_0's rmse: 1.59931\n",
            "Early stopping, best iteration is:\n",
            "[3001]\tvalid_0's rmse: 1.59701\n"
          ]
        },
        {
          "output_type": "stream",
          "name": "stderr",
          "text": [
            "\u001b[32m[I 2022-08-05 01:43:49,568]\u001b[0m Trial 21 finished with value: 1.5970103522428583 and parameters: {'reg_alpha': 3.0574383412902724, 'reg_lambda': 0.24839163529832922, 'colsample_bytree': 0.5, 'subsample': 0.8, 'learning_rate': 0.006, 'max_depth': 100, 'num_leaves': 907, 'min_child_samples': 23, 'min_data_per_groups': 70}. Best is trial 10 with value: 1.5850359859165948.\u001b[0m\n"
          ]
        },
        {
          "output_type": "stream",
          "name": "stdout",
          "text": [
            "Training until validation scores don't improve for 500 rounds.\n",
            "[2000]\tvalid_0's rmse: 1.58579\n",
            "Early stopping, best iteration is:\n",
            "[1562]\tvalid_0's rmse: 1.5853\n"
          ]
        },
        {
          "output_type": "stream",
          "name": "stderr",
          "text": [
            "\u001b[32m[I 2022-08-05 01:45:12,366]\u001b[0m Trial 22 finished with value: 1.5852992716060694 and parameters: {'reg_alpha': 4.217477211807933, 'reg_lambda': 0.7199961473657349, 'colsample_bytree': 0.7, 'subsample': 0.8, 'learning_rate': 0.006, 'max_depth': 100, 'num_leaves': 902, 'min_child_samples': 19, 'min_data_per_groups': 74}. Best is trial 10 with value: 1.5850359859165948.\u001b[0m\n"
          ]
        },
        {
          "output_type": "stream",
          "name": "stdout",
          "text": [
            "Training until validation scores don't improve for 500 rounds.\n",
            "[2000]\tvalid_0's rmse: 1.60379\n",
            "Early stopping, best iteration is:\n",
            "[2319]\tvalid_0's rmse: 1.60205\n"
          ]
        },
        {
          "output_type": "stream",
          "name": "stderr",
          "text": [
            "\u001b[32m[I 2022-08-05 01:45:53,641]\u001b[0m Trial 23 finished with value: 1.602050533541783 and parameters: {'reg_alpha': 9.49912872407884, 'reg_lambda': 0.8232053336970756, 'colsample_bytree': 0.7, 'subsample': 0.8, 'learning_rate': 0.006, 'max_depth': 100, 'num_leaves': 784, 'min_child_samples': 67, 'min_data_per_groups': 76}. Best is trial 10 with value: 1.5850359859165948.\u001b[0m\n"
          ]
        },
        {
          "output_type": "stream",
          "name": "stdout",
          "text": [
            "Training until validation scores don't improve for 500 rounds.\n",
            "[2000]\tvalid_0's rmse: 1.62046\n",
            "Early stopping, best iteration is:\n",
            "[2522]\tvalid_0's rmse: 1.618\n"
          ]
        },
        {
          "output_type": "stream",
          "name": "stderr",
          "text": [
            "\u001b[32m[I 2022-08-05 01:46:36,809]\u001b[0m Trial 24 finished with value: 1.6180010539874563 and parameters: {'reg_alpha': 0.7827889593221087, 'reg_lambda': 2.6159470719978453, 'colsample_bytree': 0.7, 'subsample': 1.0, 'learning_rate': 0.006, 'max_depth': 100, 'num_leaves': 996, 'min_child_samples': 106, 'min_data_per_groups': 88}. Best is trial 10 with value: 1.5850359859165948.\u001b[0m\n"
          ]
        },
        {
          "output_type": "stream",
          "name": "stdout",
          "text": [
            "Training until validation scores don't improve for 500 rounds.\n",
            "Early stopping, best iteration is:\n",
            "[864]\tvalid_0's rmse: 1.59642\n"
          ]
        },
        {
          "output_type": "stream",
          "name": "stderr",
          "text": [
            "\u001b[32m[I 2022-08-05 01:46:47,862]\u001b[0m Trial 25 finished with value: 1.5964163529856292 and parameters: {'reg_alpha': 4.396504732328237, 'reg_lambda': 0.035602350820601474, 'colsample_bytree': 0.7, 'subsample': 0.8, 'learning_rate': 0.017, 'max_depth': 10, 'num_leaves': 904, 'min_child_samples': 27, 'min_data_per_groups': 60}. Best is trial 10 with value: 1.5850359859165948.\u001b[0m\n"
          ]
        },
        {
          "output_type": "stream",
          "name": "stdout",
          "text": [
            "Training until validation scores don't improve for 500 rounds.\n",
            "Early stopping, best iteration is:\n",
            "[314]\tvalid_0's rmse: 1.51713\n"
          ]
        },
        {
          "output_type": "stream",
          "name": "stderr",
          "text": [
            "\u001b[32m[I 2022-08-05 01:47:17,275]\u001b[0m Trial 26 finished with value: 1.517128552165683 and parameters: {'reg_alpha': 1.669363480078105, 'reg_lambda': 3.382835149837302, 'colsample_bytree': 1.0, 'subsample': 1.0, 'learning_rate': 0.014, 'max_depth': 100, 'num_leaves': 425, 'min_child_samples': 1, 'min_data_per_groups': 75}. Best is trial 26 with value: 1.517128552165683.\u001b[0m\n"
          ]
        },
        {
          "output_type": "stream",
          "name": "stdout",
          "text": [
            "Training until validation scores don't improve for 500 rounds.\n",
            "Early stopping, best iteration is:\n",
            "[807]\tvalid_0's rmse: 1.63559\n"
          ]
        },
        {
          "output_type": "stream",
          "name": "stderr",
          "text": [
            "\u001b[32m[I 2022-08-05 01:47:39,028]\u001b[0m Trial 27 finished with value: 1.6355933601902888 and parameters: {'reg_alpha': 1.7275912795140904, 'reg_lambda': 4.169091722875394, 'colsample_bytree': 1.0, 'subsample': 0.4, 'learning_rate': 0.014, 'max_depth': 100, 'num_leaves': 355, 'min_child_samples': 105, 'min_data_per_groups': 100}. Best is trial 26 with value: 1.517128552165683.\u001b[0m\n"
          ]
        },
        {
          "output_type": "stream",
          "name": "stdout",
          "text": [
            "Training until validation scores don't improve for 500 rounds.\n",
            "Early stopping, best iteration is:\n",
            "[793]\tvalid_0's rmse: 1.59369\n"
          ]
        },
        {
          "output_type": "stream",
          "name": "stderr",
          "text": [
            "\u001b[32m[I 2022-08-05 01:48:10,277]\u001b[0m Trial 28 finished with value: 1.5936932218324709 and parameters: {'reg_alpha': 0.33788447828067686, 'reg_lambda': 0.5081587152173775, 'colsample_bytree': 0.7, 'subsample': 0.5, 'learning_rate': 0.014, 'max_depth': 100, 'num_leaves': 456, 'min_child_samples': 32, 'min_data_per_groups': 88}. Best is trial 26 with value: 1.517128552165683.\u001b[0m\n"
          ]
        },
        {
          "output_type": "stream",
          "name": "stdout",
          "text": [
            "Training until validation scores don't improve for 500 rounds.\n",
            "Early stopping, best iteration is:\n",
            "[1009]\tvalid_0's rmse: 1.61895\n"
          ]
        },
        {
          "output_type": "stream",
          "name": "stderr",
          "text": [
            "\u001b[32m[I 2022-08-05 01:48:26,108]\u001b[0m Trial 29 finished with value: 1.61895359723227 and parameters: {'reg_alpha': 0.9584497186499449, 'reg_lambda': 3.3969940912287138, 'colsample_bytree': 0.7, 'subsample': 0.8, 'learning_rate': 0.014, 'max_depth': 100, 'num_leaves': 265, 'min_child_samples': 133, 'min_data_per_groups': 60}. Best is trial 26 with value: 1.517128552165683.\u001b[0m\n"
          ]
        }
      ]
    },
    {
      "cell_type": "code",
      "source": [
        "params=study_catboost.best_params \n",
        "params['metric'] = 'rmse'\n",
        "params['random_state'] = 42\n",
        "params['n_estimators'] = 20000 "
      ],
      "metadata": {
        "id": "RITzKtqA6TpH"
      },
      "id": "RITzKtqA6TpH",
      "execution_count": null,
      "outputs": []
    },
    {
      "cell_type": "code",
      "source": [
        "params"
      ],
      "metadata": {
        "colab": {
          "base_uri": "https://localhost:8080/"
        },
        "id": "rb33OOyJ29oP",
        "outputId": "31455c1c-9bee-4d80-e1cd-d16eefc8018e"
      },
      "id": "rb33OOyJ29oP",
      "execution_count": null,
      "outputs": [
        {
          "output_type": "execute_result",
          "data": {
            "text/plain": [
              "{'colsample_bytree': 1.0,\n",
              " 'learning_rate': 0.014,\n",
              " 'max_depth': 100,\n",
              " 'metric': 'rmse',\n",
              " 'min_child_samples': 1,\n",
              " 'min_data_per_groups': 75,\n",
              " 'n_estimators': 20000,\n",
              " 'num_leaves': 425,\n",
              " 'random_state': 42,\n",
              " 'reg_alpha': 1.669363480078105,\n",
              " 'reg_lambda': 3.382835149837302,\n",
              " 'subsample': 1.0}"
            ]
          },
          "metadata": {},
          "execution_count": 14
        }
      ]
    },
    {
      "cell_type": "code",
      "execution_count": null,
      "id": "25c6f43b",
      "metadata": {
        "colab": {
          "base_uri": "https://localhost:8080/"
        },
        "id": "25c6f43b",
        "outputId": "a6a3b08c-7846-4054-f16f-6919b5ee335c"
      },
      "outputs": [
        {
          "output_type": "stream",
          "name": "stdout",
          "text": [
            "Training until validation scores don't improve for 500 rounds.\n",
            "Early stopping, best iteration is:\n",
            "[314]\ttraining's rmse: 0.589415\tvalid_1's rmse: 1.51713\n",
            "1 Fold NRMSE = 1.5171285521656832\n",
            "Training until validation scores don't improve for 500 rounds.\n",
            "Early stopping, best iteration is:\n",
            "[478]\ttraining's rmse: 0.477166\tvalid_1's rmse: 1.76093\n",
            "2 Fold NRMSE = 1.760934724524731\n",
            "Training until validation scores don't improve for 500 rounds.\n"
          ]
        }
      ],
      "source": [
        "NRMSES = []\n",
        "cb_pred = np.zeros(target.shape[0])\n",
        "for i, idx in enumerate(kf.split(X, y)) :\n",
        "    tr_x, tr_y = X.loc[idx[0]], y.loc[idx[0]]\n",
        "    val_x, val_y = X.loc[idx[1]], y.loc[idx[1]]\n",
        "    \n",
        "    cb = LGBMRegressor(**params)\n",
        "    cb.fit(tr_x, tr_y, eval_set = [(tr_x, tr_y), (val_x, val_y)], early_stopping_rounds = 500, verbose = 2000)\n",
        "    \n",
        "    val_pred = cb.predict(val_x)\n",
        "    NRMSE = mean_squared_error(val_y, val_pred, squared=False)\n",
        "    print(f\"{i + 1} Fold NRMSE = {NRMSE}\")\n",
        "    NRMSES.append(NRMSE)\n",
        "    \n",
        "    fold_pred = cb.predict(target) / kf.n_splits\n",
        "    cb_pred += fold_pred"
      ]
    },
    {
      "cell_type": "code",
      "execution_count": null,
      "id": "8158befe",
      "metadata": {
        "scrolled": true,
        "id": "8158befe"
      },
      "outputs": [],
      "source": [
        "np.mean(NRMSES)"
      ]
    },
    {
      "cell_type": "code",
      "source": [],
      "metadata": {
        "id": "R16upe4oAG08"
      },
      "id": "R16upe4oAG08",
      "execution_count": null,
      "outputs": []
    }
  ],
  "metadata": {
    "kernelspec": {
      "display_name": "Python 3 (ipykernel)",
      "language": "python",
      "name": "python3"
    },
    "language_info": {
      "codemirror_mode": {
        "name": "ipython",
        "version": 3
      },
      "file_extension": ".py",
      "mimetype": "text/x-python",
      "name": "python",
      "nbconvert_exporter": "python",
      "pygments_lexer": "ipython3",
      "version": "3.9.7"
    },
    "colab": {
      "provenance": [],
      "machine_shape": "hm",
      "collapsed_sections": []
    },
    "gpuClass": "standard"
  },
  "nbformat": 4,
  "nbformat_minor": 5
}