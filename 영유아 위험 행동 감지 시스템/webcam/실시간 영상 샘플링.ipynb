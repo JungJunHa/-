{
 "cells": [
  {
   "cell_type": "code",
   "execution_count": 14,
   "metadata": {},
   "outputs": [
    {
     "name": "stdout",
     "output_type": "stream",
     "text": [
      "size: 640.0 x 480.0\n"
     ]
    }
   ],
   "source": [
    "import cv2\n",
    " \n",
    "cap = cv2.VideoCapture(0); \n",
    " \n",
    "width = cap.get(cv2.CAP_PROP_FRAME_WIDTH)\n",
    "height = cap.get(cv2.CAP_PROP_FRAME_HEIGHT)\n",
    "print(\"size: {0} x {1}\".format(width, height))\n",
    " \n",
    "# 영상 저장을 위한 VideoWriter 인스턴스 생성\n",
    "fourcc = cv2.VideoWriter_fourcc(*'XVID')\n",
    "writer = cv2.VideoWriter('test.avi', fourcc, 24, (int(width), int(height)))\n",
    " \n",
    "while cap.isOpened():\n",
    "    success, frame = cap.read()\n",
    "    if success:\n",
    "        writer.write(frame)  # 프레임 저장\n",
    "        cv2.imshow('Video Window', frame)\n",
    " \n",
    "        # q 를 누르면 종료\n",
    "        if cv2.waitKey(1) & 0xFF == ord('q'): \n",
    "            break\n",
    "    else:\n",
    "        break\n",
    " \n",
    "cap.release()\n",
    "writer.release()  # 저장 종료\n",
    "cv2.destroyAllWindows()"
   ]
  },
  {
   "cell_type": "code",
   "execution_count": 23,
   "metadata": {},
   "outputs": [],
   "source": [
    "img_height, img_width = 64, 64\n",
    "seq_len = 16\n",
    "video_path =\"C:\\\\Users\\\\user\\\\test.avi\"\n",
    "\n",
    "vidcap = cv2.VideoCapture(video_path)\n",
    "total_frames = vidcap.get(cv2.CAP_PROP_FRAME_COUNT)\n",
    "\n",
    "frames_step = total_frames // seq_len\n",
    "\n",
    "for j in range(seq_len):\n",
    "    # here, we set the parameter 1 which is the frame number to the frame (i*frames_step)\n",
    "    vidcap.set(1, j * frames_step)\n",
    "    success, image = vidcap.read()\n",
    "        # save your image\n",
    "    cv2.imwrite(\"C:\\\\Users\\\\user\\\\Desktop\\\\webcam\\\\%d.jpg\" % j, image)\n",
    "    if success:\n",
    "        image = cv2.resize(image, (img_height, img_width))\n",
    "    else:\n",
    "        print(\"Defected frame {}\".format(video_path))\n",
    "        break"
   ]
  }
 ],
 "metadata": {
  "kernelspec": {
   "display_name": "Python 3",
   "language": "python",
   "name": "python3"
  },
  "language_info": {
   "codemirror_mode": {
    "name": "ipython",
    "version": 3
   },
   "file_extension": ".py",
   "mimetype": "text/x-python",
   "name": "python",
   "nbconvert_exporter": "python",
   "pygments_lexer": "ipython3",
   "version": "3.8.3"
  }
 },
 "nbformat": 4,
 "nbformat_minor": 4
}
