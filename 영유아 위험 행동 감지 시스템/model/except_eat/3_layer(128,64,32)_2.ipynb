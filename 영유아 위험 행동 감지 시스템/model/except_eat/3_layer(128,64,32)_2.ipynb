{
  "nbformat": 4,
  "nbformat_minor": 0,
  "metadata": {
    "colab": {
      "name": "3-layer-dropout-2.ipynb의 사본2",
      "provenance": [],
      "collapsed_sections": []
    },
    "kernelspec": {
      "name": "python3",
      "display_name": "Python 3"
    },
    "language_info": {
      "name": "python"
    }
  },
  "cells": [
    {
      "cell_type": "code",
      "metadata": {
        "id": "FW50_EVu_8Qh"
      },
      "source": [
        "import keras\n",
        "from keras import applications\n",
        "from keras.preprocessing.image import ImageDataGenerator\n",
        "from keras import optimizers\n",
        "from keras.models import Sequential, Model \n",
        "from keras.layers import *\n",
        "from keras.callbacks import ModelCheckpoint, LearningRateScheduler, TensorBoard, EarlyStopping\n",
        "import os\n",
        "import cv2\n",
        "import numpy as np\n",
        "from sklearn.model_selection import train_test_split\n",
        "# import keras_metrics as km\n",
        "from keras import regularizers, optimizers\n",
        "from keras.callbacks import ModelCheckpoint\n",
        "from sklearn.metrics import precision_score\n",
        "from sklearn.metrics import recall_score\n",
        "from sklearn.metrics import f1_score\n",
        "from sklearn.metrics import cohen_kappa_score\n",
        "from sklearn.metrics import roc_auc_score\n",
        "from sklearn.metrics import multilabel_confusion_matrix\n",
        "from sklearn.metrics import accuracy_score\n",
        "import math"
      ],
      "execution_count": null,
      "outputs": []
    },
    {
      "cell_type": "code",
      "metadata": {
        "id": "KLavRlaT_9Cf"
      },
      "source": [
        "data_dir = \"/content/drive/MyDrive/video_data\"\n",
        "img_height , img_width = 64, 64\n",
        "seq_len = 16"
      ],
      "execution_count": null,
      "outputs": []
    },
    {
      "cell_type": "code",
      "metadata": {
        "colab": {
          "base_uri": "https://localhost:8080/"
        },
        "id": "wbqgzGXp_9GL",
        "outputId": "ce2c061a-8e57-44ec-d9c1-a58c83dad369"
      },
      "source": [
        "from google.colab import drive\n",
        "drive.mount('/content/drive')"
      ],
      "execution_count": null,
      "outputs": [
        {
          "output_type": "stream",
          "text": [
            "Mounted at /content/drive\n"
          ],
          "name": "stdout"
        }
      ]
    },
    {
      "cell_type": "code",
      "metadata": {
        "id": "nYmXq2Om_9Je"
      },
      "source": [
        "classes = [\"fall\", \"fall_down\", \"grab\", \"swallow\", \"walk\",\"sit\",\"climb\"]"
      ],
      "execution_count": null,
      "outputs": []
    },
    {
      "cell_type": "code",
      "metadata": {
        "id": "opzT9QhX_9Md"
      },
      "source": [
        "def frames_extraction(video_path):\n",
        "    frames_list = []\n",
        "     \n",
        "    vidcap = cv2.VideoCapture(video_path)\n",
        "    total_frames = vidcap.get(cv2.CAP_PROP_FRAME_COUNT)\n",
        "\n",
        "    frames_step = total_frames//seq_len\n",
        " \n",
        "    for j in range(seq_len):\n",
        "        #here, we set the parameter 1 which is the frame number to the frame (i*frames_step)\n",
        "        vidcap.set(1,j*frames_step)\n",
        "        success,image = vidcap.read()  \n",
        "        #save your image\n",
        "        if success:\n",
        "          image = cv2.resize(image, (img_height, img_width))\n",
        "          frames_list.append(image)\n",
        "        else:\n",
        "          print(\"Defected frame {}\".format(video_path))\n",
        "          break\n",
        "\n",
        "    return frames_list"
      ],
      "execution_count": null,
      "outputs": []
    },
    {
      "cell_type": "code",
      "metadata": {
        "id": "lHNlh_4g_9Pd"
      },
      "source": [
        "def create_data(input_dir):\n",
        "    X = []\n",
        "    Y = []\n",
        "     \n",
        "    classes_list = os.listdir(input_dir)\n",
        "     \n",
        "    for c in classes_list:\n",
        "        print(c)\n",
        "        files_list = os.listdir(os.path.join(input_dir, c))\n",
        "        for f in files_list:\n",
        "            frames = frames_extraction(os.path.join(os.path.join(input_dir, c), f))\n",
        "            if len(frames) == seq_len:\n",
        "                X.append(frames)\n",
        "             \n",
        "                y = [0]*len(classes)\n",
        "                y[classes.index(c)] = 1\n",
        "                Y.append(y)\n",
        "     \n",
        "    X = np.asarray(X)\n",
        "    Y = np.asarray(Y)\n",
        "    return X, Y"
      ],
      "execution_count": null,
      "outputs": []
    },
    {
      "cell_type": "code",
      "metadata": {
        "colab": {
          "base_uri": "https://localhost:8080/"
        },
        "id": "If4myzoj_9Sj",
        "outputId": "bedb7339-912a-4a2c-d8af-40ca9245ae43"
      },
      "source": [
        "X, Y = create_data(data_dir)\n",
        " \n",
        "X_train, X_test, y_train, y_test = train_test_split(X, Y, test_size=0.20, shuffle=True, random_state=0)"
      ],
      "execution_count": null,
      "outputs": [
        {
          "output_type": "stream",
          "text": [
            "walk\n",
            "fall_down\n",
            "swallow\n",
            "Defected frame /content/drive/MyDrive/video_data/swallow/70.mov\n",
            "Defected frame /content/drive/MyDrive/video_data/swallow/79_crop (online-video-cutter.com).mp4\n",
            "Defected frame /content/drive/MyDrive/video_data/swallow/80 (online-video-cutter.com).mp4\n",
            "Defected frame /content/drive/MyDrive/video_data/swallow/81_crop (online-video-cutter.com).mp4\n",
            "Defected frame /content/drive/MyDrive/video_data/swallow/82_crop (online-video-cutter.com).mp4\n",
            "Defected frame /content/drive/MyDrive/video_data/swallow/83_crop (online-video-cutter.com).mp4\n",
            "Defected frame /content/drive/MyDrive/video_data/swallow/212_1 (online-video-cutter.com).mp4\n",
            "fall\n",
            "grab\n",
            "Defected frame /content/drive/MyDrive/video_data/grab/98_crop (online-video-cutter.com).mp4\n",
            "Defected frame /content/drive/MyDrive/video_data/grab/99 (online-video-cutter.com).mp4\n",
            "Defected frame /content/drive/MyDrive/video_data/grab/102_crop (online-video-cutter.com).mp4\n",
            "Defected frame /content/drive/MyDrive/video_data/grab/103_crop (online-video-cutter.com).mp4\n",
            "Defected frame /content/drive/MyDrive/video_data/grab/106_crop (online-video-cutter.com).mp4\n",
            "Defected frame /content/drive/MyDrive/video_data/grab/109_crop (online-video-cutter.com).mp4\n",
            "Defected frame /content/drive/MyDrive/video_data/grab/110_crop (online-video-cutter.com).mp4\n",
            "Defected frame /content/drive/MyDrive/video_data/grab/112_crop (online-video-cutter.com).mp4\n",
            "Defected frame /content/drive/MyDrive/video_data/grab/113 (online-video-cutter.com).mp4\n",
            "Defected frame /content/drive/MyDrive/video_data/grab/115 (online-video-cutter.com).mp4\n",
            "Defected frame /content/drive/MyDrive/video_data/grab/116 (online-video-cutter.com).mp4\n",
            "Defected frame /content/drive/MyDrive/video_data/grab/156 (online-video-cutter.com).mp4\n",
            "Defected frame /content/drive/MyDrive/video_data/grab/222_crop (online-video-cutter.com).mp4\n",
            "climb\n",
            "sit\n"
          ],
          "name": "stdout"
        }
      ]
    },
    {
      "cell_type": "code",
      "metadata": {
        "id": "jcNIK5Kt_9V8",
        "colab": {
          "base_uri": "https://localhost:8080/"
        },
        "outputId": "755597ba-23cc-4644-cc98-ec9536e5093e"
      },
      "source": [
        "model = Sequential()\n",
        "\n",
        "model.add(ConvLSTM2D(filters = 128, kernel_size = (3, 3),strides = (2,2), return_sequences = True, data_format = \"channels_last\", input_shape = (seq_len, img_height, img_width, 3)))\n",
        "model.add(BatchNormalization())\n",
        "model.add(Dropout(0.5))\n",
        "\n",
        "model.add(ConvLSTM2D(filters = 64, kernel_size = (3, 3),strides = (2,2), return_sequences = True, data_format = \"channels_last\"))\n",
        "model.add(BatchNormalization())\n",
        "model.add(Dropout(0.5))\n",
        "\n",
        "model.add(ConvLSTM2D(filters = 32, kernel_size = (3, 3),strides = (2,2), return_sequences = False, data_format = \"channels_last\"))\n",
        "model.add(BatchNormalization())\n",
        "model.add(Dropout(0.5))\n",
        "\n",
        "model.add(Flatten())\n",
        "model.add(Dense(256, activation=\"relu\"))\n",
        "model.add(Dropout(0.5))\n",
        "model.add(Dense(7, activation = \"softmax\"))\n",
        " \n",
        "model.summary()"
      ],
      "execution_count": null,
      "outputs": [
        {
          "output_type": "stream",
          "text": [
            "Model: \"sequential\"\n",
            "_________________________________________________________________\n",
            "Layer (type)                 Output Shape              Param #   \n",
            "=================================================================\n",
            "conv_lst_m2d (ConvLSTM2D)    (None, 16, 31, 31, 128)   604160    \n",
            "_________________________________________________________________\n",
            "batch_normalization (BatchNo (None, 16, 31, 31, 128)   512       \n",
            "_________________________________________________________________\n",
            "dropout (Dropout)            (None, 16, 31, 31, 128)   0         \n",
            "_________________________________________________________________\n",
            "conv_lst_m2d_1 (ConvLSTM2D)  (None, 16, 15, 15, 64)    442624    \n",
            "_________________________________________________________________\n",
            "batch_normalization_1 (Batch (None, 16, 15, 15, 64)    256       \n",
            "_________________________________________________________________\n",
            "dropout_1 (Dropout)          (None, 16, 15, 15, 64)    0         \n",
            "_________________________________________________________________\n",
            "conv_lst_m2d_2 (ConvLSTM2D)  (None, 7, 7, 32)          110720    \n",
            "_________________________________________________________________\n",
            "batch_normalization_2 (Batch (None, 7, 7, 32)          128       \n",
            "_________________________________________________________________\n",
            "dropout_2 (Dropout)          (None, 7, 7, 32)          0         \n",
            "_________________________________________________________________\n",
            "flatten (Flatten)            (None, 1568)              0         \n",
            "_________________________________________________________________\n",
            "dense (Dense)                (None, 256)               401664    \n",
            "_________________________________________________________________\n",
            "dropout_3 (Dropout)          (None, 256)               0         \n",
            "_________________________________________________________________\n",
            "dense_1 (Dense)              (None, 7)                 1799      \n",
            "=================================================================\n",
            "Total params: 1,561,863\n",
            "Trainable params: 1,561,415\n",
            "Non-trainable params: 448\n",
            "_________________________________________________________________\n"
          ],
          "name": "stdout"
        }
      ]
    },
    {
      "cell_type": "code",
      "metadata": {
        "id": "QUXho8s8_9ZC"
      },
      "source": [
        "def schedular(epoch):\n",
        "  if epoch < 10:\n",
        "    return 0.001\n",
        "  else:\n",
        "    return 0.001 * math.exp(0.1*(10-epoch))"
      ],
      "execution_count": null,
      "outputs": []
    },
    {
      "cell_type": "code",
      "metadata": {
        "id": "-90KNEiL_9cV",
        "colab": {
          "base_uri": "https://localhost:8080/",
          "height": 1000
        },
        "outputId": "7bccb08c-2eb2-4c6a-d61e-e36964f4aaf1"
      },
      "source": [
        "opt = optimizers.Adam(lr=0.0005)\n",
        "model.compile(loss='categorical_crossentropy', optimizer=opt, metrics=[\"accuracy\"])\n",
        " \n",
        "earlystop = EarlyStopping(patience=7)\n",
        "callbacks = tf.keras.callbacks.LearningRateScheduler(schedular)\n",
        " \n",
        "history = model.fit(x = X_train, y = y_train, epochs=40, batch_size = 64, shuffle=True, validation_split=0.2, callbacks=[callbacks])\n",
        "\n",
        "import matplotlib.pyplot as plt\n",
        "plt.plot(history.history['loss'])\n",
        "plt.plot(history.history['val_loss'])\n",
        "plt.plot(history.history['accuracy'])\n",
        "plt.plot(history.history['val_accuracy'])\n",
        "plt.xlabel('epoch')\n",
        "plt.ylabel('loss')\n",
        "plt.legend(['train', 'val','accuracy','val_accuracy'])\n",
        "plt.show()\n"
      ],
      "execution_count": null,
      "outputs": [
        {
          "output_type": "stream",
          "text": [
            "/usr/local/lib/python3.7/dist-packages/tensorflow/python/keras/optimizer_v2/optimizer_v2.py:375: UserWarning: The `lr` argument is deprecated, use `learning_rate` instead.\n",
            "  \"The `lr` argument is deprecated, use `learning_rate` instead.\")\n"
          ],
          "name": "stderr"
        },
        {
          "output_type": "stream",
          "text": [
            "Epoch 1/40\n",
            "16/16 [==============================] - 1724s 105s/step - loss: 3.5603 - accuracy: 0.1602 - val_loss: 2.0570 - val_accuracy: 0.1134\n",
            "Epoch 2/40\n",
            "16/16 [==============================] - 1662s 104s/step - loss: 3.0916 - accuracy: 0.2452 - val_loss: 2.2090 - val_accuracy: 0.1781\n",
            "Epoch 3/40\n",
            "16/16 [==============================] - 1677s 104s/step - loss: 2.5512 - accuracy: 0.3013 - val_loss: 2.5880 - val_accuracy: 0.1700\n",
            "Epoch 4/40\n",
            "16/16 [==============================] - 1690s 106s/step - loss: 2.4585 - accuracy: 0.3234 - val_loss: 2.3202 - val_accuracy: 0.2186\n",
            "Epoch 5/40\n",
            "16/16 [==============================] - 1693s 106s/step - loss: 2.1787 - accuracy: 0.3643 - val_loss: 2.2011 - val_accuracy: 0.1984\n",
            "Epoch 6/40\n",
            "16/16 [==============================] - 1696s 106s/step - loss: 2.1846 - accuracy: 0.3231 - val_loss: 2.5324 - val_accuracy: 0.1579\n",
            "Epoch 7/40\n",
            "16/16 [==============================] - 1758s 109s/step - loss: 2.0522 - accuracy: 0.3333 - val_loss: 2.7367 - val_accuracy: 0.1943\n",
            "Epoch 8/40\n",
            "16/16 [==============================] - 1710s 107s/step - loss: 1.9606 - accuracy: 0.3578 - val_loss: 2.6968 - val_accuracy: 0.1457\n",
            "Epoch 9/40\n",
            "16/16 [==============================] - 1704s 107s/step - loss: 1.8193 - accuracy: 0.3888 - val_loss: 2.5679 - val_accuracy: 0.1538\n",
            "Epoch 10/40\n",
            "16/16 [==============================] - 1710s 107s/step - loss: 1.6804 - accuracy: 0.3942 - val_loss: 2.5378 - val_accuracy: 0.2065\n",
            "Epoch 11/40\n",
            "16/16 [==============================] - 1736s 109s/step - loss: 1.6406 - accuracy: 0.4192 - val_loss: 2.6068 - val_accuracy: 0.2591\n",
            "Epoch 12/40\n",
            "16/16 [==============================] - 1708s 106s/step - loss: 1.5598 - accuracy: 0.4643 - val_loss: 2.4037 - val_accuracy: 0.2510\n",
            "Epoch 13/40\n",
            "16/16 [==============================] - 1716s 107s/step - loss: 1.4619 - accuracy: 0.4909 - val_loss: 2.6647 - val_accuracy: 0.2024\n",
            "Epoch 14/40\n",
            "16/16 [==============================] - 1726s 108s/step - loss: 1.2928 - accuracy: 0.5066 - val_loss: 2.0627 - val_accuracy: 0.2632\n",
            "Epoch 15/40\n",
            "16/16 [==============================] - 1714s 107s/step - loss: 1.2858 - accuracy: 0.5181 - val_loss: 2.2838 - val_accuracy: 0.2753\n",
            "Epoch 16/40\n",
            "16/16 [==============================] - 1712s 107s/step - loss: 1.2275 - accuracy: 0.5342 - val_loss: 2.7184 - val_accuracy: 0.2470\n",
            "Epoch 17/40\n",
            "16/16 [==============================] - 1698s 106s/step - loss: 1.1057 - accuracy: 0.5991 - val_loss: 2.5838 - val_accuracy: 0.2632\n",
            "Epoch 18/40\n",
            "16/16 [==============================] - 1715s 107s/step - loss: 1.1421 - accuracy: 0.5742 - val_loss: 2.3084 - val_accuracy: 0.2551\n",
            "Epoch 19/40\n",
            "16/16 [==============================] - 1715s 107s/step - loss: 1.0681 - accuracy: 0.6118 - val_loss: 2.4094 - val_accuracy: 0.2308\n",
            "Epoch 20/40\n",
            "16/16 [==============================] - 1723s 107s/step - loss: 1.0339 - accuracy: 0.6101 - val_loss: 2.2570 - val_accuracy: 0.2591\n",
            "Epoch 21/40\n",
            "16/16 [==============================] - 1719s 107s/step - loss: 0.9732 - accuracy: 0.6389 - val_loss: 1.8250 - val_accuracy: 0.3401\n",
            "Epoch 22/40\n",
            "16/16 [==============================] - 1757s 110s/step - loss: 0.8988 - accuracy: 0.6388 - val_loss: 1.4082 - val_accuracy: 0.4818\n",
            "Epoch 23/40\n",
            "16/16 [==============================] - 1720s 108s/step - loss: 0.9624 - accuracy: 0.6273 - val_loss: 1.5521 - val_accuracy: 0.4251\n",
            "Epoch 24/40\n",
            "16/16 [==============================] - 1719s 107s/step - loss: 0.9239 - accuracy: 0.6394 - val_loss: 1.4124 - val_accuracy: 0.4575\n",
            "Epoch 25/40\n",
            "16/16 [==============================] - 1720s 108s/step - loss: 0.8621 - accuracy: 0.6806 - val_loss: 1.3876 - val_accuracy: 0.5182\n",
            "Epoch 26/40\n",
            "16/16 [==============================] - 1727s 108s/step - loss: 0.8936 - accuracy: 0.6724 - val_loss: 1.4162 - val_accuracy: 0.4939\n",
            "Epoch 27/40\n",
            "16/16 [==============================] - 1722s 107s/step - loss: 0.7999 - accuracy: 0.6932 - val_loss: 1.2995 - val_accuracy: 0.5304\n",
            "Epoch 28/40\n",
            "16/16 [==============================] - 1716s 107s/step - loss: 0.7849 - accuracy: 0.7157 - val_loss: 1.3027 - val_accuracy: 0.5385\n",
            "Epoch 29/40\n",
            "16/16 [==============================] - 1737s 108s/step - loss: 0.7525 - accuracy: 0.7536 - val_loss: 1.2971 - val_accuracy: 0.5223\n",
            "Epoch 30/40\n",
            "16/16 [==============================] - 1723s 108s/step - loss: 0.7219 - accuracy: 0.7501 - val_loss: 1.2883 - val_accuracy: 0.5304\n",
            "Epoch 31/40\n",
            "16/16 [==============================] - 1726s 108s/step - loss: 0.6889 - accuracy: 0.7487 - val_loss: 1.3249 - val_accuracy: 0.5425\n",
            "Epoch 32/40\n",
            "16/16 [==============================] - 1722s 108s/step - loss: 0.7277 - accuracy: 0.7427 - val_loss: 1.2950 - val_accuracy: 0.5506\n",
            "Epoch 33/40\n",
            "16/16 [==============================] - 1731s 108s/step - loss: 0.7233 - accuracy: 0.7337 - val_loss: 1.3606 - val_accuracy: 0.5466\n",
            "Epoch 34/40\n",
            "16/16 [==============================] - 1732s 108s/step - loss: 0.7050 - accuracy: 0.7487 - val_loss: 1.2794 - val_accuracy: 0.5344\n",
            "Epoch 35/40\n",
            "16/16 [==============================] - 1730s 108s/step - loss: 0.7092 - accuracy: 0.7256 - val_loss: 1.2934 - val_accuracy: 0.5385\n",
            "Epoch 36/40\n",
            "16/16 [==============================] - 1729s 108s/step - loss: 0.6858 - accuracy: 0.7507 - val_loss: 1.2961 - val_accuracy: 0.5587\n",
            "Epoch 37/40\n",
            "16/16 [==============================] - 1734s 109s/step - loss: 0.6850 - accuracy: 0.7449 - val_loss: 1.3333 - val_accuracy: 0.5344\n",
            "Epoch 38/40\n",
            "16/16 [==============================] - 1743s 109s/step - loss: 0.6774 - accuracy: 0.7315 - val_loss: 1.3772 - val_accuracy: 0.5425\n",
            "Epoch 39/40\n",
            "16/16 [==============================] - 1768s 110s/step - loss: 0.6808 - accuracy: 0.7615 - val_loss: 1.3277 - val_accuracy: 0.5385\n",
            "Epoch 40/40\n",
            "16/16 [==============================] - 1734s 109s/step - loss: 0.6352 - accuracy: 0.7811 - val_loss: 1.3274 - val_accuracy: 0.5587\n"
          ],
          "name": "stdout"
        },
        {
          "output_type": "display_data",
          "data": {
            "image/png": "[encoded data removed]",
            "text/plain": [
              "<Figure size 432x288 with 1 Axes>"
            ]
          },
          "metadata": {
            "tags": [],
            "needs_background": "light"
          }
        }
      ]
    },
    {
      "cell_type": "code",
      "metadata": {
        "id": "MQvaOR6l_9f6",
        "colab": {
          "base_uri": "https://localhost:8080/"
        },
        "outputId": "b4eea4e0-a582-4434-dea8-9216379e5812"
      },
      "source": [
        "from sklearn.metrics import classification_report\n",
        "from sklearn.metrics import accuracy_score\n",
        "y_pred = model.predict(X_test) \n",
        "y_pred = np.argmax(y_pred, axis = 1)\n",
        "y_test = np.argmax(y_test, axis = 1)\n",
        " \n",
        "print(classification_report(y_test, y_pred))\n",
        "\n",
        "print('accuracy score : {}'.format(accuracy_score(y_pred, y_test)))\n"
      ],
      "execution_count": null,
      "outputs": [
        {
          "output_type": "stream",
          "text": [
            "              precision    recall  f1-score   support\n",
            "\n",
            "           0       0.57      0.27      0.36        15\n",
            "           1       0.58      0.41      0.48        63\n",
            "           2       0.80      0.73      0.77        56\n",
            "           3       0.64      0.78      0.70        49\n",
            "           4       0.58      0.73      0.64        62\n",
            "           5       0.59      0.52      0.55        31\n",
            "           6       0.46      0.59      0.52        32\n",
            "\n",
            "    accuracy                           0.61       308\n",
            "   macro avg       0.60      0.57      0.58       308\n",
            "weighted avg       0.62      0.61      0.61       308\n",
            "\n",
            "accuracy score : 0.6136363636363636\n"
          ],
          "name": "stdout"
        }
      ]
    },
    {
      "cell_type": "code",
      "metadata": {
        "id": "Pld5XtLH_9jC"
      },
      "source": [
        ""
      ],
      "execution_count": null,
      "outputs": []
    },
    {
      "cell_type": "code",
      "metadata": {
        "id": "ZCfk5lqU_9mr"
      },
      "source": [
        ""
      ],
      "execution_count": null,
      "outputs": []
    },
    {
      "cell_type": "code",
      "metadata": {
        "id": "n76YdAYL_9pz"
      },
      "source": [
        ""
      ],
      "execution_count": null,
      "outputs": []
    },
    {
      "cell_type": "code",
      "metadata": {
        "id": "RC0rMH9k_9tb"
      },
      "source": [
        ""
      ],
      "execution_count": null,
      "outputs": []
    }
  ]
}
