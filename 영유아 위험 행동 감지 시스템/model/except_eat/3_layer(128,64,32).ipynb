{
  "nbformat": 4,
  "nbformat_minor": 0,
  "metadata": {
    "colab": {
      "name": "3-layer-dropout-2.ipynb",
      "provenance": [],
      "collapsed_sections": []
    },
    "kernelspec": {
      "name": "python3",
      "display_name": "Python 3"
    },
    "language_info": {
      "name": "python"
    }
  },
  "cells": [
    {
      "cell_type": "code",
      "metadata": {
        "id": "FW50_EVu_8Qh"
      },
      "source": [
        "import keras\n",
        "from keras import applications\n",
        "from keras.preprocessing.image import ImageDataGenerator\n",
        "from keras import optimizers\n",
        "from keras.models import Sequential, Model \n",
        "from keras.layers import *\n",
        "from keras.callbacks import ModelCheckpoint, LearningRateScheduler, TensorBoard, EarlyStopping\n",
        "import os\n",
        "import cv2\n",
        "import numpy as np\n",
        "from sklearn.model_selection import train_test_split\n",
        "# import keras_metrics as km\n",
        "from keras import regularizers, optimizers\n",
        "from keras.callbacks import ModelCheckpoint\n",
        "from sklearn.metrics import precision_score\n",
        "from sklearn.metrics import recall_score\n",
        "from sklearn.metrics import f1_score\n",
        "from sklearn.metrics import cohen_kappa_score\n",
        "from sklearn.metrics import roc_auc_score\n",
        "from sklearn.metrics import multilabel_confusion_matrix\n",
        "from sklearn.metrics import accuracy_score\n",
        "import math"
      ],
      "execution_count": 1,
      "outputs": []
    },
    {
      "cell_type": "code",
      "metadata": {
        "id": "KLavRlaT_9Cf"
      },
      "source": [
        "data_dir = \"/content/drive/MyDrive/video_data\"\n",
        "img_height , img_width = 64, 64\n",
        "seq_len = 16"
      ],
      "execution_count": 2,
      "outputs": []
    },
    {
      "cell_type": "code",
      "metadata": {
        "colab": {
          "base_uri": "https://localhost:8080/"
        },
        "id": "wbqgzGXp_9GL",
        "outputId": "093b3ead-64eb-42d9-f9c4-a9c35e697c0a"
      },
      "source": [
        "from google.colab import drive\n",
        "drive.mount('/content/drive')"
      ],
      "execution_count": 3,
      "outputs": [
        {
          "output_type": "stream",
          "text": [
            "Mounted at /content/drive\n"
          ],
          "name": "stdout"
        }
      ]
    },
    {
      "cell_type": "code",
      "metadata": {
        "id": "nYmXq2Om_9Je"
      },
      "source": [
        "classes = [\"fall\", \"fall_down\", \"grab\", \"swallow\", \"walk\",\"sit\",\"climb\"]"
      ],
      "execution_count": 4,
      "outputs": []
    },
    {
      "cell_type": "code",
      "metadata": {
        "id": "opzT9QhX_9Md"
      },
      "source": [
        "def frames_extraction(video_path):\n",
        "    frames_list = []\n",
        "     \n",
        "    vidcap = cv2.VideoCapture(video_path)\n",
        "    total_frames = vidcap.get(cv2.CAP_PROP_FRAME_COUNT)\n",
        "\n",
        "    frames_step = total_frames//seq_len\n",
        " \n",
        "    for j in range(seq_len):\n",
        "        #here, we set the parameter 1 which is the frame number to the frame (i*frames_step)\n",
        "        vidcap.set(1,j*frames_step)\n",
        "        success,image = vidcap.read()  \n",
        "        #save your image\n",
        "        if success:\n",
        "          image = cv2.resize(image, (img_height, img_width))\n",
        "          frames_list.append(image)\n",
        "        else:\n",
        "          print(\"Defected frame {}\".format(video_path))\n",
        "          break\n",
        "\n",
        "    return frames_list"
      ],
      "execution_count": 5,
      "outputs": []
    },
    {
      "cell_type": "code",
      "metadata": {
        "id": "lHNlh_4g_9Pd"
      },
      "source": [
        "def create_data(input_dir):\n",
        "    X = []\n",
        "    Y = []\n",
        "     \n",
        "    classes_list = os.listdir(input_dir)\n",
        "     \n",
        "    for c in classes_list:\n",
        "        print(c)\n",
        "        files_list = os.listdir(os.path.join(input_dir, c))\n",
        "        for f in files_list:\n",
        "            frames = frames_extraction(os.path.join(os.path.join(input_dir, c), f))\n",
        "            if len(frames) == seq_len:\n",
        "                X.append(frames)\n",
        "             \n",
        "                y = [0]*len(classes)\n",
        "                y[classes.index(c)] = 1\n",
        "                Y.append(y)\n",
        "     \n",
        "    X = np.asarray(X)\n",
        "    Y = np.asarray(Y)\n",
        "    return X, Y"
      ],
      "execution_count": 6,
      "outputs": []
    },
    {
      "cell_type": "code",
      "metadata": {
        "colab": {
          "base_uri": "https://localhost:8080/"
        },
        "id": "If4myzoj_9Sj",
        "outputId": "0ed3accb-e04c-47c4-bb92-3fedd6d00ec4"
      },
      "source": [
        "X, Y = create_data(data_dir)\n",
        " \n",
        "X_train, X_test, y_train, y_test = train_test_split(X, Y, test_size=0.20, shuffle=True, random_state=0)"
      ],
      "execution_count": 7,
      "outputs": [
        {
          "output_type": "stream",
          "text": [
            "walk\n",
            "fall_down\n",
            "swallow\n",
            "Defected frame /content/drive/MyDrive/video_data/swallow/70.mov\n",
            "Defected frame /content/drive/MyDrive/video_data/swallow/79_crop (online-video-cutter.com).mp4\n",
            "Defected frame /content/drive/MyDrive/video_data/swallow/80 (online-video-cutter.com).mp4\n",
            "Defected frame /content/drive/MyDrive/video_data/swallow/81_crop (online-video-cutter.com).mp4\n",
            "Defected frame /content/drive/MyDrive/video_data/swallow/82_crop (online-video-cutter.com).mp4\n",
            "Defected frame /content/drive/MyDrive/video_data/swallow/83_crop (online-video-cutter.com).mp4\n",
            "Defected frame /content/drive/MyDrive/video_data/swallow/212_1 (online-video-cutter.com).mp4\n",
            "fall\n",
            "grab\n",
            "Defected frame /content/drive/MyDrive/video_data/grab/98_crop (online-video-cutter.com).mp4\n",
            "Defected frame /content/drive/MyDrive/video_data/grab/99 (online-video-cutter.com).mp4\n",
            "Defected frame /content/drive/MyDrive/video_data/grab/102_crop (online-video-cutter.com).mp4\n",
            "Defected frame /content/drive/MyDrive/video_data/grab/103_crop (online-video-cutter.com).mp4\n",
            "Defected frame /content/drive/MyDrive/video_data/grab/106_crop (online-video-cutter.com).mp4\n",
            "Defected frame /content/drive/MyDrive/video_data/grab/109_crop (online-video-cutter.com).mp4\n",
            "Defected frame /content/drive/MyDrive/video_data/grab/110_crop (online-video-cutter.com).mp4\n",
            "Defected frame /content/drive/MyDrive/video_data/grab/112_crop (online-video-cutter.com).mp4\n",
            "Defected frame /content/drive/MyDrive/video_data/grab/113 (online-video-cutter.com).mp4\n",
            "Defected frame /content/drive/MyDrive/video_data/grab/115 (online-video-cutter.com).mp4\n",
            "Defected frame /content/drive/MyDrive/video_data/grab/116 (online-video-cutter.com).mp4\n",
            "Defected frame /content/drive/MyDrive/video_data/grab/156 (online-video-cutter.com).mp4\n",
            "Defected frame /content/drive/MyDrive/video_data/grab/222_crop (online-video-cutter.com).mp4\n",
            "climb\n",
            "sit\n"
          ],
          "name": "stdout"
        }
      ]
    },
    {
      "cell_type": "code",
      "metadata": {
        "id": "jcNIK5Kt_9V8",
        "colab": {
          "base_uri": "https://localhost:8080/"
        },
        "outputId": "06c71fcd-1983-4310-c6b4-95aa13e851a3"
      },
      "source": [
        "model = Sequential()\n",
        "\n",
        "model.add(ConvLSTM2D(filters = 128, kernel_size = (3, 3),strides = (2,2), return_sequences = True, data_format = \"channels_last\", input_shape = (seq_len, img_height, img_width, 3)))\n",
        "model.add(BatchNormalization())\n",
        "model.add(Dropout(0.5))\n",
        "\n",
        "model.add(ConvLSTM2D(filters = 64, kernel_size = (3, 3),strides = (2,2), return_sequences = True, data_format = \"channels_last\"))\n",
        "model.add(BatchNormalization())\n",
        "model.add(Dropout(0.5))\n",
        "\n",
        "model.add(ConvLSTM2D(filters = 32, kernel_size = (3, 3),strides = (2,2), return_sequences = False, data_format = \"channels_last\"))\n",
        "model.add(BatchNormalization())\n",
        "model.add(Dropout(0.5))\n",
        "\n",
        "model.add(Flatten())\n",
        "model.add(Dense(256, activation=\"relu\"))\n",
        "model.add(Dropout(0.2))\n",
        "model.add(Dense(7, activation = \"softmax\"))\n",
        " \n",
        "model.summary()"
      ],
      "execution_count": 8,
      "outputs": [
        {
          "output_type": "stream",
          "text": [
            "Model: \"sequential\"\n",
            "_________________________________________________________________\n",
            "Layer (type)                 Output Shape              Param #   \n",
            "=================================================================\n",
            "conv_lst_m2d (ConvLSTM2D)    (None, 16, 31, 31, 128)   604160    \n",
            "_________________________________________________________________\n",
            "batch_normalization (BatchNo (None, 16, 31, 31, 128)   512       \n",
            "_________________________________________________________________\n",
            "dropout (Dropout)            (None, 16, 31, 31, 128)   0         \n",
            "_________________________________________________________________\n",
            "conv_lst_m2d_1 (ConvLSTM2D)  (None, 16, 15, 15, 64)    442624    \n",
            "_________________________________________________________________\n",
            "batch_normalization_1 (Batch (None, 16, 15, 15, 64)    256       \n",
            "_________________________________________________________________\n",
            "dropout_1 (Dropout)          (None, 16, 15, 15, 64)    0         \n",
            "_________________________________________________________________\n",
            "conv_lst_m2d_2 (ConvLSTM2D)  (None, 7, 7, 32)          110720    \n",
            "_________________________________________________________________\n",
            "batch_normalization_2 (Batch (None, 7, 7, 32)          128       \n",
            "_________________________________________________________________\n",
            "dropout_2 (Dropout)          (None, 7, 7, 32)          0         \n",
            "_________________________________________________________________\n",
            "flatten (Flatten)            (None, 1568)              0         \n",
            "_________________________________________________________________\n",
            "dense (Dense)                (None, 256)               401664    \n",
            "_________________________________________________________________\n",
            "dropout_3 (Dropout)          (None, 256)               0         \n",
            "_________________________________________________________________\n",
            "dense_1 (Dense)              (None, 7)                 1799      \n",
            "=================================================================\n",
            "Total params: 1,561,863\n",
            "Trainable params: 1,561,415\n",
            "Non-trainable params: 448\n",
            "_________________________________________________________________\n"
          ],
          "name": "stdout"
        }
      ]
    },
    {
      "cell_type": "code",
      "metadata": {
        "id": "QUXho8s8_9ZC"
      },
      "source": [
        "def schedular(epoch):\n",
        "  if epoch < 10:\n",
        "    return 0.001\n",
        "  else:\n",
        "    return 0.001 * math.exp(0.1*(10-epoch))"
      ],
      "execution_count": 9,
      "outputs": []
    },
    {
      "cell_type": "code",
      "metadata": {
        "id": "-90KNEiL_9cV",
        "colab": {
          "base_uri": "https://localhost:8080/",
          "height": 1000
        },
        "outputId": "8825e7a8-ce38-4284-d727-22f6d02470a3"
      },
      "source": [
        "opt = optimizers.Adam(lr=0.0005)\n",
        "model.compile(loss='categorical_crossentropy', optimizer=opt, metrics=[\"accuracy\"])\n",
        " \n",
        "earlystop = EarlyStopping(patience=7)\n",
        "callbacks = tf.keras.callbacks.LearningRateScheduler(schedular)\n",
        " \n",
        "history = model.fit(x = X_train, y = y_train, epochs=40, batch_size = 64, shuffle=True, validation_split=0.2, callbacks=[callbacks])\n",
        "\n",
        "import matplotlib.pyplot as plt\n",
        "plt.plot(history.history['loss'])\n",
        "plt.plot(history.history['val_loss'])\n",
        "plt.plot(history.history['accuracy'])\n",
        "plt.plot(history.history['val_accuracy'])\n",
        "plt.xlabel('epoch')\n",
        "plt.ylabel('loss')\n",
        "plt.legend(['train', 'val','accuracy','val_accuracy'])\n",
        "plt.show()\n"
      ],
      "execution_count": 10,
      "outputs": [
        {
          "output_type": "stream",
          "text": [
            "/usr/local/lib/python3.7/dist-packages/tensorflow/python/keras/optimizer_v2/optimizer_v2.py:375: UserWarning: The `lr` argument is deprecated, use `learning_rate` instead.\n",
            "  \"The `lr` argument is deprecated, use `learning_rate` instead.\")\n"
          ],
          "name": "stderr"
        },
        {
          "output_type": "stream",
          "text": [
            "Epoch 1/40\n",
            "16/16 [==============================] - 1208s 74s/step - loss: 3.0794 - accuracy: 0.1633 - val_loss: 1.9931 - val_accuracy: 0.1457\n",
            "Epoch 2/40\n",
            "16/16 [==============================] - 1166s 73s/step - loss: 2.4154 - accuracy: 0.2689 - val_loss: 2.3431 - val_accuracy: 0.1377\n",
            "Epoch 3/40\n",
            "16/16 [==============================] - 1175s 74s/step - loss: 2.1875 - accuracy: 0.3369 - val_loss: 2.2048 - val_accuracy: 0.1903\n",
            "Epoch 4/40\n",
            "16/16 [==============================] - 1177s 74s/step - loss: 1.7889 - accuracy: 0.3896 - val_loss: 2.2098 - val_accuracy: 0.2146\n",
            "Epoch 5/40\n",
            "16/16 [==============================] - 1184s 74s/step - loss: 1.6198 - accuracy: 0.4381 - val_loss: 2.2536 - val_accuracy: 0.2551\n",
            "Epoch 6/40\n",
            "16/16 [==============================] - 1213s 76s/step - loss: 1.5469 - accuracy: 0.4867 - val_loss: 2.2053 - val_accuracy: 0.2389\n",
            "Epoch 7/40\n",
            "16/16 [==============================] - 1218s 76s/step - loss: 1.6308 - accuracy: 0.4879 - val_loss: 2.2249 - val_accuracy: 0.1660\n",
            "Epoch 8/40\n",
            "16/16 [==============================] - 1207s 76s/step - loss: 1.3062 - accuracy: 0.5156 - val_loss: 2.1937 - val_accuracy: 0.1822\n",
            "Epoch 9/40\n",
            "16/16 [==============================] - 1196s 75s/step - loss: 1.1892 - accuracy: 0.5660 - val_loss: 2.0993 - val_accuracy: 0.2105\n",
            "Epoch 10/40\n",
            "16/16 [==============================] - 1207s 75s/step - loss: 1.1374 - accuracy: 0.5829 - val_loss: 2.3333 - val_accuracy: 0.1660\n",
            "Epoch 11/40\n",
            "16/16 [==============================] - 1208s 75s/step - loss: 1.0798 - accuracy: 0.6435 - val_loss: 1.9898 - val_accuracy: 0.2551\n",
            "Epoch 12/40\n",
            "16/16 [==============================] - 1204s 75s/step - loss: 0.8972 - accuracy: 0.6573 - val_loss: 1.8674 - val_accuracy: 0.2672\n",
            "Epoch 13/40\n",
            "16/16 [==============================] - 1217s 76s/step - loss: 0.8592 - accuracy: 0.6743 - val_loss: 2.3856 - val_accuracy: 0.2308\n",
            "Epoch 14/40\n",
            "16/16 [==============================] - 1209s 75s/step - loss: 0.8711 - accuracy: 0.6883 - val_loss: 2.1397 - val_accuracy: 0.3117\n",
            "Epoch 15/40\n",
            "16/16 [==============================] - 1209s 75s/step - loss: 0.7796 - accuracy: 0.7142 - val_loss: 2.1499 - val_accuracy: 0.2794\n",
            "Epoch 16/40\n",
            "16/16 [==============================] - 1208s 76s/step - loss: 0.6706 - accuracy: 0.7508 - val_loss: 1.9681 - val_accuracy: 0.3522\n",
            "Epoch 17/40\n",
            "16/16 [==============================] - 1213s 76s/step - loss: 0.6242 - accuracy: 0.7712 - val_loss: 1.9136 - val_accuracy: 0.4453\n",
            "Epoch 18/40\n",
            "16/16 [==============================] - 1216s 76s/step - loss: 0.5962 - accuracy: 0.7820 - val_loss: 1.9815 - val_accuracy: 0.3644\n",
            "Epoch 19/40\n",
            "16/16 [==============================] - 1218s 76s/step - loss: 0.5654 - accuracy: 0.8000 - val_loss: 1.6604 - val_accuracy: 0.4615\n",
            "Epoch 20/40\n",
            "16/16 [==============================] - 1235s 78s/step - loss: 0.4907 - accuracy: 0.8223 - val_loss: 2.0203 - val_accuracy: 0.4332\n",
            "Epoch 21/40\n",
            "16/16 [==============================] - 1233s 77s/step - loss: 0.4912 - accuracy: 0.8182 - val_loss: 1.8166 - val_accuracy: 0.4696\n",
            "Epoch 22/40\n",
            "16/16 [==============================] - 1221s 77s/step - loss: 0.4553 - accuracy: 0.8294 - val_loss: 1.6179 - val_accuracy: 0.5020\n",
            "Epoch 23/40\n",
            "16/16 [==============================] - 1221s 77s/step - loss: 0.4492 - accuracy: 0.8428 - val_loss: 1.5463 - val_accuracy: 0.5142\n",
            "Epoch 24/40\n",
            "16/16 [==============================] - 1213s 76s/step - loss: 0.4181 - accuracy: 0.8443 - val_loss: 1.5273 - val_accuracy: 0.5020\n",
            "Epoch 25/40\n",
            "16/16 [==============================] - 1217s 76s/step - loss: 0.4074 - accuracy: 0.8580 - val_loss: 1.5222 - val_accuracy: 0.5142\n",
            "Epoch 26/40\n",
            "16/16 [==============================] - 1216s 76s/step - loss: 0.3562 - accuracy: 0.8778 - val_loss: 1.5087 - val_accuracy: 0.5182\n",
            "Epoch 27/40\n",
            "16/16 [==============================] - 1212s 76s/step - loss: 0.3744 - accuracy: 0.8666 - val_loss: 1.5283 - val_accuracy: 0.5101\n",
            "Epoch 28/40\n",
            "16/16 [==============================] - 1210s 76s/step - loss: 0.3290 - accuracy: 0.8826 - val_loss: 1.5074 - val_accuracy: 0.5061\n",
            "Epoch 29/40\n",
            "16/16 [==============================] - 1208s 76s/step - loss: 0.2883 - accuracy: 0.9010 - val_loss: 1.5000 - val_accuracy: 0.5101\n",
            "Epoch 30/40\n",
            "16/16 [==============================] - 1210s 76s/step - loss: 0.2994 - accuracy: 0.9053 - val_loss: 1.4820 - val_accuracy: 0.5385\n",
            "Epoch 31/40\n",
            "16/16 [==============================] - 1212s 76s/step - loss: 0.3044 - accuracy: 0.9066 - val_loss: 1.5198 - val_accuracy: 0.5344\n",
            "Epoch 32/40\n",
            "16/16 [==============================] - 1221s 77s/step - loss: 0.2924 - accuracy: 0.8967 - val_loss: 1.5406 - val_accuracy: 0.5263\n",
            "Epoch 33/40\n",
            "16/16 [==============================] - 1228s 77s/step - loss: 0.2895 - accuracy: 0.9077 - val_loss: 1.5127 - val_accuracy: 0.5506\n",
            "Epoch 34/40\n",
            "16/16 [==============================] - 1221s 77s/step - loss: 0.2947 - accuracy: 0.8949 - val_loss: 1.5029 - val_accuracy: 0.5466\n",
            "Epoch 35/40\n",
            "16/16 [==============================] - 1218s 76s/step - loss: 0.2829 - accuracy: 0.8967 - val_loss: 1.4766 - val_accuracy: 0.5425\n",
            "Epoch 36/40\n",
            "16/16 [==============================] - 1233s 77s/step - loss: 0.2776 - accuracy: 0.8975 - val_loss: 1.4526 - val_accuracy: 0.5385\n",
            "Epoch 37/40\n",
            "16/16 [==============================] - 1213s 76s/step - loss: 0.2743 - accuracy: 0.8983 - val_loss: 1.4540 - val_accuracy: 0.5587\n",
            "Epoch 38/40\n",
            "16/16 [==============================] - 1234s 77s/step - loss: 0.2384 - accuracy: 0.9284 - val_loss: 1.4707 - val_accuracy: 0.5547\n",
            "Epoch 39/40\n",
            "16/16 [==============================] - 1225s 77s/step - loss: 0.2426 - accuracy: 0.9136 - val_loss: 1.4492 - val_accuracy: 0.5547\n",
            "Epoch 40/40\n",
            "16/16 [==============================] - 1219s 76s/step - loss: 0.2669 - accuracy: 0.9148 - val_loss: 1.4591 - val_accuracy: 0.5547\n"
          ],
          "name": "stdout"
        },
        {
          "output_type": "display_data",
          "data": {
            "image/png": "[encoded data removed]",
            "text/plain": [
              "<Figure size 432x288 with 1 Axes>"
            ]
          },
          "metadata": {
            "tags": [],
            "needs_background": "light"
          }
        }
      ]
    },
    {
      "cell_type": "code",
      "metadata": {
        "id": "MQvaOR6l_9f6",
        "colab": {
          "base_uri": "https://localhost:8080/"
        },
        "outputId": "77031104-f839-4dac-8a9d-afa3802c304e"
      },
      "source": [
        "from sklearn.metrics import classification_report\n",
        "from sklearn.metrics import accuracy_score\n",
        "y_pred = model.predict(X_test) \n",
        "y_pred = np.argmax(y_pred, axis = 1)\n",
        "y_test = np.argmax(y_test, axis = 1)\n",
        " \n",
        "print(classification_report(y_test, y_pred))\n",
        "\n",
        "print('accuracy score : {}'.format(accuracy_score(y_pred, y_test)))\n"
      ],
      "execution_count": 11,
      "outputs": [
        {
          "output_type": "stream",
          "text": [
            "              precision    recall  f1-score   support\n",
            "\n",
            "           0       0.33      0.27      0.30        15\n",
            "           1       0.65      0.38      0.48        63\n",
            "           2       0.80      0.73      0.77        56\n",
            "           3       0.62      0.78      0.69        49\n",
            "           4       0.58      0.66      0.62        62\n",
            "           5       0.70      0.74      0.72        31\n",
            "           6       0.44      0.59      0.51        32\n",
            "\n",
            "    accuracy                           0.62       308\n",
            "   macro avg       0.59      0.59      0.58       308\n",
            "weighted avg       0.63      0.62      0.61       308\n",
            "\n",
            "accuracy score : 0.6168831168831169\n"
          ],
          "name": "stdout"
        }
      ]
    },
    {
      "cell_type": "code",
      "metadata": {
        "id": "Pld5XtLH_9jC"
      },
      "source": [
        ""
      ],
      "execution_count": null,
      "outputs": []
    },
    {
      "cell_type": "code",
      "metadata": {
        "id": "ZCfk5lqU_9mr"
      },
      "source": [
        ""
      ],
      "execution_count": null,
      "outputs": []
    },
    {
      "cell_type": "code",
      "metadata": {
        "id": "n76YdAYL_9pz"
      },
      "source": [
        ""
      ],
      "execution_count": null,
      "outputs": []
    },
    {
      "cell_type": "code",
      "metadata": {
        "id": "RC0rMH9k_9tb"
      },
      "source": [
        ""
      ],
      "execution_count": null,
      "outputs": []
    }
  ]
}
