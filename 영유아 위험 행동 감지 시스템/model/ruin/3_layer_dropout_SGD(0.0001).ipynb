{
  "nbformat": 4,
  "nbformat_minor": 0,
  "metadata": {
    "colab": {
      "name": "3-layer-dropout-SGD.ipynb",
      "provenance": [],
      "collapsed_sections": []
    },
    "kernelspec": {
      "name": "python3",
      "display_name": "Python 3"
    },
    "language_info": {
      "name": "python"
    }
  },
  "cells": [
    {
      "cell_type": "code",
      "metadata": {
        "id": "FW50_EVu_8Qh"
      },
      "source": [
        "import keras\n",
        "from keras import applications\n",
        "from keras.preprocessing.image import ImageDataGenerator\n",
        "from keras import optimizers\n",
        "from keras.models import Sequential, Model \n",
        "from keras.layers import *\n",
        "from keras.callbacks import ModelCheckpoint, LearningRateScheduler, TensorBoard, EarlyStopping\n",
        "import os\n",
        "import cv2\n",
        "import numpy as np\n",
        "from sklearn.model_selection import train_test_split\n",
        "# import keras_metrics as km\n",
        "from keras import regularizers, optimizers\n",
        "from keras.callbacks import ModelCheckpoint\n",
        "from sklearn.metrics import precision_score\n",
        "from sklearn.metrics import recall_score\n",
        "from sklearn.metrics import f1_score\n",
        "from sklearn.metrics import cohen_kappa_score\n",
        "from sklearn.metrics import roc_auc_score\n",
        "from sklearn.metrics import multilabel_confusion_matrix\n",
        "from sklearn.metrics import accuracy_score\n",
        "import math"
      ],
      "execution_count": 1,
      "outputs": []
    },
    {
      "cell_type": "code",
      "metadata": {
        "id": "KLavRlaT_9Cf"
      },
      "source": [
        "data_dir = \"/content/drive/MyDrive/video_data\"\n",
        "img_height , img_width = 64, 64\n",
        "seq_len = 16"
      ],
      "execution_count": 2,
      "outputs": []
    },
    {
      "cell_type": "code",
      "metadata": {
        "colab": {
          "base_uri": "https://localhost:8080/"
        },
        "id": "wbqgzGXp_9GL",
        "outputId": "b2cdffc0-6b99-4955-c182-d19b0c01301e"
      },
      "source": [
        "from google.colab import drive\n",
        "drive.mount('/content/drive')"
      ],
      "execution_count": 7,
      "outputs": [
        {
          "output_type": "stream",
          "text": [
            "Mounted at /content/drive\n"
          ],
          "name": "stdout"
        }
      ]
    },
    {
      "cell_type": "code",
      "metadata": {
        "id": "nYmXq2Om_9Je"
      },
      "source": [
        "classes = [\"fall\", \"fall_down\", \"grab\", \"swallow\", \"walk\",\"sit\"]"
      ],
      "execution_count": 8,
      "outputs": []
    },
    {
      "cell_type": "code",
      "metadata": {
        "id": "opzT9QhX_9Md"
      },
      "source": [
        "def frames_extraction(video_path):\n",
        "    frames_list = []\n",
        "     \n",
        "    vidcap = cv2.VideoCapture(video_path)\n",
        "    total_frames = vidcap.get(cv2.CAP_PROP_FRAME_COUNT)\n",
        "\n",
        "    frames_step = total_frames//seq_len\n",
        " \n",
        "    for j in range(seq_len):\n",
        "        #here, we set the parameter 1 which is the frame number to the frame (i*frames_step)\n",
        "        vidcap.set(1,j*frames_step)\n",
        "        success,image = vidcap.read()  \n",
        "        #save your image\n",
        "        if success:\n",
        "          image = cv2.resize(image, (img_height, img_width))\n",
        "          frames_list.append(image)\n",
        "        else:\n",
        "          print(\"Defected frame {}\".format(video_path))\n",
        "          break\n",
        "\n",
        "    return frames_list"
      ],
      "execution_count": 9,
      "outputs": []
    },
    {
      "cell_type": "code",
      "metadata": {
        "id": "lHNlh_4g_9Pd"
      },
      "source": [
        "def create_data(input_dir):\n",
        "    X = []\n",
        "    Y = []\n",
        "     \n",
        "    classes_list = os.listdir(input_dir)\n",
        "     \n",
        "    for c in classes_list:\n",
        "        print(c)\n",
        "        files_list = os.listdir(os.path.join(input_dir, c))\n",
        "        for f in files_list:\n",
        "            frames = frames_extraction(os.path.join(os.path.join(input_dir, c), f))\n",
        "            if len(frames) == seq_len:\n",
        "                X.append(frames)\n",
        "             \n",
        "                y = [0]*len(classes)\n",
        "                y[classes.index(c)] = 1\n",
        "                Y.append(y)\n",
        "     \n",
        "    X = np.asarray(X)\n",
        "    Y = np.asarray(Y)\n",
        "    return X, Y"
      ],
      "execution_count": 10,
      "outputs": []
    },
    {
      "cell_type": "code",
      "metadata": {
        "colab": {
          "base_uri": "https://localhost:8080/"
        },
        "id": "If4myzoj_9Sj",
        "outputId": "9bc73852-0ccf-4192-dc6a-bf3065502944"
      },
      "source": [
        "X, Y = create_data(data_dir)\n",
        " \n",
        "X_train, X_test, y_train, y_test = train_test_split(X, Y, test_size=0.20, shuffle=True, random_state=0)"
      ],
      "execution_count": 11,
      "outputs": [
        {
          "output_type": "stream",
          "text": [
            "walk\n",
            "fall_down\n",
            "swallow\n",
            "Defected frame /content/drive/MyDrive/video_data/swallow/70.mov\n",
            "fall\n",
            "grab\n",
            "sit\n"
          ],
          "name": "stdout"
        }
      ]
    },
    {
      "cell_type": "code",
      "metadata": {
        "id": "jcNIK5Kt_9V8",
        "colab": {
          "base_uri": "https://localhost:8080/"
        },
        "outputId": "0d97c011-f354-4d16-a6c6-2463090373c9"
      },
      "source": [
        "model = Sequential()\n",
        "\n",
        "model.add(ConvLSTM2D(filters = 128, kernel_size = (3, 3),strides = (2,2), return_sequences = True, data_format = \"channels_last\", input_shape = (seq_len, img_height, img_width, 3)))\n",
        "model.add(BatchNormalization())\n",
        "model.add(Dropout(0.5))\n",
        "\n",
        "model.add(ConvLSTM2D(filters = 64, kernel_size = (3, 3),strides = (2,2), return_sequences = True, data_format = \"channels_last\"))\n",
        "model.add(BatchNormalization())\n",
        "model.add(Dropout(0.5))\n",
        "\n",
        "model.add(ConvLSTM2D(filters = 32, kernel_size = (3, 3),strides = (2,2), return_sequences = False, data_format = \"channels_last\"))\n",
        "model.add(BatchNormalization())\n",
        "model.add(Dropout(0.5))\n",
        "\n",
        "model.add(Flatten())\n",
        "model.add(Dense(256, activation=\"relu\"))\n",
        "model.add(Dropout(0.2))\n",
        "model.add(Dense(6, activation = \"softmax\"))\n",
        " \n",
        "model.summary()"
      ],
      "execution_count": 12,
      "outputs": [
        {
          "output_type": "stream",
          "text": [
            "Model: \"sequential\"\n",
            "_________________________________________________________________\n",
            "Layer (type)                 Output Shape              Param #   \n",
            "=================================================================\n",
            "conv_lst_m2d (ConvLSTM2D)    (None, 16, 31, 31, 128)   604160    \n",
            "_________________________________________________________________\n",
            "batch_normalization (BatchNo (None, 16, 31, 31, 128)   512       \n",
            "_________________________________________________________________\n",
            "dropout (Dropout)            (None, 16, 31, 31, 128)   0         \n",
            "_________________________________________________________________\n",
            "conv_lst_m2d_1 (ConvLSTM2D)  (None, 16, 15, 15, 64)    442624    \n",
            "_________________________________________________________________\n",
            "batch_normalization_1 (Batch (None, 16, 15, 15, 64)    256       \n",
            "_________________________________________________________________\n",
            "dropout_1 (Dropout)          (None, 16, 15, 15, 64)    0         \n",
            "_________________________________________________________________\n",
            "conv_lst_m2d_2 (ConvLSTM2D)  (None, 7, 7, 32)          110720    \n",
            "_________________________________________________________________\n",
            "batch_normalization_2 (Batch (None, 7, 7, 32)          128       \n",
            "_________________________________________________________________\n",
            "dropout_2 (Dropout)          (None, 7, 7, 32)          0         \n",
            "_________________________________________________________________\n",
            "flatten (Flatten)            (None, 1568)              0         \n",
            "_________________________________________________________________\n",
            "dense (Dense)                (None, 256)               401664    \n",
            "_________________________________________________________________\n",
            "dropout_3 (Dropout)          (None, 256)               0         \n",
            "_________________________________________________________________\n",
            "dense_1 (Dense)              (None, 6)                 1542      \n",
            "=================================================================\n",
            "Total params: 1,561,606\n",
            "Trainable params: 1,561,158\n",
            "Non-trainable params: 448\n",
            "_________________________________________________________________\n"
          ],
          "name": "stdout"
        }
      ]
    },
    {
      "cell_type": "code",
      "metadata": {
        "id": "QUXho8s8_9ZC"
      },
      "source": [
        "def schedular(epoch):\n",
        "  if epoch < 10:\n",
        "    return 0.001\n",
        "  else:\n",
        "    return 0.001 * math.exp(0.1*(10-epoch))"
      ],
      "execution_count": 13,
      "outputs": []
    },
    {
      "cell_type": "code",
      "metadata": {
        "id": "-90KNEiL_9cV",
        "colab": {
          "base_uri": "https://localhost:8080/"
        },
        "outputId": "fbdd1e8f-7a51-4cdb-9e51-be26fd1032c4"
      },
      "source": [
        "opt = optimizers.SGD(lr=0.0001)\n",
        "model.compile(loss='categorical_crossentropy', optimizer=opt, metrics=[\"accuracy\"])\n",
        " \n",
        "earlystop = EarlyStopping(patience=7)\n",
        "callbacks = tf.keras.callbacks.LearningRateScheduler(schedular)\n",
        " \n",
        "history = model.fit(x = X_train, y = y_train, epochs=20, batch_size = 16, shuffle=True, validation_split=0.2, callbacks=[callbacks])\n",
        "\n",
        "import matplotlib.pyplot as plt\n",
        "plt.plot(history.history['loss'])\n",
        "plt.plot(history.history['val_loss'])\n",
        "plt.plot(history.history['accuracy'])\n",
        "plt.plot(history.history['val_accuracy'])\n",
        "plt.xlabel('epoch')\n",
        "plt.ylabel('loss')\n",
        "plt.legend(['train', 'val','accuracy','val_accuracy'])\n",
        "plt.show()\n"
      ],
      "execution_count": null,
      "outputs": [
        {
          "output_type": "stream",
          "text": [
            "/usr/local/lib/python3.7/dist-packages/tensorflow/python/keras/optimizer_v2/optimizer_v2.py:375: UserWarning: The `lr` argument is deprecated, use `learning_rate` instead.\n",
            "  \"The `lr` argument is deprecated, use `learning_rate` instead.\")\n"
          ],
          "name": "stderr"
        },
        {
          "output_type": "stream",
          "text": [
            "Epoch 1/20\n",
            "31/31 [==============================] - 861s 27s/step - loss: 2.7055 - accuracy: 0.1930 - val_loss: 1.7876 - val_accuracy: 0.0407\n",
            "Epoch 2/20\n",
            "31/31 [==============================] - 817s 26s/step - loss: 2.7444 - accuracy: 0.1938 - val_loss: 1.6747 - val_accuracy: 0.2927\n",
            "Epoch 3/20\n",
            "31/31 [==============================] - 815s 26s/step - loss: 2.4890 - accuracy: 0.2083 - val_loss: 1.6935 - val_accuracy: 0.3171\n",
            "Epoch 4/20\n",
            "31/31 [==============================] - 816s 26s/step - loss: 2.2880 - accuracy: 0.2575 - val_loss: 1.6824 - val_accuracy: 0.2683\n",
            "Epoch 5/20\n",
            "31/31 [==============================] - 816s 26s/step - loss: 2.2760 - accuracy: 0.2669 - val_loss: 1.6990 - val_accuracy: 0.3577\n",
            "Epoch 6/20\n",
            "31/31 [==============================] - 816s 26s/step - loss: 2.3069 - accuracy: 0.2660 - val_loss: 1.5947 - val_accuracy: 0.3902\n",
            "Epoch 7/20\n",
            "31/31 [==============================] - 817s 26s/step - loss: 2.0624 - accuracy: 0.3436 - val_loss: 1.7404 - val_accuracy: 0.2846\n",
            "Epoch 8/20\n",
            "31/31 [==============================] - 815s 26s/step - loss: 2.0096 - accuracy: 0.3069 - val_loss: 3.3478 - val_accuracy: 0.1463\n",
            "Epoch 9/20\n",
            "31/31 [==============================] - 815s 26s/step - loss: 1.9889 - accuracy: 0.3534 - val_loss: 2.9868 - val_accuracy: 0.1463\n",
            "Epoch 10/20\n",
            "31/31 [==============================] - 816s 26s/step - loss: 1.9401 - accuracy: 0.3610 - val_loss: 2.8291 - val_accuracy: 0.1626\n",
            "Epoch 11/20\n",
            "31/31 [==============================] - 822s 27s/step - loss: 1.9891 - accuracy: 0.3125 - val_loss: 2.9457 - val_accuracy: 0.1545\n",
            "Epoch 12/20\n",
            "31/31 [==============================] - 818s 26s/step - loss: 2.0199 - accuracy: 0.3480 - val_loss: 2.9915 - val_accuracy: 0.1301\n",
            "Epoch 13/20\n",
            "31/31 [==============================] - 818s 26s/step - loss: 1.7900 - accuracy: 0.3801 - val_loss: 3.8977 - val_accuracy: 0.1301\n",
            "Epoch 14/20\n",
            "31/31 [==============================] - 819s 26s/step - loss: 1.7339 - accuracy: 0.4044 - val_loss: 3.7724 - val_accuracy: 0.1301\n",
            "Epoch 15/20\n",
            "31/31 [==============================] - 819s 26s/step - loss: 1.7923 - accuracy: 0.3583 - val_loss: 3.4237 - val_accuracy: 0.1545\n",
            "Epoch 16/20\n",
            "31/31 [==============================] - 819s 26s/step - loss: 2.0550 - accuracy: 0.3319 - val_loss: 3.4728 - val_accuracy: 0.1301\n",
            "Epoch 17/20\n",
            "31/31 [==============================] - 820s 26s/step - loss: 1.7402 - accuracy: 0.3732 - val_loss: 3.4565 - val_accuracy: 0.1545\n",
            "Epoch 18/20\n",
            "31/31 [==============================] - 819s 26s/step - loss: 1.7023 - accuracy: 0.4043 - val_loss: 3.4000 - val_accuracy: 0.1545\n",
            "Epoch 19/20\n",
            "31/31 [==============================] - 818s 26s/step - loss: 1.6812 - accuracy: 0.3896 - val_loss: 2.7838 - val_accuracy: 0.1382\n",
            "Epoch 20/20\n",
            "31/31 [==============================] - ETA: 0s - loss: 1.6118 - accuracy: 0.4402 "
          ],
          "name": "stdout"
        }
      ]
    },
    {
      "cell_type": "code",
      "metadata": {
        "id": "MQvaOR6l_9f6",
        "colab": {
          "base_uri": "https://localhost:8080/"
        },
        "outputId": "194d32d0-96cc-4a52-e56d-a466d7ba1731"
      },
      "source": [
        "from sklearn.metrics import classification_report\n",
        "from sklearn.metrics import accuracy_score\n",
        "y_pred = model.predict(X_test) \n",
        "y_pred = np.argmax(y_pred, axis = 1)\n",
        "y_test = np.argmax(y_test, axis = 1)\n",
        " \n",
        "print(classification_report(y_test, y_pred))\n",
        "\n",
        "print('accuracy score : {}'.format(accuracy_score(y_pred, y_test)))\n"
      ],
      "execution_count": 15,
      "outputs": [
        {
          "output_type": "stream",
          "text": [
            "              precision    recall  f1-score   support\n",
            "\n",
            "           0       0.13      0.30      0.18        10\n",
            "           1       0.00      0.00      0.00        53\n",
            "           2       0.26      0.47      0.33        19\n",
            "           3       0.11      0.90      0.19        10\n",
            "           4       0.42      0.12      0.18        43\n",
            "           5       0.00      0.00      0.00        19\n",
            "\n",
            "    accuracy                           0.17       154\n",
            "   macro avg       0.15      0.30      0.15       154\n",
            "weighted avg       0.16      0.17      0.12       154\n",
            "\n",
            "accuracy score : 0.16883116883116883\n"
          ],
          "name": "stdout"
        },
        {
          "output_type": "stream",
          "text": [
            "/usr/local/lib/python3.7/dist-packages/sklearn/metrics/_classification.py:1272: UndefinedMetricWarning: Precision and F-score are ill-defined and being set to 0.0 in labels with no predicted samples. Use `zero_division` parameter to control this behavior.\n",
            "  _warn_prf(average, modifier, msg_start, len(result))\n"
          ],
          "name": "stderr"
        }
      ]
    },
    {
      "cell_type": "code",
      "metadata": {
        "id": "Pld5XtLH_9jC"
      },
      "source": [
        ""
      ],
      "execution_count": null,
      "outputs": []
    },
    {
      "cell_type": "code",
      "metadata": {
        "id": "ZCfk5lqU_9mr"
      },
      "source": [
        ""
      ],
      "execution_count": null,
      "outputs": []
    },
    {
      "cell_type": "code",
      "metadata": {
        "id": "n76YdAYL_9pz"
      },
      "source": [
        ""
      ],
      "execution_count": null,
      "outputs": []
    },
    {
      "cell_type": "code",
      "metadata": {
        "id": "RC0rMH9k_9tb"
      },
      "source": [
        ""
      ],
      "execution_count": null,
      "outputs": []
    }
  ]
}
