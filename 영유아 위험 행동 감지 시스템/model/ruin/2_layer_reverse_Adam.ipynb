{
  "nbformat": 4,
  "nbformat_minor": 0,
  "metadata": {
    "colab": {
      "name": "2-layer-reverse-Adam.ipynb",
      "provenance": [],
      "collapsed_sections": []
    },
    "kernelspec": {
      "display_name": "Python 3",
      "name": "python3"
    },
    "language_info": {
      "name": "python"
    }
  },
  "cells": [
    {
      "cell_type": "code",
      "metadata": {
        "id": "IXdBId7c_R3K"
      },
      "source": [
        "import keras\n",
        "from keras import applications\n",
        "from keras.preprocessing.image import ImageDataGenerator\n",
        "from keras import optimizers\n",
        "from keras.models import Sequential, Model \n",
        "from keras.layers import *\n",
        "from keras.callbacks import ModelCheckpoint, LearningRateScheduler, TensorBoard, EarlyStopping\n",
        "import os\n",
        "import cv2\n",
        "import numpy as np\n",
        "from sklearn.model_selection import train_test_split\n",
        "# import keras_metrics as km\n",
        "from keras import regularizers, optimizers\n",
        "from keras.callbacks import ModelCheckpoint\n",
        "from sklearn.metrics import precision_score\n",
        "from sklearn.metrics import recall_score\n",
        "from sklearn.metrics import f1_score\n",
        "from sklearn.metrics import cohen_kappa_score\n",
        "from sklearn.metrics import roc_auc_score\n",
        "from sklearn.metrics import multilabel_confusion_matrix\n",
        "from sklearn.metrics import accuracy_score\n",
        "import math"
      ],
      "execution_count": 5,
      "outputs": []
    },
    {
      "cell_type": "code",
      "metadata": {
        "id": "zR_UtZPd_gCj"
      },
      "source": [
        "data_dir = \"/content/drive/MyDrive/video_data\"\n",
        "img_height , img_width = 64, 64\n",
        "seq_len = 16"
      ],
      "execution_count": 6,
      "outputs": []
    },
    {
      "cell_type": "code",
      "metadata": {
        "colab": {
          "base_uri": "https://localhost:8080/"
        },
        "id": "LESEF8Qf_gK2",
        "outputId": "7486ee02-d736-4c70-dec3-530bac753a53"
      },
      "source": [
        "from google.colab import drive\n",
        "drive.mount('/content/drive')"
      ],
      "execution_count": 7,
      "outputs": [
        {
          "output_type": "stream",
          "text": [
            "Mounted at /content/drive\n"
          ],
          "name": "stdout"
        }
      ]
    },
    {
      "cell_type": "code",
      "metadata": {
        "id": "ZTDSq5Rx_gPE"
      },
      "source": [
        "classes = [\"fall\", \"fall_down\", \"grab\", \"swallow\", \"walk\",\"sit\"]"
      ],
      "execution_count": 8,
      "outputs": []
    },
    {
      "cell_type": "code",
      "metadata": {
        "id": "I0TeKmFu_gS2"
      },
      "source": [
        "def frames_extraction(video_path):\n",
        "    frames_list = []\n",
        "     \n",
        "    vidcap = cv2.VideoCapture(video_path)\n",
        "    total_frames = vidcap.get(cv2.CAP_PROP_FRAME_COUNT)\n",
        "\n",
        "    frames_step = total_frames//seq_len\n",
        " \n",
        "    for j in range(seq_len):\n",
        "        #here, we set the parameter 1 which is the frame number to the frame (i*frames_step)\n",
        "        vidcap.set(1,j*frames_step)\n",
        "        success,image = vidcap.read()  \n",
        "        #save your image\n",
        "        if success:\n",
        "          image = cv2.resize(image, (img_height, img_width))\n",
        "          frames_list.append(image)\n",
        "        else:\n",
        "          print(\"Defected frame {}\".format(video_path))\n",
        "          break\n",
        "\n",
        "    return frames_list"
      ],
      "execution_count": 9,
      "outputs": []
    },
    {
      "cell_type": "code",
      "metadata": {
        "id": "m3-WczJ9_gXK"
      },
      "source": [
        "def create_data(input_dir):\n",
        "    X = []\n",
        "    Y = []\n",
        "     \n",
        "    classes_list = os.listdir(input_dir)\n",
        "     \n",
        "    for c in classes_list:\n",
        "        print(c)\n",
        "        files_list = os.listdir(os.path.join(input_dir, c))\n",
        "        for f in files_list:\n",
        "            frames = frames_extraction(os.path.join(os.path.join(input_dir, c), f))\n",
        "            if len(frames) == seq_len:\n",
        "                X.append(frames)\n",
        "             \n",
        "                y = [0]*len(classes)\n",
        "                y[classes.index(c)] = 1\n",
        "                Y.append(y)\n",
        "     \n",
        "    X = np.asarray(X)\n",
        "    Y = np.asarray(Y)\n",
        "    return X, Y"
      ],
      "execution_count": 10,
      "outputs": []
    },
    {
      "cell_type": "code",
      "metadata": {
        "colab": {
          "base_uri": "https://localhost:8080/"
        },
        "id": "Iy5FYuFc_gbC",
        "outputId": "68dde856-8e2b-42dc-f999-167809646518"
      },
      "source": [
        "X, Y = create_data(data_dir)\n",
        " \n",
        "X_train, X_test, y_train, y_test = train_test_split(X, Y, test_size=0.20, shuffle=True, random_state=0)"
      ],
      "execution_count": 11,
      "outputs": [
        {
          "output_type": "stream",
          "text": [
            "walk\n",
            "fall_down\n",
            "swallow\n",
            "Defected frame /content/drive/MyDrive/video_data/swallow/70.mov\n",
            "fall\n",
            "grab\n",
            "sit\n"
          ],
          "name": "stdout"
        }
      ]
    },
    {
      "cell_type": "code",
      "metadata": {
        "colab": {
          "base_uri": "https://localhost:8080/"
        },
        "id": "Mf6pzqhu_ge0",
        "outputId": "6e88e5b5-caf7-4650-a7ac-568b6cf72add"
      },
      "source": [
        "model = Sequential()\n",
        "model.add(ConvLSTM2D(filters = 64, kernel_size = (3, 3), return_sequences = True, padding = 'same', data_format = \"channels_last\", input_shape = (seq_len, img_height, img_width, 3)))\n",
        "model.add(ConvLSTM2D(filters = 64, kernel_size = (3, 3), strides = (2,2), return_sequences = True, padding = 'same', data_format = \"channels_last\"))\n",
        "model.add(BatchNormalization())\n",
        "\n",
        "model.add(ConvLSTM2D(filters = 32, kernel_size = (3, 3), return_sequences = True, padding = 'same', data_format = \"channels_last\"))\n",
        "model.add(ConvLSTM2D(filters = 32, kernel_size = (3, 3), strides = (2,2), return_sequences = True, padding = 'same', data_format = \"channels_last\"))\n",
        "model.add(BatchNormalization())\n",
        "\n",
        "model.add(Dropout(0.2))\n",
        "\n",
        "model.add(Flatten())\n",
        "model.add(Dense(256, activation=\"relu\"))\n",
        "model.add(Dropout(0.3))\n",
        "model.add(Dense(6, activation = \"softmax\"))\n",
        " \n",
        "model.summary()"
      ],
      "execution_count": 12,
      "outputs": [
        {
          "output_type": "stream",
          "text": [
            "Model: \"sequential\"\n",
            "_________________________________________________________________\n",
            "Layer (type)                 Output Shape              Param #   \n",
            "=================================================================\n",
            "conv_lst_m2d (ConvLSTM2D)    (None, 16, 64, 64, 64)    154624    \n",
            "_________________________________________________________________\n",
            "conv_lst_m2d_1 (ConvLSTM2D)  (None, 16, 32, 32, 64)    295168    \n",
            "_________________________________________________________________\n",
            "batch_normalization (BatchNo (None, 16, 32, 32, 64)    256       \n",
            "_________________________________________________________________\n",
            "conv_lst_m2d_2 (ConvLSTM2D)  (None, 16, 32, 32, 32)    110720    \n",
            "_________________________________________________________________\n",
            "conv_lst_m2d_3 (ConvLSTM2D)  (None, 16, 16, 16, 32)    73856     \n",
            "_________________________________________________________________\n",
            "batch_normalization_1 (Batch (None, 16, 16, 16, 32)    128       \n",
            "_________________________________________________________________\n",
            "dropout (Dropout)            (None, 16, 16, 16, 32)    0         \n",
            "_________________________________________________________________\n",
            "flatten (Flatten)            (None, 131072)            0         \n",
            "_________________________________________________________________\n",
            "dense (Dense)                (None, 256)               33554688  \n",
            "_________________________________________________________________\n",
            "dropout_1 (Dropout)          (None, 256)               0         \n",
            "_________________________________________________________________\n",
            "dense_1 (Dense)              (None, 6)                 1542      \n",
            "=================================================================\n",
            "Total params: 34,190,982\n",
            "Trainable params: 34,190,790\n",
            "Non-trainable params: 192\n",
            "_________________________________________________________________\n"
          ],
          "name": "stdout"
        }
      ]
    },
    {
      "cell_type": "code",
      "metadata": {
        "id": "LCu4C-_L_gim"
      },
      "source": [
        "def schedular(epoch):\n",
        "  if epoch < 10:\n",
        "    return 0.001\n",
        "  else:\n",
        "    return 0.001 * math.exp(0.1*(10-epoch))"
      ],
      "execution_count": 13,
      "outputs": []
    },
    {
      "cell_type": "code",
      "metadata": {
        "colab": {
          "base_uri": "https://localhost:8080/",
          "height": 1000
        },
        "id": "P5v1Glql_gmT",
        "outputId": "5a24e3d2-92f3-4057-dbf7-90dcf45d4d24"
      },
      "source": [
        "opt = optimizers.Adam(lr=0.001)\n",
        "model.compile(loss='categorical_crossentropy', optimizer=opt, metrics=[\"accuracy\"])\n",
        " \n",
        "earlystop = EarlyStopping(patience=7)\n",
        "callbacks = tf.keras.callbacks.LearningRateScheduler(schedular)\n",
        " \n",
        "history = model.fit(x = X_train, y = y_train, epochs=20, batch_size = 16, shuffle=True, validation_split=0.2, callbacks=[callbacks])\n",
        "\n",
        "import matplotlib.pyplot as plt\n",
        "plt.plot(history.history['loss'])\n",
        "plt.plot(history.history['val_loss'])\n",
        "plt.plot(history.history['accuracy'])\n",
        "plt.plot(history.history['val_accuracy'])\n",
        "plt.xlabel('epoch')\n",
        "plt.ylabel('loss')\n",
        "plt.legend(['train', 'val','accuracy','val_accuracy'])\n",
        "plt.show()\n"
      ],
      "execution_count": 14,
      "outputs": [
        {
          "output_type": "stream",
          "text": [
            "/usr/local/lib/python3.7/dist-packages/tensorflow/python/keras/optimizer_v2/optimizer_v2.py:375: UserWarning: The `lr` argument is deprecated, use `learning_rate` instead.\n",
            "  \"The `lr` argument is deprecated, use `learning_rate` instead.\")\n"
          ],
          "name": "stderr"
        },
        {
          "output_type": "stream",
          "text": [
            "Epoch 1/20\n",
            "31/31 [==============================] - 1204s 38s/step - loss: 21.9661 - accuracy: 0.2519 - val_loss: 25.0430 - val_accuracy: 0.2439\n",
            "Epoch 2/20\n",
            "31/31 [==============================] - 1164s 38s/step - loss: 1.6913 - accuracy: 0.3358 - val_loss: 5.0653 - val_accuracy: 0.3496\n",
            "Epoch 3/20\n",
            "31/31 [==============================] - 1164s 38s/step - loss: 1.6432 - accuracy: 0.3965 - val_loss: 1.9543 - val_accuracy: 0.2602\n",
            "Epoch 4/20\n",
            "31/31 [==============================] - 1162s 38s/step - loss: 1.6133 - accuracy: 0.3767 - val_loss: 1.6416 - val_accuracy: 0.3496\n",
            "Epoch 5/20\n",
            "31/31 [==============================] - 1166s 38s/step - loss: 1.6040 - accuracy: 0.4060 - val_loss: 1.6463 - val_accuracy: 0.4146\n",
            "Epoch 6/20\n",
            "31/31 [==============================] - 1159s 37s/step - loss: 1.5709 - accuracy: 0.4332 - val_loss: 1.6166 - val_accuracy: 0.4146\n",
            "Epoch 7/20\n",
            "31/31 [==============================] - 1167s 38s/step - loss: 1.5254 - accuracy: 0.3701 - val_loss: 1.5544 - val_accuracy: 0.3333\n",
            "Epoch 8/20\n",
            "31/31 [==============================] - 1163s 38s/step - loss: 1.4782 - accuracy: 0.4170 - val_loss: 2.0908 - val_accuracy: 0.1707\n",
            "Epoch 9/20\n",
            "31/31 [==============================] - 1163s 38s/step - loss: 1.5241 - accuracy: 0.3865 - val_loss: 1.8841 - val_accuracy: 0.2683\n",
            "Epoch 10/20\n",
            "31/31 [==============================] - 1163s 38s/step - loss: 1.5374 - accuracy: 0.3910 - val_loss: 1.4982 - val_accuracy: 0.4472\n",
            "Epoch 11/20\n",
            "31/31 [==============================] - 1160s 37s/step - loss: 1.4632 - accuracy: 0.4101 - val_loss: 1.5655 - val_accuracy: 0.4309\n",
            "Epoch 12/20\n",
            "31/31 [==============================] - 1165s 38s/step - loss: 1.5089 - accuracy: 0.3949 - val_loss: 1.5250 - val_accuracy: 0.4228\n",
            "Epoch 13/20\n",
            "31/31 [==============================] - 1163s 38s/step - loss: 1.5043 - accuracy: 0.3850 - val_loss: 1.5048 - val_accuracy: 0.3984\n",
            "Epoch 14/20\n",
            "31/31 [==============================] - 1161s 38s/step - loss: 1.5127 - accuracy: 0.4259 - val_loss: 1.4689 - val_accuracy: 0.4553\n",
            "Epoch 15/20\n",
            "31/31 [==============================] - 1160s 37s/step - loss: 1.5396 - accuracy: 0.4181 - val_loss: 1.5396 - val_accuracy: 0.4228\n",
            "Epoch 16/20\n",
            "31/31 [==============================] - 1158s 37s/step - loss: 1.4356 - accuracy: 0.4148 - val_loss: 1.4595 - val_accuracy: 0.4634\n",
            "Epoch 17/20\n",
            "31/31 [==============================] - 1160s 37s/step - loss: 1.3842 - accuracy: 0.4138 - val_loss: 1.3780 - val_accuracy: 0.4797\n",
            "Epoch 18/20\n",
            "31/31 [==============================] - 1160s 37s/step - loss: 1.3746 - accuracy: 0.4486 - val_loss: 1.3717 - val_accuracy: 0.5122\n",
            "Epoch 19/20\n",
            "31/31 [==============================] - 1162s 38s/step - loss: 1.3541 - accuracy: 0.5053 - val_loss: 1.3545 - val_accuracy: 0.4065\n",
            "Epoch 20/20\n",
            "31/31 [==============================] - 1165s 38s/step - loss: 1.3022 - accuracy: 0.5023 - val_loss: 1.4396 - val_accuracy: 0.3821\n"
          ],
          "name": "stdout"
        },
        {
          "output_type": "display_data",
          "data": {
            "image/png": "[encoded data removed]",
            "text/plain": [
              "<Figure size 432x288 with 1 Axes>"
            ]
          },
          "metadata": {
            "tags": [],
            "needs_background": "light"
          }
        }
      ]
    },
    {
      "cell_type": "code",
      "metadata": {
        "id": "omWXPcrM_gqj",
        "colab": {
          "base_uri": "https://localhost:8080/"
        },
        "outputId": "90b6a877-3907-41d0-9dff-371b34c973ca"
      },
      "source": [
        "from sklearn.metrics import classification_report\n",
        "from sklearn.metrics import accuracy_score\n",
        "y_pred = model.predict(X_test) \n",
        "y_pred = np.argmax(y_pred, axis = 1)\n",
        "y_test = np.argmax(y_test, axis = 1)\n",
        " \n",
        "print(classification_report(y_test, y_pred))\n",
        "\n",
        "print('accuracy score : {}'.format(accuracy_score(y_pred, y_test)))\n"
      ],
      "execution_count": 16,
      "outputs": [
        {
          "output_type": "stream",
          "text": [
            "              precision    recall  f1-score   support\n",
            "\n",
            "           0       0.75      0.30      0.43        10\n",
            "           1       0.43      0.91      0.58        53\n",
            "           2       0.50      0.63      0.56        19\n",
            "           3       1.00      0.70      0.82        10\n",
            "           4       0.43      0.07      0.12        43\n",
            "           5       0.00      0.00      0.00        19\n",
            "\n",
            "    accuracy                           0.47       154\n",
            "   macro avg       0.52      0.43      0.42       154\n",
            "weighted avg       0.44      0.47      0.38       154\n",
            "\n",
            "accuracy score : 0.474025974025974\n"
          ],
          "name": "stdout"
        },
        {
          "output_type": "stream",
          "text": [
            "/usr/local/lib/python3.7/dist-packages/sklearn/metrics/_classification.py:1272: UndefinedMetricWarning: Precision and F-score are ill-defined and being set to 0.0 in labels with no predicted samples. Use `zero_division` parameter to control this behavior.\n",
            "  _warn_prf(average, modifier, msg_start, len(result))\n"
          ],
          "name": "stderr"
        }
      ]
    },
    {
      "cell_type": "code",
      "metadata": {
        "id": "YqE0P61g_gwl"
      },
      "source": [
        ""
      ],
      "execution_count": null,
      "outputs": []
    }
  ]
}
