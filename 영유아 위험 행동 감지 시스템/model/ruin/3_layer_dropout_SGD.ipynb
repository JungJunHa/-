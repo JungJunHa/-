{
  "nbformat": 4,
  "nbformat_minor": 0,
  "metadata": {
    "colab": {
      "name": "3-layer-dropout-SGD.ipynb",
      "provenance": [],
      "collapsed_sections": []
    },
    "kernelspec": {
      "name": "python3",
      "display_name": "Python 3"
    },
    "language_info": {
      "name": "python"
    }
  },
  "cells": [
    {
      "cell_type": "code",
      "metadata": {
        "id": "FW50_EVu_8Qh"
      },
      "source": [
        "import keras\n",
        "from keras import applications\n",
        "from keras.preprocessing.image import ImageDataGenerator\n",
        "from keras import optimizers\n",
        "from keras.models import Sequential, Model \n",
        "from keras.layers import *\n",
        "from keras.callbacks import ModelCheckpoint, LearningRateScheduler, TensorBoard, EarlyStopping\n",
        "import os\n",
        "import cv2\n",
        "import numpy as np\n",
        "from sklearn.model_selection import train_test_split\n",
        "# import keras_metrics as km\n",
        "from keras import regularizers, optimizers\n",
        "from keras.callbacks import ModelCheckpoint\n",
        "from sklearn.metrics import precision_score\n",
        "from sklearn.metrics import recall_score\n",
        "from sklearn.metrics import f1_score\n",
        "from sklearn.metrics import cohen_kappa_score\n",
        "from sklearn.metrics import roc_auc_score\n",
        "from sklearn.metrics import multilabel_confusion_matrix\n",
        "from sklearn.metrics import accuracy_score\n",
        "import math"
      ],
      "execution_count": 1,
      "outputs": []
    },
    {
      "cell_type": "code",
      "metadata": {
        "id": "KLavRlaT_9Cf"
      },
      "source": [
        "data_dir = \"/content/drive/MyDrive/video_data\"\n",
        "img_height , img_width = 64, 64\n",
        "seq_len = 16"
      ],
      "execution_count": 2,
      "outputs": []
    },
    {
      "cell_type": "code",
      "metadata": {
        "colab": {
          "base_uri": "https://localhost:8080/"
        },
        "id": "wbqgzGXp_9GL",
        "outputId": "b2cdffc0-6b99-4955-c182-d19b0c01301e"
      },
      "source": [
        "from google.colab import drive\n",
        "drive.mount('/content/drive')"
      ],
      "execution_count": 7,
      "outputs": [
        {
          "output_type": "stream",
          "text": [
            "Mounted at /content/drive\n"
          ],
          "name": "stdout"
        }
      ]
    },
    {
      "cell_type": "code",
      "metadata": {
        "id": "nYmXq2Om_9Je"
      },
      "source": [
        "classes = [\"fall\", \"fall_down\", \"grab\", \"swallow\", \"walk\",\"sit\"]"
      ],
      "execution_count": 8,
      "outputs": []
    },
    {
      "cell_type": "code",
      "metadata": {
        "id": "opzT9QhX_9Md"
      },
      "source": [
        "def frames_extraction(video_path):\n",
        "    frames_list = []\n",
        "     \n",
        "    vidcap = cv2.VideoCapture(video_path)\n",
        "    total_frames = vidcap.get(cv2.CAP_PROP_FRAME_COUNT)\n",
        "\n",
        "    frames_step = total_frames//seq_len\n",
        " \n",
        "    for j in range(seq_len):\n",
        "        #here, we set the parameter 1 which is the frame number to the frame (i*frames_step)\n",
        "        vidcap.set(1,j*frames_step)\n",
        "        success,image = vidcap.read()  \n",
        "        #save your image\n",
        "        if success:\n",
        "          image = cv2.resize(image, (img_height, img_width))\n",
        "          frames_list.append(image)\n",
        "        else:\n",
        "          print(\"Defected frame {}\".format(video_path))\n",
        "          break\n",
        "\n",
        "    return frames_list"
      ],
      "execution_count": 9,
      "outputs": []
    },
    {
      "cell_type": "code",
      "metadata": {
        "id": "lHNlh_4g_9Pd"
      },
      "source": [
        "def create_data(input_dir):\n",
        "    X = []\n",
        "    Y = []\n",
        "     \n",
        "    classes_list = os.listdir(input_dir)\n",
        "     \n",
        "    for c in classes_list:\n",
        "        print(c)\n",
        "        files_list = os.listdir(os.path.join(input_dir, c))\n",
        "        for f in files_list:\n",
        "            frames = frames_extraction(os.path.join(os.path.join(input_dir, c), f))\n",
        "            if len(frames) == seq_len:\n",
        "                X.append(frames)\n",
        "             \n",
        "                y = [0]*len(classes)\n",
        "                y[classes.index(c)] = 1\n",
        "                Y.append(y)\n",
        "     \n",
        "    X = np.asarray(X)\n",
        "    Y = np.asarray(Y)\n",
        "    return X, Y"
      ],
      "execution_count": 10,
      "outputs": []
    },
    {
      "cell_type": "code",
      "metadata": {
        "colab": {
          "base_uri": "https://localhost:8080/"
        },
        "id": "If4myzoj_9Sj",
        "outputId": "761137ed-bd78-407c-e90c-67bd3c085ef5"
      },
      "source": [
        "X, Y = create_data(data_dir)\n",
        " \n",
        "X_train, X_test, y_train, y_test = train_test_split(X, Y, test_size=0.20, shuffle=True, random_state=0)"
      ],
      "execution_count": 16,
      "outputs": [
        {
          "output_type": "stream",
          "text": [
            "walk\n",
            "fall_down\n",
            "swallow\n",
            "Defected frame /content/drive/MyDrive/video_data/swallow/70.mov\n",
            "Defected frame /content/drive/MyDrive/video_data/swallow/81_crop (online-video-cutter.com).mp4\n",
            "Defected frame /content/drive/MyDrive/video_data/swallow/83_crop (online-video-cutter.com).mp4\n",
            "Defected frame /content/drive/MyDrive/video_data/swallow/80 (online-video-cutter.com).mp4\n",
            "Defected frame /content/drive/MyDrive/video_data/swallow/79_crop (online-video-cutter.com).mp4\n",
            "Defected frame /content/drive/MyDrive/video_data/swallow/82_crop (online-video-cutter.com).mp4\n",
            "fall\n",
            "grab\n",
            "Defected frame /content/drive/MyDrive/video_data/grab/110_crop (online-video-cutter.com).mp4\n",
            "Defected frame /content/drive/MyDrive/video_data/grab/112_crop (online-video-cutter.com).mp4\n",
            "Defected frame /content/drive/MyDrive/video_data/grab/106_crop (online-video-cutter.com).mp4\n",
            "Defected frame /content/drive/MyDrive/video_data/grab/109_crop (online-video-cutter.com).mp4\n",
            "Defected frame /content/drive/MyDrive/video_data/grab/113 (online-video-cutter.com).mp4\n",
            "Defected frame /content/drive/MyDrive/video_data/grab/103_crop (online-video-cutter.com).mp4\n",
            "Defected frame /content/drive/MyDrive/video_data/grab/99 (online-video-cutter.com).mp4\n",
            "Defected frame /content/drive/MyDrive/video_data/grab/98_crop (online-video-cutter.com).mp4\n",
            "Defected frame /content/drive/MyDrive/video_data/grab/102_crop (online-video-cutter.com).mp4\n",
            "Defected frame /content/drive/MyDrive/video_data/grab/156 (online-video-cutter.com).mp4\n",
            "Defected frame /content/drive/MyDrive/video_data/grab/115 (online-video-cutter.com).mp4\n",
            "Defected frame /content/drive/MyDrive/video_data/grab/116 (online-video-cutter.com).mp4\n",
            "sit\n"
          ],
          "name": "stdout"
        }
      ]
    },
    {
      "cell_type": "code",
      "metadata": {
        "id": "jcNIK5Kt_9V8",
        "colab": {
          "base_uri": "https://localhost:8080/"
        },
        "outputId": "607057d6-e74a-496e-e436-de4e1c28cabf"
      },
      "source": [
        "model = Sequential()\n",
        "\n",
        "model.add(ConvLSTM2D(filters = 128, kernel_size = (3, 3),strides = (2,2), return_sequences = True, data_format = \"channels_last\", input_shape = (seq_len, img_height, img_width, 3)))\n",
        "model.add(BatchNormalization())\n",
        "model.add(Dropout(0.5))\n",
        "\n",
        "model.add(ConvLSTM2D(filters = 64, kernel_size = (3, 3),strides = (2,2), return_sequences = True, data_format = \"channels_last\"))\n",
        "model.add(BatchNormalization())\n",
        "model.add(Dropout(0.5))\n",
        "\n",
        "model.add(ConvLSTM2D(filters = 32, kernel_size = (3, 3),strides = (2,2), return_sequences = False, data_format = \"channels_last\"))\n",
        "model.add(BatchNormalization())\n",
        "model.add(Dropout(0.5))\n",
        "\n",
        "model.add(Flatten())\n",
        "model.add(Dense(256, activation=\"relu\"))\n",
        "model.add(Dropout(0.2))\n",
        "model.add(Dense(6, activation = \"softmax\"))\n",
        " \n",
        "model.summary()"
      ],
      "execution_count": 17,
      "outputs": [
        {
          "output_type": "stream",
          "text": [
            "Model: \"sequential_1\"\n",
            "_________________________________________________________________\n",
            "Layer (type)                 Output Shape              Param #   \n",
            "=================================================================\n",
            "conv_lst_m2d_3 (ConvLSTM2D)  (None, 16, 31, 31, 128)   604160    \n",
            "_________________________________________________________________\n",
            "batch_normalization_3 (Batch (None, 16, 31, 31, 128)   512       \n",
            "_________________________________________________________________\n",
            "dropout_4 (Dropout)          (None, 16, 31, 31, 128)   0         \n",
            "_________________________________________________________________\n",
            "conv_lst_m2d_4 (ConvLSTM2D)  (None, 16, 15, 15, 64)    442624    \n",
            "_________________________________________________________________\n",
            "batch_normalization_4 (Batch (None, 16, 15, 15, 64)    256       \n",
            "_________________________________________________________________\n",
            "dropout_5 (Dropout)          (None, 16, 15, 15, 64)    0         \n",
            "_________________________________________________________________\n",
            "conv_lst_m2d_5 (ConvLSTM2D)  (None, 7, 7, 32)          110720    \n",
            "_________________________________________________________________\n",
            "batch_normalization_5 (Batch (None, 7, 7, 32)          128       \n",
            "_________________________________________________________________\n",
            "dropout_6 (Dropout)          (None, 7, 7, 32)          0         \n",
            "_________________________________________________________________\n",
            "flatten_1 (Flatten)          (None, 1568)              0         \n",
            "_________________________________________________________________\n",
            "dense_2 (Dense)              (None, 256)               401664    \n",
            "_________________________________________________________________\n",
            "dropout_7 (Dropout)          (None, 256)               0         \n",
            "_________________________________________________________________\n",
            "dense_3 (Dense)              (None, 6)                 1542      \n",
            "=================================================================\n",
            "Total params: 1,561,606\n",
            "Trainable params: 1,561,158\n",
            "Non-trainable params: 448\n",
            "_________________________________________________________________\n"
          ],
          "name": "stdout"
        }
      ]
    },
    {
      "cell_type": "code",
      "metadata": {
        "id": "QUXho8s8_9ZC"
      },
      "source": [
        "def schedular(epoch):\n",
        "  if epoch < 10:\n",
        "    return 0.001\n",
        "  else:\n",
        "    return 0.001 * math.exp(0.1*(10-epoch))"
      ],
      "execution_count": 18,
      "outputs": []
    },
    {
      "cell_type": "code",
      "metadata": {
        "id": "-90KNEiL_9cV",
        "colab": {
          "base_uri": "https://localhost:8080/",
          "height": 1000
        },
        "outputId": "c8c4a288-1574-4b7a-bf5b-4f42eeceea2d"
      },
      "source": [
        "opt = optimizers.SGD(lr=0.001)\n",
        "model.compile(loss='categorical_crossentropy', optimizer=opt, metrics=[\"accuracy\"])\n",
        " \n",
        "earlystop = EarlyStopping(patience=7)\n",
        "callbacks = tf.keras.callbacks.LearningRateScheduler(schedular)\n",
        " \n",
        "history = model.fit(x = X_train, y = y_train, epochs=20, batch_size = 32, shuffle=True, validation_split=0.2, callbacks=[callbacks])\n",
        "\n",
        "import matplotlib.pyplot as plt\n",
        "plt.plot(history.history['loss'])\n",
        "plt.plot(history.history['val_loss'])\n",
        "plt.plot(history.history['accuracy'])\n",
        "plt.plot(history.history['val_accuracy'])\n",
        "plt.xlabel('epoch')\n",
        "plt.ylabel('loss')\n",
        "plt.legend(['train', 'val','accuracy','val_accuracy'])\n",
        "plt.show()\n"
      ],
      "execution_count": 19,
      "outputs": [
        {
          "output_type": "stream",
          "text": [
            "Epoch 1/20\n"
          ],
          "name": "stdout"
        },
        {
          "output_type": "stream",
          "text": [
            "/usr/local/lib/python3.7/dist-packages/tensorflow/python/keras/optimizer_v2/optimizer_v2.py:375: UserWarning: The `lr` argument is deprecated, use `learning_rate` instead.\n",
            "  \"The `lr` argument is deprecated, use `learning_rate` instead.\")\n"
          ],
          "name": "stderr"
        },
        {
          "output_type": "stream",
          "text": [
            "19/19 [==============================] - 1042s 54s/step - loss: 2.7278 - accuracy: 0.1935 - val_loss: 1.7372 - val_accuracy: 0.2649\n",
            "Epoch 2/20\n",
            "19/19 [==============================] - 1024s 54s/step - loss: 2.6254 - accuracy: 0.2501 - val_loss: 1.8088 - val_accuracy: 0.1788\n",
            "Epoch 3/20\n",
            "19/19 [==============================] - 1022s 54s/step - loss: 2.5748 - accuracy: 0.2024 - val_loss: 1.7409 - val_accuracy: 0.2914\n",
            "Epoch 4/20\n",
            "19/19 [==============================] - 1020s 54s/step - loss: 2.4924 - accuracy: 0.2273 - val_loss: 1.7378 - val_accuracy: 0.2715\n",
            "Epoch 5/20\n",
            "19/19 [==============================] - 1029s 54s/step - loss: 2.6781 - accuracy: 0.2025 - val_loss: 1.7284 - val_accuracy: 0.2980\n",
            "Epoch 6/20\n",
            "19/19 [==============================] - 1021s 54s/step - loss: 2.3903 - accuracy: 0.2258 - val_loss: 1.7947 - val_accuracy: 0.1589\n",
            "Epoch 7/20\n",
            "19/19 [==============================] - 1020s 54s/step - loss: 2.3776 - accuracy: 0.2605 - val_loss: 1.6881 - val_accuracy: 0.3377\n",
            "Epoch 8/20\n",
            "19/19 [==============================] - 1027s 54s/step - loss: 2.4878 - accuracy: 0.2261 - val_loss: 1.6345 - val_accuracy: 0.3113\n",
            "Epoch 9/20\n",
            "19/19 [==============================] - 1022s 54s/step - loss: 2.3186 - accuracy: 0.2899 - val_loss: 1.6626 - val_accuracy: 0.2715\n",
            "Epoch 10/20\n",
            "19/19 [==============================] - 1013s 53s/step - loss: 2.3148 - accuracy: 0.2715 - val_loss: 1.6084 - val_accuracy: 0.3311\n",
            "Epoch 11/20\n",
            "19/19 [==============================] - 1019s 54s/step - loss: 2.2618 - accuracy: 0.2451 - val_loss: 1.6639 - val_accuracy: 0.2318\n",
            "Epoch 12/20\n",
            "19/19 [==============================] - 1017s 54s/step - loss: 2.1865 - accuracy: 0.2876 - val_loss: 1.9744 - val_accuracy: 0.2252\n",
            "Epoch 13/20\n",
            "19/19 [==============================] - 1014s 53s/step - loss: 2.2167 - accuracy: 0.2673 - val_loss: 1.6708 - val_accuracy: 0.2914\n",
            "Epoch 14/20\n",
            "19/19 [==============================] - 1018s 54s/step - loss: 2.1017 - accuracy: 0.2633 - val_loss: 1.6862 - val_accuracy: 0.2914\n",
            "Epoch 15/20\n",
            "19/19 [==============================] - 1018s 54s/step - loss: 2.2278 - accuracy: 0.2714 - val_loss: 1.6890 - val_accuracy: 0.3046\n",
            "Epoch 16/20\n",
            "19/19 [==============================] - 1013s 53s/step - loss: 2.2904 - accuracy: 0.2464 - val_loss: 1.6641 - val_accuracy: 0.2980\n",
            "Epoch 17/20\n",
            "19/19 [==============================] - 1019s 54s/step - loss: 2.0509 - accuracy: 0.3207 - val_loss: 1.6442 - val_accuracy: 0.3444\n",
            "Epoch 18/20\n",
            "19/19 [==============================] - 1018s 54s/step - loss: 2.0014 - accuracy: 0.3475 - val_loss: 1.6172 - val_accuracy: 0.3576\n",
            "Epoch 19/20\n",
            "19/19 [==============================] - 1015s 54s/step - loss: 2.0496 - accuracy: 0.3409 - val_loss: 1.6158 - val_accuracy: 0.3642\n",
            "Epoch 20/20\n",
            "19/19 [==============================] - 1018s 54s/step - loss: 2.0311 - accuracy: 0.3222 - val_loss: 1.6067 - val_accuracy: 0.3841\n"
          ],
          "name": "stdout"
        },
        {
          "output_type": "display_data",
          "data": {
            "image/png": "[encoded data removed]",
            "text/plain": [
              "<Figure size 432x288 with 1 Axes>"
            ]
          },
          "metadata": {
            "tags": [],
            "needs_background": "light"
          }
        }
      ]
    },
    {
      "cell_type": "code",
      "metadata": {
        "id": "MQvaOR6l_9f6",
        "colab": {
          "base_uri": "https://localhost:8080/"
        },
        "outputId": "12bb819a-3b95-4260-99be-c9aa4e495862"
      },
      "source": [
        "from sklearn.metrics import classification_report\n",
        "from sklearn.metrics import accuracy_score\n",
        "y_pred = model.predict(X_test) \n",
        "y_pred = np.argmax(y_pred, axis = 1)\n",
        "y_test = np.argmax(y_test, axis = 1)\n",
        " \n",
        "print(classification_report(y_test, y_pred))\n",
        "\n",
        "print('accuracy score : {}'.format(accuracy_score(y_pred, y_test)))\n"
      ],
      "execution_count": 20,
      "outputs": [
        {
          "output_type": "stream",
          "text": [
            "              precision    recall  f1-score   support\n",
            "\n",
            "           0       0.71      0.33      0.45        15\n",
            "           1       0.38      0.38      0.38        55\n",
            "           2       0.67      0.06      0.11        33\n",
            "           3       0.69      0.27      0.39        33\n",
            "           4       0.24      0.76      0.37        34\n",
            "           5       0.33      0.05      0.09        19\n",
            "\n",
            "    accuracy                           0.34       189\n",
            "   macro avg       0.50      0.31      0.30       189\n",
            "weighted avg       0.48      0.34      0.31       189\n",
            "\n",
            "accuracy score : 0.3386243386243386\n"
          ],
          "name": "stdout"
        }
      ]
    },
    {
      "cell_type": "code",
      "metadata": {
        "id": "Pld5XtLH_9jC"
      },
      "source": [
        ""
      ],
      "execution_count": null,
      "outputs": []
    },
    {
      "cell_type": "code",
      "metadata": {
        "id": "ZCfk5lqU_9mr"
      },
      "source": [
        ""
      ],
      "execution_count": null,
      "outputs": []
    },
    {
      "cell_type": "code",
      "metadata": {
        "id": "n76YdAYL_9pz"
      },
      "source": [
        ""
      ],
      "execution_count": null,
      "outputs": []
    },
    {
      "cell_type": "code",
      "metadata": {
        "id": "RC0rMH9k_9tb"
      },
      "source": [
        ""
      ],
      "execution_count": null,
      "outputs": []
    }
  ]
}
