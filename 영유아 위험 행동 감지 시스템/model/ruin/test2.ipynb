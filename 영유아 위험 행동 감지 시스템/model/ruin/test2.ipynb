{
  "nbformat": 4,
  "nbformat_minor": 0,
  "metadata": {
    "colab": {
      "name": "child.ipynb의 사본의 사본",
      "provenance": [],
      "collapsed_sections": []
    },
    "kernelspec": {
      "display_name": "Python 3",
      "name": "python3"
    },
    "language_info": {
      "name": "python"
    }
  },
  "cells": [
    {
      "cell_type": "code",
      "metadata": {
        "colab": {
          "base_uri": "https://localhost:8080/"
        },
        "id": "CwzXcD_Admbi",
        "outputId": "ae9002ee-2eec-47ca-bb70-401612a04080"
      },
      "source": [
        "pip install keras_metrics"
      ],
      "execution_count": 1,
      "outputs": [
        {
          "output_type": "stream",
          "text": [
            "Collecting keras_metrics\n",
            "  Downloading keras_metrics-1.1.0-py2.py3-none-any.whl (5.6 kB)\n",
            "Requirement already satisfied: Keras>=2.1.5 in /usr/local/lib/python3.7/dist-packages (from keras_metrics) (2.4.3)\n",
            "Requirement already satisfied: scipy>=0.14 in /usr/local/lib/python3.7/dist-packages (from Keras>=2.1.5->keras_metrics) (1.4.1)\n",
            "Requirement already satisfied: numpy>=1.9.1 in /usr/local/lib/python3.7/dist-packages (from Keras>=2.1.5->keras_metrics) (1.19.5)\n",
            "Requirement already satisfied: h5py in /usr/local/lib/python3.7/dist-packages (from Keras>=2.1.5->keras_metrics) (3.1.0)\n",
            "Requirement already satisfied: pyyaml in /usr/local/lib/python3.7/dist-packages (from Keras>=2.1.5->keras_metrics) (3.13)\n",
            "Requirement already satisfied: cached-property in /usr/local/lib/python3.7/dist-packages (from h5py->Keras>=2.1.5->keras_metrics) (1.5.2)\n",
            "Installing collected packages: keras-metrics\n",
            "Successfully installed keras-metrics-1.1.0\n"
          ],
          "name": "stdout"
        }
      ]
    },
    {
      "cell_type": "code",
      "metadata": {
        "id": "uCKbct4rc_Tq"
      },
      "source": [
        "import keras\n",
        "from keras import applications\n",
        "from keras.preprocessing.image import ImageDataGenerator\n",
        "from keras import optimizers\n",
        "from keras.models import Sequential, Model \n",
        "from keras.layers import *\n",
        "from keras.callbacks import ModelCheckpoint, LearningRateScheduler, TensorBoard, EarlyStopping\n",
        "import os\n",
        "import cv2\n",
        "import numpy as np\n",
        "from sklearn.model_selection import train_test_split\n",
        "import keras_metrics as km\n",
        "from keras import regularizers, optimizers\n",
        "from keras.callbacks import ModelCheckpoint\n",
        "from sklearn.metrics import precision_score\n",
        "from sklearn.metrics import recall_score\n",
        "from sklearn.metrics import f1_score\n",
        "from sklearn.metrics import cohen_kappa_score\n",
        "from sklearn.metrics import roc_auc_score\n",
        "from sklearn.metrics import multilabel_confusion_matrix\n",
        "from sklearn.metrics import accuracy_score\n",
        "from sklearn.metrics import classification_report\n"
      ],
      "execution_count": 2,
      "outputs": []
    },
    {
      "cell_type": "code",
      "metadata": {
        "colab": {
          "base_uri": "https://localhost:8080/"
        },
        "id": "XoCCA82ik7Rh",
        "outputId": "0e83eac5-dfbd-4d79-dcc6-5214e5f10e54"
      },
      "source": [
        "from google.colab import drive\n",
        "drive.mount('/content/gdrive')"
      ],
      "execution_count": 3,
      "outputs": [
        {
          "output_type": "stream",
          "text": [
            "Mounted at /content/gdrive\n"
          ],
          "name": "stdout"
        }
      ]
    },
    {
      "cell_type": "code",
      "metadata": {
        "id": "jXnT3bFCdtYE"
      },
      "source": [
        "data_dir =\"/content/gdrive/My Drive/video_data\"\n",
        "img_height , img_width = 64, 64\n",
        "seq_len = 16"
      ],
      "execution_count": 4,
      "outputs": []
    },
    {
      "cell_type": "code",
      "metadata": {
        "id": "P-7-9zcOd3BR"
      },
      "source": [
        "classes = [ 'climb', 'fall', 'grab', 'mouth', 'walk','fall_down','eat', 'sit']"
      ],
      "execution_count": 5,
      "outputs": []
    },
    {
      "cell_type": "code",
      "metadata": {
        "id": "rj3Uqxogd3Fp"
      },
      "source": [
        "def frames_extraction(video_path):\n",
        "    frames_list = []\n",
        "     \n",
        "    vidObj = cv2.VideoCapture(video_path)\n",
        "    # Used as counter variable \n",
        "    count = 1\n",
        " \n",
        "    while count <= seq_len: \n",
        "         \n",
        "        success, image = vidObj.read() \n",
        "        if success:\n",
        "            image = cv2.resize(image, (img_height, img_width))\n",
        "            frames_list.append(image)\n",
        "            count += 1\n",
        "        else:\n",
        "            print(\"Defected frame\")\n",
        "            break\n",
        " \n",
        "            \n",
        "    return frames_list"
      ],
      "execution_count": 6,
      "outputs": []
    },
    {
      "cell_type": "code",
      "metadata": {
        "id": "4J4-yp0Cd3Ik"
      },
      "source": [
        "def create_data(input_dir):\n",
        "    X = []\n",
        "    Y = []\n",
        "     \n",
        "    classes_list = os.listdir(input_dir)\n",
        "     \n",
        "    for c in classes_list:\n",
        "        print(c)\n",
        "        files_list = os.listdir(os.path.join(input_dir, c))\n",
        "        for f in files_list:\n",
        "            frames = frames_extraction(os.path.join(os.path.join(input_dir, c), f))\n",
        "            if len(frames) == seq_len:\n",
        "                X.append(frames)\n",
        "             \n",
        "                y = [0]*len(classes)\n",
        "                y[classes.index(c)] = 1\n",
        "                Y.append(y)\n",
        "     \n",
        "    X = np.asarray(X)\n",
        "    Y = np.asarray(Y)\n",
        "    return X, Y"
      ],
      "execution_count": 7,
      "outputs": []
    },
    {
      "cell_type": "code",
      "metadata": {
        "id": "95ZDQU2KteZX"
      },
      "source": [
        "def schedular(epochs):\n",
        "  if epochs < 10:\n",
        "    return 0.001\n",
        "\n",
        "  else:\n",
        "    return 0.001 * math.exp(0.1*(10-epochs))\n",
        "\n",
        "  learning_rate_schedular= tf.keras.callbacks.LearningRateScheduler(schedular)"
      ],
      "execution_count": 8,
      "outputs": []
    },
    {
      "cell_type": "code",
      "metadata": {
        "id": "9iJZeRIr7gLs"
      },
      "source": [
        " \n",
        "X, Y = create_data(data_dir)\n",
        " \n",
        "X_train, X_test, y_train, y_test = train_test_split(X, Y, test_size=0.20, shuffle=True, random_state=0)"
      ],
      "execution_count": null,
      "outputs": []
    },
    {
      "cell_type": "code",
      "metadata": {
        "colab": {
          "base_uri": "https://localhost:8080/"
        },
        "id": "6snap29Pd3Ld",
        "outputId": "2b7c870d-cee9-4f86-8b79-1f172945c7b9"
      },
      "source": [
        "\n",
        " \n",
        "model = Sequential()\n",
        "\n",
        "model.add(ConvLSTM2D(filters = 64, kernel_size = (3, 3), strides=(2,2), return_sequences = False, padding= 'same', activation= 'relu', data_format = \"channels_last\", input_shape = (seq_len, img_height, img_width, 3)))\n",
        "model.add(BatchNormalization())\n",
        "\n",
        "model.add(Dropout(0.2))\n",
        "model.add(Flatten())\n",
        "\n",
        "model.add(Dense(256, activation=\"relu\"))\n",
        "model.add(Dropout(0.3))\n",
        "\n",
        "\n",
        "model.add(Dense(8, activation = \"softmax\"))\n",
        "\n",
        "\n",
        " \n",
        "model.summary()"
      ],
      "execution_count": 10,
      "outputs": [
        {
          "output_type": "stream",
          "text": [
            "climb\n",
            "walk\n",
            "Defected frame\n",
            "Defected frame\n",
            "grab\n",
            "fall\n",
            "mouth\n",
            "eat\n",
            "fall_down\n",
            "sit\n",
            "Model: \"sequential\"\n",
            "_________________________________________________________________\n",
            "Layer (type)                 Output Shape              Param #   \n",
            "=================================================================\n",
            "conv_lst_m2d (ConvLSTM2D)    (None, 32, 32, 64)        154624    \n",
            "_________________________________________________________________\n",
            "batch_normalization (BatchNo (None, 32, 32, 64)        256       \n",
            "_________________________________________________________________\n",
            "dropout (Dropout)            (None, 32, 32, 64)        0         \n",
            "_________________________________________________________________\n",
            "flatten (Flatten)            (None, 65536)             0         \n",
            "_________________________________________________________________\n",
            "dense (Dense)                (None, 256)               16777472  \n",
            "_________________________________________________________________\n",
            "dropout_1 (Dropout)          (None, 256)               0         \n",
            "_________________________________________________________________\n",
            "dense_1 (Dense)              (None, 8)                 2056      \n",
            "=================================================================\n",
            "Total params: 16,934,408\n",
            "Trainable params: 16,934,280\n",
            "Non-trainable params: 128\n",
            "_________________________________________________________________\n"
          ],
          "name": "stdout"
        }
      ]
    },
    {
      "cell_type": "code",
      "metadata": {
        "id": "McH98lX4pKog",
        "colab": {
          "base_uri": "https://localhost:8080/",
          "height": 130
        },
        "outputId": "02cab5bb-7feb-48f9-cb27-8062855f000a"
      },
      "source": [
        "print(Defected frame)"
      ],
      "execution_count": null,
      "outputs": [
        {
          "output_type": "error",
          "ename": "SyntaxError",
          "evalue": "ignored",
          "traceback": [
            "\u001b[0;36m  File \u001b[0;32m\"<ipython-input-19-7ea0ea523d7e>\"\u001b[0;36m, line \u001b[0;32m1\u001b[0m\n\u001b[0;31m    print(Defected frame)\u001b[0m\n\u001b[0m                       ^\u001b[0m\n\u001b[0;31mSyntaxError\u001b[0m\u001b[0;31m:\u001b[0m invalid syntax\n"
          ]
        }
      ]
    },
    {
      "cell_type": "code",
      "metadata": {
        "colab": {
          "base_uri": "https://localhost:8080/"
        },
        "id": "wEcWT8p_hBmy",
        "outputId": "cd0db849-ce44-4bf0-c292-555a79f44ec6"
      },
      "source": [
        "opt = keras.optimizers.Adam(lr=0.001)\n",
        "model.compile(loss='categorical_crossentropy', optimizer=opt, metrics=[\"accuracy\"])\n",
        " \n",
        "earlystop = EarlyStopping(patience=7)\n",
        "callbacks = [earlystop]\n",
        " \n",
        "history = model.fit(x = X_train, y = y_train, epochs=10, batch_size = 16 , shuffle=True, validation_split=0.2, callbacks=callbacks)\n",
        " \n",
        "y_pred = model.predict(X_test) \n",
        "y_pred = np.argmax(y_pred, axis = 1)\n",
        "y_test = np.argmax(y_test, axis = 1)\n",
        " \n",
        "print(classification_report(y_test, y_pred))"
      ],
      "execution_count": 11,
      "outputs": [
        {
          "output_type": "stream",
          "text": [
            "/usr/local/lib/python3.7/dist-packages/tensorflow/python/keras/optimizer_v2/optimizer_v2.py:375: UserWarning: The `lr` argument is deprecated, use `learning_rate` instead.\n",
            "  \"The `lr` argument is deprecated, use `learning_rate` instead.\")\n"
          ],
          "name": "stderr"
        },
        {
          "output_type": "stream",
          "text": [
            "Epoch 1/10\n",
            "35/35 [==============================] - 290s 8s/step - loss: 6.6099 - accuracy: 0.2313 - val_loss: 57.5594 - val_accuracy: 0.2446\n",
            "Epoch 2/10\n",
            "35/35 [==============================] - 265s 8s/step - loss: 3.3271 - accuracy: 0.4458 - val_loss: 50.3845 - val_accuracy: 0.2806\n",
            "Epoch 3/10\n",
            "35/35 [==============================] - 266s 8s/step - loss: 4.6119 - accuracy: 0.4807 - val_loss: 344.8374 - val_accuracy: 0.2878\n",
            "Epoch 4/10\n",
            "35/35 [==============================] - 268s 8s/step - loss: 5.6821 - accuracy: 0.3333 - val_loss: 318.3472 - val_accuracy: 0.3022\n",
            "Epoch 5/10\n",
            "35/35 [==============================] - 268s 8s/step - loss: 5.2281 - accuracy: 0.2493 - val_loss: 90.8960 - val_accuracy: 0.1151\n",
            "Epoch 6/10\n",
            "35/35 [==============================] - 266s 8s/step - loss: 2.9152 - accuracy: 0.2345 - val_loss: 4.3695 - val_accuracy: 0.2230\n",
            "Epoch 7/10\n",
            "35/35 [==============================] - 266s 8s/step - loss: 2.0235 - accuracy: 0.2569 - val_loss: 2.2630 - val_accuracy: 0.2374\n",
            "Epoch 8/10\n",
            "35/35 [==============================] - 265s 8s/step - loss: 1.9661 - accuracy: 0.2550 - val_loss: 2.0489 - val_accuracy: 0.2662\n",
            "Epoch 9/10\n",
            "35/35 [==============================] - 265s 8s/step - loss: 1.9555 - accuracy: 0.2887 - val_loss: 1.9560 - val_accuracy: 0.2950\n",
            "Epoch 10/10\n",
            "35/35 [==============================] - 262s 8s/step - loss: 1.8670 - accuracy: 0.2638 - val_loss: 2.1400 - val_accuracy: 0.3022\n",
            "              precision    recall  f1-score   support\n",
            "\n",
            "           0       0.00      0.00      0.00         5\n",
            "           1       0.00      0.00      0.00        17\n",
            "           2       0.00      0.00      0.00        26\n",
            "           3       0.00      0.00      0.00        31\n",
            "           4       0.21      0.97      0.34        37\n",
            "           5       0.00      0.00      0.00        41\n",
            "           6       0.00      0.00      0.00         4\n",
            "           7       0.00      0.00      0.00        13\n",
            "\n",
            "    accuracy                           0.21       174\n",
            "   macro avg       0.03      0.12      0.04       174\n",
            "weighted avg       0.04      0.21      0.07       174\n",
            "\n"
          ],
          "name": "stdout"
        },
        {
          "output_type": "stream",
          "text": [
            "/usr/local/lib/python3.7/dist-packages/sklearn/metrics/_classification.py:1272: UndefinedMetricWarning: Precision and F-score are ill-defined and being set to 0.0 in labels with no predicted samples. Use `zero_division` parameter to control this behavior.\n",
            "  _warn_prf(average, modifier, msg_start, len(result))\n"
          ],
          "name": "stderr"
        }
      ]
    },
    {
      "cell_type": "code",
      "metadata": {
        "id": "h0fw0bM7vip7"
      },
      "source": [
        ""
      ],
      "execution_count": null,
      "outputs": []
    },
    {
      "cell_type": "code",
      "metadata": {
        "colab": {
          "base_uri": "https://localhost:8080/",
          "height": 279
        },
        "id": "EZJy5b0nSJ1t",
        "outputId": "582a5def-763a-415e-95c5-acf8f77b5220"
      },
      "source": [
        "import matplotlib.pyplot as plt\n",
        "plt.plot(history.history['loss'])\n",
        "plt.plot(history.history['val_loss'])\n",
        "plt.plot(history.history['accuracy'])\n",
        "plt.plot(history.history['val_accuracy'])\n",
        "\n",
        "\n",
        "plt.xlabel('epoch')\n",
        "plt.ylabel('loss')\n",
        "plt.legend(['train','val','accuracy','val_acc'])\n",
        "plt.show()"
      ],
      "execution_count": 15,
      "outputs": [
        {
          "output_type": "display_data",
          "data": {
            "image/png": "[encoded data removed]",
            "text/plain": [
              "<Figure size 432x288 with 1 Axes>"
            ]
          },
          "metadata": {
            "tags": [],
            "needs_background": "light"
          }
        }
      ]
    },
    {
      "cell_type": "code",
      "metadata": {
        "colab": {
          "base_uri": "https://localhost:8080/",
          "height": 232
        },
        "id": "zDbODmymShPr",
        "outputId": "968b0dd2-de24-4a3a-baa4-6fe5706cfd58"
      },
      "source": [
        "def plot_history(histories, key='binary_crossentropy'):\n",
        "  plt.figure(figsize=(16,10))\n",
        "\n",
        "  for name, history in histories:\n",
        "    val = plt.plot(history.epoch, history.history['val_'+key],\n",
        "                   '--', label=name.title()+' Val')\n",
        "    plt.plot(history.epoch, history.history[key], color=val[0].get_color(),\n",
        "             label=name.title()+' Train')\n",
        "\n",
        "  plt.xlabel('Epochs')\n",
        "  plt.ylabel(key.replace('_',' ').title())\n",
        "  plt.legend()\n",
        "\n",
        "  plt.xlim([0,max(history.epoch)])\n",
        "\n",
        "\n",
        "plot_history([('baseline', baseline_history),\n",
        "              ('smaller', smaller_history),\n",
        "              ('bigger', bigger_history)])"
      ],
      "execution_count": null,
      "outputs": [
        {
          "output_type": "error",
          "ename": "NameError",
          "evalue": "ignored",
          "traceback": [
            "\u001b[0;31m---------------------------------------------------------------------------\u001b[0m",
            "\u001b[0;31mNameError\u001b[0m                                 Traceback (most recent call last)",
            "\u001b[0;32m<ipython-input-23-f4b5585a7c99>\u001b[0m in \u001b[0;36m<module>\u001b[0;34m()\u001b[0m\n\u001b[1;32m     15\u001b[0m \u001b[0;34m\u001b[0m\u001b[0m\n\u001b[1;32m     16\u001b[0m \u001b[0;34m\u001b[0m\u001b[0m\n\u001b[0;32m---> 17\u001b[0;31m plot_history([('baseline', baseline_history),\n\u001b[0m\u001b[1;32m     18\u001b[0m               \u001b[0;34m(\u001b[0m\u001b[0;34m'smaller'\u001b[0m\u001b[0;34m,\u001b[0m \u001b[0msmaller_history\u001b[0m\u001b[0;34m)\u001b[0m\u001b[0;34m,\u001b[0m\u001b[0;34m\u001b[0m\u001b[0;34m\u001b[0m\u001b[0m\n\u001b[1;32m     19\u001b[0m               ('bigger', bigger_history)])\n",
            "\u001b[0;31mNameError\u001b[0m: name 'baseline_history' is not defined"
          ]
        }
      ]
    }
  ]
}
