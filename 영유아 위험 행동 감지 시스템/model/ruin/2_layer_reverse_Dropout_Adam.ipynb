{
  "nbformat": 4,
  "nbformat_minor": 0,
  "metadata": {
    "colab": {
      "name": "2-layer-reverse-Dropout-Adam.ipynb",
      "provenance": [],
      "collapsed_sections": [],
      "machine_shape": "hm"
    },
    "kernelspec": {
      "display_name": "Python 3",
      "name": "python3"
    },
    "language_info": {
      "name": "python"
    }
  },
  "cells": [
    {
      "cell_type": "code",
      "metadata": {
        "id": "IXdBId7c_R3K"
      },
      "source": [
        "import keras\n",
        "from keras import applications\n",
        "from keras.preprocessing.image import ImageDataGenerator\n",
        "from keras import optimizers\n",
        "from keras.models import Sequential, Model \n",
        "from keras.layers import *\n",
        "from keras.callbacks import ModelCheckpoint, LearningRateScheduler, TensorBoard, EarlyStopping\n",
        "import os\n",
        "import cv2\n",
        "import numpy as np\n",
        "from sklearn.model_selection import train_test_split\n",
        "# import keras_metrics as km\n",
        "from keras import regularizers, optimizers\n",
        "from keras.callbacks import ModelCheckpoint\n",
        "from sklearn.metrics import precision_score\n",
        "from sklearn.metrics import recall_score\n",
        "from sklearn.metrics import f1_score\n",
        "from sklearn.metrics import cohen_kappa_score\n",
        "from sklearn.metrics import roc_auc_score\n",
        "from sklearn.metrics import multilabel_confusion_matrix\n",
        "from sklearn.metrics import accuracy_score\n",
        "import math"
      ],
      "execution_count": 1,
      "outputs": []
    },
    {
      "cell_type": "code",
      "metadata": {
        "id": "zR_UtZPd_gCj"
      },
      "source": [
        "data_dir = \"/content/drive/MyDrive/video_data\"\n",
        "img_height , img_width = 64, 64\n",
        "seq_len = 16"
      ],
      "execution_count": 2,
      "outputs": []
    },
    {
      "cell_type": "code",
      "metadata": {
        "colab": {
          "base_uri": "https://localhost:8080/"
        },
        "id": "LESEF8Qf_gK2",
        "outputId": "55803214-205b-4bc4-f50b-2341ec922926"
      },
      "source": [
        "from google.colab import drive\n",
        "drive.mount('/content/drive')"
      ],
      "execution_count": 3,
      "outputs": [
        {
          "output_type": "stream",
          "text": [
            "Mounted at /content/drive\n"
          ],
          "name": "stdout"
        }
      ]
    },
    {
      "cell_type": "code",
      "metadata": {
        "id": "ZTDSq5Rx_gPE"
      },
      "source": [
        "classes = [\"fall\", \"fall_down\", \"grab\", \"swallow\", \"walk\",\"sit\"]"
      ],
      "execution_count": 4,
      "outputs": []
    },
    {
      "cell_type": "code",
      "metadata": {
        "id": "I0TeKmFu_gS2"
      },
      "source": [
        "def frames_extraction(video_path):\n",
        "    frames_list = []\n",
        "     \n",
        "    vidcap = cv2.VideoCapture(video_path)\n",
        "    total_frames = vidcap.get(cv2.CAP_PROP_FRAME_COUNT)\n",
        "\n",
        "    frames_step = total_frames//seq_len\n",
        " \n",
        "    for j in range(seq_len):\n",
        "        #here, we set the parameter 1 which is the frame number to the frame (i*frames_step)\n",
        "        vidcap.set(1,j*frames_step)\n",
        "        success,image = vidcap.read()  \n",
        "        #save your image\n",
        "        if success:\n",
        "          image = cv2.resize(image, (img_height, img_width))\n",
        "          frames_list.append(image)\n",
        "        else:\n",
        "          print(\"Defected frame {}\".format(video_path))\n",
        "          break\n",
        "\n",
        "    return frames_list"
      ],
      "execution_count": 5,
      "outputs": []
    },
    {
      "cell_type": "code",
      "metadata": {
        "id": "m3-WczJ9_gXK"
      },
      "source": [
        "def create_data(input_dir):\n",
        "    X = []\n",
        "    Y = []\n",
        "     \n",
        "    classes_list = os.listdir(input_dir)\n",
        "     \n",
        "    for c in classes_list:\n",
        "        print(c)\n",
        "        files_list = os.listdir(os.path.join(input_dir, c))\n",
        "        for f in files_list:\n",
        "            frames = frames_extraction(os.path.join(os.path.join(input_dir, c), f))\n",
        "            if len(frames) == seq_len:\n",
        "                X.append(frames)\n",
        "             \n",
        "                y = [0]*len(classes)\n",
        "                y[classes.index(c)] = 1\n",
        "                Y.append(y)\n",
        "     \n",
        "    X = np.asarray(X)\n",
        "    Y = np.asarray(Y)\n",
        "    return X, Y"
      ],
      "execution_count": 6,
      "outputs": []
    },
    {
      "cell_type": "code",
      "metadata": {
        "colab": {
          "base_uri": "https://localhost:8080/"
        },
        "id": "Iy5FYuFc_gbC",
        "outputId": "152f7918-550b-450e-b83c-16c4de5b8340"
      },
      "source": [
        "X, Y = create_data(data_dir)\n",
        " \n",
        "X_train, X_test, y_train, y_test = train_test_split(X, Y, test_size=0.20, shuffle=True, random_state=0)"
      ],
      "execution_count": 7,
      "outputs": [
        {
          "output_type": "stream",
          "text": [
            "walk\n",
            "Defected frame /content/drive/MyDrive/video_data/walk/135.mov\n",
            "Defected frame /content/drive/MyDrive/video_data/walk/143.mov\n",
            "Defected frame /content/drive/MyDrive/video_data/walk/101.mov\n",
            "fall_down\n",
            "Defected frame /content/drive/MyDrive/video_data/fall_down/145.mov\n",
            "Defected frame /content/drive/MyDrive/video_data/fall_down/143.mov\n",
            "Defected frame /content/drive/MyDrive/video_data/fall_down/172.mov\n",
            "Defected frame /content/drive/MyDrive/video_data/fall_down/21.mov\n",
            "Defected frame /content/drive/MyDrive/video_data/fall_down/26.mov\n",
            "Defected frame /content/drive/MyDrive/video_data/fall_down/46.mov\n",
            "Defected frame /content/drive/MyDrive/video_data/fall_down/52.mov\n",
            "Defected frame /content/drive/MyDrive/video_data/fall_down/57.mov\n",
            "Defected frame /content/drive/MyDrive/video_data/fall_down/81.mov\n",
            "swallow\n",
            "Defected frame /content/drive/MyDrive/video_data/swallow/47.mov\n",
            "Defected frame /content/drive/MyDrive/video_data/swallow/70.mov\n",
            "Defected frame /content/drive/MyDrive/video_data/swallow/79_crop (online-video-cutter.com).mp4\n",
            "Defected frame /content/drive/MyDrive/video_data/swallow/80 (online-video-cutter.com).mp4\n",
            "Defected frame /content/drive/MyDrive/video_data/swallow/81_crop (online-video-cutter.com).mp4\n",
            "Defected frame /content/drive/MyDrive/video_data/swallow/82_crop (online-video-cutter.com).mp4\n",
            "Defected frame /content/drive/MyDrive/video_data/swallow/83_crop (online-video-cutter.com).mp4\n",
            "fall\n",
            "grab\n",
            "Defected frame /content/drive/MyDrive/video_data/grab/98_crop (online-video-cutter.com).mp4\n",
            "Defected frame /content/drive/MyDrive/video_data/grab/99 (online-video-cutter.com).mp4\n",
            "Defected frame /content/drive/MyDrive/video_data/grab/102_crop (online-video-cutter.com).mp4\n",
            "Defected frame /content/drive/MyDrive/video_data/grab/103_crop (online-video-cutter.com).mp4\n",
            "Defected frame /content/drive/MyDrive/video_data/grab/106_crop (online-video-cutter.com).mp4\n",
            "Defected frame /content/drive/MyDrive/video_data/grab/109_crop (online-video-cutter.com).mp4\n",
            "Defected frame /content/drive/MyDrive/video_data/grab/110_crop (online-video-cutter.com).mp4\n",
            "Defected frame /content/drive/MyDrive/video_data/grab/112_crop (online-video-cutter.com).mp4\n",
            "Defected frame /content/drive/MyDrive/video_data/grab/113 (online-video-cutter.com).mp4\n",
            "Defected frame /content/drive/MyDrive/video_data/grab/115 (online-video-cutter.com).mp4\n",
            "Defected frame /content/drive/MyDrive/video_data/grab/116 (online-video-cutter.com).mp4\n",
            "Defected frame /content/drive/MyDrive/video_data/grab/156 (online-video-cutter.com).mp4\n",
            "sit\n"
          ],
          "name": "stdout"
        }
      ]
    },
    {
      "cell_type": "code",
      "metadata": {
        "colab": {
          "base_uri": "https://localhost:8080/"
        },
        "id": "Mf6pzqhu_ge0",
        "outputId": "0bc222d6-4182-4392-c3dc-b0b43955a268"
      },
      "source": [
        "model = Sequential()\n",
        "model.add(ConvLSTM2D(filters = 64, kernel_size = (3, 3), return_sequences = True, padding = 'same', data_format = \"channels_last\", input_shape = (seq_len, img_height, img_width, 3)))\n",
        "model.add(ConvLSTM2D(filters = 64, kernel_size = (3, 3), return_sequences = True, padding = 'same', data_format = \"channels_last\"))\n",
        "model.add(BatchNormalization())\n",
        "model.add(Dropout(0.5))\n",
        "\n",
        "\n",
        "model.add(ConvLSTM2D(filters = 32, kernel_size = (3, 3), return_sequences = True, padding = 'same', data_format = \"channels_last\"))\n",
        "model.add(ConvLSTM2D(filters = 32, kernel_size = (3, 3), return_sequences = False, padding = 'same', data_format = \"channels_last\"))\n",
        "model.add(BatchNormalization())\n",
        "model.add(Dropout(0.5))\n",
        "\n",
        "model.add(Flatten())\n",
        "model.add(Dense(256, activation=\"relu\"))\n",
        "model.add(Dropout(0.3))\n",
        "model.add(Dense(6, activation = \"softmax\"))\n",
        " \n",
        "model.summary()"
      ],
      "execution_count": 8,
      "outputs": [
        {
          "output_type": "stream",
          "text": [
            "Model: \"sequential\"\n",
            "_________________________________________________________________\n",
            "Layer (type)                 Output Shape              Param #   \n",
            "=================================================================\n",
            "conv_lst_m2d (ConvLSTM2D)    (None, 16, 64, 64, 64)    154624    \n",
            "_________________________________________________________________\n",
            "conv_lst_m2d_1 (ConvLSTM2D)  (None, 16, 64, 64, 64)    295168    \n",
            "_________________________________________________________________\n",
            "batch_normalization (BatchNo (None, 16, 64, 64, 64)    256       \n",
            "_________________________________________________________________\n",
            "dropout (Dropout)            (None, 16, 64, 64, 64)    0         \n",
            "_________________________________________________________________\n",
            "conv_lst_m2d_2 (ConvLSTM2D)  (None, 16, 64, 64, 32)    110720    \n",
            "_________________________________________________________________\n",
            "conv_lst_m2d_3 (ConvLSTM2D)  (None, 64, 64, 32)        73856     \n",
            "_________________________________________________________________\n",
            "batch_normalization_1 (Batch (None, 64, 64, 32)        128       \n",
            "_________________________________________________________________\n",
            "dropout_1 (Dropout)          (None, 64, 64, 32)        0         \n",
            "_________________________________________________________________\n",
            "flatten (Flatten)            (None, 131072)            0         \n",
            "_________________________________________________________________\n",
            "dense (Dense)                (None, 256)               33554688  \n",
            "_________________________________________________________________\n",
            "dropout_2 (Dropout)          (None, 256)               0         \n",
            "_________________________________________________________________\n",
            "dense_1 (Dense)              (None, 6)                 1542      \n",
            "=================================================================\n",
            "Total params: 34,190,982\n",
            "Trainable params: 34,190,790\n",
            "Non-trainable params: 192\n",
            "_________________________________________________________________\n"
          ],
          "name": "stdout"
        }
      ]
    },
    {
      "cell_type": "code",
      "metadata": {
        "id": "LCu4C-_L_gim"
      },
      "source": [
        "def schedular(epoch):\n",
        "  if epoch < 10:\n",
        "    return 0.001\n",
        "  else:\n",
        "    return 0.001 * math.exp(0.1*(10-epoch))"
      ],
      "execution_count": 9,
      "outputs": []
    },
    {
      "cell_type": "code",
      "metadata": {
        "colab": {
          "base_uri": "https://localhost:8080/"
        },
        "id": "P5v1Glql_gmT",
        "outputId": "a9a99ad8-8517-4c2a-9a09-830ae4f69fbd"
      },
      "source": [
        "opt = optimizers.Adam(lr=0.001)\n",
        "model.compile(loss='categorical_crossentropy', optimizer=opt, metrics=[\"accuracy\"])\n",
        " \n",
        "earlystop = EarlyStopping(patience=7)\n",
        "callbacks = tf.keras.callbacks.LearningRateScheduler(schedular)\n",
        " \n",
        "history = model.fit(x = X_train, y = y_train, epochs=20, batch_size = 32, shuffle=True, validation_split=0.2, callbacks=[callbacks])\n",
        "\n",
        "import matplotlib.pyplot as plt\n",
        "plt.plot(history.history['loss'])\n",
        "plt.plot(history.history['val_loss'])\n",
        "plt.plot(history.history['accuracy'])\n",
        "plt.plot(history.history['val_accuracy'])\n",
        "plt.xlabel('epoch')\n",
        "plt.ylabel('loss')\n",
        "plt.legend(['train', 'val','accuracy','val_accuracy'])\n",
        "plt.show()\n"
      ],
      "execution_count": null,
      "outputs": [
        {
          "output_type": "stream",
          "text": [
            "/usr/local/lib/python3.7/dist-packages/tensorflow/python/keras/optimizer_v2/optimizer_v2.py:375: UserWarning: The `lr` argument is deprecated, use `learning_rate` instead.\n",
            "  \"The `lr` argument is deprecated, use `learning_rate` instead.\")\n"
          ],
          "name": "stderr"
        },
        {
          "output_type": "stream",
          "text": [
            "Epoch 1/20\n",
            "19/19 [==============================] - 2098s 109s/step - loss: 10.6885 - accuracy: 0.2091 - val_loss: 17.9129 - val_accuracy: 0.1141\n",
            "Epoch 2/20\n",
            "19/19 [==============================] - 2029s 107s/step - loss: 2.0375 - accuracy: 0.3538 - val_loss: 2.9218 - val_accuracy: 0.2550\n",
            "Epoch 3/20\n",
            "19/19 [==============================] - 2024s 107s/step - loss: 1.6324 - accuracy: 0.3619 - val_loss: 8.6866 - val_accuracy: 0.3087\n",
            "Epoch 4/20\n",
            "19/19 [==============================] - 2026s 107s/step - loss: 1.6528 - accuracy: 0.3513 - val_loss: 5.3754 - val_accuracy: 0.3221\n",
            "Epoch 5/20\n",
            "19/19 [==============================] - 2044s 108s/step - loss: 1.6354 - accuracy: 0.3425 - val_loss: 1.5996 - val_accuracy: 0.3087\n",
            "Epoch 6/20\n",
            "19/19 [==============================] - 2058s 109s/step - loss: 1.6209 - accuracy: 0.3584 - val_loss: 1.6146 - val_accuracy: 0.3691\n",
            "Epoch 7/20\n",
            "19/19 [==============================] - 2051s 108s/step - loss: 1.4903 - accuracy: 0.3985 - val_loss: 2.0842 - val_accuracy: 0.1611\n",
            "Epoch 8/20\n",
            "19/19 [==============================] - 2033s 107s/step - loss: 1.6276 - accuracy: 0.3643 - val_loss: 5.2605 - val_accuracy: 0.3087\n",
            "Epoch 9/20\n",
            "19/19 [==============================] - 2017s 106s/step - loss: 1.5683 - accuracy: 0.4119 - val_loss: 10.3702 - val_accuracy: 0.2416\n",
            "Epoch 10/20\n",
            "19/19 [==============================] - 2028s 107s/step - loss: 1.6515 - accuracy: 0.4002 - val_loss: 20.5752 - val_accuracy: 0.2752\n",
            "Epoch 11/20\n",
            "19/19 [==============================] - 2021s 106s/step - loss: 1.4749 - accuracy: 0.4091 - val_loss: 3.7008 - val_accuracy: 0.3423\n",
            "Epoch 12/20\n",
            "19/19 [==============================] - 2020s 106s/step - loss: 1.4001 - accuracy: 0.4323 - val_loss: 2.0235 - val_accuracy: 0.3154\n",
            "Epoch 13/20\n",
            "19/19 [==============================] - 2010s 106s/step - loss: 1.2162 - accuracy: 0.4829 - val_loss: 1.8277 - val_accuracy: 0.3624\n",
            "Epoch 14/20\n",
            "19/19 [==============================] - 2038s 107s/step - loss: 1.1491 - accuracy: 0.4951 - val_loss: 1.7294 - val_accuracy: 0.3423\n",
            "Epoch 15/20\n",
            "19/19 [==============================] - 2006s 106s/step - loss: 1.1692 - accuracy: 0.5105 - val_loss: 1.7193 - val_accuracy: 0.3020\n",
            "Epoch 16/20\n",
            "19/19 [==============================] - 2013s 106s/step - loss: 1.0858 - accuracy: 0.4771 - val_loss: 1.6912 - val_accuracy: 0.4228\n",
            "Epoch 17/20\n",
            "19/19 [==============================] - 2013s 106s/step - loss: 1.0392 - accuracy: 0.5306 - val_loss: 1.5448 - val_accuracy: 0.3356\n",
            "Epoch 18/20\n",
            "19/19 [==============================] - 2042s 108s/step - loss: 0.9321 - accuracy: 0.5197 - val_loss: 1.5438 - val_accuracy: 0.4564\n",
            "Epoch 19/20\n",
            "19/19 [==============================] - 2039s 107s/step - loss: 0.9911 - accuracy: 0.5249 - val_loss: 1.6183 - val_accuracy: 0.4161\n",
            "Epoch 20/20\n",
            "19/19 [==============================] - ETA: 0s - loss: 0.9659 - accuracy: 0.5125  "
          ],
          "name": "stdout"
        }
      ]
    },
    {
      "cell_type": "code",
      "metadata": {
        "id": "omWXPcrM_gqj",
        "colab": {
          "base_uri": "https://localhost:8080/"
        },
        "outputId": "905ee177-115e-44ec-e806-2f66ad092cbd"
      },
      "source": [
        "from sklearn.metrics import classification_report\n",
        "from sklearn.metrics import accuracy_score\n",
        "y_pred = model.predict(X_test) \n",
        "y_pred = np.argmax(y_pred, axis = 1)\n",
        "# y_test = np.argmax(y_test, axis = 1)\n",
        " \n",
        "print(classification_report(y_test, y_pred))\n",
        "\n",
        "print('accuracy score : {}'.format(accuracy_score(y_pred, y_test)))\n"
      ],
      "execution_count": 13,
      "outputs": [
        {
          "output_type": "stream",
          "text": [
            "              precision    recall  f1-score   support\n",
            "\n",
            "           0       1.00      0.45      0.62        20\n",
            "           1       0.38      0.25      0.30        48\n",
            "           2       0.59      0.69      0.64        32\n",
            "           3       0.57      0.61      0.59        33\n",
            "           4       0.35      0.71      0.47        35\n",
            "           5       1.00      0.11      0.19        19\n",
            "\n",
            "    accuracy                           0.48       187\n",
            "   macro avg       0.65      0.47      0.47       187\n",
            "weighted avg       0.57      0.48      0.46       187\n",
            "\n",
            "accuracy score : 0.48128342245989303\n"
          ],
          "name": "stdout"
        }
      ]
    },
    {
      "cell_type": "code",
      "metadata": {
        "id": "YqE0P61g_gwl"
      },
      "source": [
        ""
      ],
      "execution_count": null,
      "outputs": []
    }
  ]
}
