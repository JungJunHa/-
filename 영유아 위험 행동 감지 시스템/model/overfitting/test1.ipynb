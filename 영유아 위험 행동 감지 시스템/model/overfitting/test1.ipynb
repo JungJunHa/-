{
  "nbformat": 4,
  "nbformat_minor": 0,
  "metadata": {
    "colab": {
      "name": "test1.ipynb",
      "provenance": [],
      "collapsed_sections": []
    },
    "kernelspec": {
      "name": "python3",
      "display_name": "Python 3"
    },
    "language_info": {
      "name": "python"
    }
  },
  "cells": [
    {
      "cell_type": "code",
      "metadata": {
        "colab": {
          "base_uri": "https://localhost:8080/"
        },
        "id": "oWbjq5ex7rNV",
        "outputId": "df9eb12d-3060-4ce5-bdc6-366c51cdfa2e"
      },
      "source": [
        "pip install keras_metrics"
      ],
      "execution_count": null,
      "outputs": [
        {
          "output_type": "stream",
          "text": [
            "Requirement already satisfied: keras_metrics in /usr/local/lib/python3.7/dist-packages (1.1.0)\n",
            "Requirement already satisfied: Keras>=2.1.5 in /usr/local/lib/python3.7/dist-packages (from keras_metrics) (2.4.3)\n",
            "Requirement already satisfied: numpy>=1.9.1 in /usr/local/lib/python3.7/dist-packages (from Keras>=2.1.5->keras_metrics) (1.19.5)\n",
            "Requirement already satisfied: scipy>=0.14 in /usr/local/lib/python3.7/dist-packages (from Keras>=2.1.5->keras_metrics) (1.4.1)\n",
            "Requirement already satisfied: pyyaml in /usr/local/lib/python3.7/dist-packages (from Keras>=2.1.5->keras_metrics) (3.13)\n",
            "Requirement already satisfied: h5py in /usr/local/lib/python3.7/dist-packages (from Keras>=2.1.5->keras_metrics) (3.1.0)\n",
            "Requirement already satisfied: cached-property in /usr/local/lib/python3.7/dist-packages (from h5py->Keras>=2.1.5->keras_metrics) (1.5.2)\n"
          ],
          "name": "stdout"
        }
      ]
    },
    {
      "cell_type": "code",
      "metadata": {
        "id": "lWLAXPCM7uiy"
      },
      "source": [
        "import keras\n",
        "from keras import applications\n",
        "from keras.preprocessing.image import ImageDataGenerator\n",
        "from keras import optimizers\n",
        "from keras.models import Sequential, Model \n",
        "from keras.layers import *\n",
        "from keras.callbacks import ModelCheckpoint, LearningRateScheduler, TensorBoard, EarlyStopping\n",
        "import os\n",
        "import cv2\n",
        "import numpy as np\n",
        "from sklearn.model_selection import train_test_split\n",
        "import keras_metrics as km\n",
        "from keras import regularizers, optimizers\n",
        "from keras.callbacks import ModelCheckpoint\n",
        "from sklearn.metrics import precision_score\n",
        "from sklearn.metrics import recall_score\n",
        "from sklearn.metrics import f1_score\n",
        "from sklearn.metrics import cohen_kappa_score\n",
        "from sklearn.metrics import roc_auc_score\n",
        "from sklearn.metrics import multilabel_confusion_matrix\n",
        "from sklearn.metrics import accuracy_score"
      ],
      "execution_count": null,
      "outputs": []
    },
    {
      "cell_type": "code",
      "metadata": {
        "colab": {
          "base_uri": "https://localhost:8080/"
        },
        "id": "Sql3ln287zPw",
        "outputId": "4594fae4-f5d3-4a2f-e2a7-f6b0c7c633e7"
      },
      "source": [
        "from google.colab import drive\n",
        "drive.mount('/content/gdrive')"
      ],
      "execution_count": null,
      "outputs": [
        {
          "output_type": "stream",
          "text": [
            "Mounted at /content/gdrive\n"
          ],
          "name": "stdout"
        }
      ]
    },
    {
      "cell_type": "code",
      "metadata": {
        "id": "Jw5jAHCG7zYy"
      },
      "source": [
        "data_dir =\"/content/gdrive/My Drive/data/testreal\"\n",
        "\n",
        "img_height , img_width = 64, 64\n",
        "seq_len = 16"
      ],
      "execution_count": null,
      "outputs": []
    },
    {
      "cell_type": "code",
      "metadata": {
        "id": "LlsbDmyP7zfD"
      },
      "source": [
        "classes = [ 'climb', 'eat', 'fall', 'fall_down', 'grab', 'mouth','sit','walk']"
      ],
      "execution_count": null,
      "outputs": []
    },
    {
      "cell_type": "code",
      "metadata": {
        "id": "bJeFvfDy7zh6"
      },
      "source": [
        "def frames_extraction(video_path):\n",
        "    frames_list = []\n",
        "     \n",
        "    vidObj = cv2.VideoCapture(video_path)\n",
        "    # Used as counter variable \n",
        "    count = 1\n",
        " \n",
        "    while count <= seq_len: \n",
        "         \n",
        "        success, image = vidObj.read() \n",
        "        if success:\n",
        "            image = cv2.resize(image, (img_height, img_width))\n",
        "            frames_list.append(image)\n",
        "            count += 1\n",
        "        else:\n",
        "            print(\"Defected frame {}\".format(video_path))\n",
        "            break\n",
        " \n",
        "            \n",
        "    return frames_list"
      ],
      "execution_count": null,
      "outputs": []
    },
    {
      "cell_type": "code",
      "metadata": {
        "id": "cfvZ4aGE8Q4L"
      },
      "source": [
        "def create_data(input_dir):\n",
        "    X = []\n",
        "    Y = []\n",
        "     \n",
        "    classes_list = os.listdir(input_dir)\n",
        "     \n",
        "    for c in classes_list:\n",
        "        print(c)\n",
        "        files_list = os.listdir(os.path.join(input_dir, c))\n",
        "        print(files_list)\n",
        "        for f in files_list:\n",
        "            frames = frames_extraction(os.path.join(os.path.join(input_dir, c), f))\n",
        "            if len(frames) == seq_len:\n",
        "                X.append(frames)\n",
        "             \n",
        "                y = [0]*len(classes)\n",
        "                y[classes.index(c)] = 1\n",
        "                Y.append(y)\n",
        "     \n",
        "    X = np.asarray(X)\n",
        "    Y = np.asarray(Y)\n",
        "    return X, Y"
      ],
      "execution_count": null,
      "outputs": []
    },
    {
      "cell_type": "code",
      "metadata": {
        "colab": {
          "base_uri": "https://localhost:8080/"
        },
        "id": "THvgJtkd8Q8t",
        "outputId": "2dee1b86-6fc1-413b-af01-abd6340ba877"
      },
      "source": [
        "X, Y = create_data(data_dir)\n",
        " \n",
        "X_train, X_test, y_train, y_test = train_test_split(X, Y, test_size=0.20, shuffle=True, random_state=42)"
      ],
      "execution_count": null,
      "outputs": [
        {
          "output_type": "stream",
          "text": [
            "climb\n",
            "['02.mp4', '05.mp4', '18.mp4', '10.mp4', '16.mp4', '08.mp4', '19.mp4', '01.mp4', '11.mp4', '04.mp4', '03.mp4', '14.mp4', '07.mp4', '09.mp4', '17.mp4', '13.mp4', '15.mp4', '06.mp4', '12.mp4']\n",
            "fall\n",
            "['15.mp4', '12.mp4', '05.mp4', '06.mp4', '13.mp4', '02.mp4', '07.mp4', '04.mp4', '17.mp4', '10.mp4', '03.mp4', '16.mp4', '09.mp4', '01.mp4', '08.mp4', '11.mp4', '14.mp4', '36.mp4', '30.mp4', '40.mp4', '19.mp4', '27.mp4', '21.mp4', '28.mp4', '29.mp4', '34.mp4', '31.mp4', '20.mp4', '24.mp4', '38.mp4', '39.mp4', '25.mp4', '32.mp4', '18.mp4', '33.mp4', '26.mp4', '37.mp4', '22.mp4', '35.mp4', '23.mp4', '54.mp4', '61.mp4', '52.mp4', '57.mp4', '50.mp4', '51.mp4', '45.mp4', '60.mp4', '49.mp4', '59.mp4', '62.mp4', '53.mp4', '42.mp4', '41.mp4', '65.mp4', '64.mp4', '58.mp4', '46.mp4', '56.mp4', '44.mp4', '47.mp4', '55.mp4', '48.mp4', '63.mp4', '43.mp4', '71.mp4', '68.mp4', '66.mp4', '70.mp4', '69.mp4', '67.mp4']\n",
            "grab\n",
            "['13.mp4', '1.mp4', '12.mp4', '15.mp4', '17.mp4', '14.mp4', '11.mp4', '16.mp4', '10.mp4', '2.mp4', '3.mp4', '30.mp4', '21.mp4', '27.mp4', '32.mp4', '25.mp4', '33.mp4', '35.mp4', '34.mp4', '36.mp4', '20.mp4', '24.mp4', '23.mp4', '29.mp4', '22.mp4', '18.mp4', '31.mp4', '28.mp4', '26.mp4', '19.mp4', '39.mp4', '47.mp4', '37.mp4', '5.mp4', '59.mp4', '54.mp4', '38.mp4', '40.mp4', '52.mp4', '43.mp4', '42.mp4', '58.mp4', '57.mp4', '51.mp4', '41.mp4', '53.mp4', '6.mp4', '55.mp4', '44.mp4', '56.mp4', '45.mp4', '50.mp4', '49.mp4', '48.mp4', '46.mp4', '4.mp4', '65.mp4', '63.mp4', '85.mp4', '76.mp4', '61.mp4', '81.mp4', '72.mp4', '60.mp4', '74.mp4', '80.mp4', '73.mp4', '79.mp4', '62.mp4', '64.mp4', '66.mp4', '78.mp4', '8.mp4', '69.mp4', '83.mp4', '68.mp4', '70.mp4', '67.mp4', '84.mp4', '82.mp4', '71.mp4', '75.mp4', '7.mp4', '77.mp4', '9.mp4', '88.mp4', '87.mp4', '89.mp4', '86.mp4']\n",
            "mouth\n",
            "['41.mov', '42.mov', '43.mov', '44.mov', '45.mov', '47.mov', '46.mov', '48.mov', '49.mov', '72.mov', '50.mov', '51.mov', '52.mov', '53.mov', '54.mov', '55.mov', '56.mov', '57.mov', '58.mov', '59.mov', '60.mov', '61.mov', '62.mov', '63.mov', '64.mov', '65.mov', '66.mov', '67.mov', '68.mov', '69.mov', '70.mov', '71.mov', '09.mp4', '03.mp4', '08.mp4', '07.mp4', '10.mp4', '01.mp4', '05.mp4', '11.mp4', '13.mp4', '12.mp4', '02.mp4', '14.mp4', '06.mp4', '04.mp4', '15.mp4', '21.mp4', '24.mp4', '35.mp4', '31.mp4', '32.mp4', '34.mp4', '16.mp4', '25.mp4', '29.mp4', '18.mp4', '36.mp4', '33.mp4', '37.mp4', '26.mp4', '19.mp4', '23.mp4', '30.mp4', '20.mp4', '17.mp4', '27.mp4', '22.mp4', '28.mp4', '40.mp4', '38.mp4', '39.mp4']\n",
            "sit\n",
            "['sit down_AME_78.mp4', 'sit down_AME_87.mp4', 'sit down_AME_70.mp4', 'sit down_AME_72.mp4', 'sit down_AME_80.mp4', 'sit down_AME_71.mp4', 'sit down_AME_81.mp4', 'sit down_AME_83.mp4', 'sit down_AME_84.mp4', 'sit down_AME_77.mp4', 'sit down_AME_86.mp4', 'sit down_AME_88.mp4', 'sit down_AME_76.mp4', 'sit down_AME_82.mp4', 'sit down_AME_79.mp4', 'sit down_AME_73.mp4', 'sit down_AME_93.mp4', 'sit down_AME_52.mp4', 'sit down_AME_92.mp4', 'sit down_AME_75.mp4', 'sit down_AME_85.mp4', 'sit down_AME_91.mp4', 'sit down_AME_90.mp4', 'sit down_AME_57.mp4', 'sit down_AME_74.mp4', 'sit down_AME_64.mp4', 'sit down_AME_94.mp4', 'sit down_AME_95.mp4', 'sit down_AME_58.mp4', 'sit down_AME_60.mp4', 'sit down_AME_67.mp4', 'sit down_AME_45.mp4', 'sit down_AME_53.mp4', 'sit down_AME_63.mp4', 'sit down_AME_69.mp4', 'sit down_AME_48.mp4', 'sit down_AME_46.mp4', 'sit down_AME_61.mp4', 'sit down_AME_50.mp4', 'sit down_AME_51.mp4', 'sit down_AME_68.mp4', 'sit down_AME_54.mp4', 'sit down_AME_47.mp4', 'sit down_AME_65.mp4', 'sit down_AME_56.mp4', 'sit down_AME_26.mp4', 'sit down_AME_62.mp4', 'sit down_AME_24.mp4', 'sit down_AME_44.mp4', 'sit down_AME_49.mp4', 'sit down_AME_25.mp4', 'sit down_AME_39.mp4', 'sit down_AME_37.mp4', 'sit down_AME_55.mp4', 'sit down_AME_42.mp4', 'sit down_AME_31.mp4', 'sit down_AME_59.mp4', 'sit down_AME_66.mp4', 'sit down_AME_43.mp4', 'sit down_AME_28.mp4', 'sit down_AME_30.mp4', 'sit down_AME_32.mp4', 'sit down_AME_16.mp4', 'sit down_AME_13.mp4', 'sit down_AME_22.mp4', 'sit down_AME_40.mp4', 'sit down_AME_36.mp4', 'sit down_AME_34.mp4', 'sit down_AME_21.mp4', 'sit down_AME_38.mp4', 'sit down_AME_41.mp4', 'sit down_AME_20.mp4', 'sit down_AME_29.mp4', 'sit down_AME_27.mp4', 'sit down_AME_35.mp4', 'sit down_AME_23.mp4', 'sit down_AME_33.mp4', 'sit down_AME_18.mp4', 'sit down_AME_15.mp4', 'sit down_AME_8.mp4', 'sit down_AME_7.mp4', 'sit down_AME_9.mp4', 'sit down_AME_12.mp4', 'sit down_AME.mp4', 'sit down_AME_10.mp4', 'sit down_AME_2.mp4', 'sit down_AME_4.mp4', 'sit down_AME_17.mp4', 'sit down_AME_3.mp4', 'sit down_AME_11.mp4', 'sit down_AME_19.mp4', 'sit down_AME_6.mp4', 'sit down_AME_14.mp4', 'sit down_AME_1.mp4', 'sit down_AME_5.mp4']\n",
            "eat\n",
            "['Eat_70.mp4', 'Eat_65.mp4', 'Eat_59.mp4', 'Eat_75.mp4', 'Eat_73.mp4', 'Eat_69.mp4', 'Eat_60.mp4', 'Eat_66.mp4', 'Eat_79.mp4', 'Eat_86.mp4', 'Eat_87.mp4', 'Eat_68.mp4', 'Eat_85.mp4', 'Eat_84.mp4', 'Eat_78.mp4', 'Eat_80.mp4', 'Eat_72.mp4', 'Eat_64.mp4', 'Eat_67.mp4', 'Eat_71.mp4', 'Eat_74.mp4', 'Eat_81.mp4', 'Eat_83.mp4', 'Eat_61.mp4', 'Eat_49.mp4', 'Eat_57.mp4', 'Eat_58.mp4', 'Eat_37.mp4', 'Eat_56.mp4', 'Eat_38.mp4', 'Eat_54.mp4', 'Eat_52.mp4', 'Eat_46.mp4', 'Eat_55.mp4', 'Eat_40.mp4', 'Eat_50.mp4', 'Eat_43.mp4', 'Eat_39.mp4', 'Eat_51.mp4', 'Eat_34.mp4', 'Eat_47.mp4', 'Eat_48.mp4', 'Eat_82.mp4', 'Eat_53.mp4', 'Eat_42.mp4', 'Eat_41.mp4', 'Eat_45.mp4', 'Eat_44.mp4', 'Eat_36.mp4', 'Eat_35.mp4', 'Eat_30.mp4', 'Eat_29.mp4', 'Eat_11.mp4', 'Eat_15.mp4', 'Eat_24.mp4', 'Eat_4.mp4', 'Eat_25.mp4', 'Eat_8.mp4', 'Eat_17.mp4', 'Eat_10.mp4', 'Eat_13.mp4', 'Eat_21.mp4', 'Eat_28.mp4', 'Eat_27.mp4', 'Eat_18.mp4', 'Eat_22.mp4', 'Eat_9.mp4', 'Eat_7.mp4', 'Eat_23.mp4', 'Eat_16.mp4', 'Eat_19.mp4', 'Eat_3.mp4', 'eat_20.mp4', 'Eat_5.mp4', 'Eat_33.mp4', 'Eat_14.mp4', 'Eat_31.mp4', 'Eat_2.mp4', 'Eat_new1.mp4', 'Eat_6.mp4', 'Eat_26.mp4', 'Eat_32.mp4', 'Eat_12.mp4']\n",
            "fall_down\n",
            "['1.mp4', '2.mov', '3.mov', '5.mov', '4.mov', '6.mov', '9.mov', '8.mov', '7.mov', '10.mov', '12.mov', '11.mov', '13.mov', '14.mov', '15.mov', '16.mov', '17.mov', '18.mov', '19.mov', '20.mov', '21.mov', '22.mov', '24.mov', '23.mov', '25.mov', '26.mov', '27.mov', '28.mov', '29.mov', '30.mov', '31.mov', '32.mov', '33.mov', '34.mov', '35.mov', '36.mov', '37.mov', '38.mov', '39.mov', '40.mov', '41.mov', '42.mov', '44.mov', '43.mov', '45.mov', '46.mov', '47.mov', '48.mov', '49.mov', '50.mov', '51.mov', '52.mov', '53.mov', '54.mov', '63.mov', '72.mov', '81.mov', '89.mov', '98.mov', '108.mov', '116.mov', '124.mov', '132.mov', '141.mov', '149.mov', '157.mov', '165.mov', '171.mov', '178.mov', '181.mov', '185.mov', '189.mov', '193.mov', '55.mov', '64.mov', '73.mov', '82.mov', '90.mov', '99.mov', '109.mov', '117.mov', '125.mov', '133.mov', '142.mov', '150.mov', '158.mov', '166.mov', '172.mov', '65.mov', '56.mov', '74.mov', '91.mov', '100.mov', '101.mov', '134.mov', '151.mov', '159.mov', '160.mov', '173.mov', '174.mov', '182.mov', '186.mov', '190.mov', '196.mov', '199.mov', '203.mov', '200.mov', '205.mov', '207.mov', '209.mov', '211.mov', '213.mov', '57.mov', '66.mov', '75.mov', '83.mov', '92.mov', '102.mov', '110.mov', '118.mov', '126.mov', '135.mov', '143.mov', '58.mov', '67.mov', '76.mov', '84.mov', '103.mov', '93.mov', '111.mov', '119.mov', '127.mov', '136.mov', '144.mov', '152.mov', '59.mov', '68.mov', '77.mov', '85.mov', '94.mov', '104.mov', '112.mov', '120.mov', '128.mov', '137.mov', '145.mov', '153.mov', '161.mov', '167.mov', '60.mov', '69.mov', '78.mov', '86.mov', '95.mov', '105.mov', '113.mov', '121.mov', '129.mov', '138.mov', '146.mov', '154.mov', '162.mov', '168.mov', '175.mov', '61.mov', '70.mov', '79.mov', '96.mov', '87.mov', '106.mov', '114.mov', '122.mov', '130.mov', '139.mov', '147.mov', '155.mov', '163.mov', '169.mov', '176.mov', '179.mov', '183.mov', '187.mov', '191.mov', '194.mov', '197.mov', '201.mov', '62.mov', '71.mov', '80.mov', '88.mov', '97.mov', '107.mov', '115.mov', '123.mov', '131.mov', '140.mov', '148.mov', '156.mov', '164.mov', '170.mov', '177.mov', '180.mov', '184.mov', '188.mov', '192.mov', '195.mov', '198.mov', '202.mov', '204.mov', '206.mov', '208.mov', '210.mov', '212.mov', '214.mov']\n",
            "walk\n",
            "['26.mp4', '12.mp4', '19.mp4', '21.mp4', '23.mp4', '10.mp4', '2.mp4', '20.mp4', '17.mp4', '22.mp4', '1.mp4', '16.mp4', '15.mp4', '14.mp4', '25.mp4', '18.mp4', '13.mp4', '11.mp4', '24.mp4', '44.mp4', '40.mp4', '39.mp4', '46.mp4', '42.mp4', '43.mp4', '33.mp4', '36.mp4', '48.mp4', '45.mp4', '41.mp4', '38.mp4', '31.mp4', '35.mp4', '47.mp4', '4.mp4', '34.mp4', '27.mp4', '29.mp4', '3.mp4', '37.mp4', '30.mp4', '32.mp4', '28.mp4', '55.mp4', '63.mp4', '60.mp4', '61.mp4', '6.mp4', '59.mp4', '53.mp4', '62.mp4', '56.mp4', '49.mp4', '68.mp4', '54.mp4', '67.mp4', '65.mp4', '58.mp4', '52.mp4', '64.mp4', '50.mp4', '57.mp4', '5.mp4', '66.mp4', '51.mp4', '82.mp4', '89.mp4', '87.mp4', '71.mp4', '76.mp4', '69.mp4', '79.mp4', '77.mp4', '84.mp4', '80.mp4', '86.mp4', '72.mp4', '70.mp4', '75.mp4', '7.mp4', '81.mp4', '78.mp4', '8.mp4', '88.mp4', '74.mp4', '73.mp4', '83.mp4', '85.mp4', '90.mp4', '91.mp4', '9.mp4', '106.mov', '119.mov', '134.mov', '149.mov', '162.mov', '176.mov', '190.mov', '204.mov', '191.mov', '177.mov', '163.mov', '150.mov', '135.mov', '120.mov', '92.mov', '93.mov', '107.mov', '121.mov', '136.mov', '108.mov', '94.mov', '122.mov', '137.mov', '151.mov', '164.mov', '178.mov', '192.mov', '210.mov', '216.mov', '220.mov', '222.mov', '95.mov', '109.mov', '123.mov', '138.mov', '152.mov', '179.mov', '165.mov', '193.mov', '96.mov', '110.mov', '124.mov', '139.mov', '226.mov', '166.mov', '180.mov', '194.mov', '97.mov', '125.mov', '140.mov', '153.mov', '167.mov', '181.mov', '195.mov', '205.mov', '211.mov', '217.mov', '98.mov', '111.mov', '126.mov', '141.mov', '154.mov', '168.mov', '182.mov', '196.mov', '99.mov', '112.mov', '127.mov', '142.mov', '155.mov', '169.mov', '183.mov', '197.mov', '113.mov', '100.mov', '128.mov', '143.mov', '156.mov', '170.mov', '184.mov', '198.mov', '101.mov', '114.mov', '129.mov', '157.mov', '144.mov', '171.mov', '185.mov', '199.mov', '206.mov', '212.mov', '102.mov', '115.mov', '130.mov', '145.mov', '158.mov', '186.mov', '172.mov', '200.mov', '207.mov', '213.mov', '218.mov', '103.mov', '116.mov', '131.mov', '146.mov', '159.mov', '173.mov', '187.mov', '201.mov', '104.mov', '117.mov', '132.mov', '147.mov', '174.mov', '160.mov', '188.mov', '202.mov', '208.mov', '214.mov', '118.mov', '105.mov', '148.mov', '133.mov', '161.mov', '175.mov', '189.mov', '209.mov', '203.mov', '215.mov', '219.mov', '223.mov', '221.mov', '224.mov', '225.mov']\n",
            "Defected frame /content/gdrive/My Drive/data/testreal/walk/117.mov\n",
            "Defected frame /content/gdrive/My Drive/data/testreal/walk/132.mov\n"
          ],
          "name": "stdout"
        }
      ]
    },
    {
      "cell_type": "code",
      "metadata": {
        "colab": {
          "base_uri": "https://localhost:8080/"
        },
        "id": "H4IIwoof8Q_m",
        "outputId": "88dedeed-05f9-4c2c-c2cd-d8731de3a1c5"
      },
      "source": [
        "model = Sequential()\n",
        "\n",
        "model.add(ConvLSTM2D(filters = 128, kernel_size = (3, 3),strides = (2,2), return_sequences = True, data_format = \"channels_last\", input_shape = (seq_len, img_height, img_width, 3)))\n",
        "model.add(BatchNormalization())\n",
        "model.add(ConvLSTM2D(filters = 64, kernel_size = (3, 3),strides = (2,2), return_sequences = True, data_format = \"channels_last\"))\n",
        "model.add(BatchNormalization())\n",
        "model.add(ConvLSTM2D(filters = 32, kernel_size = (3, 3),strides = (2,2), return_sequences = False, data_format = \"channels_last\"))\n",
        "model.add(Flatten())\n",
        "model.add(Dense(256, activation=\"relu\"))\n",
        "model.add(Dropout(0.2))\n",
        "model.add(Dense(8, activation = \"softmax\"))\n",
        " \n",
        "model.summary()"
      ],
      "execution_count": null,
      "outputs": [
        {
          "output_type": "stream",
          "text": [
            "Model: \"sequential_1\"\n",
            "_________________________________________________________________\n",
            "Layer (type)                 Output Shape              Param #   \n",
            "=================================================================\n",
            "conv_lst_m2d_3 (ConvLSTM2D)  (None, 16, 31, 31, 128)   604160    \n",
            "_________________________________________________________________\n",
            "batch_normalization_2 (Batch (None, 16, 31, 31, 128)   512       \n",
            "_________________________________________________________________\n",
            "conv_lst_m2d_4 (ConvLSTM2D)  (None, 16, 15, 15, 64)    442624    \n",
            "_________________________________________________________________\n",
            "batch_normalization_3 (Batch (None, 16, 15, 15, 64)    256       \n",
            "_________________________________________________________________\n",
            "conv_lst_m2d_5 (ConvLSTM2D)  (None, 7, 7, 32)          110720    \n",
            "_________________________________________________________________\n",
            "flatten_1 (Flatten)          (None, 1568)              0         \n",
            "_________________________________________________________________\n",
            "dense_2 (Dense)              (None, 256)               401664    \n",
            "_________________________________________________________________\n",
            "dropout_1 (Dropout)          (None, 256)               0         \n",
            "_________________________________________________________________\n",
            "dense_3 (Dense)              (None, 8)                 2056      \n",
            "=================================================================\n",
            "Total params: 1,561,992\n",
            "Trainable params: 1,561,608\n",
            "Non-trainable params: 384\n",
            "_________________________________________________________________\n"
          ],
          "name": "stdout"
        }
      ]
    },
    {
      "cell_type": "code",
      "metadata": {
        "colab": {
          "base_uri": "https://localhost:8080/"
        },
        "id": "6EQL4T1S8RCO",
        "outputId": "49d1887f-4590-436b-d71f-e2531b6c3b86"
      },
      "source": [
        "opt = keras.optimizers.Adam(lr=0.001)\n",
        "model.compile(loss='categorical_crossentropy', optimizer=opt, metrics=[\"accuracy\"])\n",
        " \n",
        "earlystop = EarlyStopping(patience=7)\n",
        "callbacks = [earlystop]\n",
        " \n",
        "history = model.fit(x = X_train, y = y_train, epochs=15, batch_size = 16 , shuffle=True, validation_split=0.2, callbacks=callbacks)"
      ],
      "execution_count": null,
      "outputs": [
        {
          "output_type": "stream",
          "text": [
            "/usr/local/lib/python3.7/dist-packages/tensorflow/python/keras/optimizer_v2/optimizer_v2.py:375: UserWarning: The `lr` argument is deprecated, use `learning_rate` instead.\n",
            "  \"The `lr` argument is deprecated, use `learning_rate` instead.\")\n"
          ],
          "name": "stderr"
        },
        {
          "output_type": "stream",
          "text": [
            "Epoch 1/15\n",
            "35/35 [==============================] - 656s 18s/step - loss: 1.9057 - accuracy: 0.2976 - val_loss: 1.9707 - val_accuracy: 0.2806\n",
            "Epoch 2/15\n",
            "35/35 [==============================] - 623s 18s/step - loss: 1.3162 - accuracy: 0.4705 - val_loss: 2.0049 - val_accuracy: 0.2878\n",
            "Epoch 3/15\n",
            "35/35 [==============================] - 625s 18s/step - loss: 1.1346 - accuracy: 0.5997 - val_loss: 2.0433 - val_accuracy: 0.2878\n",
            "Epoch 4/15\n",
            "35/35 [==============================] - 624s 18s/step - loss: 1.0820 - accuracy: 0.6135 - val_loss: 2.2209 - val_accuracy: 0.2878\n",
            "Epoch 5/15\n",
            "35/35 [==============================] - 627s 18s/step - loss: 0.7731 - accuracy: 0.7171 - val_loss: 1.4524 - val_accuracy: 0.4388\n",
            "Epoch 6/15\n",
            "35/35 [==============================] - 626s 18s/step - loss: 0.8185 - accuracy: 0.7126 - val_loss: 2.6210 - val_accuracy: 0.2734\n",
            "Epoch 7/15\n",
            "35/35 [==============================] - 630s 18s/step - loss: 0.5669 - accuracy: 0.8185 - val_loss: 3.9725 - val_accuracy: 0.1942\n",
            "Epoch 8/15\n",
            "35/35 [==============================] - 638s 18s/step - loss: 0.6103 - accuracy: 0.7896 - val_loss: 5.7548 - val_accuracy: 0.1583\n",
            "Epoch 9/15\n",
            "35/35 [==============================] - 627s 18s/step - loss: 0.4506 - accuracy: 0.8653 - val_loss: 2.7406 - val_accuracy: 0.2950\n",
            "Epoch 10/15\n",
            "35/35 [==============================] - 623s 18s/step - loss: 0.3631 - accuracy: 0.8779 - val_loss: 2.2844 - val_accuracy: 0.3741\n",
            "Epoch 11/15\n",
            "35/35 [==============================] - 628s 18s/step - loss: 0.2573 - accuracy: 0.9161 - val_loss: 2.5393 - val_accuracy: 0.3453\n",
            "Epoch 12/15\n",
            "35/35 [==============================] - 653s 19s/step - loss: 0.1252 - accuracy: 0.9681 - val_loss: 2.9006 - val_accuracy: 0.3813\n"
          ],
          "name": "stdout"
        }
      ]
    },
    {
      "cell_type": "code",
      "metadata": {
        "id": "lfU8L3Hf8REq",
        "colab": {
          "base_uri": "https://localhost:8080/",
          "height": 282
        },
        "outputId": "b2fa2a90-77f4-43d5-9277-e6fa93c39362"
      },
      "source": [
        "import matplotlib.pyplot as plt\n",
        "plt.plot(history.history['loss'])\n",
        "plt.plot(history.history['val_loss'])\n",
        "plt.plot(history.history['accuracy'])\n",
        "plt.plot(history.history['val_accuracy'])\n",
        "plt.xlabel('epoch')\n",
        "plt.ylabel('loss')\n",
        "plt.legend(['train', 'val','accuracy','val_accuracy'])\n",
        "plt.show()\n"
      ],
      "execution_count": null,
      "outputs": [
        {
          "output_type": "display_data",
          "data": {
            "image/png": "[encoded data removed]",
            "text/plain": [
              "<Figure size 432x288 with 1 Axes>"
            ]
          },
          "metadata": {
            "tags": [],
            "needs_background": "light"
          }
        }
      ]
    },
    {
      "cell_type": "code",
      "metadata": {
        "colab": {
          "base_uri": "https://localhost:8080/"
        },
        "id": "YQp-NjiOHufy",
        "outputId": "5240ab2a-9846-4e93-bb22-dfa33d54df9d"
      },
      "source": [
        "from sklearn.metrics import classification_report\n",
        "y_pred = model.predict(X_test)\n",
        "y_pred = np.argmax(y_pred, axis = 1)\n",
        "y_test = np.argmax(y_test, axis = 1)\n",
        " \n",
        "print(classification_report(y_test, y_pred))"
      ],
      "execution_count": null,
      "outputs": [
        {
          "output_type": "stream",
          "text": [
            "              precision    recall  f1-score   support\n",
            "\n",
            "           0       1.00      0.50      0.67         2\n",
            "           1       1.00      0.07      0.12        15\n",
            "           2       0.40      0.43      0.42        23\n",
            "           3       0.33      0.76      0.46        45\n",
            "           4       0.00      0.00      0.00        11\n",
            "           5       1.00      0.67      0.80        12\n",
            "           6       0.83      0.19      0.31        26\n",
            "           7       0.45      0.35      0.39        40\n",
            "\n",
            "    accuracy                           0.42       174\n",
            "   macro avg       0.63      0.37      0.40       174\n",
            "weighted avg       0.53      0.42      0.39       174\n",
            "\n"
          ],
          "name": "stdout"
        },
        {
          "output_type": "stream",
          "text": [
            "/usr/local/lib/python3.7/dist-packages/sklearn/metrics/_classification.py:1272: UndefinedMetricWarning: Precision and F-score are ill-defined and being set to 0.0 in labels with no predicted samples. Use `zero_division` parameter to control this behavior.\n",
            "  _warn_prf(average, modifier, msg_start, len(result))\n"
          ],
          "name": "stderr"
        }
      ]
    },
    {
      "cell_type": "code",
      "metadata": {
        "colab": {
          "base_uri": "https://localhost:8080/"
        },
        "id": "oXAEwW9lHujG",
        "outputId": "bbe5d495-833b-4edd-be54-e27447de1380"
      },
      "source": [
        "from sklearn.metrics import accuracy_score\n",
        "\n",
        "print('accuracy score : {}'.format(accuracy_score(y_pred, y_test)))"
      ],
      "execution_count": null,
      "outputs": [
        {
          "output_type": "stream",
          "text": [
            "accuracy score : 0.41954022988505746\n"
          ],
          "name": "stdout"
        }
      ]
    },
    {
      "cell_type": "code",
      "metadata": {
        "id": "3wgixlFpHumS"
      },
      "source": [
        ""
      ],
      "execution_count": null,
      "outputs": []
    }
  ]
}
