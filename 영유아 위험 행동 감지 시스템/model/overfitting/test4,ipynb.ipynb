{
  "nbformat": 4,
  "nbformat_minor": 0,
  "metadata": {
    "colab": {
      "name": "test4,ipynb",
      "provenance": [],
      "collapsed_sections": []
    },
    "kernelspec": {
      "display_name": "Python 3",
      "name": "python3"
    },
    "language_info": {
      "name": "python"
    }
  },
  "cells": [
    {
      "cell_type": "code",
      "metadata": {
        "colab": {
          "base_uri": "https://localhost:8080/"
        },
        "id": "oWbjq5ex7rNV",
        "outputId": "7305b72b-5a1c-48e8-90f1-81000f589745"
      },
      "source": [
        "pip install keras_metrics"
      ],
      "execution_count": null,
      "outputs": [
        {
          "output_type": "stream",
          "text": [
            "Requirement already satisfied: keras_metrics in /usr/local/lib/python3.7/dist-packages (1.1.0)\n",
            "Requirement already satisfied: Keras>=2.1.5 in /usr/local/lib/python3.7/dist-packages (from keras_metrics) (2.4.3)\n",
            "Requirement already satisfied: numpy>=1.9.1 in /usr/local/lib/python3.7/dist-packages (from Keras>=2.1.5->keras_metrics) (1.19.5)\n",
            "Requirement already satisfied: scipy>=0.14 in /usr/local/lib/python3.7/dist-packages (from Keras>=2.1.5->keras_metrics) (1.4.1)\n",
            "Requirement already satisfied: pyyaml in /usr/local/lib/python3.7/dist-packages (from Keras>=2.1.5->keras_metrics) (3.13)\n",
            "Requirement already satisfied: h5py in /usr/local/lib/python3.7/dist-packages (from Keras>=2.1.5->keras_metrics) (3.1.0)\n",
            "Requirement already satisfied: cached-property in /usr/local/lib/python3.7/dist-packages (from h5py->Keras>=2.1.5->keras_metrics) (1.5.2)\n"
          ],
          "name": "stdout"
        }
      ]
    },
    {
      "cell_type": "code",
      "metadata": {
        "id": "lWLAXPCM7uiy"
      },
      "source": [
        "import keras\n",
        "from keras import applications\n",
        "from keras.preprocessing.image import ImageDataGenerator\n",
        "from keras import optimizers\n",
        "from keras.models import Sequential, Model \n",
        "from keras.layers import *\n",
        "from keras.callbacks import ModelCheckpoint, LearningRateScheduler, TensorBoard, EarlyStopping\n",
        "import os\n",
        "import cv2\n",
        "import numpy as np\n",
        "from sklearn.model_selection import train_test_split\n",
        "import keras_metrics as km\n",
        "from keras import regularizers, optimizers\n",
        "from keras.callbacks import ModelCheckpoint\n",
        "from sklearn.metrics import precision_score\n",
        "from sklearn.metrics import recall_score\n",
        "from sklearn.metrics import f1_score\n",
        "from sklearn.metrics import cohen_kappa_score\n",
        "from sklearn.metrics import roc_auc_score\n",
        "from sklearn.metrics import multilabel_confusion_matrix\n",
        "from sklearn.metrics import accuracy_score"
      ],
      "execution_count": null,
      "outputs": []
    },
    {
      "cell_type": "code",
      "metadata": {
        "colab": {
          "base_uri": "https://localhost:8080/"
        },
        "id": "Sql3ln287zPw",
        "outputId": "091b8eb4-975f-4bf0-8b4e-c27e860220c0"
      },
      "source": [
        "from google.colab import drive\n",
        "drive.mount('/content/gdrive')"
      ],
      "execution_count": null,
      "outputs": [
        {
          "output_type": "stream",
          "text": [
            "Drive already mounted at /content/gdrive; to attempt to forcibly remount, call drive.mount(\"/content/gdrive\", force_remount=True).\n"
          ],
          "name": "stdout"
        }
      ]
    },
    {
      "cell_type": "code",
      "metadata": {
        "id": "Jw5jAHCG7zYy"
      },
      "source": [
        "data_dir =\"/content/gdrive/My Drive/data/testreal\"\n",
        "\n",
        "img_height , img_width = 64, 64\n",
        "seq_len = 16"
      ],
      "execution_count": null,
      "outputs": []
    },
    {
      "cell_type": "code",
      "metadata": {
        "id": "LlsbDmyP7zfD"
      },
      "source": [
        "classes = [ 'climb', 'eat', 'fall', 'fall_down', 'grab', 'mouth','sit','walk']"
      ],
      "execution_count": null,
      "outputs": []
    },
    {
      "cell_type": "code",
      "metadata": {
        "id": "bJeFvfDy7zh6"
      },
      "source": [
        "def frames_extraction(video_path):\n",
        "    frames_list = []\n",
        "     \n",
        "    vidObj = cv2.VideoCapture(video_path)\n",
        "    # Used as counter variable \n",
        "    count = 1\n",
        " \n",
        "    while count <= seq_len: \n",
        "         \n",
        "        success, image = vidObj.read() \n",
        "        if success:\n",
        "            image = cv2.resize(image, (img_height, img_width))\n",
        "            frames_list.append(image)\n",
        "            count += 1\n",
        "        else:\n",
        "            print(\"Defected frame {}\".format(video_path))\n",
        "            break\n",
        " \n",
        "            \n",
        "    return frames_list"
      ],
      "execution_count": null,
      "outputs": []
    },
    {
      "cell_type": "code",
      "metadata": {
        "id": "cfvZ4aGE8Q4L"
      },
      "source": [
        "def create_data(input_dir):\n",
        "    X = []\n",
        "    Y = []\n",
        "     \n",
        "    classes_list = os.listdir(input_dir)\n",
        "     \n",
        "    for c in classes_list:\n",
        "        print(c)\n",
        "        files_list = os.listdir(os.path.join(input_dir, c))\n",
        "        print(files_list)\n",
        "        for f in files_list:\n",
        "            frames = frames_extraction(os.path.join(os.path.join(input_dir, c), f))\n",
        "            if len(frames) == seq_len:\n",
        "                X.append(frames)\n",
        "             \n",
        "                y = [0]*len(classes)\n",
        "                y[classes.index(c)] = 1\n",
        "                Y.append(y)\n",
        "     \n",
        "    X = np.asarray(X)\n",
        "    Y = np.asarray(Y)\n",
        "    return X, Y"
      ],
      "execution_count": null,
      "outputs": []
    },
    {
      "cell_type": "code",
      "metadata": {
        "colab": {
          "base_uri": "https://localhost:8080/"
        },
        "id": "THvgJtkd8Q8t",
        "outputId": "7b6801e1-8e7a-4add-ba48-9207877b391d"
      },
      "source": [
        "X, Y = create_data(data_dir)\n",
        " \n",
        "X_train, X_test, y_train, y_test = train_test_split(X, Y, test_size=0.20, shuffle=True, random_state=36)"
      ],
      "execution_count": null,
      "outputs": [
        {
          "output_type": "stream",
          "text": [
            "climb\n",
            "['02.mp4', '05.mp4', '18.mp4', '10.mp4', '16.mp4', '08.mp4', '19.mp4', '01.mp4', '11.mp4', '04.mp4', '03.mp4', '14.mp4', '07.mp4', '09.mp4', '17.mp4', '13.mp4', '15.mp4', '06.mp4', '12.mp4', '100.mp4', '102.mp4', '104.mp4', '101.mp4', '103.mp4', '106.mp4', '108.mp4', '114.mp4', '113.mp4', '115.mp4', '110.mp4', '107.mp4', '118.mp4', '116.mp4', '111.mp4', '109.mp4', '112.mp4', '117.mp4', '105.mp4', '119.mp4', '122.mp4', '123.mp4', '21.mp4', '121.mp4', '125.mp4', '120.mp4', '20.mp4', '124.mp4', '25.mp4', '24.mp4', '31.mp4', '33.mp4', '23.mp4', '26.mp4', '30.mp4', '34.mp4', '22.mp4', '27.mp4', '29.mp4', '35.mp4', '36.mp4', '32.mp4', '28.mp4', '48.mp4', '38.mp4', '42.mp4', '39.mp4', '37.mp4', '44.mp4', '45.mp4', '40.mp4', '50.mp4', '47.mp4', '49.mp4', '46.mp4', '41.mp4', '43.mp4', '60.mp4', '53.mp4', '63.mp4', '62.mp4', '52.mp4', '59.mp4', '58.mp4', '56.mp4', '51.mp4', '55.mp4', '61.mp4', '57.mp4', '54.mp4', '66.mp4', '80.mp4', '81.mp4', '68.mp4', '75.mp4', '74.mp4', '76.mp4', '79.mp4', '69.mp4', '72.mp4', '71.mp4', '67.mp4', '65.mp4', '78.mp4', '64.mp4', '70.mp4', '77.mp4', '73.mp4', '97.mp4', '87.mp4', '94.mp4', '85.mp4', '84.mp4', '92.mp4', '89.mp4', '96.mp4', '93.mp4', '91.mp4', '82.mp4', '88.mp4', '95.mp4', '86.mp4', '83.mp4', '90.mp4', '99.mp4', '98.mp4']\n",
            "fall\n",
            "['15.mp4', '12.mp4', '05.mp4', '06.mp4', '13.mp4', '02.mp4', '07.mp4', '04.mp4', '17.mp4', '10.mp4', '03.mp4', '16.mp4', '09.mp4', '01.mp4', '08.mp4', '11.mp4', '14.mp4', '36.mp4', '30.mp4', '40.mp4', '19.mp4', '27.mp4', '21.mp4', '28.mp4', '29.mp4', '34.mp4', '31.mp4', '20.mp4', '24.mp4', '38.mp4', '39.mp4', '25.mp4', '32.mp4', '18.mp4', '33.mp4', '26.mp4', '37.mp4', '22.mp4', '35.mp4', '23.mp4', '54.mp4', '61.mp4', '52.mp4', '57.mp4', '50.mp4', '51.mp4', '45.mp4', '60.mp4', '49.mp4', '59.mp4', '62.mp4', '53.mp4', '42.mp4', '41.mp4', '65.mp4', '64.mp4', '58.mp4', '46.mp4', '56.mp4', '44.mp4', '47.mp4', '55.mp4', '48.mp4', '63.mp4', '43.mp4', '71.mp4', '68.mp4', '66.mp4', '70.mp4', '69.mp4', '67.mp4', '73.mp4', '72.mp4', '77.mp4', '80.mp4', '75.mp4', '79.mp4', '76.mp4', '78.mp4', '74.mp4']\n",
            "grab\n",
            "['13.mp4', '1.mp4', '12.mp4', '15.mp4', '17.mp4', '14.mp4', '11.mp4', '16.mp4', '10.mp4', '2.mp4', '3.mp4', '30.mp4', '21.mp4', '27.mp4', '32.mp4', '25.mp4', '33.mp4', '35.mp4', '34.mp4', '36.mp4', '20.mp4', '24.mp4', '23.mp4', '29.mp4', '22.mp4', '18.mp4', '31.mp4', '28.mp4', '26.mp4', '19.mp4', '39.mp4', '47.mp4', '37.mp4', '5.mp4', '59.mp4', '54.mp4', '38.mp4', '40.mp4', '52.mp4', '43.mp4', '42.mp4', '58.mp4', '57.mp4', '51.mp4', '41.mp4', '53.mp4', '6.mp4', '55.mp4', '44.mp4', '56.mp4', '45.mp4', '50.mp4', '49.mp4', '48.mp4', '46.mp4', '4.mp4', '65.mp4', '63.mp4', '85.mp4', '76.mp4', '61.mp4', '81.mp4', '72.mp4', '60.mp4', '74.mp4', '80.mp4', '73.mp4', '79.mp4', '62.mp4', '64.mp4', '66.mp4', '78.mp4', '8.mp4', '69.mp4', '83.mp4', '68.mp4', '70.mp4', '67.mp4', '84.mp4', '82.mp4', '71.mp4', '75.mp4', '7.mp4', '77.mp4', '9.mp4', '88.mp4', '87.mp4', '89.mp4', '86.mp4', '116 (online-video-cutter.com).mp4', '109_crop (online-video-cutter.com).mp4', '105_crop (online-video-cutter.com).mp4', '112_crop (online-video-cutter.com).mp4', '104_crop (online-video-cutter.com).mp4', '118.mp4', '107_crop (online-video-cutter.com).mp4', '101_crop (online-video-cutter.com).mp4', '110_crop (online-video-cutter.com).mp4', '114 (online-video-cutter.com).mp4', '100.mp4', '113 (online-video-cutter.com).mp4', '115 (online-video-cutter.com).mp4', '117.mp4', '102_crop (online-video-cutter.com).mp4', '103_crop (online-video-cutter.com).mp4', '111_crop (online-video-cutter.com).mp4', '108_crop (online-video-cutter.com).mp4', '106_crop (online-video-cutter.com).mp4', '120_crop (online-video-cutter.com).mp4', '121.mp4', '138.mp4', '129.mp4', '131.mp4', '135.mp4', '136 (online-video-cutter.com).mp4', '126.mp4', '130.mp4', '124 (online-video-cutter.com).mp4', '127.mp4', '122.mp4', '137.mp4', '119.mp4', '133_crop (online-video-cutter.com).mp4', '139_crop (online-video-cutter.com).mp4', '125 (online-video-cutter.com).mp4', '128.mp4', '123 (online-video-cutter.com).mp4', '134_crop (online-video-cutter.com).mp4', '132.mp4', '147_crop (online-video-cutter.com).mp4', '143 (online-video-cutter.com).mp4', '149_crop (online-video-cutter.com).mp4', '148.mp4', '154 (online-video-cutter.com).mp4', '155_crop (online-video-cutter.com).mp4', '142 (online-video-cutter.com).mp4', '140_crop (online-video-cutter.com).mp4', '157 (online-video-cutter.com).mp4', '144 (online-video-cutter.com).mp4', '146_crop (online-video-cutter.com).mp4', '151_crop (online-video-cutter.com).mp4', '156 (online-video-cutter.com).mp4', '153 (online-video-cutter.com).mp4', '145 (online-video-cutter.com).mp4', '150.mp4', '141 (online-video-cutter.com).mp4', '152.mp4', '95.mp4', '93 (online-video-cutter.com).mp4', '91.mp4', '98_crop (online-video-cutter.com).mp4', '92.mp4', '99 (online-video-cutter.com).mp4', '96.mp4', '97 (online-video-cutter.com).mp4', '94 (online-video-cutter.com).mp4', '90 (online-video-cutter.com).mp4']\n",
            "Defected frame /content/gdrive/My Drive/data/testreal/grab/156 (online-video-cutter.com).mp4\n",
            "mouth\n",
            "['41.mov', '42.mov', '43.mov', '44.mov', '45.mov', '47.mov', '46.mov', '48.mov', '49.mov', '72.mov', '50.mov', '51.mov', '52.mov', '53.mov', '54.mov', '55.mov', '56.mov', '57.mov', '58.mov', '59.mov', '60.mov', '61.mov', '62.mov', '63.mov', '64.mov', '65.mov', '66.mov', '67.mov', '68.mov', '69.mov', '70.mov', '71.mov', '09.mp4', '03.mp4', '08.mp4', '07.mp4', '10.mp4', '01.mp4', '05.mp4', '11.mp4', '13.mp4', '12.mp4', '02.mp4', '14.mp4', '06.mp4', '04.mp4', '15.mp4', '21.mp4', '24.mp4', '35.mp4', '31.mp4', '32.mp4', '34.mp4', '16.mp4', '25.mp4', '29.mp4', '18.mp4', '36.mp4', '33.mp4', '37.mp4', '26.mp4', '19.mp4', '23.mp4', '30.mp4', '20.mp4', '17.mp4', '27.mp4', '22.mp4', '28.mp4', '40.mp4', '38.mp4', '39.mp4', '102.mp4', '101.mp4', '107.mp4', '104.mp4', '108.mp4', '100_crop (online-video-cutter.com).mp4', '103.mp4', '105.mp4', '106.mp4', '109.mp4', '111.mp4', '120.mp4', '115.mp4', '124.mp4', '122.mp4', '114.mp4', '113.mp4', '112.mp4', '117.mp4', '121.mp4', '116.mp4', '119.mp4', '118.mp4', '123.mp4', '110.mp4', '136_crop (online-video-cutter.com).mp4', '125.mp4', '134_corp (online-video-cutter.com).mp4', '132_crop (online-video-cutter.com).mp4', '128.mp4', '135_crop (online-video-cutter.com).mp4', '143_crop (online-video-cutter.com).mp4', '138_crop (online-video-cutter.com).mp4', '140_crop (online-video-cutter.com).mp4', '141.mp4', '129.mp4', '137_crop (online-video-cutter.com).mp4', '130.mp4', '139 (online-video-cutter.com).mp4', '127.mp4', '142_crop (online-video-cutter.com).mp4', '133_crop (online-video-cutter.com).mp4', '131_crop (online-video-cutter.com).mp4', '126.mp4', '151.mp4', '153.mp4', '156.mp4', '150.mp4', '154.mp4', '147.mp4', '144_crop (online-video-cutter.com).mp4', '145_crop (online-video-cutter.com).mp4', '148.mp4', '146_crop (online-video-cutter.com).mp4', '149.mp4', '155.mp4', '152.mp4', '163.mp4', '168.mp4', '172.mp4', '161.mp4', '165.mp4', '170.mp4', '160.mp4', '167.mp4', '162.mp4', '164.mp4', '159.mp4', '166.mp4', '158.mp4', '169.mp4', '157.mp4', '171.mp4', '178.mp4', '188.mp4', '184.mp4', '175.mp4', '189.mp4', '182.mp4', '176.mp4', '179.mp4', '177.mp4', '180.mp4', '181.mp4', '173.mp4', '174.mp4', '185.mp4', '186.mp4', '187.mp4', '183.mp4', '79_crop (online-video-cutter.com).mp4', '198.mp4', '76 (online-video-cutter.com).mp4', '192.mp4', '193.mp4', '75.mp4', '78.mp4', '73.mp4', '194.mp4', '80 (online-video-cutter.com).mp4', '74 (online-video-cutter.com).mp4', '77.mp4', '197.mp4', '196.mp4', '195.mp4', '190.mp4', '199.mp4', '191.mp4', '90.mp4', '91.mp4', '81_crop (online-video-cutter.com).mp4', '99_crop (online-video-cutter.com).mp4', '82_crop (online-video-cutter.com).mp4', '98_crop (online-video-cutter.com).mp4', '93.mp4', '83_crop (online-video-cutter.com).mp4', '96.mp4', '95.mp4', '94.mp4', '97_crop (online-video-cutter.com).mp4', '92.mp4']\n",
            "sit\n",
            "['sit down_AME_78.mp4', 'sit down_AME_87.mp4', 'sit down_AME_70.mp4', 'sit down_AME_72.mp4', 'sit down_AME_80.mp4', 'sit down_AME_71.mp4', 'sit down_AME_81.mp4', 'sit down_AME_83.mp4', 'sit down_AME_84.mp4', 'sit down_AME_77.mp4', 'sit down_AME_86.mp4', 'sit down_AME_88.mp4', 'sit down_AME_76.mp4', 'sit down_AME_82.mp4', 'sit down_AME_79.mp4', 'sit down_AME_73.mp4', 'sit down_AME_93.mp4', 'sit down_AME_52.mp4', 'sit down_AME_92.mp4', 'sit down_AME_75.mp4', 'sit down_AME_85.mp4', 'sit down_AME_91.mp4', 'sit down_AME_90.mp4', 'sit down_AME_57.mp4', 'sit down_AME_74.mp4', 'sit down_AME_64.mp4', 'sit down_AME_94.mp4', 'sit down_AME_95.mp4', 'sit down_AME_58.mp4', 'sit down_AME_60.mp4', 'sit down_AME_67.mp4', 'sit down_AME_45.mp4', 'sit down_AME_53.mp4', 'sit down_AME_63.mp4', 'sit down_AME_69.mp4', 'sit down_AME_48.mp4', 'sit down_AME_46.mp4', 'sit down_AME_61.mp4', 'sit down_AME_50.mp4', 'sit down_AME_51.mp4', 'sit down_AME_68.mp4', 'sit down_AME_54.mp4', 'sit down_AME_47.mp4', 'sit down_AME_65.mp4', 'sit down_AME_56.mp4', 'sit down_AME_26.mp4', 'sit down_AME_62.mp4', 'sit down_AME_24.mp4', 'sit down_AME_44.mp4', 'sit down_AME_49.mp4', 'sit down_AME_25.mp4', 'sit down_AME_39.mp4', 'sit down_AME_37.mp4', 'sit down_AME_55.mp4', 'sit down_AME_42.mp4', 'sit down_AME_31.mp4', 'sit down_AME_59.mp4', 'sit down_AME_66.mp4', 'sit down_AME_43.mp4', 'sit down_AME_28.mp4', 'sit down_AME_30.mp4', 'sit down_AME_32.mp4', 'sit down_AME_16.mp4', 'sit down_AME_13.mp4', 'sit down_AME_22.mp4', 'sit down_AME_40.mp4', 'sit down_AME_36.mp4', 'sit down_AME_34.mp4', 'sit down_AME_21.mp4', 'sit down_AME_38.mp4', 'sit down_AME_41.mp4', 'sit down_AME_20.mp4', 'sit down_AME_29.mp4', 'sit down_AME_27.mp4', 'sit down_AME_35.mp4', 'sit down_AME_23.mp4', 'sit down_AME_33.mp4', 'sit down_AME_18.mp4', 'sit down_AME_15.mp4', 'sit down_AME_8.mp4', 'sit down_AME_7.mp4', 'sit down_AME_9.mp4', 'sit down_AME_12.mp4', 'sit down_AME.mp4', 'sit down_AME_10.mp4', 'sit down_AME_2.mp4', 'sit down_AME_4.mp4', 'sit down_AME_17.mp4', 'sit down_AME_3.mp4', 'sit down_AME_11.mp4', 'sit down_AME_19.mp4', 'sit down_AME_6.mp4', 'sit down_AME_14.mp4', 'sit down_AME_1.mp4', 'sit down_AME_5.mp4']\n",
            "eat\n",
            "['Eat_70.mp4', 'Eat_65.mp4', 'Eat_59.mp4', 'Eat_75.mp4', 'Eat_73.mp4', 'Eat_69.mp4', 'Eat_60.mp4', 'Eat_66.mp4', 'Eat_79.mp4', 'Eat_86.mp4', 'Eat_87.mp4', 'Eat_68.mp4', 'Eat_85.mp4', 'Eat_84.mp4', 'Eat_78.mp4', 'Eat_80.mp4', 'Eat_72.mp4', 'Eat_64.mp4', 'Eat_67.mp4', 'Eat_71.mp4', 'Eat_74.mp4', 'Eat_81.mp4', 'Eat_83.mp4', 'Eat_61.mp4', 'Eat_49.mp4', 'Eat_57.mp4', 'Eat_58.mp4', 'Eat_37.mp4', 'Eat_56.mp4', 'Eat_38.mp4', 'Eat_54.mp4', 'Eat_52.mp4', 'Eat_46.mp4', 'Eat_55.mp4', 'Eat_40.mp4', 'Eat_50.mp4', 'Eat_43.mp4', 'Eat_39.mp4', 'Eat_51.mp4', 'Eat_34.mp4', 'Eat_47.mp4', 'Eat_48.mp4', 'Eat_82.mp4', 'Eat_53.mp4', 'Eat_42.mp4', 'Eat_41.mp4', 'Eat_45.mp4', 'Eat_44.mp4', 'Eat_36.mp4', 'Eat_35.mp4', 'Eat_30.mp4', 'Eat_29.mp4', 'Eat_11.mp4', 'Eat_15.mp4', 'Eat_24.mp4', 'Eat_4.mp4', 'Eat_25.mp4', 'Eat_8.mp4', 'Eat_17.mp4', 'Eat_10.mp4', 'Eat_13.mp4', 'Eat_21.mp4', 'Eat_28.mp4', 'Eat_27.mp4', 'Eat_18.mp4', 'Eat_22.mp4', 'Eat_9.mp4', 'Eat_7.mp4', 'Eat_23.mp4', 'Eat_16.mp4', 'Eat_19.mp4', 'Eat_3.mp4', 'eat_20.mp4', 'Eat_5.mp4', 'Eat_33.mp4', 'Eat_14.mp4', 'Eat_31.mp4', 'Eat_2.mp4', 'Eat_new1.mp4', 'Eat_6.mp4', 'Eat_26.mp4', 'Eat_32.mp4', 'Eat_12.mp4']\n",
            "fall_down\n",
            "['1.mp4', '2.mov', '3.mov', '5.mov', '4.mov', '6.mov', '9.mov', '8.mov', '7.mov', '10.mov', '12.mov', '11.mov', '13.mov', '14.mov', '15.mov', '16.mov', '17.mov', '18.mov', '19.mov', '20.mov', '21.mov', '22.mov', '24.mov', '23.mov', '25.mov', '26.mov', '27.mov', '28.mov', '29.mov', '30.mov', '31.mov', '32.mov', '33.mov', '34.mov', '35.mov', '36.mov', '37.mov', '38.mov', '39.mov', '40.mov', '41.mov', '42.mov', '44.mov', '43.mov', '45.mov', '46.mov', '47.mov', '48.mov', '49.mov', '50.mov', '51.mov', '52.mov', '53.mov', '54.mov', '63.mov', '72.mov', '81.mov', '89.mov', '98.mov', '108.mov', '116.mov', '124.mov', '132.mov', '141.mov', '149.mov', '157.mov', '165.mov', '171.mov', '178.mov', '181.mov', '185.mov', '189.mov', '193.mov', '55.mov', '64.mov', '73.mov', '82.mov', '90.mov', '99.mov', '109.mov', '117.mov', '125.mov', '133.mov', '142.mov', '150.mov', '158.mov', '166.mov', '172.mov', '65.mov', '56.mov', '74.mov', '91.mov', '100.mov', '101.mov', '134.mov', '151.mov', '159.mov', '160.mov', '173.mov', '174.mov', '182.mov', '186.mov', '190.mov', '196.mov', '199.mov', '203.mov', '200.mov', '205.mov', '207.mov', '209.mov', '211.mov', '213.mov', '57.mov', '66.mov', '75.mov', '83.mov', '92.mov', '102.mov', '110.mov', '118.mov', '126.mov', '135.mov', '143.mov', '58.mov', '67.mov', '76.mov', '84.mov', '103.mov', '93.mov', '111.mov', '119.mov', '127.mov', '136.mov', '144.mov', '152.mov', '59.mov', '68.mov', '77.mov', '85.mov', '94.mov', '104.mov', '112.mov', '120.mov', '128.mov', '137.mov', '145.mov', '153.mov', '161.mov', '167.mov', '60.mov', '69.mov', '78.mov', '86.mov', '95.mov', '105.mov', '113.mov', '121.mov', '129.mov', '138.mov', '146.mov', '154.mov', '162.mov', '168.mov', '175.mov', '61.mov', '70.mov', '79.mov', '96.mov', '87.mov', '106.mov', '114.mov', '122.mov', '130.mov', '139.mov', '147.mov', '155.mov', '163.mov', '169.mov', '176.mov', '179.mov', '183.mov', '187.mov', '191.mov', '194.mov', '197.mov', '201.mov', '62.mov', '71.mov', '80.mov', '88.mov', '97.mov', '107.mov', '115.mov', '123.mov', '131.mov', '140.mov', '148.mov', '156.mov', '164.mov', '170.mov', '177.mov', '180.mov', '184.mov', '188.mov', '192.mov', '195.mov', '198.mov', '202.mov', '204.mov', '206.mov', '208.mov', '210.mov', '212.mov', '214.mov']\n",
            "walk\n",
            "['26.mp4', '12.mp4', '19.mp4', '21.mp4', '23.mp4', '10.mp4', '2.mp4', '20.mp4', '17.mp4', '22.mp4', '1.mp4', '16.mp4', '15.mp4', '14.mp4', '25.mp4', '18.mp4', '13.mp4', '11.mp4', '24.mp4', '44.mp4', '40.mp4', '39.mp4', '46.mp4', '42.mp4', '43.mp4', '33.mp4', '36.mp4', '48.mp4', '45.mp4', '41.mp4', '38.mp4', '31.mp4', '35.mp4', '47.mp4', '4.mp4', '34.mp4', '27.mp4', '29.mp4', '3.mp4', '37.mp4', '30.mp4', '32.mp4', '28.mp4', '55.mp4', '63.mp4', '60.mp4', '61.mp4', '6.mp4', '59.mp4', '53.mp4', '62.mp4', '56.mp4', '49.mp4', '68.mp4', '54.mp4', '67.mp4', '65.mp4', '58.mp4', '52.mp4', '64.mp4', '50.mp4', '57.mp4', '5.mp4', '66.mp4', '51.mp4', '82.mp4', '89.mp4', '87.mp4', '71.mp4', '76.mp4', '69.mp4', '79.mp4', '77.mp4', '84.mp4', '80.mp4', '86.mp4', '72.mp4', '70.mp4', '75.mp4', '7.mp4', '81.mp4', '78.mp4', '8.mp4', '88.mp4', '74.mp4', '73.mp4', '83.mp4', '85.mp4', '90.mp4', '91.mp4', '9.mp4', '106.mov', '119.mov', '134.mov', '149.mov', '162.mov', '176.mov', '190.mov', '204.mov', '191.mov', '177.mov', '163.mov', '150.mov', '135.mov', '120.mov', '92.mov', '93.mov', '107.mov', '121.mov', '136.mov', '108.mov', '94.mov', '122.mov', '137.mov', '151.mov', '164.mov', '178.mov', '192.mov', '210.mov', '216.mov', '220.mov', '222.mov', '95.mov', '109.mov', '123.mov', '138.mov', '152.mov', '179.mov', '165.mov', '193.mov', '96.mov', '110.mov', '124.mov', '139.mov', '226.mov', '166.mov', '180.mov', '194.mov', '97.mov', '125.mov', '140.mov', '153.mov', '167.mov', '181.mov', '195.mov', '205.mov', '211.mov', '217.mov', '98.mov', '111.mov', '126.mov', '141.mov', '154.mov', '168.mov', '182.mov', '196.mov', '99.mov', '112.mov', '127.mov', '142.mov', '155.mov', '169.mov', '183.mov', '197.mov', '113.mov', '100.mov', '128.mov', '143.mov', '156.mov', '170.mov', '184.mov', '198.mov', '101.mov', '114.mov', '129.mov', '157.mov', '144.mov', '171.mov', '185.mov', '199.mov', '206.mov', '212.mov', '102.mov', '115.mov', '130.mov', '145.mov', '158.mov', '186.mov', '172.mov', '200.mov', '207.mov', '213.mov', '218.mov', '103.mov', '116.mov', '131.mov', '146.mov', '159.mov', '173.mov', '187.mov', '201.mov', '104.mov', '117.mov', '132.mov', '147.mov', '174.mov', '160.mov', '188.mov', '202.mov', '208.mov', '214.mov', '118.mov', '105.mov', '148.mov', '133.mov', '161.mov', '175.mov', '189.mov', '209.mov', '203.mov', '215.mov', '219.mov', '223.mov', '221.mov', '224.mov', '225.mov']\n",
            "Defected frame /content/gdrive/My Drive/data/testreal/walk/117.mov\n",
            "Defected frame /content/gdrive/My Drive/data/testreal/walk/132.mov\n"
          ],
          "name": "stdout"
        }
      ]
    },
    {
      "cell_type": "code",
      "metadata": {
        "colab": {
          "base_uri": "https://localhost:8080/"
        },
        "id": "H4IIwoof8Q_m",
        "outputId": "21c7a83a-5a60-4a0c-905c-7777e83d9aba"
      },
      "source": [
        "model = Sequential()\n",
        "\n",
        "model.add(ConvLSTM2D(filters = 128, kernel_size = (3, 3),strides = (2,2), return_sequences = True, data_format = \"channels_last\", input_shape = (seq_len, img_height, img_width, 3)))\n",
        "model.add(BatchNormalization())\n",
        "model.add(Dropout(0.3))\n",
        "\n",
        "model.add(ConvLSTM2D(filters = 64, kernel_size = (3, 3),strides = (2,2), return_sequences = True, data_format = \"channels_last\"))\n",
        "model.add(BatchNormalization())\n",
        "model.add(Dropout(0.25))\n",
        "\n",
        "model.add(ConvLSTM2D(filters = 32, kernel_size = (3, 3),strides = (2,2), return_sequences = False, data_format = \"channels_last\"))\n",
        "model.add(BatchNormalization())\n",
        "model.add(Dropout(0.2))\n",
        "\n",
        "model.add(Flatten())\n",
        "model.add(Dense(256, activation=\"relu\"))\n",
        "model.add(Dropout(0.2))\n",
        "model.add(Dense(8, activation = \"sigmoid\"))\n",
        " \n",
        "model.summary()"
      ],
      "execution_count": null,
      "outputs": [
        {
          "output_type": "stream",
          "text": [
            "Model: \"sequential_1\"\n",
            "_________________________________________________________________\n",
            "Layer (type)                 Output Shape              Param #   \n",
            "=================================================================\n",
            "conv_lst_m2d_3 (ConvLSTM2D)  (None, 16, 31, 31, 128)   604160    \n",
            "_________________________________________________________________\n",
            "batch_normalization_3 (Batch (None, 16, 31, 31, 128)   512       \n",
            "_________________________________________________________________\n",
            "dropout_4 (Dropout)          (None, 16, 31, 31, 128)   0         \n",
            "_________________________________________________________________\n",
            "conv_lst_m2d_4 (ConvLSTM2D)  (None, 16, 15, 15, 64)    442624    \n",
            "_________________________________________________________________\n",
            "batch_normalization_4 (Batch (None, 16, 15, 15, 64)    256       \n",
            "_________________________________________________________________\n",
            "dropout_5 (Dropout)          (None, 16, 15, 15, 64)    0         \n",
            "_________________________________________________________________\n",
            "conv_lst_m2d_5 (ConvLSTM2D)  (None, 7, 7, 32)          110720    \n",
            "_________________________________________________________________\n",
            "batch_normalization_5 (Batch (None, 7, 7, 32)          128       \n",
            "_________________________________________________________________\n",
            "dropout_6 (Dropout)          (None, 7, 7, 32)          0         \n",
            "_________________________________________________________________\n",
            "flatten_1 (Flatten)          (None, 1568)              0         \n",
            "_________________________________________________________________\n",
            "dense_2 (Dense)              (None, 256)               401664    \n",
            "_________________________________________________________________\n",
            "dropout_7 (Dropout)          (None, 256)               0         \n",
            "_________________________________________________________________\n",
            "dense_3 (Dense)              (None, 8)                 2056      \n",
            "=================================================================\n",
            "Total params: 1,562,120\n",
            "Trainable params: 1,561,672\n",
            "Non-trainable params: 448\n",
            "_________________________________________________________________\n"
          ],
          "name": "stdout"
        }
      ]
    },
    {
      "cell_type": "code",
      "metadata": {
        "colab": {
          "base_uri": "https://localhost:8080/"
        },
        "id": "6EQL4T1S8RCO",
        "outputId": "34a183fb-ad80-41e4-8e99-b34c5d6dcc6e"
      },
      "source": [
        "opt = keras.optimizers.Adam(lr=0.001)\n",
        "model.compile(loss='categorical_crossentropy', optimizer=opt, metrics=[\"accuracy\"])\n",
        " \n",
        "earlystop = EarlyStopping(patience=7)\n",
        "callbacks = [earlystop]\n",
        " \n",
        "history = model.fit(x = X_train, y = y_train, epochs=40, batch_size = 32, shuffle=True, validation_split=0.2, callbacks=callbacks)"
      ],
      "execution_count": null,
      "outputs": [
        {
          "output_type": "stream",
          "text": [
            "Epoch 1/40\n"
          ],
          "name": "stdout"
        },
        {
          "output_type": "stream",
          "text": [
            "/usr/local/lib/python3.7/dist-packages/tensorflow/python/keras/optimizer_v2/optimizer_v2.py:375: UserWarning: The `lr` argument is deprecated, use `learning_rate` instead.\n",
            "  \"The `lr` argument is deprecated, use `learning_rate` instead.\")\n"
          ],
          "name": "stderr"
        },
        {
          "output_type": "stream",
          "text": [
            "24/24 [==============================] - 1226s 51s/step - loss: 2.8155 - accuracy: 0.1481 - val_loss: 2.0592 - val_accuracy: 0.2394\n",
            "Epoch 2/40\n",
            "24/24 [==============================] - 1218s 51s/step - loss: 2.0121 - accuracy: 0.3526 - val_loss: 2.0666 - val_accuracy: 0.2394\n",
            "Epoch 3/40\n",
            "24/24 [==============================] - 1215s 51s/step - loss: 1.6978 - accuracy: 0.4297 - val_loss: 1.9484 - val_accuracy: 0.2713\n",
            "Epoch 4/40\n",
            "24/24 [==============================] - 1206s 50s/step - loss: 1.3317 - accuracy: 0.5272 - val_loss: 1.9881 - val_accuracy: 0.2926\n",
            "Epoch 5/40\n",
            "24/24 [==============================] - 1211s 51s/step - loss: 1.1969 - accuracy: 0.5690 - val_loss: 1.9801 - val_accuracy: 0.2660\n",
            "Epoch 6/40\n",
            "24/24 [==============================] - 1209s 50s/step - loss: 1.0441 - accuracy: 0.6246 - val_loss: 1.8513 - val_accuracy: 0.3191\n",
            "Epoch 7/40\n",
            "24/24 [==============================] - 1206s 50s/step - loss: 0.8815 - accuracy: 0.6774 - val_loss: 2.5262 - val_accuracy: 0.2340\n",
            "Epoch 8/40\n",
            "24/24 [==============================] - 1212s 51s/step - loss: 0.7876 - accuracy: 0.7125 - val_loss: 2.7411 - val_accuracy: 0.2394\n",
            "Epoch 9/40\n",
            "24/24 [==============================] - 1211s 50s/step - loss: 0.7242 - accuracy: 0.7512 - val_loss: 3.1207 - val_accuracy: 0.1596\n",
            "Epoch 10/40\n",
            "24/24 [==============================] - 1212s 50s/step - loss: 0.5582 - accuracy: 0.8027 - val_loss: 2.5132 - val_accuracy: 0.2979\n",
            "Epoch 11/40\n",
            "24/24 [==============================] - 1218s 51s/step - loss: 0.4633 - accuracy: 0.8431 - val_loss: 2.7419 - val_accuracy: 0.2500\n",
            "Epoch 12/40\n",
            "24/24 [==============================] - 1229s 51s/step - loss: 0.3812 - accuracy: 0.8579 - val_loss: 2.7527 - val_accuracy: 0.3085\n",
            "Epoch 13/40\n",
            "24/24 [==============================] - 1220s 51s/step - loss: 0.4391 - accuracy: 0.8503 - val_loss: 2.8461 - val_accuracy: 0.2819\n"
          ],
          "name": "stdout"
        }
      ]
    },
    {
      "cell_type": "code",
      "metadata": {
        "id": "lfU8L3Hf8REq",
        "colab": {
          "base_uri": "https://localhost:8080/",
          "height": 279
        },
        "outputId": "3d8c18aa-4952-4f7e-d385-3688e2e9519a"
      },
      "source": [
        "import matplotlib.pyplot as plt\n",
        "plt.plot(history.history['loss'])\n",
        "plt.plot(history.history['val_loss'])\n",
        "plt.plot(history.history['accuracy'])\n",
        "plt.plot(history.history['val_accuracy'])\n",
        "plt.xlabel('epoch')\n",
        "plt.ylabel('loss')\n",
        "plt.legend(['train', 'val','accuracy','val_accuracy'])\n",
        "plt.show()\n"
      ],
      "execution_count": null,
      "outputs": [
        {
          "output_type": "display_data",
          "data": {
            "image/png": "[encoded data removed]",
            "text/plain": [
              "<Figure size 432x288 with 1 Axes>"
            ]
          },
          "metadata": {
            "tags": [],
            "needs_background": "light"
          }
        }
      ]
    },
    {
      "cell_type": "code",
      "metadata": {
        "id": "YQp-NjiOHufy",
        "colab": {
          "base_uri": "https://localhost:8080/"
        },
        "outputId": "50fb0e8f-baf7-406f-d5c0-9eaf9309abd0"
      },
      "source": [
        "from sklearn.metrics import classification_report\n",
        "y_pred = model.predict(X_test)\n",
        "y_pred = np.argmax(y_pred, axis = 1)\n",
        "y_test = np.argmax(y_test, axis = 1)\n",
        " \n",
        "print(classification_report(y_test, y_pred))"
      ],
      "execution_count": null,
      "outputs": [
        {
          "output_type": "stream",
          "text": [
            "              precision    recall  f1-score   support\n",
            "\n",
            "           0       0.23      0.20      0.21        25\n",
            "           1       0.16      0.18      0.17        17\n",
            "           2       0.67      0.33      0.44        18\n",
            "           3       0.29      0.76      0.42        42\n",
            "           4       0.38      0.20      0.26        30\n",
            "           5       0.40      0.26      0.31        39\n",
            "           6       0.35      0.38      0.36        21\n",
            "           7       0.38      0.07      0.12        42\n",
            "\n",
            "    accuracy                           0.31       234\n",
            "   macro avg       0.35      0.30      0.29       234\n",
            "weighted avg       0.35      0.31      0.28       234\n",
            "\n"
          ],
          "name": "stdout"
        }
      ]
    },
    {
      "cell_type": "code",
      "metadata": {
        "id": "oXAEwW9lHujG",
        "colab": {
          "base_uri": "https://localhost:8080/"
        },
        "outputId": "a1cc69aa-fbf7-429f-8e42-ffbcaae29fec"
      },
      "source": [
        "from sklearn.metrics import accuracy_score\n",
        "\n",
        "print('accuracy score : {}'.format(accuracy_score(y_pred, y_test)))"
      ],
      "execution_count": null,
      "outputs": [
        {
          "output_type": "stream",
          "text": [
            "accuracy score : 0.31196581196581197\n"
          ],
          "name": "stdout"
        }
      ]
    },
    {
      "cell_type": "code",
      "metadata": {
        "id": "3wgixlFpHumS"
      },
      "source": [
        ""
      ],
      "execution_count": null,
      "outputs": []
    }
  ]
}
