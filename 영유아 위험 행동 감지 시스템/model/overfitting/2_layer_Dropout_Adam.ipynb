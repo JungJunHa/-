{
  "nbformat": 4,
  "nbformat_minor": 0,
  "metadata": {
    "colab": {
      "name": "2-layer-Dropout-Adam.ipynb",
      "provenance": [],
      "collapsed_sections": []
    },
    "kernelspec": {
      "display_name": "Python 3",
      "name": "python3"
    },
    "language_info": {
      "name": "python"
    }
  },
  "cells": [
    {
      "cell_type": "code",
      "metadata": {
        "id": "LKWPo7q8L4ht"
      },
      "source": [
        "import keras\n",
        "from keras import applications\n",
        "from keras.preprocessing.image import ImageDataGenerator\n",
        "from keras import optimizers\n",
        "from keras.models import Sequential, Model \n",
        "from keras.layers import *\n",
        "from keras.callbacks import ModelCheckpoint, LearningRateScheduler, TensorBoard, EarlyStopping\n",
        "import os\n",
        "import cv2\n",
        "import numpy as np\n",
        "from sklearn.model_selection import train_test_split\n",
        "# import keras_metrics as km\n",
        "from keras import regularizers, optimizers\n",
        "from keras.callbacks import ModelCheckpoint\n",
        "from sklearn.metrics import precision_score\n",
        "from sklearn.metrics import recall_score\n",
        "from sklearn.metrics import f1_score\n",
        "from sklearn.metrics import cohen_kappa_score\n",
        "from sklearn.metrics import roc_auc_score\n",
        "from sklearn.metrics import multilabel_confusion_matrix\n",
        "from sklearn.metrics import accuracy_score\n",
        "import math"
      ],
      "execution_count": 1,
      "outputs": []
    },
    {
      "cell_type": "code",
      "metadata": {
        "id": "ddBrFgY5L7s6"
      },
      "source": [
        "data_dir = \"/content/drive/MyDrive/video_data\"\n",
        "img_height , img_width = 64, 64\n",
        "seq_len = 16"
      ],
      "execution_count": 2,
      "outputs": []
    },
    {
      "cell_type": "code",
      "metadata": {
        "colab": {
          "base_uri": "https://localhost:8080/"
        },
        "id": "hc520Q6LL8O7",
        "outputId": "45bc1f6b-bac4-4816-9eef-3e105bf852c2"
      },
      "source": [
        "from google.colab import drive\n",
        "drive.mount('/content/drive')"
      ],
      "execution_count": 3,
      "outputs": [
        {
          "output_type": "stream",
          "text": [
            "Mounted at /content/drive\n"
          ],
          "name": "stdout"
        }
      ]
    },
    {
      "cell_type": "code",
      "metadata": {
        "id": "BGBxRB0RL8po"
      },
      "source": [
        "classes = [\"fall\", \"fall_down\", \"grab\", \"swallow\", \"walk\",\"sit\"]"
      ],
      "execution_count": 4,
      "outputs": []
    },
    {
      "cell_type": "code",
      "metadata": {
        "id": "JqGExNQ8L8us"
      },
      "source": [
        "def frames_extraction(video_path):\n",
        "    frames_list = []\n",
        "     \n",
        "    vidcap = cv2.VideoCapture(video_path)\n",
        "    total_frames = vidcap.get(cv2.CAP_PROP_FRAME_COUNT)\n",
        "\n",
        "    frames_step = total_frames//seq_len\n",
        " \n",
        "    for j in range(seq_len):\n",
        "        #here, we set the parameter 1 which is the frame number to the frame (i*frames_step)\n",
        "        vidcap.set(1,j*frames_step)\n",
        "        success,image = vidcap.read()  \n",
        "        #save your image\n",
        "        if success:\n",
        "          image = cv2.resize(image, (img_height, img_width))\n",
        "          frames_list.append(image)\n",
        "        else:\n",
        "          print(\"Defected frame {}\".format(video_path))\n",
        "          break\n",
        "\n",
        "    return frames_list"
      ],
      "execution_count": 5,
      "outputs": []
    },
    {
      "cell_type": "code",
      "metadata": {
        "id": "XiTJGvqWL8yz"
      },
      "source": [
        "def create_data(input_dir):\n",
        "    X = []\n",
        "    Y = []\n",
        "     \n",
        "    classes_list = os.listdir(input_dir)\n",
        "     \n",
        "    for c in classes_list:\n",
        "        print(c)\n",
        "        files_list = os.listdir(os.path.join(input_dir, c))\n",
        "        for f in files_list:\n",
        "            frames = frames_extraction(os.path.join(os.path.join(input_dir, c), f))\n",
        "            if len(frames) == seq_len:\n",
        "                X.append(frames)\n",
        "             \n",
        "                y = [0]*len(classes)\n",
        "                y[classes.index(c)] = 1\n",
        "                Y.append(y)\n",
        "     \n",
        "    X = np.asarray(X)\n",
        "    Y = np.asarray(Y)\n",
        "    return X, Y"
      ],
      "execution_count": 6,
      "outputs": []
    },
    {
      "cell_type": "code",
      "metadata": {
        "colab": {
          "base_uri": "https://localhost:8080/"
        },
        "id": "s-O_pQRiL82a",
        "outputId": "5f121155-baa2-4208-9c34-f450f36d970d"
      },
      "source": [
        "X, Y = create_data(data_dir)\n",
        " \n",
        "X_train, X_test, y_train, y_test = train_test_split(X, Y, test_size=0.20, shuffle=True, random_state=0)"
      ],
      "execution_count": null,
      "outputs": [
        {
          "output_type": "stream",
          "text": [
            "walk\n",
            "fall_down\n",
            "swallow\n",
            "Defected frame /content/drive/MyDrive/video_data/swallow/70.mov\n",
            "Defected frame /content/drive/MyDrive/video_data/swallow/79_crop (online-video-cutter.com).mp4\n",
            "Defected frame /content/drive/MyDrive/video_data/swallow/80 (online-video-cutter.com).mp4\n",
            "Defected frame /content/drive/MyDrive/video_data/swallow/81_crop (online-video-cutter.com).mp4\n",
            "Defected frame /content/drive/MyDrive/video_data/swallow/82_crop (online-video-cutter.com).mp4\n",
            "Defected frame /content/drive/MyDrive/video_data/swallow/83_crop (online-video-cutter.com).mp4\n"
          ],
          "name": "stdout"
        }
      ]
    },
    {
      "cell_type": "code",
      "metadata": {
        "id": "TBS2pgZEL86a"
      },
      "source": [
        "model = Sequential()\n",
        "model.add(ConvLSTM2D(filters = 32, kernel_size = (3, 3), return_sequences = True, padding = 'same', data_format = \"channels_last\", input_shape = (seq_len, img_height, img_width, 3)))\n",
        "model.add(ConvLSTM2D(filters = 32, kernel_size = (3, 3), strides = (2,2), return_sequences = True, padding = 'same', data_format = \"channels_last\"))\n",
        "model.add(BatchNormalization())\n",
        "model.add(Dropout(0.5))\n",
        "\n",
        "model.add(ConvLSTM2D(filters = 64, kernel_size = (3, 3), return_sequences = True, padding = 'same', data_format = \"channels_last\"))\n",
        "model.add(ConvLSTM2D(filters = 64, kernel_size = (3, 3), strides = (2,2), return_sequences = False, padding = 'same', data_format = \"channels_last\"))\n",
        "model.add(BatchNormalization())\n",
        "model.add(Dropout(0.5))\n",
        "\n",
        "model.add(Flatten())\n",
        "model.add(Dense(256, activation=\"relu\"))\n",
        "model.add(Dropout(0.3))\n",
        "model.add(Dense(6, activation = \"softmax\"))\n",
        " \n",
        "model.summary()"
      ],
      "execution_count": null,
      "outputs": []
    },
    {
      "cell_type": "code",
      "metadata": {
        "id": "MT7X9mmIL8_J"
      },
      "source": [
        "def schedular(epoch):\n",
        "  if epoch < 10:\n",
        "    return 0.001\n",
        "  else:\n",
        "    return 0.001 * math.exp(0.1*(10-epoch))"
      ],
      "execution_count": null,
      "outputs": []
    },
    {
      "cell_type": "code",
      "metadata": {
        "colab": {
          "base_uri": "https://localhost:8080/"
        },
        "id": "jdJhXbhSMOuD",
        "outputId": "980bbad5-9e01-47f5-f5f2-168fc4f4257f"
      },
      "source": [
        "opt = optimizers.Adam(lr=0.001)\n",
        "model.compile(loss='categorical_crossentropy', optimizer=opt, metrics=[\"accuracy\"])\n",
        " \n",
        "earlystop = EarlyStopping(patience=7)\n",
        "callbacks = tf.keras.callbacks.LearningRateScheduler(schedular)\n",
        " \n",
        "history = model.fit(x = X_train, y = y_train, epochs=20, batch_size = 32, shuffle=True, validation_split=0.2, callbacks=[callbacks])\n",
        "\n",
        "import matplotlib.pyplot as plt\n",
        "plt.plot(history.history['loss'])\n",
        "plt.plot(history.history['val_loss'])\n",
        "plt.plot(history.history['accuracy'])\n",
        "plt.plot(history.history['val_accuracy'])\n",
        "plt.xlabel('epoch')\n",
        "plt.ylabel('loss')\n",
        "plt.legend(['train', 'val','accuracy','val_accuracy'])\n",
        "plt.show()\n"
      ],
      "execution_count": null,
      "outputs": [
        {
          "output_type": "stream",
          "text": [
            "/usr/local/lib/python3.7/dist-packages/tensorflow/python/keras/optimizer_v2/optimizer_v2.py:375: UserWarning: The `lr` argument is deprecated, use `learning_rate` instead.\n",
            "  \"The `lr` argument is deprecated, use `learning_rate` instead.\")\n"
          ],
          "name": "stderr"
        },
        {
          "output_type": "stream",
          "text": [
            "Epoch 1/20\n",
            "19/19 [==============================] - 1171s 60s/step - loss: 3.6596 - accuracy: 0.2654 - val_loss: 2.7561 - val_accuracy: 0.2914\n",
            "Epoch 2/20\n",
            "19/19 [==============================] - 1139s 60s/step - loss: 1.3953 - accuracy: 0.4641 - val_loss: 1.7565 - val_accuracy: 0.3377\n",
            "Epoch 3/20\n",
            "19/19 [==============================] - 1148s 61s/step - loss: 1.2063 - accuracy: 0.5596 - val_loss: 1.4705 - val_accuracy: 0.3709\n",
            "Epoch 4/20\n",
            "19/19 [==============================] - 1150s 61s/step - loss: 1.0857 - accuracy: 0.6414 - val_loss: 1.4962 - val_accuracy: 0.4437\n",
            "Epoch 5/20\n",
            "19/19 [==============================] - 1159s 61s/step - loss: 0.7918 - accuracy: 0.7009 - val_loss: 1.7898 - val_accuracy: 0.3642\n",
            "Epoch 6/20\n",
            "19/19 [==============================] - 1159s 61s/step - loss: 0.7042 - accuracy: 0.7481 - val_loss: 1.3809 - val_accuracy: 0.5166\n",
            "Epoch 7/20\n",
            "19/19 [==============================] - 1160s 61s/step - loss: 0.6038 - accuracy: 0.7661 - val_loss: 1.8266 - val_accuracy: 0.3841\n",
            "Epoch 8/20\n",
            "19/19 [==============================] - 1157s 61s/step - loss: 0.4540 - accuracy: 0.8416 - val_loss: 1.6260 - val_accuracy: 0.3907\n",
            "Epoch 9/20\n",
            "19/19 [==============================] - 1154s 61s/step - loss: 0.3749 - accuracy: 0.8702 - val_loss: 1.7555 - val_accuracy: 0.3907\n",
            "Epoch 10/20\n",
            "19/19 [==============================] - 1165s 61s/step - loss: 0.3792 - accuracy: 0.8700 - val_loss: 1.5298 - val_accuracy: 0.4238\n",
            "Epoch 11/20\n",
            "19/19 [==============================] - 1161s 61s/step - loss: 0.1868 - accuracy: 0.9370 - val_loss: 1.2704 - val_accuracy: 0.4834\n",
            "Epoch 12/20\n",
            "19/19 [==============================] - 1159s 61s/step - loss: 0.1187 - accuracy: 0.9668 - val_loss: 1.3293 - val_accuracy: 0.5166\n",
            "Epoch 13/20\n",
            "19/19 [==============================] - 1157s 61s/step - loss: 0.0868 - accuracy: 0.9721 - val_loss: 1.3203 - val_accuracy: 0.5828\n",
            "Epoch 14/20\n",
            "19/19 [==============================] - 1160s 61s/step - loss: 0.0451 - accuracy: 0.9813 - val_loss: 1.6408 - val_accuracy: 0.4967\n",
            "Epoch 15/20\n",
            "19/19 [==============================] - 1162s 61s/step - loss: 0.0677 - accuracy: 0.9794 - val_loss: 1.4263 - val_accuracy: 0.5430\n",
            "Epoch 16/20\n",
            "19/19 [==============================] - 1164s 61s/step - loss: 0.0780 - accuracy: 0.9704 - val_loss: 1.4699 - val_accuracy: 0.5695\n",
            "Epoch 17/20\n",
            "19/19 [==============================] - 1162s 61s/step - loss: 0.0417 - accuracy: 0.9878 - val_loss: 1.7168 - val_accuracy: 0.5166\n",
            "Epoch 18/20\n",
            "19/19 [==============================] - 1162s 61s/step - loss: 0.0265 - accuracy: 0.9914 - val_loss: 1.8165 - val_accuracy: 0.5033\n",
            "Epoch 19/20\n",
            "19/19 [==============================] - 1158s 61s/step - loss: 0.0195 - accuracy: 0.9943 - val_loss: 1.8208 - val_accuracy: 0.5099\n",
            "Epoch 20/20\n",
            "19/19 [==============================] - ETA: 0s - loss: 0.0133 - accuracy: 0.9958 "
          ],
          "name": "stdout"
        }
      ]
    },
    {
      "cell_type": "code",
      "metadata": {
        "id": "Gx9QFzQ-MO8z",
        "colab": {
          "base_uri": "https://localhost:8080/"
        },
        "outputId": "0b478b9f-c612-4658-936c-fa736a7ad3f8"
      },
      "source": [
        "from sklearn.metrics import classification_report\n",
        "from sklearn.metrics import accuracy_score\n",
        "y_pred = model.predict(X_test) \n",
        "y_pred = np.argmax(y_pred, axis = 1)\n",
        "# y_test = np.argmax(y_test, axis = 1)\n",
        " \n",
        "print(classification_report(y_test, y_pred))\n",
        "\n",
        "print('accuracy score : {}'.format(accuracy_score(y_pred, y_test)))\n"
      ],
      "execution_count": 13,
      "outputs": [
        {
          "output_type": "stream",
          "text": [
            "              precision    recall  f1-score   support\n",
            "\n",
            "           0       0.60      0.40      0.48        15\n",
            "           1       0.71      0.53      0.60        55\n",
            "           2       0.47      0.58      0.52        33\n",
            "           3       0.45      0.55      0.49        33\n",
            "           4       0.42      0.44      0.43        34\n",
            "           5       0.45      0.53      0.49        19\n",
            "\n",
            "    accuracy                           0.51       189\n",
            "   macro avg       0.52      0.50      0.50       189\n",
            "weighted avg       0.54      0.51      0.52       189\n",
            "\n",
            "accuracy score : 0.5132275132275133\n"
          ],
          "name": "stdout"
        }
      ]
    },
    {
      "cell_type": "code",
      "metadata": {
        "id": "p_NqqZ-VCJmk"
      },
      "source": [
        ""
      ],
      "execution_count": null,
      "outputs": []
    }
  ]
}
