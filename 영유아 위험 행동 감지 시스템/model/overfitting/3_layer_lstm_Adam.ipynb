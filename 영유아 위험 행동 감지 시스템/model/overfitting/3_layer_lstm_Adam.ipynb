{
  "nbformat": 4,
  "nbformat_minor": 0,
  "metadata": {
    "colab": {
      "name": "3-layer-lstm-Adam.ipynb",
      "provenance": [],
      "collapsed_sections": []
    },
    "kernelspec": {
      "display_name": "Python 3",
      "name": "python3"
    },
    "language_info": {
      "name": "python"
    }
  },
  "cells": [
    {
      "cell_type": "code",
      "metadata": {
        "id": "ZR9v3R1X0tbZ"
      },
      "source": [
        "import keras\n",
        "from keras import applications\n",
        "from keras.preprocessing.image import ImageDataGenerator\n",
        "from keras import optimizers\n",
        "from keras.models import Sequential, Model \n",
        "from keras.layers import *\n",
        "from keras.callbacks import ModelCheckpoint, LearningRateScheduler, TensorBoard, EarlyStopping\n",
        "import os\n",
        "import cv2\n",
        "import numpy as np\n",
        "from sklearn.model_selection import train_test_split\n",
        "# import keras_metrics as km\n",
        "from keras import regularizers, optimizers\n",
        "from keras.callbacks import ModelCheckpoint\n",
        "from sklearn.metrics import precision_score\n",
        "from sklearn.metrics import recall_score\n",
        "from sklearn.metrics import f1_score\n",
        "from sklearn.metrics import cohen_kappa_score\n",
        "from sklearn.metrics import roc_auc_score\n",
        "from sklearn.metrics import multilabel_confusion_matrix\n",
        "from sklearn.metrics import accuracy_score\n",
        "import math"
      ],
      "execution_count": 1,
      "outputs": []
    },
    {
      "cell_type": "code",
      "metadata": {
        "id": "UVAlyW080zl3"
      },
      "source": [
        "data_dir = \"/content/drive/MyDrive/video_data\"\n",
        "img_height , img_width = 64, 64\n",
        "seq_len = 16"
      ],
      "execution_count": 2,
      "outputs": []
    },
    {
      "cell_type": "code",
      "metadata": {
        "colab": {
          "base_uri": "https://localhost:8080/"
        },
        "id": "Dnfo1-qr0zq1",
        "outputId": "dd2f5956-7765-4570-95a9-6a982efcb8a7"
      },
      "source": [
        "from google.colab import drive\n",
        "drive.mount('/content/drive')"
      ],
      "execution_count": 3,
      "outputs": [
        {
          "output_type": "stream",
          "text": [
            "Mounted at /content/drive\n"
          ],
          "name": "stdout"
        }
      ]
    },
    {
      "cell_type": "code",
      "metadata": {
        "id": "_PQkSGMq0zvd"
      },
      "source": [
        "classes = [\"fall\", \"fall_down\", \"grab\", \"swallow\", \"walk\",\"sit\"]"
      ],
      "execution_count": 4,
      "outputs": []
    },
    {
      "cell_type": "code",
      "metadata": {
        "id": "lPekSygT0zzl"
      },
      "source": [
        "def frames_extraction(video_path):\n",
        "    frames_list = []\n",
        "     \n",
        "    vidcap = cv2.VideoCapture(video_path)\n",
        "    total_frames = vidcap.get(cv2.CAP_PROP_FRAME_COUNT)\n",
        "\n",
        "    frames_step = total_frames//seq_len\n",
        " \n",
        "    for j in range(seq_len):\n",
        "        #here, we set the parameter 1 which is the frame number to the frame (i*frames_step)\n",
        "        vidcap.set(1,j*frames_step)\n",
        "        success,image = vidcap.read()  \n",
        "        #save your image\n",
        "        if success:\n",
        "          image = cv2.resize(image, (img_height, img_width))\n",
        "          frames_list.append(image)\n",
        "        else:\n",
        "          print(\"Defected frame {}\".format(video_path))\n",
        "          break\n",
        "\n",
        "    return frames_list"
      ],
      "execution_count": 5,
      "outputs": []
    },
    {
      "cell_type": "code",
      "metadata": {
        "id": "VYnEhKsG0z22"
      },
      "source": [
        "def create_data(input_dir):\n",
        "    X = []\n",
        "    Y = []\n",
        "     \n",
        "    classes_list = os.listdir(input_dir)\n",
        "     \n",
        "    for c in classes_list:\n",
        "        print(c)\n",
        "        files_list = os.listdir(os.path.join(input_dir, c))\n",
        "        for f in files_list:\n",
        "            frames = frames_extraction(os.path.join(os.path.join(input_dir, c), f))\n",
        "            if len(frames) == seq_len:\n",
        "                X.append(frames)\n",
        "             \n",
        "                y = [0]*len(classes)\n",
        "                y[classes.index(c)] = 1\n",
        "                Y.append(y)\n",
        "     \n",
        "    X = np.asarray(X)\n",
        "    Y = np.asarray(Y)\n",
        "    return X, Y"
      ],
      "execution_count": 6,
      "outputs": []
    },
    {
      "cell_type": "code",
      "metadata": {
        "colab": {
          "base_uri": "https://localhost:8080/"
        },
        "id": "RFSoLou10z6Y",
        "outputId": "1cdd8f3b-1d04-4eac-dcc3-e394fd4c57da"
      },
      "source": [
        "X, Y = create_data(data_dir)\n",
        " \n",
        "X_train, X_test, y_train, y_test = train_test_split(X, Y, test_size=0.20, shuffle=True, random_state=0)"
      ],
      "execution_count": null,
      "outputs": [
        {
          "output_type": "stream",
          "text": [
            "walk\n",
            "fall_down\n",
            "swallow\n",
            "Defected frame /content/drive/MyDrive/video_data/swallow/70.mov\n",
            "fall\n",
            "grab\n"
          ],
          "name": "stdout"
        }
      ]
    },
    {
      "cell_type": "code",
      "metadata": {
        "id": "COgYRk1kQN2G"
      },
      "source": [
        "model = Sequential()\n",
        "model.add(ConvLSTM2D(filters = 32, kernel_size = (3, 3), return_sequences = True, padding = 'same', data_format = \"channels_last\", input_shape = (seq_len, img_height, img_width, 3)))\n",
        "model.add(ConvLSTM2D(filters = 32, kernel_size = (3, 3), strides = (2,2), return_sequences = True, padding = 'same', data_format = \"channels_last\"))\n",
        "model.add(BatchNormalization())\n",
        "\n",
        "model.add(ConvLSTM2D(filters = 64, kernel_size = (3, 3), return_sequences = True, padding = 'same', data_format = \"channels_last\"))\n",
        "model.add(ConvLSTM2D(filters = 64, kernel_size = (3, 3), strides = (2,2), return_sequences = True, padding = 'same', data_format = \"channels_last\"))\n",
        "model.add(BatchNormalization())\n",
        "\n",
        "model.add(ConvLSTM2D(filters = 128, kernel_size = (3, 3), return_sequences = True, padding = 'same', data_format = \"channels_last\"))\n",
        "model.add(ConvLSTM2D(filters = 128, kernel_size = (3, 3), strides = (2,2), return_sequences = False, padding = 'same', data_format = \"channels_last\"))\n",
        "model.add(BatchNormalization())\n",
        "\n",
        "model.add(Dropout(0.2))\n",
        "\n",
        "model.add(Flatten())\n",
        "model.add(Dense(256, activation=\"relu\"))\n",
        "model.add(Dropout(0.3))\n",
        "model.add(Dense(6, activation = \"softmax\"))\n",
        " \n",
        "model.summary()"
      ],
      "execution_count": null,
      "outputs": []
    },
    {
      "cell_type": "code",
      "metadata": {
        "id": "tgY61mCKbPN4"
      },
      "source": [
        "def schedular(epoch):\n",
        "  if epoch < 10:\n",
        "    return 0.001\n",
        "  else:\n",
        "    return 0.001 * math.exp(0.1*(10-epoch))"
      ],
      "execution_count": null,
      "outputs": []
    },
    {
      "cell_type": "code",
      "metadata": {
        "colab": {
          "base_uri": "https://localhost:8080/",
          "height": 1000
        },
        "id": "sqEzaega0z9l",
        "outputId": "6ac0a2d5-83b2-4390-eb10-2e4817988181"
      },
      "source": [
        "opt = optimizers.Adam(lr=0.001)\n",
        "model.compile(loss='categorical_crossentropy', optimizer=opt, metrics=[\"accuracy\"])\n",
        " \n",
        "earlystop = EarlyStopping(patience=7)\n",
        "callbacks = tf.keras.callbacks.LearningRateScheduler(schedular)\n",
        " \n",
        "history = model.fit(x = X_train, y = y_train, epochs=20, batch_size = 16, shuffle=True, validation_split=0.2, callbacks=[callbacks])\n",
        "\n",
        "import matplotlib.pyplot as plt\n",
        "plt.plot(history.history['loss'])\n",
        "plt.plot(history.history['val_loss'])\n",
        "plt.plot(history.history['accuracy'])\n",
        "plt.plot(history.history['val_accuracy'])\n",
        "plt.xlabel('epoch')\n",
        "plt.ylabel('loss')\n",
        "plt.legend(['train', 'val','accuracy','val_accuracy'])\n",
        "plt.show()\n"
      ],
      "execution_count": 10,
      "outputs": [
        {
          "output_type": "stream",
          "text": [
            "/usr/local/lib/python3.7/dist-packages/tensorflow/python/keras/optimizer_v2/optimizer_v2.py:375: UserWarning: The `lr` argument is deprecated, use `learning_rate` instead.\n",
            "  \"The `lr` argument is deprecated, use `learning_rate` instead.\")\n"
          ],
          "name": "stderr"
        },
        {
          "output_type": "stream",
          "text": [
            "Epoch 1/20\n",
            "31/31 [==============================] - 1354s 42s/step - loss: 3.1620 - accuracy: 0.2659 - val_loss: 7.3659 - val_accuracy: 0.3333\n",
            "Epoch 2/20\n",
            "31/31 [==============================] - 1308s 42s/step - loss: 1.4646 - accuracy: 0.4206 - val_loss: 1.8872 - val_accuracy: 0.0732\n",
            "Epoch 3/20\n",
            "31/31 [==============================] - 1312s 42s/step - loss: 1.5698 - accuracy: 0.3580 - val_loss: 1.6775 - val_accuracy: 0.3496\n",
            "Epoch 4/20\n",
            "31/31 [==============================] - 1305s 42s/step - loss: 1.4947 - accuracy: 0.3864 - val_loss: 1.6139 - val_accuracy: 0.4553\n",
            "Epoch 5/20\n",
            "31/31 [==============================] - 1311s 42s/step - loss: 1.4358 - accuracy: 0.4215 - val_loss: 1.5211 - val_accuracy: 0.3821\n",
            "Epoch 6/20\n",
            "31/31 [==============================] - 1307s 42s/step - loss: 1.5114 - accuracy: 0.3963 - val_loss: 1.9245 - val_accuracy: 0.4472\n",
            "Epoch 7/20\n",
            "31/31 [==============================] - 1315s 42s/step - loss: 1.4018 - accuracy: 0.4578 - val_loss: 1.7315 - val_accuracy: 0.1626\n",
            "Epoch 8/20\n",
            "31/31 [==============================] - 1318s 43s/step - loss: 1.3971 - accuracy: 0.4483 - val_loss: 1.3869 - val_accuracy: 0.4553\n",
            "Epoch 9/20\n",
            "31/31 [==============================] - 1306s 42s/step - loss: 1.4426 - accuracy: 0.4148 - val_loss: 1.8163 - val_accuracy: 0.2114\n",
            "Epoch 10/20\n",
            "31/31 [==============================] - 1312s 42s/step - loss: 1.3582 - accuracy: 0.4163 - val_loss: 1.7287 - val_accuracy: 0.3577\n",
            "Epoch 11/20\n",
            "31/31 [==============================] - 1319s 43s/step - loss: 1.2804 - accuracy: 0.4934 - val_loss: 2.2920 - val_accuracy: 0.2114\n",
            "Epoch 12/20\n",
            "31/31 [==============================] - 1284s 41s/step - loss: 1.1405 - accuracy: 0.5071 - val_loss: 1.8630 - val_accuracy: 0.2846\n",
            "Epoch 13/20\n",
            "31/31 [==============================] - 1288s 42s/step - loss: 1.2014 - accuracy: 0.5131 - val_loss: 1.9222 - val_accuracy: 0.3577\n",
            "Epoch 14/20\n",
            "31/31 [==============================] - 1287s 42s/step - loss: 1.2114 - accuracy: 0.5232 - val_loss: 1.5879 - val_accuracy: 0.4065\n",
            "Epoch 15/20\n",
            "31/31 [==============================] - 1293s 42s/step - loss: 0.9324 - accuracy: 0.5748 - val_loss: 1.2993 - val_accuracy: 0.4553\n",
            "Epoch 16/20\n",
            "31/31 [==============================] - 1298s 42s/step - loss: 0.7021 - accuracy: 0.6985 - val_loss: 1.2820 - val_accuracy: 0.5447\n",
            "Epoch 17/20\n",
            "31/31 [==============================] - 1293s 42s/step - loss: 0.5893 - accuracy: 0.7743 - val_loss: 1.3284 - val_accuracy: 0.4715\n",
            "Epoch 18/20\n",
            "31/31 [==============================] - 1288s 42s/step - loss: 0.4613 - accuracy: 0.8241 - val_loss: 1.2690 - val_accuracy: 0.5772\n",
            "Epoch 19/20\n",
            "31/31 [==============================] - 1297s 42s/step - loss: 0.3004 - accuracy: 0.9004 - val_loss: 1.4745 - val_accuracy: 0.5447\n",
            "Epoch 20/20\n",
            "31/31 [==============================] - 1290s 42s/step - loss: 0.2252 - accuracy: 0.9358 - val_loss: 1.4856 - val_accuracy: 0.5528\n"
          ],
          "name": "stdout"
        },
        {
          "output_type": "display_data",
          "data": {
            "image/png": "[encoded data removed]",
            "text/plain": [
              "<Figure size 432x288 with 1 Axes>"
            ]
          },
          "metadata": {
            "tags": [],
            "needs_background": "light"
          }
        }
      ]
    },
    {
      "cell_type": "code",
      "metadata": {
        "colab": {
          "base_uri": "https://localhost:8080/"
        },
        "id": "mdR826iD00A_",
        "outputId": "d5dd723e-d3ea-46b0-e2a0-cf0674ad0926"
      },
      "source": [
        "from sklearn.metrics import classification_report\n",
        "from sklearn.metrics import accuracy_score\n",
        "y_pred = model.predict(X_test) \n",
        "y_pred = np.argmax(y_pred, axis = 1)\n",
        "y_test = np.argmax(y_test, axis = 1)\n",
        " \n",
        "print(classification_report(y_test, y_pred))\n",
        "\n",
        "print('accuracy score : {}'.format(accuracy_score(y_pred, y_test)))\n"
      ],
      "execution_count": 12,
      "outputs": [
        {
          "output_type": "stream",
          "text": [
            "              precision    recall  f1-score   support\n",
            "\n",
            "           0       0.40      0.40      0.40        10\n",
            "           1       0.51      0.60      0.55        53\n",
            "           2       0.64      0.47      0.55        19\n",
            "           3       0.69      0.90      0.78        10\n",
            "           4       0.51      0.51      0.51        43\n",
            "           5       0.64      0.37      0.47        19\n",
            "\n",
            "    accuracy                           0.54       154\n",
            "   macro avg       0.57      0.54      0.54       154\n",
            "weighted avg       0.55      0.54      0.53       154\n",
            "\n",
            "accuracy score : 0.538961038961039\n"
          ],
          "name": "stdout"
        }
      ]
    },
    {
      "cell_type": "code",
      "metadata": {
        "id": "XYPZtXgnQI4_"
      },
      "source": [
        ""
      ],
      "execution_count": null,
      "outputs": []
    },
    {
      "cell_type": "code",
      "metadata": {
        "id": "POfEtJXBC_q6"
      },
      "source": [
        "#다른 코드\n",
        "\n",
        "model = Sequential() \n",
        "model.add(ConvLSTM2D(32, (3, 3), activation='relu', return_sequences = True, data_format = \"channels_last\", input_shape = (seq_len, img_height, img_width, 3)))\n",
        "model.add(ConvLSTM2D(32, (3, 3), activation='relu', return_sequences = False, data_format = \"channels_last\"))\n",
        "model.add(MaxPooling2D(pool_size=(2, 2), return_sequences = True))\n",
        "model.add(Dropout(0.25))\n",
        "model.add(ConvLSTM2D(64, (3, 3), activation='relu', return_sequences = True, data_format = \"channels_last\"))\n",
        "model.add(ConvLSTM2D(64, (3, 3), activation='relu', return_sequences = False, data_format = \"channels_last\"))\n",
        "model.add(MaxPooling2D(pool_size=(2, 2), return_sequences = False))\n",
        "model.add(Dropout(0.25))\n",
        "model.add(Flatten())\n",
        "model.add(Dense(256, activation='relu'))\n",
        "model.add(Dropout(0.5))\n",
        "model.add(Dense(6, activation='softmax'))\n",
        "model.summary()"
      ],
      "execution_count": null,
      "outputs": []
    }
  ]
}
