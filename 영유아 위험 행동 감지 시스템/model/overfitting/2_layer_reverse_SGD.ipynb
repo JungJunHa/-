{
  "nbformat": 4,
  "nbformat_minor": 0,
  "metadata": {
    "colab": {
      "name": "2-layer-reverse-SGD.ipynb",
      "provenance": [],
      "collapsed_sections": []
    },
    "kernelspec": {
      "display_name": "Python 3",
      "name": "python3"
    },
    "language_info": {
      "name": "python"
    }
  },
  "cells": [
    {
      "cell_type": "code",
      "metadata": {
        "id": "IXdBId7c_R3K"
      },
      "source": [
        "import keras\n",
        "from keras import applications\n",
        "from keras.preprocessing.image import ImageDataGenerator\n",
        "from keras import optimizers\n",
        "from keras.models import Sequential, Model \n",
        "from keras.layers import *\n",
        "from keras.callbacks import ModelCheckpoint, LearningRateScheduler, TensorBoard, EarlyStopping\n",
        "import os\n",
        "import cv2\n",
        "import numpy as np\n",
        "from sklearn.model_selection import train_test_split\n",
        "# import keras_metrics as km\n",
        "from keras import regularizers, optimizers\n",
        "from keras.callbacks import ModelCheckpoint\n",
        "from sklearn.metrics import precision_score\n",
        "from sklearn.metrics import recall_score\n",
        "from sklearn.metrics import f1_score\n",
        "from sklearn.metrics import cohen_kappa_score\n",
        "from sklearn.metrics import roc_auc_score\n",
        "from sklearn.metrics import multilabel_confusion_matrix\n",
        "from sklearn.metrics import accuracy_score\n",
        "import math"
      ],
      "execution_count": 1,
      "outputs": []
    },
    {
      "cell_type": "code",
      "metadata": {
        "id": "zR_UtZPd_gCj"
      },
      "source": [
        "data_dir = \"/content/drive/MyDrive/video_data\"\n",
        "img_height , img_width = 64, 64\n",
        "seq_len = 16"
      ],
      "execution_count": 2,
      "outputs": []
    },
    {
      "cell_type": "code",
      "metadata": {
        "colab": {
          "base_uri": "https://localhost:8080/"
        },
        "id": "LESEF8Qf_gK2",
        "outputId": "dc9af37f-d83e-41d0-caa9-8a824113b34a"
      },
      "source": [
        "from google.colab import drive\n",
        "drive.mount('/content/drive')"
      ],
      "execution_count": 3,
      "outputs": [
        {
          "output_type": "stream",
          "text": [
            "Mounted at /content/drive\n"
          ],
          "name": "stdout"
        }
      ]
    },
    {
      "cell_type": "code",
      "metadata": {
        "id": "ZTDSq5Rx_gPE"
      },
      "source": [
        "classes = [\"fall\", \"fall_down\", \"grab\", \"swallow\", \"walk\",\"sit\"]"
      ],
      "execution_count": 4,
      "outputs": []
    },
    {
      "cell_type": "code",
      "metadata": {
        "id": "I0TeKmFu_gS2"
      },
      "source": [
        "def frames_extraction(video_path):\n",
        "    frames_list = []\n",
        "     \n",
        "    vidcap = cv2.VideoCapture(video_path)\n",
        "    total_frames = vidcap.get(cv2.CAP_PROP_FRAME_COUNT)\n",
        "\n",
        "    frames_step = total_frames//seq_len\n",
        " \n",
        "    for j in range(seq_len):\n",
        "        #here, we set the parameter 1 which is the frame number to the frame (i*frames_step)\n",
        "        vidcap.set(1,j*frames_step)\n",
        "        success,image = vidcap.read()  \n",
        "        #save your image\n",
        "        if success:\n",
        "          image = cv2.resize(image, (img_height, img_width))\n",
        "          frames_list.append(image)\n",
        "        else:\n",
        "          print(\"Defected frame {}\".format(video_path))\n",
        "          break\n",
        "\n",
        "    return frames_list"
      ],
      "execution_count": 5,
      "outputs": []
    },
    {
      "cell_type": "code",
      "metadata": {
        "id": "m3-WczJ9_gXK"
      },
      "source": [
        "def create_data(input_dir):\n",
        "    X = []\n",
        "    Y = []\n",
        "     \n",
        "    classes_list = os.listdir(input_dir)\n",
        "     \n",
        "    for c in classes_list:\n",
        "        print(c)\n",
        "        files_list = os.listdir(os.path.join(input_dir, c))\n",
        "        for f in files_list:\n",
        "            frames = frames_extraction(os.path.join(os.path.join(input_dir, c), f))\n",
        "            if len(frames) == seq_len:\n",
        "                X.append(frames)\n",
        "             \n",
        "                y = [0]*len(classes)\n",
        "                y[classes.index(c)] = 1\n",
        "                Y.append(y)\n",
        "     \n",
        "    X = np.asarray(X)\n",
        "    Y = np.asarray(Y)\n",
        "    return X, Y"
      ],
      "execution_count": 6,
      "outputs": []
    },
    {
      "cell_type": "code",
      "metadata": {
        "colab": {
          "base_uri": "https://localhost:8080/"
        },
        "id": "Iy5FYuFc_gbC",
        "outputId": "3d0d06b4-b548-44d2-f655-d364bc3d3a1a"
      },
      "source": [
        "X, Y = create_data(data_dir)\n",
        " \n",
        "X_train, X_test, y_train, y_test = train_test_split(X, Y, test_size=0.20, shuffle=True, random_state=0)"
      ],
      "execution_count": 7,
      "outputs": [
        {
          "output_type": "stream",
          "text": [
            "walk\n",
            "fall_down\n",
            "swallow\n",
            "Defected frame /content/drive/MyDrive/video_data/swallow/70.mov\n",
            "fall\n",
            "grab\n",
            "sit\n"
          ],
          "name": "stdout"
        }
      ]
    },
    {
      "cell_type": "code",
      "metadata": {
        "colab": {
          "base_uri": "https://localhost:8080/"
        },
        "id": "Mf6pzqhu_ge0",
        "outputId": "2665bd0e-ec26-42a2-f0be-4ef9f4205ec1"
      },
      "source": [
        "model = Sequential()\n",
        "model.add(ConvLSTM2D(filters = 64, kernel_size = (3, 3), return_sequences = True, padding = 'same', data_format = \"channels_last\", input_shape = (seq_len, img_height, img_width, 3)))\n",
        "model.add(ConvLSTM2D(filters = 64, kernel_size = (3, 3), strides = (2,2), return_sequences = True, padding = 'same', data_format = \"channels_last\"))\n",
        "model.add(BatchNormalization())\n",
        "\n",
        "model.add(ConvLSTM2D(filters = 32, kernel_size = (3, 3), return_sequences = True, padding = 'same', data_format = \"channels_last\"))\n",
        "model.add(ConvLSTM2D(filters = 32, kernel_size = (3, 3), strides = (2,2), return_sequences = True, padding = 'same', data_format = \"channels_last\"))\n",
        "model.add(BatchNormalization())\n",
        "\n",
        "model.add(Dropout(0.2))\n",
        "\n",
        "model.add(Flatten())\n",
        "model.add(Dense(256, activation=\"relu\"))\n",
        "model.add(Dropout(0.3))\n",
        "model.add(Dense(6, activation = \"softmax\"))\n",
        " \n",
        "model.summary()"
      ],
      "execution_count": 8,
      "outputs": [
        {
          "output_type": "stream",
          "text": [
            "Model: \"sequential\"\n",
            "_________________________________________________________________\n",
            "Layer (type)                 Output Shape              Param #   \n",
            "=================================================================\n",
            "conv_lst_m2d (ConvLSTM2D)    (None, 16, 64, 64, 64)    154624    \n",
            "_________________________________________________________________\n",
            "conv_lst_m2d_1 (ConvLSTM2D)  (None, 16, 32, 32, 64)    295168    \n",
            "_________________________________________________________________\n",
            "batch_normalization (BatchNo (None, 16, 32, 32, 64)    256       \n",
            "_________________________________________________________________\n",
            "conv_lst_m2d_2 (ConvLSTM2D)  (None, 16, 32, 32, 32)    110720    \n",
            "_________________________________________________________________\n",
            "conv_lst_m2d_3 (ConvLSTM2D)  (None, 16, 16, 16, 32)    73856     \n",
            "_________________________________________________________________\n",
            "batch_normalization_1 (Batch (None, 16, 16, 16, 32)    128       \n",
            "_________________________________________________________________\n",
            "dropout (Dropout)            (None, 16, 16, 16, 32)    0         \n",
            "_________________________________________________________________\n",
            "flatten (Flatten)            (None, 131072)            0         \n",
            "_________________________________________________________________\n",
            "dense (Dense)                (None, 256)               33554688  \n",
            "_________________________________________________________________\n",
            "dropout_1 (Dropout)          (None, 256)               0         \n",
            "_________________________________________________________________\n",
            "dense_1 (Dense)              (None, 6)                 1542      \n",
            "=================================================================\n",
            "Total params: 34,190,982\n",
            "Trainable params: 34,190,790\n",
            "Non-trainable params: 192\n",
            "_________________________________________________________________\n"
          ],
          "name": "stdout"
        }
      ]
    },
    {
      "cell_type": "code",
      "metadata": {
        "id": "LCu4C-_L_gim"
      },
      "source": [
        "def schedular(epoch):\n",
        "  if epoch < 10:\n",
        "    return 0.001\n",
        "  else:\n",
        "    return 0.001 * math.exp(0.1*(10-epoch))"
      ],
      "execution_count": 9,
      "outputs": []
    },
    {
      "cell_type": "code",
      "metadata": {
        "colab": {
          "base_uri": "https://localhost:8080/",
          "height": 1000
        },
        "id": "P5v1Glql_gmT",
        "outputId": "b256401e-33e8-4c4d-9468-5ef1dcf48ec6"
      },
      "source": [
        "opt = optimizers.SGD(lr=0.0001)\n",
        "model.compile(loss='categorical_crossentropy', optimizer=opt, metrics=[\"accuracy\"])\n",
        " \n",
        "earlystop = EarlyStopping(patience=7)\n",
        "callbacks = tf.keras.callbacks.LearningRateScheduler(schedular)\n",
        " \n",
        "history = model.fit(x = X_train, y = y_train, epochs=20, batch_size = 16, shuffle=True, validation_split=0.2, callbacks=[callbacks])\n",
        "\n",
        "import matplotlib.pyplot as plt\n",
        "plt.plot(history.history['loss'])\n",
        "plt.plot(history.history['val_loss'])\n",
        "plt.plot(history.history['accuracy'])\n",
        "plt.plot(history.history['val_accuracy'])\n",
        "plt.xlabel('epoch')\n",
        "plt.ylabel('loss')\n",
        "plt.legend(['train', 'val','accuracy','val_accuracy'])\n",
        "plt.show()\n"
      ],
      "execution_count": 10,
      "outputs": [
        {
          "output_type": "stream",
          "text": [
            "/usr/local/lib/python3.7/dist-packages/tensorflow/python/keras/optimizer_v2/optimizer_v2.py:375: UserWarning: The `lr` argument is deprecated, use `learning_rate` instead.\n",
            "  \"The `lr` argument is deprecated, use `learning_rate` instead.\")\n"
          ],
          "name": "stderr"
        },
        {
          "output_type": "stream",
          "text": [
            "Epoch 1/20\n",
            "31/31 [==============================] - 1701s 53s/step - loss: 2.7407 - accuracy: 0.2857 - val_loss: 1.6793 - val_accuracy: 0.4309\n",
            "Epoch 2/20\n",
            "31/31 [==============================] - 1642s 53s/step - loss: 1.4312 - accuracy: 0.4170 - val_loss: 1.6690 - val_accuracy: 0.3902\n",
            "Epoch 3/20\n",
            "31/31 [==============================] - 1650s 53s/step - loss: 1.4050 - accuracy: 0.4362 - val_loss: 1.6391 - val_accuracy: 0.3902\n",
            "Epoch 4/20\n",
            "31/31 [==============================] - 1656s 53s/step - loss: 1.1206 - accuracy: 0.5508 - val_loss: 1.6471 - val_accuracy: 0.4553\n",
            "Epoch 5/20\n",
            "31/31 [==============================] - 1649s 53s/step - loss: 1.0703 - accuracy: 0.5923 - val_loss: 1.5704 - val_accuracy: 0.4959\n",
            "Epoch 6/20\n",
            "31/31 [==============================] - 1676s 54s/step - loss: 0.7782 - accuracy: 0.6979 - val_loss: 1.5559 - val_accuracy: 0.4390\n",
            "Epoch 7/20\n",
            "31/31 [==============================] - 1647s 53s/step - loss: 0.7348 - accuracy: 0.7388 - val_loss: 1.3967 - val_accuracy: 0.5203\n",
            "Epoch 8/20\n",
            "31/31 [==============================] - 1659s 53s/step - loss: 0.5703 - accuracy: 0.8095 - val_loss: 1.8407 - val_accuracy: 0.2114\n",
            "Epoch 9/20\n",
            "31/31 [==============================] - 1638s 53s/step - loss: 0.7437 - accuracy: 0.7184 - val_loss: 1.4722 - val_accuracy: 0.3902\n",
            "Epoch 10/20\n",
            "31/31 [==============================] - 1645s 53s/step - loss: 0.6828 - accuracy: 0.7605 - val_loss: 1.5917 - val_accuracy: 0.3089\n",
            "Epoch 11/20\n",
            "31/31 [==============================] - 1659s 54s/step - loss: 0.4505 - accuracy: 0.8306 - val_loss: 1.2301 - val_accuracy: 0.5285\n",
            "Epoch 12/20\n",
            "31/31 [==============================] - 1665s 54s/step - loss: 0.3116 - accuracy: 0.8977 - val_loss: 1.2086 - val_accuracy: 0.5285\n",
            "Epoch 13/20\n",
            "31/31 [==============================] - 1650s 53s/step - loss: 0.3316 - accuracy: 0.8737 - val_loss: 1.1965 - val_accuracy: 0.5610\n",
            "Epoch 14/20\n",
            "31/31 [==============================] - 1658s 54s/step - loss: 0.2429 - accuracy: 0.9225 - val_loss: 1.1723 - val_accuracy: 0.5366\n",
            "Epoch 15/20\n",
            "31/31 [==============================] - 1655s 54s/step - loss: 0.1965 - accuracy: 0.9518 - val_loss: 1.4369 - val_accuracy: 0.4797\n",
            "Epoch 16/20\n",
            "31/31 [==============================] - 1652s 53s/step - loss: 0.1494 - accuracy: 0.9518 - val_loss: 1.4095 - val_accuracy: 0.4878\n",
            "Epoch 17/20\n",
            "31/31 [==============================] - 1654s 53s/step - loss: 0.1036 - accuracy: 0.9819 - val_loss: 1.2082 - val_accuracy: 0.5691\n",
            "Epoch 18/20\n",
            "31/31 [==============================] - 1648s 53s/step - loss: 0.0774 - accuracy: 0.9860 - val_loss: 1.2152 - val_accuracy: 0.5610\n",
            "Epoch 19/20\n",
            "31/31 [==============================] - 1673s 54s/step - loss: 0.0467 - accuracy: 0.9982 - val_loss: 1.2969 - val_accuracy: 0.5935\n",
            "Epoch 20/20\n",
            "31/31 [==============================] - 1650s 53s/step - loss: 0.0547 - accuracy: 0.9956 - val_loss: 1.1786 - val_accuracy: 0.5935\n"
          ],
          "name": "stdout"
        },
        {
          "output_type": "display_data",
          "data": {
            "image/png": "[encoded data removed]",
            "text/plain": [
              "<Figure size 432x288 with 1 Axes>"
            ]
          },
          "metadata": {
            "tags": [],
            "needs_background": "light"
          }
        }
      ]
    },
    {
      "cell_type": "code",
      "metadata": {
        "id": "omWXPcrM_gqj",
        "colab": {
          "base_uri": "https://localhost:8080/"
        },
        "outputId": "2334f649-2b35-419a-f64d-250807c19e24"
      },
      "source": [
        "from sklearn.metrics import classification_report\n",
        "from sklearn.metrics import accuracy_score\n",
        "y_pred = model.predict(X_test) \n",
        "y_pred = np.argmax(y_pred, axis = 1)\n",
        "y_test = np.argmax(y_test, axis = 1)\n",
        " \n",
        "print(classification_report(y_test, y_pred))\n",
        "\n",
        "print('accuracy score : {}'.format(accuracy_score(y_pred, y_test)))\n"
      ],
      "execution_count": 11,
      "outputs": [
        {
          "output_type": "stream",
          "text": [
            "              precision    recall  f1-score   support\n",
            "\n",
            "           0       0.43      0.30      0.35        10\n",
            "           1       0.58      0.42      0.48        53\n",
            "           2       0.62      0.79      0.70        19\n",
            "           3       1.00      0.90      0.95        10\n",
            "           4       0.54      0.70      0.61        43\n",
            "           5       0.55      0.58      0.56        19\n",
            "\n",
            "    accuracy                           0.58       154\n",
            "   macro avg       0.62      0.61      0.61       154\n",
            "weighted avg       0.59      0.58      0.58       154\n",
            "\n",
            "accuracy score : 0.5844155844155844\n"
          ],
          "name": "stdout"
        }
      ]
    },
    {
      "cell_type": "code",
      "metadata": {
        "id": "YqE0P61g_gwl"
      },
      "source": [
        ""
      ],
      "execution_count": null,
      "outputs": []
    }
  ]
}
