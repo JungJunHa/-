{
  "nbformat": 4,
  "nbformat_minor": 0,
  "metadata": {
    "colab": {
      "name": "2-layer-lstm-SGD.ipynb",
      "provenance": [],
      "collapsed_sections": []
    },
    "kernelspec": {
      "display_name": "Python 3",
      "name": "python3"
    },
    "language_info": {
      "name": "python"
    }
  },
  "cells": [
    {
      "cell_type": "code",
      "metadata": {
        "id": "LKWPo7q8L4ht"
      },
      "source": [
        "import keras\n",
        "from keras import applications\n",
        "from keras.preprocessing.image import ImageDataGenerator\n",
        "from keras import optimizers\n",
        "from keras.models import Sequential, Model \n",
        "from keras.layers import *\n",
        "from keras.callbacks import ModelCheckpoint, LearningRateScheduler, TensorBoard, EarlyStopping\n",
        "import os\n",
        "import cv2\n",
        "import numpy as np\n",
        "from sklearn.model_selection import train_test_split\n",
        "# import keras_metrics as km\n",
        "from keras import regularizers, optimizers\n",
        "from keras.callbacks import ModelCheckpoint\n",
        "from sklearn.metrics import precision_score\n",
        "from sklearn.metrics import recall_score\n",
        "from sklearn.metrics import f1_score\n",
        "from sklearn.metrics import cohen_kappa_score\n",
        "from sklearn.metrics import roc_auc_score\n",
        "from sklearn.metrics import multilabel_confusion_matrix\n",
        "from sklearn.metrics import accuracy_score\n",
        "import math"
      ],
      "execution_count": 2,
      "outputs": []
    },
    {
      "cell_type": "code",
      "metadata": {
        "id": "ddBrFgY5L7s6"
      },
      "source": [
        "data_dir = \"/content/drive/MyDrive/video_data\"\n",
        "img_height , img_width = 64, 64\n",
        "seq_len = 16"
      ],
      "execution_count": 4,
      "outputs": []
    },
    {
      "cell_type": "code",
      "metadata": {
        "colab": {
          "base_uri": "https://localhost:8080/"
        },
        "id": "hc520Q6LL8O7",
        "outputId": "da6f909e-9471-42f0-88d5-b881892d017f"
      },
      "source": [
        "from google.colab import drive\n",
        "drive.mount('/content/drive')"
      ],
      "execution_count": 5,
      "outputs": [
        {
          "output_type": "stream",
          "text": [
            "Mounted at /content/drive\n"
          ],
          "name": "stdout"
        }
      ]
    },
    {
      "cell_type": "code",
      "metadata": {
        "id": "BGBxRB0RL8po"
      },
      "source": [
        "classes = [\"fall\", \"fall_down\", \"grab\", \"swallow\", \"walk\",\"sit\"]"
      ],
      "execution_count": 6,
      "outputs": []
    },
    {
      "cell_type": "code",
      "metadata": {
        "id": "JqGExNQ8L8us"
      },
      "source": [
        "def frames_extraction(video_path):\n",
        "    frames_list = []\n",
        "     \n",
        "    vidcap = cv2.VideoCapture(video_path)\n",
        "    total_frames = vidcap.get(cv2.CAP_PROP_FRAME_COUNT)\n",
        "\n",
        "    frames_step = total_frames//seq_len\n",
        " \n",
        "    for j in range(seq_len):\n",
        "        #here, we set the parameter 1 which is the frame number to the frame (i*frames_step)\n",
        "        vidcap.set(1,j*frames_step)\n",
        "        success,image = vidcap.read()  \n",
        "        #save your image\n",
        "        if success:\n",
        "          image = cv2.resize(image, (img_height, img_width))\n",
        "          frames_list.append(image)\n",
        "        else:\n",
        "          print(\"Defected frame {}\".format(video_path))\n",
        "          break\n",
        "\n",
        "    return frames_list"
      ],
      "execution_count": 7,
      "outputs": []
    },
    {
      "cell_type": "code",
      "metadata": {
        "id": "XiTJGvqWL8yz"
      },
      "source": [
        "def create_data(input_dir):\n",
        "    X = []\n",
        "    Y = []\n",
        "     \n",
        "    classes_list = os.listdir(input_dir)\n",
        "     \n",
        "    for c in classes_list:\n",
        "        print(c)\n",
        "        files_list = os.listdir(os.path.join(input_dir, c))\n",
        "        for f in files_list:\n",
        "            frames = frames_extraction(os.path.join(os.path.join(input_dir, c), f))\n",
        "            if len(frames) == seq_len:\n",
        "                X.append(frames)\n",
        "             \n",
        "                y = [0]*len(classes)\n",
        "                y[classes.index(c)] = 1\n",
        "                Y.append(y)\n",
        "     \n",
        "    X = np.asarray(X)\n",
        "    Y = np.asarray(Y)\n",
        "    return X, Y"
      ],
      "execution_count": 8,
      "outputs": []
    },
    {
      "cell_type": "code",
      "metadata": {
        "colab": {
          "base_uri": "https://localhost:8080/"
        },
        "id": "s-O_pQRiL82a",
        "outputId": "00276941-004b-4d67-c8b2-effe0da2a5da"
      },
      "source": [
        "X, Y = create_data(data_dir)\n",
        " \n",
        "X_train, X_test, y_train, y_test = train_test_split(X, Y, test_size=0.20, shuffle=True, random_state=0)"
      ],
      "execution_count": 9,
      "outputs": [
        {
          "output_type": "stream",
          "text": [
            "walk\n",
            "fall_down\n",
            "swallow\n",
            "Defected frame /content/drive/MyDrive/video_data/swallow/70.mov\n",
            "fall\n",
            "grab\n",
            "sit\n"
          ],
          "name": "stdout"
        }
      ]
    },
    {
      "cell_type": "code",
      "metadata": {
        "colab": {
          "base_uri": "https://localhost:8080/"
        },
        "id": "TBS2pgZEL86a",
        "outputId": "06ccde0c-4239-4238-d441-24fbee9f3322"
      },
      "source": [
        "model = Sequential()\n",
        "model.add(ConvLSTM2D(filters = 32, kernel_size = (3, 3), return_sequences = True, padding = 'same', data_format = \"channels_last\", input_shape = (seq_len, img_height, img_width, 3)))\n",
        "model.add(ConvLSTM2D(filters = 32, kernel_size = (3, 3), strides = (2,2), return_sequences = True, padding = 'same', data_format = \"channels_last\"))\n",
        "model.add(BatchNormalization())\n",
        "\n",
        "model.add(ConvLSTM2D(filters = 64, kernel_size = (3, 3), return_sequences = True, padding = 'same', data_format = \"channels_last\"))\n",
        "model.add(ConvLSTM2D(filters = 64, kernel_size = (3, 3), strides = (2,2), return_sequences = False, padding = 'same', data_format = \"channels_last\"))\n",
        "model.add(BatchNormalization())\n",
        "\n",
        "model.add(Dropout(0.2))\n",
        "\n",
        "model.add(Flatten())\n",
        "model.add(Dense(256, activation=\"relu\"))\n",
        "model.add(Dropout(0.3))\n",
        "model.add(Dense(6, activation = \"softmax\"))\n",
        " \n",
        "model.summary()"
      ],
      "execution_count": 10,
      "outputs": [
        {
          "output_type": "stream",
          "text": [
            "Model: \"sequential\"\n",
            "_________________________________________________________________\n",
            "Layer (type)                 Output Shape              Param #   \n",
            "=================================================================\n",
            "conv_lst_m2d (ConvLSTM2D)    (None, 16, 64, 64, 32)    40448     \n",
            "_________________________________________________________________\n",
            "conv_lst_m2d_1 (ConvLSTM2D)  (None, 16, 32, 32, 32)    73856     \n",
            "_________________________________________________________________\n",
            "batch_normalization (BatchNo (None, 16, 32, 32, 32)    128       \n",
            "_________________________________________________________________\n",
            "conv_lst_m2d_2 (ConvLSTM2D)  (None, 16, 32, 32, 64)    221440    \n",
            "_________________________________________________________________\n",
            "conv_lst_m2d_3 (ConvLSTM2D)  (None, 16, 16, 64)        295168    \n",
            "_________________________________________________________________\n",
            "batch_normalization_1 (Batch (None, 16, 16, 64)        256       \n",
            "_________________________________________________________________\n",
            "dropout (Dropout)            (None, 16, 16, 64)        0         \n",
            "_________________________________________________________________\n",
            "flatten (Flatten)            (None, 16384)             0         \n",
            "_________________________________________________________________\n",
            "dense (Dense)                (None, 256)               4194560   \n",
            "_________________________________________________________________\n",
            "dropout_1 (Dropout)          (None, 256)               0         \n",
            "_________________________________________________________________\n",
            "dense_1 (Dense)              (None, 6)                 1542      \n",
            "=================================================================\n",
            "Total params: 4,827,398\n",
            "Trainable params: 4,827,206\n",
            "Non-trainable params: 192\n",
            "_________________________________________________________________\n"
          ],
          "name": "stdout"
        }
      ]
    },
    {
      "cell_type": "code",
      "metadata": {
        "id": "MT7X9mmIL8_J"
      },
      "source": [
        "def schedular(epoch):\n",
        "  if epoch < 10:\n",
        "    return 0.001\n",
        "  else:\n",
        "    return 0.001 * math.exp(0.1*(10-epoch))"
      ],
      "execution_count": 11,
      "outputs": []
    },
    {
      "cell_type": "code",
      "metadata": {
        "colab": {
          "base_uri": "https://localhost:8080/",
          "height": 1000
        },
        "id": "jdJhXbhSMOuD",
        "outputId": "549eec02-95f8-44bb-c7ca-0415be074801"
      },
      "source": [
        "opt = optimizers.SGD(lr=0.001)\n",
        "model.compile(loss='categorical_crossentropy', optimizer=opt, metrics=[\"accuracy\"])\n",
        " \n",
        "earlystop = EarlyStopping(patience=7)\n",
        "callbacks = tf.keras.callbacks.LearningRateScheduler(schedular)\n",
        " \n",
        "history = model.fit(x = X_train, y = y_train, epochs=20, batch_size = 16, shuffle=True, validation_split=0.2, callbacks=[callbacks])\n",
        "\n",
        "import matplotlib.pyplot as plt\n",
        "plt.plot(history.history['loss'])\n",
        "plt.plot(history.history['val_loss'])\n",
        "plt.plot(history.history['accuracy'])\n",
        "plt.plot(history.history['val_accuracy'])\n",
        "plt.xlabel('epoch')\n",
        "plt.ylabel('loss')\n",
        "plt.legend(['train', 'val','accuracy','val_accuracy'])\n",
        "plt.show()\n"
      ],
      "execution_count": 12,
      "outputs": [
        {
          "output_type": "stream",
          "text": [
            "/usr/local/lib/python3.7/dist-packages/tensorflow/python/keras/optimizer_v2/optimizer_v2.py:375: UserWarning: The `lr` argument is deprecated, use `learning_rate` instead.\n",
            "  \"The `lr` argument is deprecated, use `learning_rate` instead.\")\n"
          ],
          "name": "stderr"
        },
        {
          "output_type": "stream",
          "text": [
            "Epoch 1/20\n",
            "31/31 [==============================] - 971s 30s/step - loss: 2.3755 - accuracy: 0.2616 - val_loss: 1.7570 - val_accuracy: 0.2927\n",
            "Epoch 2/20\n",
            "31/31 [==============================] - 926s 30s/step - loss: 1.6800 - accuracy: 0.4439 - val_loss: 1.7115 - val_accuracy: 0.4634\n",
            "Epoch 3/20\n",
            "31/31 [==============================] - 913s 29s/step - loss: 1.3170 - accuracy: 0.5118 - val_loss: 1.7039 - val_accuracy: 0.3577\n",
            "Epoch 4/20\n",
            "31/31 [==============================] - 933s 30s/step - loss: 1.3044 - accuracy: 0.5006 - val_loss: 1.6660 - val_accuracy: 0.3902\n",
            "Epoch 5/20\n",
            "31/31 [==============================] - 921s 30s/step - loss: 1.2741 - accuracy: 0.5136 - val_loss: 1.6493 - val_accuracy: 0.3659\n",
            "Epoch 6/20\n",
            "31/31 [==============================] - 948s 31s/step - loss: 1.1771 - accuracy: 0.5339 - val_loss: 1.6198 - val_accuracy: 0.4309\n",
            "Epoch 7/20\n",
            "31/31 [==============================] - 966s 31s/step - loss: 0.9599 - accuracy: 0.6425 - val_loss: 1.6135 - val_accuracy: 0.3171\n",
            "Epoch 8/20\n",
            "31/31 [==============================] - 928s 30s/step - loss: 0.7947 - accuracy: 0.7056 - val_loss: 1.6702 - val_accuracy: 0.2276\n",
            "Epoch 9/20\n",
            "31/31 [==============================] - 960s 31s/step - loss: 0.7875 - accuracy: 0.7026 - val_loss: 1.6053 - val_accuracy: 0.3740\n",
            "Epoch 10/20\n",
            "31/31 [==============================] - 977s 32s/step - loss: 0.6744 - accuracy: 0.7464 - val_loss: 1.4747 - val_accuracy: 0.4309\n",
            "Epoch 11/20\n",
            "31/31 [==============================] - 1000s 32s/step - loss: 0.6225 - accuracy: 0.7836 - val_loss: 1.5035 - val_accuracy: 0.4472\n",
            "Epoch 12/20\n",
            "31/31 [==============================] - 963s 31s/step - loss: 0.5532 - accuracy: 0.8157 - val_loss: 1.5448 - val_accuracy: 0.3740\n",
            "Epoch 13/20\n",
            "31/31 [==============================] - 965s 31s/step - loss: 0.4580 - accuracy: 0.8630 - val_loss: 1.6209 - val_accuracy: 0.3659\n",
            "Epoch 14/20\n",
            "31/31 [==============================] - 1010s 33s/step - loss: 0.4352 - accuracy: 0.8584 - val_loss: 1.9670 - val_accuracy: 0.3333\n",
            "Epoch 15/20\n",
            "31/31 [==============================] - 982s 32s/step - loss: 0.4826 - accuracy: 0.8456 - val_loss: 1.2787 - val_accuracy: 0.4959\n",
            "Epoch 16/20\n",
            "31/31 [==============================] - 944s 30s/step - loss: 0.3442 - accuracy: 0.9059 - val_loss: 1.2461 - val_accuracy: 0.4959\n",
            "Epoch 17/20\n",
            "31/31 [==============================] - 929s 30s/step - loss: 0.2757 - accuracy: 0.9320 - val_loss: 1.2530 - val_accuracy: 0.4634\n",
            "Epoch 18/20\n",
            "31/31 [==============================] - 929s 30s/step - loss: 0.2666 - accuracy: 0.9292 - val_loss: 1.2365 - val_accuracy: 0.5122\n",
            "Epoch 19/20\n",
            "31/31 [==============================] - 919s 30s/step - loss: 0.2616 - accuracy: 0.9358 - val_loss: 1.2794 - val_accuracy: 0.5041\n",
            "Epoch 20/20\n",
            "31/31 [==============================] - 948s 31s/step - loss: 0.2566 - accuracy: 0.9262 - val_loss: 1.1871 - val_accuracy: 0.5610\n"
          ],
          "name": "stdout"
        },
        {
          "output_type": "display_data",
          "data": {
            "image/png": "[encoded data removed]",
            "text/plain": [
              "<Figure size 432x288 with 1 Axes>"
            ]
          },
          "metadata": {
            "tags": [],
            "needs_background": "light"
          }
        }
      ]
    },
    {
      "cell_type": "code",
      "metadata": {
        "id": "Gx9QFzQ-MO8z",
        "colab": {
          "base_uri": "https://localhost:8080/"
        },
        "outputId": "feec8cc5-7c28-474c-8589-f9f926e6d394"
      },
      "source": [
        "from sklearn.metrics import classification_report\n",
        "from sklearn.metrics import accuracy_score\n",
        "y_pred = model.predict(X_test) \n",
        "y_pred = np.argmax(y_pred, axis = 1)\n",
        "y_test = np.argmax(y_test, axis = 1)\n",
        " \n",
        "print(classification_report(y_test, y_pred))\n",
        "\n",
        "print('accuracy score : {}'.format(accuracy_score(y_pred, y_test)))\n"
      ],
      "execution_count": 14,
      "outputs": [
        {
          "output_type": "stream",
          "text": [
            "              precision    recall  f1-score   support\n",
            "\n",
            "           0       0.43      0.30      0.35        10\n",
            "           1       0.62      0.45      0.52        53\n",
            "           2       0.48      0.63      0.55        19\n",
            "           3       1.00      0.90      0.95        10\n",
            "           4       0.56      0.70      0.62        43\n",
            "           5       0.70      0.74      0.72        19\n",
            "\n",
            "    accuracy                           0.60       154\n",
            "   macro avg       0.63      0.62      0.62       154\n",
            "weighted avg       0.61      0.60      0.59       154\n",
            "\n",
            "accuracy score : 0.5974025974025974\n"
          ],
          "name": "stdout"
        }
      ]
    },
    {
      "cell_type": "code",
      "metadata": {
        "id": "p_NqqZ-VCJmk"
      },
      "source": [
        ""
      ],
      "execution_count": null,
      "outputs": []
    }
  ]
}
