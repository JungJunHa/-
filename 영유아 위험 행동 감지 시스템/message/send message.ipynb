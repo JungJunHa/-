{
 "cells": [
  {
   "cell_type": "code",
   "execution_count": 12,
   "id": "183194c7",
   "metadata": {},
   "outputs": [],
   "source": [
    "import sys\n",
    "from sdk.api.message import Message\n",
    "from sdk.exceptions import CoolsmsException"
   ]
  },
  {
   "cell_type": "code",
   "execution_count": 13,
   "id": "a3540095",
   "metadata": {},
   "outputs": [
    {
     "name": "stdout",
     "output_type": "stream",
     "text": [
      "Requirement already satisfied: coolsms_python_sdk in c:\\users\\zheng\\anaconda3\\lib\\site-packages (2.0.3)\n",
      "Note: you may need to restart the kernel to use updated packages.\n"
     ]
    },
    {
     "name": "stderr",
     "output_type": "stream",
     "text": [
      "WARNING: You are using pip version 21.2.1; however, version 21.2.4 is available.\n",
      "You should consider upgrading via the 'C:\\Users\\zheng\\anaconda3\\python.exe -m pip install --upgrade pip' command.\n"
     ]
    }
   ],
   "source": [
    "pip install coolsms_python_sdk"
   ]
  },
  {
   "cell_type": "code",
   "execution_count": 11,
   "id": "8fb80e3c",
   "metadata": {},
   "outputs": [
    {
     "name": "stdout",
     "output_type": "stream",
     "text": [
      "Success Count : 1\n",
      "Error Count : 0\n",
      "Group ID : R2GrWMBde9Db8wgD\n"
     ]
    },
    {
     "ename": "SystemExit",
     "evalue": "",
     "output_type": "error",
     "traceback": [
      "An exception has occurred, use %tb to see the full traceback.\n",
      "\u001b[1;31mSystemExit\u001b[0m\n"
     ]
    },
    {
     "name": "stderr",
     "output_type": "stream",
     "text": [
      "C:\\Users\\zheng\\anaconda3\\lib\\site-packages\\IPython\\core\\interactiveshell.py:3445: UserWarning: To exit: use 'exit', 'quit', or Ctrl-D.\n",
      "  warn(\"To exit: use 'exit', 'quit', or Ctrl-D.\", stacklevel=1)\n"
     ]
    }
   ],
   "source": [
    "    api_key = \"NCSIAKAHOQDSODRN\"\n",
    "    api_secret = \"Y42NPXZBUAVLJPO7PIKMWKWNNTHGWQZS\"\n",
    "    ## 4 params(to, from, type, text) are mandatory. must be filled\n",
    "    params = dict()\n",
    "    params['type'] = 'sms' # Message type ( sms, lms, mms, ata )\n",
    "    params['to'] = '01095120895' # Recipients Number '01000000000,01000000001'\n",
    "    params['from'] = '01072108042' # Sender number\n",
    "    params['text'] = 'Test Message' # Message\n",
    "    cool = Message(api_key, api_secret)\n",
    "    try:\n",
    "        response = cool.send(params)\n",
    "        print(\"Success Count : %s\" % response['success_count'])\n",
    "        print(\"Error Count : %s\" % response['error_count'])\n",
    "        print(\"Group ID : %s\" % response['group_id'])\n",
    "    \n",
    "    except CoolsmsException as e:\n",
    "        print(\"Error Code : %s\" % e.code)\n",
    "        print(\"Error Message : %s\" % e.msg)\n",
    "    \n",
    "    sys.exit()\n"
   ]
  },
  {
   "cell_type": "code",
   "execution_count": null,
   "id": "35c6f591",
   "metadata": {},
   "outputs": [],
   "source": []
  }
 ],
 "metadata": {
  "kernelspec": {
   "display_name": "Python 3",
   "language": "python",
   "name": "python3"
  },
  "language_info": {
   "codemirror_mode": {
    "name": "ipython",
    "version": 3
   },
   "file_extension": ".py",
   "mimetype": "text/x-python",
   "name": "python",
   "nbconvert_exporter": "python",
   "pygments_lexer": "ipython3",
   "version": "3.8.8"
  }
 },
 "nbformat": 4,
 "nbformat_minor": 5
}
