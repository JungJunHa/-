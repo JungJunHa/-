{
  "nbformat": 4,
  "nbformat_minor": 0,
  "metadata": {
    "colab": {
      "name": "augmentation.ipynb",
      "provenance": [],
      "collapsed_sections": [],
      "machine_shape": "hm"
    },
    "kernelspec": {
      "display_name": "Python 3",
      "name": "python3"
    },
    "language_info": {
      "name": "python"
    }
  },
  "cells": [
    {
      "cell_type": "code",
      "metadata": {
        "colab": {
          "base_uri": "https://localhost:8080/"
        },
        "id": "FW50_EVu_8Qh",
        "outputId": "752fdf59-2bdf-449b-df7a-83cb33072697"
      },
      "source": [
        "!pip install vidaug\n",
        "import tensorflow as tf\n",
        "import tensorflow.keras\n",
        "from tensorflow.keras import applications\n",
        "from tensorflow.keras.preprocessing.image import ImageDataGenerator\n",
        "# from keras import optimizers\n",
        "from tensorflow.keras.models import Sequential, Model \n",
        "from tensorflow.keras.layers import *\n",
        "from tensorflow.keras.callbacks import ModelCheckpoint, LearningRateScheduler, TensorBoard, EarlyStopping\n",
        "import os\n",
        "import cv2\n",
        "import numpy as np\n",
        "from sklearn.model_selection import train_test_split\n",
        "# import keras_metrics as km\n",
        "# from keras import regularizers, optimizers\n",
        "from tensorflow.keras.callbacks import ModelCheckpoint\n",
        "from sklearn.metrics import precision_score\n",
        "from sklearn.metrics import recall_score\n",
        "from sklearn.metrics import f1_score\n",
        "from sklearn.metrics import cohen_kappa_score\n",
        "from sklearn.metrics import roc_auc_score\n",
        "from sklearn.metrics import multilabel_confusion_matrix\n",
        "from sklearn.metrics import accuracy_score\n",
        "import math\n",
        "import vidaug.augmentors as va\n",
        "from sklearn.utils import shuffle"
      ],
      "execution_count": null,
      "outputs": [
        {
          "output_type": "stream",
          "text": [
            "Collecting vidaug\n",
            "  Downloading vidaug-1.5-py3-none-any.whl (13 kB)\n",
            "Installing collected packages: vidaug\n",
            "Successfully installed vidaug-1.5\n"
          ],
          "name": "stdout"
        }
      ]
    },
    {
      "cell_type": "code",
      "metadata": {
        "id": "KLavRlaT_9Cf"
      },
      "source": [
        "data_dir = \"/content/drive/MyDrive/video_data\"\n",
        "img_height , img_width = 64, 64\n",
        "seq_len = 16"
      ],
      "execution_count": null,
      "outputs": []
    },
    {
      "cell_type": "code",
      "metadata": {
        "colab": {
          "base_uri": "https://localhost:8080/"
        },
        "id": "wbqgzGXp_9GL",
        "outputId": "d296ebbb-e729-41ec-f73d-e8c3d5af48d3"
      },
      "source": [
        "from google.colab import drive\n",
        "drive.mount('/content/drive')"
      ],
      "execution_count": null,
      "outputs": [
        {
          "output_type": "stream",
          "text": [
            "Mounted at /content/drive\n"
          ],
          "name": "stdout"
        }
      ]
    },
    {
      "cell_type": "code",
      "metadata": {
        "id": "nYmXq2Om_9Je"
      },
      "source": [
        "classes = [\"fall_down\", \"grab\", \"swallow\", \"walk\",\"sit\",\"climb\",'eat']"
      ],
      "execution_count": null,
      "outputs": []
    },
    {
      "cell_type": "code",
      "metadata": {
        "id": "opzT9QhX_9Md"
      },
      "source": [
        "def frames_extraction(video_path):\n",
        "    frames_list = []\n",
        "     \n",
        "    vidcap = cv2.VideoCapture(video_path)\n",
        "    total_frames = vidcap.get(cv2.CAP_PROP_FRAME_COUNT)\n",
        "\n",
        "    frames_step = total_frames//seq_len\n",
        " \n",
        "    for j in range(seq_len):\n",
        "        #here, we set the parameter 1 which is the frame number to the frame (i*frames_step)\n",
        "        vidcap.set(1,j*frames_step)\n",
        "        success,image = vidcap.read()  \n",
        "        #save your image\n",
        "        if success:\n",
        "          image = cv2.resize(image, (img_height, img_width))\n",
        "          frames_list.append(image)\n",
        "        else:\n",
        "          print(\"Defected frame {}\".format(video_path))\n",
        "          break\n",
        "\n",
        "    return frames_list"
      ],
      "execution_count": null,
      "outputs": []
    },
    {
      "cell_type": "code",
      "metadata": {
        "id": "lHNlh_4g_9Pd"
      },
      "source": [
        "def create_data(input_dir):\n",
        "    X = []\n",
        "    Y = []\n",
        "\n",
        "    sometimes = lambda aug: va.Sometimes(1, aug) # Used to apply augmentor with 100% probability\n",
        "    \n",
        "    seq_1 = va.Sequential([ \n",
        "        sometimes(va.HorizontalFlip()),\n",
        "    ])\n",
        "    seq_2 = va.Sequential([\n",
        "        sometimes(va.RandomShear(0.2,0.2)),\n",
        "    ])\n",
        "    seq_3 = va.Sequential([\n",
        "        sometimes(va.RandomTranslate(10,10)),\n",
        "    ])\n",
        "    classes_list = os.listdir(input_dir)\n",
        "     \n",
        "    for c in classes_list:\n",
        "        print(c)\n",
        "        files_list = os.listdir(os.path.join(input_dir, c))\n",
        "        for f in files_list:\n",
        "            frames = frames_extraction(os.path.join(os.path.join(input_dir, c), f))\n",
        "            if len(frames) == seq_len:\n",
        "                X.append(frames)\n",
        "                X.append(seq_1(frames))\n",
        "                X.append(seq_2(frames))\n",
        "                X.append(seq_2(seq_1(frames)))\n",
        "                y = [0]*len(classes)\n",
        "                y[classes.index(c)] = 1\n",
        "                Y.append(y)\n",
        "                Y.append(y)\n",
        "                Y.append(y)\n",
        "                Y.append(y)\n",
        "\n",
        "\n",
        "    X = np.asarray(X)\n",
        "    Y = np.asarray(Y)\n",
        "    return X, Y"
      ],
      "execution_count": null,
      "outputs": []
    },
    {
      "cell_type": "code",
      "metadata": {
        "colab": {
          "background_save": true,
          "base_uri": "https://localhost:8080/"
        },
        "id": "If4myzoj_9Sj",
        "outputId": "8b75fd80-6038-404d-cf4d-5f5fd246d980"
      },
      "source": [
        "X, Y = create_data(data_dir)\n",
        "X = X/255\n",
        "print(len(X))\n",
        "# X_train, X_test, y_train, y_test = train_test_split(X, Y, test_size=0.20, shuffle=True, random_state=0)"
      ],
      "execution_count": null,
      "outputs": [
        {
          "name": "stdout",
          "output_type": "stream",
          "text": [
            "walk\n",
            "Defected frame /content/drive/MyDrive/video_data/walk/135.mov\n",
            "Defected frame /content/drive/MyDrive/video_data/walk/143.mov\n",
            "Defected frame /content/drive/MyDrive/video_data/walk/101.mov\n",
            "fall_down\n",
            "Defected frame /content/drive/MyDrive/video_data/fall_down/145.mov\n",
            "Defected frame /content/drive/MyDrive/video_data/fall_down/143.mov\n",
            "Defected frame /content/drive/MyDrive/video_data/fall_down/172.mov\n",
            "Defected frame /content/drive/MyDrive/video_data/fall_down/21.mov\n",
            "Defected frame /content/drive/MyDrive/video_data/fall_down/26.mov\n",
            "Defected frame /content/drive/MyDrive/video_data/fall_down/46.mov\n",
            "Defected frame /content/drive/MyDrive/video_data/fall_down/52.mov\n",
            "Defected frame /content/drive/MyDrive/video_data/fall_down/57.mov\n",
            "Defected frame /content/drive/MyDrive/video_data/fall_down/81.mov\n",
            "swallow\n",
            "Defected frame /content/drive/MyDrive/video_data/swallow/47.mov\n",
            "Defected frame /content/drive/MyDrive/video_data/swallow/70.mov\n",
            "Defected frame /content/drive/MyDrive/video_data/swallow/79_crop (online-video-cutter.com).mp4\n",
            "Defected frame /content/drive/MyDrive/video_data/swallow/80 (online-video-cutter.com).mp4\n",
            "Defected frame /content/drive/MyDrive/video_data/swallow/81_crop (online-video-cutter.com).mp4\n",
            "Defected frame /content/drive/MyDrive/video_data/swallow/82_crop (online-video-cutter.com).mp4\n",
            "Defected frame /content/drive/MyDrive/video_data/swallow/83_crop (online-video-cutter.com).mp4\n",
            "Defected frame /content/drive/MyDrive/video_data/swallow/212_1 (online-video-cutter.com).mp4\n",
            "grab\n",
            "Defected frame /content/drive/MyDrive/video_data/grab/98_crop (online-video-cutter.com).mp4\n",
            "Defected frame /content/drive/MyDrive/video_data/grab/99 (online-video-cutter.com).mp4\n",
            "Defected frame /content/drive/MyDrive/video_data/grab/102_crop (online-video-cutter.com).mp4\n",
            "Defected frame /content/drive/MyDrive/video_data/grab/103_crop (online-video-cutter.com).mp4\n",
            "Defected frame /content/drive/MyDrive/video_data/grab/106_crop (online-video-cutter.com).mp4\n",
            "Defected frame /content/drive/MyDrive/video_data/grab/109_crop (online-video-cutter.com).mp4\n",
            "Defected frame /content/drive/MyDrive/video_data/grab/110_crop (online-video-cutter.com).mp4\n",
            "Defected frame /content/drive/MyDrive/video_data/grab/112_crop (online-video-cutter.com).mp4\n",
            "Defected frame /content/drive/MyDrive/video_data/grab/113 (online-video-cutter.com).mp4\n",
            "Defected frame /content/drive/MyDrive/video_data/grab/115 (online-video-cutter.com).mp4\n",
            "Defected frame /content/drive/MyDrive/video_data/grab/116 (online-video-cutter.com).mp4\n",
            "Defected frame /content/drive/MyDrive/video_data/grab/156 (online-video-cutter.com).mp4\n",
            "Defected frame /content/drive/MyDrive/video_data/grab/172_crop (online-video-cutter.com).mp4\n",
            "Defected frame /content/drive/MyDrive/video_data/grab/201_crop (online-video-cutter.com) (1).mp4\n",
            "Defected frame /content/drive/MyDrive/video_data/grab/222_crop (online-video-cutter.com).mp4\n",
            "Defected frame /content/drive/MyDrive/video_data/grab/262_1 (online-video-cutter.com).mp4\n",
            "climb\n",
            "sit\n",
            "eat\n",
            "Defected frame /content/drive/MyDrive/video_data/eat/194.mov\n",
            "Defected frame /content/drive/MyDrive/video_data/eat/160.mov\n",
            "8910\n"
          ]
        }
      ]
    },
    {
      "cell_type": "code",
      "metadata": {
        "id": "cY2WFH-D4fIR"
      },
      "source": [
        "import numpy as np\n",
        "np.save('/content/drive/MyDrive/data/save_X_flip_shear',X)\n",
        "np.save('/content/drive/MyDrive/data/save_Y_flip_shear',Y)"
      ],
      "execution_count": null,
      "outputs": []
    },
    {
      "cell_type": "code",
      "metadata": {
        "id": "Pld5XtLH_9jC"
      },
      "source": [
        ""
      ],
      "execution_count": null,
      "outputs": []
    },
    {
      "cell_type": "code",
      "metadata": {
        "id": "ZCfk5lqU_9mr"
      },
      "source": [
        ""
      ],
      "execution_count": null,
      "outputs": []
    },
    {
      "cell_type": "code",
      "metadata": {
        "id": "n76YdAYL_9pz"
      },
      "source": [
        ""
      ],
      "execution_count": null,
      "outputs": []
    },
    {
      "cell_type": "code",
      "metadata": {
        "id": "RC0rMH9k_9tb"
      },
      "source": [
        ""
      ],
      "execution_count": null,
      "outputs": []
    }
  ]
}