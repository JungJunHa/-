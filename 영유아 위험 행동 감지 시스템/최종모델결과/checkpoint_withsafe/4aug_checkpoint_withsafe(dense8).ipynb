{
  "nbformat": 4,
  "nbformat_minor": 0,
  "metadata": {
    "colab": {
      "name": "제대로된코드_4배_4번_2_checkpoint_withsafe.ipynb",
      "provenance": [],
      "collapsed_sections": [],
      "machine_shape": "hm"
    },
    "kernelspec": {
      "display_name": "Python 3",
      "name": "python3"
    },
    "language_info": {
      "name": "python"
    }
  },
  "cells": [
    {
      "cell_type": "code",
      "metadata": {
        "id": "FW50_EVu_8Qh",
        "colab": {
          "base_uri": "https://localhost:8080/"
        },
        "outputId": "261a31be-42a7-4211-ec92-0ef3c88bd71d"
      },
      "source": [
        "!pip install vidaug\n",
        "import tensorflow as tf\n",
        "import tensorflow.keras\n",
        "from tensorflow.keras import applications\n",
        "from tensorflow.keras.preprocessing.image import ImageDataGenerator\n",
        "# from keras import optimizers\n",
        "from tensorflow.keras.models import Sequential, Model \n",
        "from tensorflow.keras.layers import *\n",
        "from tensorflow.keras.callbacks import ModelCheckpoint, LearningRateScheduler, TensorBoard, EarlyStopping\n",
        "import os\n",
        "import cv2\n",
        "import numpy as np\n",
        "from sklearn.model_selection import train_test_split\n",
        "# import keras_metrics as km\n",
        "# from keras import regularizers, optimizers\n",
        "from tensorflow.keras.callbacks import ModelCheckpoint\n",
        "from sklearn.metrics import precision_score\n",
        "from sklearn.metrics import recall_score\n",
        "from sklearn.metrics import f1_score\n",
        "from sklearn.metrics import cohen_kappa_score\n",
        "from sklearn.metrics import roc_auc_score\n",
        "from sklearn.metrics import multilabel_confusion_matrix\n",
        "from sklearn.metrics import accuracy_score\n",
        "import math\n",
        "import vidaug.augmentors as va\n",
        "from sklearn.utils import shuffle"
      ],
      "execution_count": 1,
      "outputs": [
        {
          "output_type": "stream",
          "text": [
            "Collecting vidaug\n",
            "  Downloading vidaug-1.5-py3-none-any.whl (13 kB)\n",
            "Installing collected packages: vidaug\n",
            "Successfully installed vidaug-1.5\n"
          ],
          "name": "stdout"
        }
      ]
    },
    {
      "cell_type": "code",
      "metadata": {
        "id": "KLavRlaT_9Cf"
      },
      "source": [
        "data_dir = \"/content/drive/MyDrive/video_data\"\n",
        "img_height , img_width = 64, 64\n",
        "seq_len = 16"
      ],
      "execution_count": 2,
      "outputs": []
    },
    {
      "cell_type": "code",
      "metadata": {
        "colab": {
          "base_uri": "https://localhost:8080/"
        },
        "id": "wbqgzGXp_9GL",
        "outputId": "52d95ae3-0b6e-44fd-8123-535017070bd2"
      },
      "source": [
        "from google.colab import drive\n",
        "drive.mount('/content/drive')"
      ],
      "execution_count": 3,
      "outputs": [
        {
          "output_type": "stream",
          "text": [
            "Mounted at /content/drive\n"
          ],
          "name": "stdout"
        }
      ]
    },
    {
      "cell_type": "code",
      "metadata": {
        "id": "nYmXq2Om_9Je"
      },
      "source": [
        "classes = [\"fall_down\", \"grab\", \"swallow\", \"walk\",\"sit\",\"climb\",'eat','safe']"
      ],
      "execution_count": 4,
      "outputs": []
    },
    {
      "cell_type": "code",
      "metadata": {
        "id": "opzT9QhX_9Md"
      },
      "source": [
        "def frames_extraction(video_path):\n",
        "    frames_list = []\n",
        "     \n",
        "    vidcap = cv2.VideoCapture(video_path)\n",
        "    total_frames = vidcap.get(cv2.CAP_PROP_FRAME_COUNT)\n",
        "\n",
        "    frames_step = total_frames//seq_len\n",
        " \n",
        "    for j in range(seq_len):\n",
        "        #here, we set the parameter 1 which is the frame number to the frame (i*frames_step)\n",
        "        vidcap.set(1,j*frames_step)\n",
        "        success,image = vidcap.read()  \n",
        "        #save your image\n",
        "        if success:\n",
        "          image = cv2.resize(image, (img_height, img_width))\n",
        "          frames_list.append(image)\n",
        "        else:\n",
        "          print(\"Defected frame {}\".format(video_path))\n",
        "          break\n",
        "\n",
        "    return frames_list"
      ],
      "execution_count": 5,
      "outputs": []
    },
    {
      "cell_type": "code",
      "metadata": {
        "id": "lHNlh_4g_9Pd"
      },
      "source": [
        "def create_data(input_dir):\n",
        "    X = []\n",
        "    Y = []\n",
        "\n",
        "    sometimes = lambda aug: va.Sometimes(1, aug) # Used to apply augmentor with 100% probability\n",
        "    \n",
        "    seq_1 = va.Sequential([ \n",
        "        sometimes(va.HorizontalFlip()),\n",
        "    ])\n",
        "    seq_2 = va.Sequential([\n",
        "        sometimes(va.RandomShear(0.2,0.2)),\n",
        "    ])\n",
        "\n",
        "    classes_list = os.listdir(input_dir)\n",
        "     \n",
        "    for c in classes_list:\n",
        "        print(c)\n",
        "        files_list = os.listdir(os.path.join(input_dir, c))\n",
        "        for f in files_list:\n",
        "            frames = frames_extraction(os.path.join(os.path.join(input_dir, c), f))\n",
        "            if len(frames) == seq_len:\n",
        "                X.append(frames)\n",
        "                X.append(seq_1(frames))\n",
        "                X.append(seq_2(frames))\n",
        "                X.append(seq_2(seq_1(frames)))\n",
        "                \n",
        "                y = [0]*len(classes)\n",
        "                y[classes.index(c)] = 1\n",
        "                Y.append(y)\n",
        "                Y.append(y)\n",
        "                Y.append(y)\n",
        "                Y.append(y)\n",
        "\n",
        "\n",
        "    X = np.asarray(X)\n",
        "    Y = np.asarray(Y)\n",
        "    return X, Y"
      ],
      "execution_count": 6,
      "outputs": []
    },
    {
      "cell_type": "code",
      "metadata": {
        "colab": {
          "base_uri": "https://localhost:8080/"
        },
        "id": "If4myzoj_9Sj",
        "outputId": "4ebf51f5-543c-497a-b690-de8d2120b51f"
      },
      "source": [
        "X, Y = create_data(data_dir)\n",
        "X = X/255\n",
        "print(len(X))\n",
        "# X_train, X_test, y_train, y_test = train_test_split(X, Y, test_size=0.20, shuffle=True, random_state=0)"
      ],
      "execution_count": 7,
      "outputs": [
        {
          "output_type": "stream",
          "text": [
            "walk\n",
            "Defected frame /content/drive/MyDrive/video_data/walk/135.mov\n",
            "Defected frame /content/drive/MyDrive/video_data/walk/143.mov\n",
            "Defected frame /content/drive/MyDrive/video_data/walk/101.mov\n",
            "fall_down\n",
            "Defected frame /content/drive/MyDrive/video_data/fall_down/145.mov\n",
            "Defected frame /content/drive/MyDrive/video_data/fall_down/143.mov\n",
            "Defected frame /content/drive/MyDrive/video_data/fall_down/172.mov\n",
            "Defected frame /content/drive/MyDrive/video_data/fall_down/21.mov\n",
            "Defected frame /content/drive/MyDrive/video_data/fall_down/26.mov\n",
            "Defected frame /content/drive/MyDrive/video_data/fall_down/46.mov\n",
            "Defected frame /content/drive/MyDrive/video_data/fall_down/52.mov\n",
            "Defected frame /content/drive/MyDrive/video_data/fall_down/57.mov\n",
            "Defected frame /content/drive/MyDrive/video_data/fall_down/81.mov\n",
            "swallow\n",
            "Defected frame /content/drive/MyDrive/video_data/swallow/47.mov\n",
            "Defected frame /content/drive/MyDrive/video_data/swallow/70.mov\n",
            "Defected frame /content/drive/MyDrive/video_data/swallow/79_crop (online-video-cutter.com).mp4\n",
            "Defected frame /content/drive/MyDrive/video_data/swallow/80 (online-video-cutter.com).mp4\n",
            "Defected frame /content/drive/MyDrive/video_data/swallow/81_crop (online-video-cutter.com).mp4\n",
            "Defected frame /content/drive/MyDrive/video_data/swallow/82_crop (online-video-cutter.com).mp4\n",
            "Defected frame /content/drive/MyDrive/video_data/swallow/83_crop (online-video-cutter.com).mp4\n",
            "Defected frame /content/drive/MyDrive/video_data/swallow/212_1 (online-video-cutter.com).mp4\n",
            "grab\n",
            "Defected frame /content/drive/MyDrive/video_data/grab/98_crop (online-video-cutter.com).mp4\n",
            "Defected frame /content/drive/MyDrive/video_data/grab/99 (online-video-cutter.com).mp4\n",
            "Defected frame /content/drive/MyDrive/video_data/grab/102_crop (online-video-cutter.com).mp4\n",
            "Defected frame /content/drive/MyDrive/video_data/grab/103_crop (online-video-cutter.com).mp4\n",
            "Defected frame /content/drive/MyDrive/video_data/grab/106_crop (online-video-cutter.com).mp4\n",
            "Defected frame /content/drive/MyDrive/video_data/grab/109_crop (online-video-cutter.com).mp4\n",
            "Defected frame /content/drive/MyDrive/video_data/grab/110_crop (online-video-cutter.com).mp4\n",
            "Defected frame /content/drive/MyDrive/video_data/grab/112_crop (online-video-cutter.com).mp4\n",
            "Defected frame /content/drive/MyDrive/video_data/grab/113 (online-video-cutter.com).mp4\n",
            "Defected frame /content/drive/MyDrive/video_data/grab/115 (online-video-cutter.com).mp4\n",
            "Defected frame /content/drive/MyDrive/video_data/grab/116 (online-video-cutter.com).mp4\n",
            "Defected frame /content/drive/MyDrive/video_data/grab/156 (online-video-cutter.com).mp4\n",
            "Defected frame /content/drive/MyDrive/video_data/grab/172_crop (online-video-cutter.com).mp4\n",
            "Defected frame /content/drive/MyDrive/video_data/grab/201_crop (online-video-cutter.com) (1).mp4\n",
            "Defected frame /content/drive/MyDrive/video_data/grab/222_crop (online-video-cutter.com).mp4\n",
            "Defected frame /content/drive/MyDrive/video_data/grab/262_1 (online-video-cutter.com).mp4\n",
            "climb\n",
            "sit\n",
            "eat\n",
            "Defected frame /content/drive/MyDrive/video_data/eat/194.mov\n",
            "Defected frame /content/drive/MyDrive/video_data/eat/160.mov\n",
            "7128\n"
          ],
          "name": "stdout"
        }
      ]
    },
    {
      "cell_type": "code",
      "metadata": {
        "id": "cY2WFH-D4fIR"
      },
      "source": [
        "import numpy as np\n",
        "np.save('/content/drive/MyDrive/data/save_X_flip_shear_withsafe',X)\n",
        "np.save('/content/drive/MyDrive/data/save_Y_flip_shear_withsafe',Y)"
      ],
      "execution_count": 8,
      "outputs": []
    },
    {
      "cell_type": "code",
      "metadata": {
        "id": "HkfuqGihbGkG"
      },
      "source": [
        "X=np.load('/content/drive/MyDrive/data/save_X_flip_shear_withsafe.npy')\n",
        "Y=np.load('/content/drive/MyDrive/data/save_Y_flip_shear_withsafe.npy')\n",
        "# X_train, y_train = train_test_split(X_, Y_, test_size=0.2, shuffle=True, random_state=36)\n",
        "# del X_\n",
        "# del Y_\n",
        "X, Y = shuffle(X,Y, random_state = 36)"
      ],
      "execution_count": 4,
      "outputs": []
    },
    {
      "cell_type": "code",
      "metadata": {
        "id": "jcNIK5Kt_9V8",
        "colab": {
          "base_uri": "https://localhost:8080/"
        },
        "outputId": "c1cc6d48-7f8e-49c5-ee03-327190cdd318"
      },
      "source": [
        "model = Sequential()\n",
        "\n",
        "model.add(ConvLSTM2D(filters = 32, kernel_size = (3, 3),strides = (2,2), return_sequences = True, input_shape = (seq_len, img_height, img_width, 3)))\n",
        "model.add(tf.keras.layers.BatchNormalization())\n",
        "model.add(tf.keras.layers.Activation('tanh'))\n",
        "model.add(ConvLSTM2D(filters = 32, kernel_size = (3, 3),strides = (2,2), return_sequences = True))\n",
        "model.add(tf.keras.layers.BatchNormalization())\n",
        "model.add(tf.keras.layers.Activation('tanh'))\n",
        "model.add(ConvLSTM2D(filters = 64, kernel_size = (3, 3),strides = (2,2), return_sequences = True))\n",
        "model.add(tf.keras.layers.BatchNormalization())\n",
        "model.add(tf.keras.layers.Activation('tanh'))\n",
        "model.add(ConvLSTM2D(filters = 128, kernel_size = (3, 3),strides = (2,2), return_sequences = False))\n",
        "model.add(tf.keras.layers.BatchNormalization())\n",
        "model.add(tf.keras.layers.Activation('tanh'))\n",
        "\n",
        "\n",
        "model.add(Flatten())\n",
        "model.add(Dense(512, activation=\"relu\"))\n",
        "model.add(Dropout(0.5))\n",
        "model.add(Dense(8, activation = \"softmax\"))\n",
        " \n",
        "model.summary()"
      ],
      "execution_count": 5,
      "outputs": [
        {
          "output_type": "stream",
          "text": [
            "Model: \"sequential\"\n",
            "_________________________________________________________________\n",
            "Layer (type)                 Output Shape              Param #   \n",
            "=================================================================\n",
            "conv_lst_m2d (ConvLSTM2D)    (None, 16, 31, 31, 32)    40448     \n",
            "_________________________________________________________________\n",
            "batch_normalization (BatchNo (None, 16, 31, 31, 32)    128       \n",
            "_________________________________________________________________\n",
            "activation (Activation)      (None, 16, 31, 31, 32)    0         \n",
            "_________________________________________________________________\n",
            "conv_lst_m2d_1 (ConvLSTM2D)  (None, 16, 15, 15, 32)    73856     \n",
            "_________________________________________________________________\n",
            "batch_normalization_1 (Batch (None, 16, 15, 15, 32)    128       \n",
            "_________________________________________________________________\n",
            "activation_1 (Activation)    (None, 16, 15, 15, 32)    0         \n",
            "_________________________________________________________________\n",
            "conv_lst_m2d_2 (ConvLSTM2D)  (None, 16, 7, 7, 64)      221440    \n",
            "_________________________________________________________________\n",
            "batch_normalization_2 (Batch (None, 16, 7, 7, 64)      256       \n",
            "_________________________________________________________________\n",
            "activation_2 (Activation)    (None, 16, 7, 7, 64)      0         \n",
            "_________________________________________________________________\n",
            "conv_lst_m2d_3 (ConvLSTM2D)  (None, 3, 3, 128)         885248    \n",
            "_________________________________________________________________\n",
            "batch_normalization_3 (Batch (None, 3, 3, 128)         512       \n",
            "_________________________________________________________________\n",
            "activation_3 (Activation)    (None, 3, 3, 128)         0         \n",
            "_________________________________________________________________\n",
            "flatten (Flatten)            (None, 1152)              0         \n",
            "_________________________________________________________________\n",
            "dense (Dense)                (None, 512)               590336    \n",
            "_________________________________________________________________\n",
            "dropout (Dropout)            (None, 512)               0         \n",
            "_________________________________________________________________\n",
            "dense_1 (Dense)              (None, 8)                 4104      \n",
            "=================================================================\n",
            "Total params: 1,816,456\n",
            "Trainable params: 1,815,944\n",
            "Non-trainable params: 512\n",
            "_________________________________________________________________\n"
          ],
          "name": "stdout"
        }
      ]
    },
    {
      "cell_type": "code",
      "metadata": {
        "id": "-90KNEiL_9cV",
        "colab": {
          "base_uri": "https://localhost:8080/",
          "height": 1000
        },
        "outputId": "ce4abc0d-e0c0-45cf-c46b-e46f617b05b2"
      },
      "source": [
        "opt = tf.keras.optimizers.Adam(lr=0.0005)\n",
        "model.compile(loss='categorical_crossentropy', optimizer=opt, metrics=[\"accuracy\"])\n",
        "\n",
        "EPOCH = 40\n",
        "BATCH_SIZE = 128\n",
        "\n",
        "# earlystop = EarlyStopping(monitor='val_loss', mode='min', verbose=1, patience=5)\n",
        "# callbacks = tf.keras.callbacks.LearningRateScheduler(schedular)\n",
        "\n",
        "filename = '/content/drive/MyDrive/model/checkpoint-epoch-{}-batch-{}-4aug-4batch-withsafe.h5'.format(EPOCH, BATCH_SIZE)\n",
        "checkpoint = ModelCheckpoint(filename, monitor='val_loss', verbose=1, save_best_only=True, mode='auto')\n",
        "\n",
        "history = model.fit(x = X, y = Y, epochs=EPOCH, batch_size=BATCH_SIZE, shuffle=True, validation_split=0.2, callbacks=[checkpoint])\n",
        "\n",
        "import matplotlib.pyplot as plt\n",
        "plt.plot(history.history['loss'])\n",
        "plt.plot(history.history['val_loss'])\n",
        "plt.plot(history.history['accuracy'])\n",
        "plt.plot(history.history['val_accuracy'])\n",
        "plt.xlabel('epoch')\n",
        "plt.ylabel('loss')\n",
        "plt.legend(['train', 'val','accuracy','val_accuracy'])\n",
        "plt.show()\n"
      ],
      "execution_count": 6,
      "outputs": [
        {
          "output_type": "stream",
          "text": [
            "/usr/local/lib/python3.7/dist-packages/keras/optimizer_v2/optimizer_v2.py:356: UserWarning: The `lr` argument is deprecated, use `learning_rate` instead.\n",
            "  \"The `lr` argument is deprecated, use `learning_rate` instead.\")\n"
          ],
          "name": "stderr"
        },
        {
          "output_type": "stream",
          "text": [
            "Epoch 1/40\n",
            "45/45 [==============================] - 914s 20s/step - loss: 1.8183 - accuracy: 0.3160 - val_loss: 2.0027 - val_accuracy: 0.1992\n",
            "\n",
            "Epoch 00001: val_loss improved from inf to 2.00267, saving model to /content/drive/MyDrive/model/checkpoint-epoch-40-batch-128-4aug-4batch-withsafe.h5\n",
            "Epoch 2/40\n",
            "45/45 [==============================] - 902s 20s/step - loss: 1.3109 - accuracy: 0.5061 - val_loss: 2.1684 - val_accuracy: 0.1978\n",
            "\n",
            "Epoch 00002: val_loss did not improve from 2.00267\n",
            "Epoch 3/40\n",
            "45/45 [==============================] - 904s 20s/step - loss: 1.0191 - accuracy: 0.6307 - val_loss: 2.4689 - val_accuracy: 0.1844\n",
            "\n",
            "Epoch 00003: val_loss did not improve from 2.00267\n",
            "Epoch 4/40\n",
            "45/45 [==============================] - 904s 20s/step - loss: 0.7447 - accuracy: 0.7324 - val_loss: 3.1686 - val_accuracy: 0.1978\n",
            "\n",
            "Epoch 00004: val_loss did not improve from 2.00267\n",
            "Epoch 5/40\n",
            "45/45 [==============================] - 903s 20s/step - loss: 0.5222 - accuracy: 0.8244 - val_loss: 2.8873 - val_accuracy: 0.2363\n",
            "\n",
            "Epoch 00005: val_loss did not improve from 2.00267\n",
            "Epoch 6/40\n",
            "45/45 [==============================] - 864s 19s/step - loss: 0.3384 - accuracy: 0.8923 - val_loss: 2.8476 - val_accuracy: 0.3205\n",
            "\n",
            "Epoch 00006: val_loss did not improve from 2.00267\n",
            "Epoch 7/40\n",
            "45/45 [==============================] - 812s 18s/step - loss: 0.2158 - accuracy: 0.9414 - val_loss: 3.0371 - val_accuracy: 0.3429\n",
            "\n",
            "Epoch 00007: val_loss did not improve from 2.00267\n",
            "Epoch 8/40\n",
            "45/45 [==============================] - 813s 18s/step - loss: 0.1496 - accuracy: 0.9567 - val_loss: 1.9493 - val_accuracy: 0.4944\n",
            "\n",
            "Epoch 00008: val_loss improved from 2.00267 to 1.94928, saving model to /content/drive/MyDrive/model/checkpoint-epoch-40-batch-128-4aug-4batch-withsafe.h5\n",
            "Epoch 9/40\n",
            "45/45 [==============================] - 811s 18s/step - loss: 0.0875 - accuracy: 0.9788 - val_loss: 1.8569 - val_accuracy: 0.5344\n",
            "\n",
            "Epoch 00009: val_loss improved from 1.94928 to 1.85694, saving model to /content/drive/MyDrive/model/checkpoint-epoch-40-batch-128-4aug-4batch-withsafe.h5\n",
            "Epoch 10/40\n",
            "45/45 [==============================] - 811s 18s/step - loss: 0.0744 - accuracy: 0.9811 - val_loss: 1.2977 - val_accuracy: 0.6353\n",
            "\n",
            "Epoch 00010: val_loss improved from 1.85694 to 1.29775, saving model to /content/drive/MyDrive/model/checkpoint-epoch-40-batch-128-4aug-4batch-withsafe.h5\n",
            "Epoch 11/40\n",
            "45/45 [==============================] - 813s 18s/step - loss: 0.0429 - accuracy: 0.9911 - val_loss: 1.2844 - val_accuracy: 0.6704\n",
            "\n",
            "Epoch 00011: val_loss improved from 1.29775 to 1.28436, saving model to /content/drive/MyDrive/model/checkpoint-epoch-40-batch-128-4aug-4batch-withsafe.h5\n",
            "Epoch 12/40\n",
            "45/45 [==============================] - 811s 18s/step - loss: 0.0314 - accuracy: 0.9942 - val_loss: 1.0503 - val_accuracy: 0.7146\n",
            "\n",
            "Epoch 00012: val_loss improved from 1.28436 to 1.05033, saving model to /content/drive/MyDrive/model/checkpoint-epoch-40-batch-128-4aug-4batch-withsafe.h5\n",
            "Epoch 13/40\n",
            "45/45 [==============================] - 813s 18s/step - loss: 0.0262 - accuracy: 0.9958 - val_loss: 1.0705 - val_accuracy: 0.7216\n",
            "\n",
            "Epoch 00013: val_loss did not improve from 1.05033\n",
            "Epoch 14/40\n",
            "45/45 [==============================] - 814s 18s/step - loss: 0.0252 - accuracy: 0.9953 - val_loss: 1.1099 - val_accuracy: 0.7090\n",
            "\n",
            "Epoch 00014: val_loss did not improve from 1.05033\n",
            "Epoch 15/40\n",
            "45/45 [==============================] - 813s 18s/step - loss: 0.0269 - accuracy: 0.9940 - val_loss: 1.1761 - val_accuracy: 0.7160\n",
            "\n",
            "Epoch 00015: val_loss did not improve from 1.05033\n",
            "Epoch 16/40\n",
            "45/45 [==============================] - 815s 18s/step - loss: 0.0327 - accuracy: 0.9921 - val_loss: 1.1876 - val_accuracy: 0.7062\n",
            "\n",
            "Epoch 00016: val_loss did not improve from 1.05033\n",
            "Epoch 17/40\n",
            "45/45 [==============================] - 814s 18s/step - loss: 0.0318 - accuracy: 0.9925 - val_loss: 1.1500 - val_accuracy: 0.7258\n",
            "\n",
            "Epoch 00017: val_loss did not improve from 1.05033\n",
            "Epoch 18/40\n",
            "45/45 [==============================] - 814s 18s/step - loss: 0.0278 - accuracy: 0.9932 - val_loss: 1.2540 - val_accuracy: 0.7188\n",
            "\n",
            "Epoch 00018: val_loss did not improve from 1.05033\n",
            "Epoch 19/40\n",
            "45/45 [==============================] - 816s 18s/step - loss: 0.0354 - accuracy: 0.9902 - val_loss: 1.4738 - val_accuracy: 0.6697\n",
            "\n",
            "Epoch 00019: val_loss did not improve from 1.05033\n",
            "Epoch 20/40\n",
            "45/45 [==============================] - 816s 18s/step - loss: 0.0495 - accuracy: 0.9854 - val_loss: 1.3018 - val_accuracy: 0.7181\n",
            "\n",
            "Epoch 00020: val_loss did not improve from 1.05033\n",
            "Epoch 21/40\n",
            "45/45 [==============================] - 818s 18s/step - loss: 0.1003 - accuracy: 0.9647 - val_loss: 1.5392 - val_accuracy: 0.6353\n",
            "\n",
            "Epoch 00021: val_loss did not improve from 1.05033\n",
            "Epoch 22/40\n",
            "45/45 [==============================] - 817s 18s/step - loss: 0.1482 - accuracy: 0.9481 - val_loss: 1.3447 - val_accuracy: 0.6711\n",
            "\n",
            "Epoch 00022: val_loss did not improve from 1.05033\n",
            "Epoch 23/40\n",
            "45/45 [==============================] - 817s 18s/step - loss: 0.1258 - accuracy: 0.9535 - val_loss: 1.0933 - val_accuracy: 0.7300\n",
            "\n",
            "Epoch 00023: val_loss did not improve from 1.05033\n",
            "Epoch 24/40\n",
            "45/45 [==============================] - 817s 18s/step - loss: 0.0760 - accuracy: 0.9751 - val_loss: 1.4262 - val_accuracy: 0.6697\n",
            "\n",
            "Epoch 00024: val_loss did not improve from 1.05033\n",
            "Epoch 25/40\n",
            "45/45 [==============================] - 816s 18s/step - loss: 0.0534 - accuracy: 0.9821 - val_loss: 1.1703 - val_accuracy: 0.7258\n",
            "\n",
            "Epoch 00025: val_loss did not improve from 1.05033\n",
            "Epoch 26/40\n",
            "45/45 [==============================] - 819s 18s/step - loss: 0.0295 - accuracy: 0.9912 - val_loss: 1.1004 - val_accuracy: 0.7391\n",
            "\n",
            "Epoch 00026: val_loss did not improve from 1.05033\n",
            "Epoch 27/40\n",
            "45/45 [==============================] - 816s 18s/step - loss: 0.0214 - accuracy: 0.9928 - val_loss: 1.1643 - val_accuracy: 0.7454\n",
            "\n",
            "Epoch 00027: val_loss did not improve from 1.05033\n",
            "Epoch 28/40\n",
            "45/45 [==============================] - 815s 18s/step - loss: 0.0160 - accuracy: 0.9960 - val_loss: 1.0876 - val_accuracy: 0.7616\n",
            "\n",
            "Epoch 00028: val_loss did not improve from 1.05033\n",
            "Epoch 29/40\n",
            "45/45 [==============================] - 815s 18s/step - loss: 0.0102 - accuracy: 0.9972 - val_loss: 1.0592 - val_accuracy: 0.7581\n",
            "\n",
            "Epoch 00029: val_loss did not improve from 1.05033\n",
            "Epoch 30/40\n",
            "45/45 [==============================] - 815s 18s/step - loss: 0.0110 - accuracy: 0.9963 - val_loss: 1.2535 - val_accuracy: 0.7370\n",
            "\n",
            "Epoch 00030: val_loss did not improve from 1.05033\n",
            "Epoch 31/40\n",
            "45/45 [==============================] - 818s 18s/step - loss: 0.0126 - accuracy: 0.9963 - val_loss: 1.1349 - val_accuracy: 0.7496\n",
            "\n",
            "Epoch 00031: val_loss did not improve from 1.05033\n",
            "Epoch 32/40\n",
            "45/45 [==============================] - 816s 18s/step - loss: 0.0127 - accuracy: 0.9963 - val_loss: 1.1579 - val_accuracy: 0.7496\n",
            "\n",
            "Epoch 00032: val_loss did not improve from 1.05033\n",
            "Epoch 33/40\n",
            "45/45 [==============================] - 817s 18s/step - loss: 0.0067 - accuracy: 0.9974 - val_loss: 1.1813 - val_accuracy: 0.7475\n",
            "\n",
            "Epoch 00033: val_loss did not improve from 1.05033\n",
            "Epoch 34/40\n",
            "45/45 [==============================] - 816s 18s/step - loss: 0.0081 - accuracy: 0.9972 - val_loss: 1.1045 - val_accuracy: 0.7644\n",
            "\n",
            "Epoch 00034: val_loss did not improve from 1.05033\n",
            "Epoch 35/40\n",
            "45/45 [==============================] - 817s 18s/step - loss: 0.0056 - accuracy: 0.9974 - val_loss: 1.0889 - val_accuracy: 0.7630\n",
            "\n",
            "Epoch 00035: val_loss did not improve from 1.05033\n",
            "Epoch 36/40\n",
            "45/45 [==============================] - 815s 18s/step - loss: 0.0042 - accuracy: 0.9979 - val_loss: 1.1002 - val_accuracy: 0.7679\n",
            "\n",
            "Epoch 00036: val_loss did not improve from 1.05033\n",
            "Epoch 37/40\n",
            "45/45 [==============================] - 815s 18s/step - loss: 0.0044 - accuracy: 0.9986 - val_loss: 1.0829 - val_accuracy: 0.7714\n",
            "\n",
            "Epoch 00037: val_loss did not improve from 1.05033\n",
            "Epoch 38/40\n",
            "45/45 [==============================] - 817s 18s/step - loss: 0.0045 - accuracy: 0.9979 - val_loss: 1.0906 - val_accuracy: 0.7637\n",
            "\n",
            "Epoch 00038: val_loss did not improve from 1.05033\n",
            "Epoch 39/40\n",
            "45/45 [==============================] - 816s 18s/step - loss: 0.0045 - accuracy: 0.9977 - val_loss: 1.0906 - val_accuracy: 0.7658\n",
            "\n",
            "Epoch 00039: val_loss did not improve from 1.05033\n",
            "Epoch 40/40\n",
            "45/45 [==============================] - 815s 18s/step - loss: 0.0049 - accuracy: 0.9979 - val_loss: 1.1319 - val_accuracy: 0.7630\n",
            "\n",
            "Epoch 00040: val_loss did not improve from 1.05033\n"
          ],
          "name": "stdout"
        },
        {
          "output_type": "display_data",
          "data": {
            "image/png": "[encoded data removed]",
            "text/plain": [
              "<Figure size 432x288 with 1 Axes>"
            ]
          },
          "metadata": {
            "needs_background": "light"
          }
        }
      ]
    },
    {
      "cell_type": "code",
      "metadata": {
        "id": "MQvaOR6l_9f6"
      },
      "source": [
        "from sklearn.metrics import classification_report\n",
        "from sklearn.metrics import accuracy_score\n",
        "y_pred = model.predict(X_test) \n",
        "y_pred = np.argmax(y_pred, axis = 1)\n",
        "y_test = np.argmax(y_test, axis = 1)\n",
        " \n",
        "print(classification_report(y_test, y_pred))\n",
        "\n",
        "print('accuracy score : {}'.format(accuracy_score(y_pred, y_test)))\n"
      ],
      "execution_count": null,
      "outputs": []
    },
    {
      "cell_type": "code",
      "metadata": {
        "id": "Pld5XtLH_9jC"
      },
      "source": [
        ""
      ],
      "execution_count": null,
      "outputs": []
    },
    {
      "cell_type": "code",
      "metadata": {
        "id": "RC0rMH9k_9tb"
      },
      "source": [
        ""
      ],
      "execution_count": null,
      "outputs": []
    }
  ]
}
