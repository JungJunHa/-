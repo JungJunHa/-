{
  "nbformat": 4,
  "nbformat_minor": 0,
  "metadata": {
    "colab": {
      "name": "test model",
      "provenance": [],
      "collapsed_sections": []
    },
    "kernelspec": {
      "display_name": "Python 3",
      "name": "python3"
    },
    "language_info": {
      "name": "python"
    }
  },
  "cells": [
    {
      "cell_type": "code",
      "metadata": {
        "colab": {
          "base_uri": "https://localhost:8080/"
        },
        "id": "CwzXcD_Admbi",
        "outputId": "52e742d5-88ba-4827-e4fc-22b81aa5b758"
      },
      "source": [
        "pip install keras_metrics"
      ],
      "execution_count": 4,
      "outputs": [
        {
          "output_type": "stream",
          "text": [
            "Collecting keras_metrics\n",
            "  Downloading keras_metrics-1.1.0-py2.py3-none-any.whl (5.6 kB)\n",
            "Requirement already satisfied: Keras>=2.1.5 in /usr/local/lib/python3.7/dist-packages (from keras_metrics) (2.6.0)\n",
            "Installing collected packages: keras-metrics\n",
            "Successfully installed keras-metrics-1.1.0\n"
          ],
          "name": "stdout"
        }
      ]
    },
    {
      "cell_type": "code",
      "metadata": {
        "id": "uCKbct4rc_Tq"
      },
      "source": [
        "import keras\n",
        "import tensorflow as tf\n",
        "from tensorflow.keras import optimizers\n",
        "from tensorflow.keras import applications\n",
        "from tensorflow.keras.preprocessing.image import ImageDataGenerator\n",
        "\n",
        "from tensorflow.keras.models import Sequential, Model \n",
        "from tensorflow.keras.layers import *\n",
        "from tensorflow.keras.callbacks import ModelCheckpoint, LearningRateScheduler, TensorBoard, EarlyStopping\n",
        "import os\n",
        "import cv2\n",
        "import numpy as np\n",
        "from sklearn.model_selection import train_test_split\n",
        "import keras_metrics as km\n",
        "from tensorflow.keras import regularizers, optimizers\n",
        "from tensorflow.keras.callbacks import ModelCheckpoint\n",
        "from sklearn.metrics import precision_score\n",
        "from sklearn.metrics import recall_score\n",
        "from sklearn.metrics import f1_score\n",
        "from sklearn.metrics import cohen_kappa_score\n",
        "from sklearn.metrics import roc_auc_score\n",
        "from sklearn.metrics import multilabel_confusion_matrix\n",
        "from sklearn.metrics import accuracy_score\n",
        "from sklearn.metrics import classification_report\n"
      ],
      "execution_count": 27,
      "outputs": []
    },
    {
      "cell_type": "code",
      "metadata": {
        "colab": {
          "base_uri": "https://localhost:8080/"
        },
        "id": "XoCCA82ik7Rh",
        "outputId": "8a189860-f81c-49d2-e01f-f477c6578472"
      },
      "source": [
        "from google.colab import drive\n",
        "drive.mount('/content/gdrive')"
      ],
      "execution_count": 6,
      "outputs": [
        {
          "output_type": "stream",
          "text": [
            "Mounted at /content/gdrive\n"
          ],
          "name": "stdout"
        }
      ]
    },
    {
      "cell_type": "code",
      "metadata": {
        "id": "jXnT3bFCdtYE"
      },
      "source": [
        "data_dir =\"/content/gdrive/My Drive/video_data\"\n",
        "img_height , img_width = 64, 64\n",
        "seq_len = 16"
      ],
      "execution_count": 9,
      "outputs": []
    },
    {
      "cell_type": "code",
      "metadata": {
        "id": "P-7-9zcOd3BR"
      },
      "source": [
        "classes = [ 'mouth','sit down','climb','fall','walk','spoon','grab']"
      ],
      "execution_count": 10,
      "outputs": []
    },
    {
      "cell_type": "code",
      "metadata": {
        "id": "rj3Uqxogd3Fp"
      },
      "source": [
        "def frames_extraction(video_path):\n",
        "    frames_list = []\n",
        "     \n",
        "    vidObj = cv2.VideoCapture(video_path)\n",
        "    # Used as counter variable \n",
        "    count = 1\n",
        " \n",
        "    while count <= seq_len: \n",
        "         \n",
        "        success, image = vidObj.read() \n",
        "        if success:\n",
        "            image = cv2.resize(image, (img_height, img_width))\n",
        "            frames_list.append(image)\n",
        "            count += 1\n",
        "        else:\n",
        "            print(\"Defected frame\")\n",
        "            break\n",
        " \n",
        "            \n",
        "    return frames_list"
      ],
      "execution_count": 11,
      "outputs": []
    },
    {
      "cell_type": "code",
      "metadata": {
        "id": "4J4-yp0Cd3Ik"
      },
      "source": [
        "def create_data(input_dir):\n",
        "    X = []\n",
        "    Y = []\n",
        "     \n",
        "    classes_list = os.listdir(input_dir)\n",
        "     \n",
        "    for c in classes_list:\n",
        "        print(c)\n",
        "        files_list = os.listdir(os.path.join(input_dir, c))\n",
        "        for f in files_list:\n",
        "            frames = frames_extraction(os.path.join(os.path.join(input_dir, c), f))\n",
        "            if len(frames) == seq_len:\n",
        "                X.append(frames)\n",
        "             \n",
        "                y = [0]*len(classes)\n",
        "                y[classes.index(c)] = 1\n",
        "                Y.append(y)\n",
        "     \n",
        "    X = np.asarray(X)\n",
        "    Y = np.asarray(Y)\n",
        "    return X, Y"
      ],
      "execution_count": 12,
      "outputs": []
    },
    {
      "cell_type": "code",
      "metadata": {
        "id": "95ZDQU2KteZX"
      },
      "source": [
        "def schedular(epochs):\n",
        "  if epochs < 10:\n",
        "    return 0.001\n",
        "\n",
        "  else:\n",
        "    return 0.001 * math.exp(0.1*(10-epochs))\n",
        "\n",
        "  learning_rate_schedular= tf.keras.callbacks.LearningRateScheduler(schedular)"
      ],
      "execution_count": 52,
      "outputs": []
    },
    {
      "cell_type": "code",
      "metadata": {
        "colab": {
          "base_uri": "https://localhost:8080/"
        },
        "id": "HVJiCvVv56eH",
        "outputId": "9a516dcf-20d5-44c7-e591-d3d62686f69d"
      },
      "source": [
        "X, Y = create_data(data_dir)\n",
        " \n",
        "X_train, X_test, y_train, y_test = train_test_split(X/255, Y, test_size=0.20, shuffle=True, random_state=0)\n",
        " "
      ],
      "execution_count": 53,
      "outputs": [
        {
          "output_type": "stream",
          "text": [
            "climb\n",
            "walk\n",
            "Defected frame\n",
            "Defected frame\n",
            "grab\n",
            "Defected frame\n",
            "sit down\n",
            "mouth\n",
            "spoon\n",
            "fall\n"
          ],
          "name": "stdout"
        }
      ]
    },
    {
      "cell_type": "code",
      "metadata": {
        "id": "0Cx1MVEDP9Cq"
      },
      "source": [
        "np.save('/content/gdrive/My Drive/data/save_X',X_train)\n"
      ],
      "execution_count": 54,
      "outputs": []
    },
    {
      "cell_type": "code",
      "metadata": {
        "id": "8P0LNx48Qk9I"
      },
      "source": [
        "np.save('/content/gdrive/My Drive/data/save_Y',y_train)"
      ],
      "execution_count": 55,
      "outputs": []
    },
    {
      "cell_type": "code",
      "metadata": {
        "id": "br6d-NBkRHIc"
      },
      "source": [
        "np.save('/content/gdrive/My Drive/data/save_X_test',X_test)"
      ],
      "execution_count": 56,
      "outputs": []
    },
    {
      "cell_type": "code",
      "metadata": {
        "id": "tc-0YExsRHPs"
      },
      "source": [
        "np.save('/content/gdrive/My Drive/data/save_Y_test',y_test)"
      ],
      "execution_count": 57,
      "outputs": []
    },
    {
      "cell_type": "code",
      "metadata": {
        "id": "HtSWDoQp0sjx"
      },
      "source": [
        "\n",
        "\n",
        "X_train=np.load('/content/gdrive/My Drive/data/save_X.npy')\n",
        "y_train=np.load('/content/gdrive/My Drive/data/save_Y.npy')\n",
        "X_test=np.load('/content/gdrive/My Drive/data/save_X_test.npy')\n",
        "y_test=np.load('/content/gdrive/My Drive/data/save_Y_test.npy')\n"
      ],
      "execution_count": 21,
      "outputs": []
    },
    {
      "cell_type": "code",
      "metadata": {
        "colab": {
          "base_uri": "https://localhost:8080/"
        },
        "id": "6snap29Pd3Ld",
        "outputId": "40f5327a-a260-4c6c-d337-899ee94492f7"
      },
      "source": [
        " \n",
        "\n",
        "model = Sequential()\n",
        "model.add(ConvLSTM2D(filters = 32, kernel_size = (3, 3), strides = (2,2), return_sequences = True, data_format = \"channels_last\", input_shape = (seq_len, img_height, img_width, 3)))\n",
        "\n",
        "model.add(ConvLSTM2D(filters = 32, kernel_size = (3, 3), strides = (2,2), return_sequences =  True, data_format = \"channels_last\"))\n",
        "model.add(Dropout(0.3))\n",
        "\n",
        "model.add(ConvLSTM2D(filters = 64, kernel_size = (3, 3), strides = (2,2), return_sequences =  True, data_format = \"channels_last\"))\n",
        "model.add(Dropout(0.3))\n",
        "\n",
        "\n",
        "model.add(ConvLSTM2D(filters = 128, kernel_size = (3, 3), strides = (2,2), return_sequences = False, data_format = \"channels_last\"))\n",
        "\n",
        "\n",
        "\n",
        "\n",
        "\n",
        "model.add(Flatten())\n",
        "model.add(Dense(512, activation=\"relu\"))\n",
        "model.add(Dropout(0.4))\n",
        "model.add(Dense(7, activation = \"softmax\"))\n",
        "\n",
        "\n",
        " \n",
        "model.summary()"
      ],
      "execution_count": 22,
      "outputs": [
        {
          "output_type": "stream",
          "text": [
            "Model: \"sequential_1\"\n",
            "_________________________________________________________________\n",
            "Layer (type)                 Output Shape              Param #   \n",
            "=================================================================\n",
            "conv_lst_m2d_4 (ConvLSTM2D)  (None, 16, 31, 31, 32)    40448     \n",
            "_________________________________________________________________\n",
            "conv_lst_m2d_5 (ConvLSTM2D)  (None, 16, 15, 15, 32)    73856     \n",
            "_________________________________________________________________\n",
            "dropout_3 (Dropout)          (None, 16, 15, 15, 32)    0         \n",
            "_________________________________________________________________\n",
            "conv_lst_m2d_6 (ConvLSTM2D)  (None, 16, 7, 7, 64)      221440    \n",
            "_________________________________________________________________\n",
            "dropout_4 (Dropout)          (None, 16, 7, 7, 64)      0         \n",
            "_________________________________________________________________\n",
            "conv_lst_m2d_7 (ConvLSTM2D)  (None, 3, 3, 128)         885248    \n",
            "_________________________________________________________________\n",
            "flatten_1 (Flatten)          (None, 1152)              0         \n",
            "_________________________________________________________________\n",
            "dense_2 (Dense)              (None, 512)               590336    \n",
            "_________________________________________________________________\n",
            "dropout_5 (Dropout)          (None, 512)               0         \n",
            "_________________________________________________________________\n",
            "dense_3 (Dense)              (None, 7)                 3591      \n",
            "=================================================================\n",
            "Total params: 1,814,919\n",
            "Trainable params: 1,814,919\n",
            "Non-trainable params: 0\n",
            "_________________________________________________________________\n"
          ],
          "name": "stdout"
        }
      ]
    },
    {
      "cell_type": "code",
      "metadata": {
        "colab": {
          "base_uri": "https://localhost:8080/"
        },
        "id": "wEcWT8p_hBmy",
        "outputId": "596fedd3-acb5-45fe-c56e-5b95872c6d68"
      },
      "source": [
        "\n",
        "opt = tensorflow.keras.optimizers.Adam(lr=0.001)\n",
        "model.compile(loss='categorical_crossentropy', optimizer=opt, metrics=[\"accuracy\"])\n",
        " \n",
        "earlystop = EarlyStopping(patience=10)\n",
        "callbacks = [earlystop]\n",
        " \n",
        "history = model.fit(x = X_train, y = y_train, epochs=20, batch_size = 32, shuffle=True, validation_split=0.4, callbacks=callbacks) #validation split 조절\n",
        "\n",
        "y_pred = model.predict(X_test) \n",
        "y_pred = np.argmax(y_pred, axis = 1)\n",
        "y_test = np.argmax(y_test, axis = 1)\n",
        " \n",
        "print(classification_report(y_test, y_pred))"
      ],
      "execution_count": 23,
      "outputs": [
        {
          "output_type": "stream",
          "text": [
            "/usr/local/lib/python3.7/dist-packages/keras/optimizer_v2/optimizer_v2.py:356: UserWarning: The `lr` argument is deprecated, use `learning_rate` instead.\n",
            "  \"The `lr` argument is deprecated, use `learning_rate` instead.\")\n"
          ],
          "name": "stderr"
        },
        {
          "output_type": "stream",
          "text": [
            "Epoch 1/20\n",
            "19/19 [==============================] - 228s 12s/step - loss: 1.9139 - accuracy: 0.2353 - val_loss: 1.8604 - val_accuracy: 0.2217\n",
            "Epoch 2/20\n",
            "19/19 [==============================] - 216s 11s/step - loss: 1.8332 - accuracy: 0.2437 - val_loss: 1.8684 - val_accuracy: 0.2217\n",
            "Epoch 3/20\n",
            "19/19 [==============================] - 211s 11s/step - loss: 1.8339 - accuracy: 0.2857 - val_loss: 1.8276 - val_accuracy: 0.2393\n",
            "Epoch 4/20\n",
            "19/19 [==============================] - 215s 11s/step - loss: 1.7690 - accuracy: 0.3008 - val_loss: 1.7065 - val_accuracy: 0.3375\n",
            "Epoch 5/20\n",
            "19/19 [==============================] - 209s 11s/step - loss: 1.6947 - accuracy: 0.3513 - val_loss: 1.6529 - val_accuracy: 0.3703\n",
            "Epoch 6/20\n",
            "19/19 [==============================] - 211s 11s/step - loss: 1.5796 - accuracy: 0.4185 - val_loss: 1.6690 - val_accuracy: 0.3401\n",
            "Epoch 7/20\n",
            "19/19 [==============================] - 215s 11s/step - loss: 1.4984 - accuracy: 0.4420 - val_loss: 1.5102 - val_accuracy: 0.4559\n",
            "Epoch 8/20\n",
            "19/19 [==============================] - 210s 11s/step - loss: 1.2045 - accuracy: 0.5681 - val_loss: 1.6795 - val_accuracy: 0.4232\n",
            "Epoch 9/20\n",
            "19/19 [==============================] - 207s 11s/step - loss: 0.8522 - accuracy: 0.6975 - val_loss: 2.0232 - val_accuracy: 0.4156\n",
            "Epoch 10/20\n",
            "19/19 [==============================] - 212s 11s/step - loss: 0.5576 - accuracy: 0.8084 - val_loss: 1.9163 - val_accuracy: 0.4559\n",
            "Epoch 11/20\n",
            "19/19 [==============================] - 207s 11s/step - loss: 0.2749 - accuracy: 0.8975 - val_loss: 2.2639 - val_accuracy: 0.4635\n",
            "Epoch 12/20\n",
            "19/19 [==============================] - 210s 11s/step - loss: 0.1164 - accuracy: 0.9647 - val_loss: 2.3579 - val_accuracy: 0.4635\n",
            "Epoch 13/20\n",
            "19/19 [==============================] - 211s 11s/step - loss: 0.0987 - accuracy: 0.9714 - val_loss: 2.7216 - val_accuracy: 0.4635\n",
            "Epoch 14/20\n",
            "19/19 [==============================] - 211s 11s/step - loss: 0.1102 - accuracy: 0.9664 - val_loss: 2.6583 - val_accuracy: 0.4584\n",
            "Epoch 15/20\n",
            "19/19 [==============================] - 210s 11s/step - loss: 0.0748 - accuracy: 0.9731 - val_loss: 3.1171 - val_accuracy: 0.4207\n",
            "Epoch 16/20\n",
            "19/19 [==============================] - 211s 11s/step - loss: 0.0549 - accuracy: 0.9832 - val_loss: 3.1290 - val_accuracy: 0.4257\n",
            "Epoch 17/20\n",
            "19/19 [==============================] - 214s 11s/step - loss: 0.0619 - accuracy: 0.9765 - val_loss: 2.9611 - val_accuracy: 0.4761\n",
            "              precision    recall  f1-score   support\n",
            "\n",
            "           0       0.44      0.36      0.39        42\n",
            "           1       0.42      0.47      0.44        45\n",
            "           2       0.33      0.24      0.28        21\n",
            "           3       0.44      0.33      0.38        21\n",
            "           4       0.31      0.54      0.40        50\n",
            "           5       0.58      0.33      0.42        21\n",
            "           6       0.50      0.37      0.42        49\n",
            "\n",
            "    accuracy                           0.40       249\n",
            "   macro avg       0.43      0.38      0.39       249\n",
            "weighted avg       0.43      0.40      0.40       249\n",
            "\n"
          ],
          "name": "stdout"
        }
      ]
    },
    {
      "cell_type": "code",
      "metadata": {
        "id": "c8UBGj_hSAXS"
      },
      "source": [
        "checkpoint_path = \"/content/gdrive/My Drive/data/training_1/cp.ckpt\"\n",
        "checkpoint_dir = os.path.dirname(checkpoint_path)\n",
        "\n",
        "# 모델의 가중치를 저장하는 콜백 만들기\n",
        "cp_callback = tf.keras.callbacks.ModelCheckpoint(filepath=checkpoint_path,\n",
        "                                                 save_weights_only=True,\n",
        "                                                 verbose=1)\n",
        "\n",
        "# 새로운 콜백으로 모델 훈련하기\n",
        "###model.compile(loss='categorical_crossentropy', optimizer=opt, metrics=[\"accuracy\"])\n",
        "\n",
        "#model.fit(x = X_train, y = y_train, epochs=10, batch_size = 32, shuffle=True, validation_split=0.2, callbacks=callbacks) #validation split 조절\n",
        "\n",
        "     # 콜백을 훈련에 전달합니다"
      ],
      "execution_count": 28,
      "outputs": []
    },
    {
      "cell_type": "code",
      "metadata": {
        "colab": {
          "base_uri": "https://localhost:8080/",
          "height": 279
        },
        "id": "EZJy5b0nSJ1t",
        "outputId": "30896588-7e08-45ec-d770-d2a21000b0ba"
      },
      "source": [
        "import matplotlib.pyplot as plt\n",
        "plt.plot(history.history['loss'])\n",
        "plt.plot(history.history['val_loss'])\n",
        "plt.plot(history.history['accuracy'])\n",
        "plt.plot(history.history['val_accuracy'])\n",
        "\n",
        "plt.xlabel('epoch')\n",
        "plt.ylabel('loss')\n",
        "plt.legend(['train','val','acc','val_acc'])\n",
        "plt.show()"
      ],
      "execution_count": 29,
      "outputs": [
        {
          "output_type": "display_data",
          "data": {
            "image/png": "[encoded data removed]",
            "text/plain": [
              "<Figure size 432x288 with 1 Axes>"
            ]
          },
          "metadata": {
            "tags": [],
            "needs_background": "light"
          }
        }
      ]
    },
    {
      "cell_type": "code",
      "metadata": {
        "id": "YgX6Gb9DsDzz"
      },
      "source": [
        ""
      ],
      "execution_count": null,
      "outputs": []
    }
  ]
}
