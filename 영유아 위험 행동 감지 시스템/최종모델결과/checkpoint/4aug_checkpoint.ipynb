{
  "nbformat": 4,
  "nbformat_minor": 0,
  "metadata": {
    "colab": {
      "name": "제대로된코드_4배_4번_2_checkpoint.ipynb",
      "provenance": [],
      "collapsed_sections": [],
      "machine_shape": "hm"
    },
    "kernelspec": {
      "display_name": "Python 3",
      "name": "python3"
    },
    "language_info": {
      "name": "python"
    }
  },
  "cells": [
    {
      "cell_type": "code",
      "metadata": {
        "id": "FW50_EVu_8Qh",
        "colab": {
          "base_uri": "https://localhost:8080/"
        },
        "outputId": "2006fdab-35e8-44eb-9efb-36559db4cdc9"
      },
      "source": [
        "!pip install vidaug\n",
        "import tensorflow as tf\n",
        "import tensorflow.keras\n",
        "from tensorflow.keras import applications\n",
        "from tensorflow.keras.preprocessing.image import ImageDataGenerator\n",
        "# from keras import optimizers\n",
        "from tensorflow.keras.models import Sequential, Model \n",
        "from tensorflow.keras.layers import *\n",
        "from tensorflow.keras.callbacks import ModelCheckpoint, LearningRateScheduler, TensorBoard, EarlyStopping\n",
        "import os\n",
        "import cv2\n",
        "import numpy as np\n",
        "from sklearn.model_selection import train_test_split\n",
        "# import keras_metrics as km\n",
        "# from keras import regularizers, optimizers\n",
        "from tensorflow.keras.callbacks import ModelCheckpoint\n",
        "from sklearn.metrics import precision_score\n",
        "from sklearn.metrics import recall_score\n",
        "from sklearn.metrics import f1_score\n",
        "from sklearn.metrics import cohen_kappa_score\n",
        "from sklearn.metrics import roc_auc_score\n",
        "from sklearn.metrics import multilabel_confusion_matrix\n",
        "from sklearn.metrics import accuracy_score\n",
        "import math\n",
        "import vidaug.augmentors as va\n",
        "from sklearn.utils import shuffle"
      ],
      "execution_count": null,
      "outputs": [
        {
          "output_type": "stream",
          "text": [
            "Collecting vidaug\n",
            "  Downloading vidaug-1.5-py3-none-any.whl (13 kB)\n",
            "Installing collected packages: vidaug\n",
            "Successfully installed vidaug-1.5\n"
          ],
          "name": "stdout"
        }
      ]
    },
    {
      "cell_type": "code",
      "metadata": {
        "id": "KLavRlaT_9Cf"
      },
      "source": [
        "data_dir = \"/content/drive/MyDrive/video_data\"\n",
        "img_height , img_width = 64, 64\n",
        "seq_len = 16"
      ],
      "execution_count": null,
      "outputs": []
    },
    {
      "cell_type": "code",
      "metadata": {
        "colab": {
          "base_uri": "https://localhost:8080/"
        },
        "id": "wbqgzGXp_9GL",
        "outputId": "e7cfe4dd-e13f-4e2e-dc55-7fd63513bf9f"
      },
      "source": [
        "from google.colab import drive\n",
        "drive.mount('/content/drive')"
      ],
      "execution_count": null,
      "outputs": [
        {
          "output_type": "stream",
          "text": [
            "Mounted at /content/drive\n"
          ],
          "name": "stdout"
        }
      ]
    },
    {
      "cell_type": "code",
      "metadata": {
        "id": "nYmXq2Om_9Je"
      },
      "source": [
        "classes = [\"fall_down\", \"grab\", \"swallow\", \"walk\",\"sit\",\"climb\",'eat']"
      ],
      "execution_count": null,
      "outputs": []
    },
    {
      "cell_type": "code",
      "metadata": {
        "id": "opzT9QhX_9Md"
      },
      "source": [
        "def frames_extraction(video_path):\n",
        "    frames_list = []\n",
        "     \n",
        "    vidcap = cv2.VideoCapture(video_path)\n",
        "    total_frames = vidcap.get(cv2.CAP_PROP_FRAME_COUNT)\n",
        "\n",
        "    frames_step = total_frames//seq_len\n",
        " \n",
        "    for j in range(seq_len):\n",
        "        #here, we set the parameter 1 which is the frame number to the frame (i*frames_step)\n",
        "        vidcap.set(1,j*frames_step)\n",
        "        success,image = vidcap.read()  \n",
        "        #save your image\n",
        "        if success:\n",
        "          image = cv2.resize(image, (img_height, img_width))\n",
        "          frames_list.append(image)\n",
        "        else:\n",
        "          print(\"Defected frame {}\".format(video_path))\n",
        "          break\n",
        "\n",
        "    return frames_list"
      ],
      "execution_count": null,
      "outputs": []
    },
    {
      "cell_type": "code",
      "metadata": {
        "id": "lHNlh_4g_9Pd"
      },
      "source": [
        "def create_data(input_dir):\n",
        "    X = []\n",
        "    Y = []\n",
        "\n",
        "    sometimes = lambda aug: va.Sometimes(1, aug) # Used to apply augmentor with 100% probability\n",
        "    \n",
        "    seq_1 = va.Sequential([ \n",
        "        sometimes(va.HorizontalFlip()),\n",
        "    ])\n",
        "    seq_2 = va.Sequential([\n",
        "        sometimes(va.RandomShear(0.2,0.2)),\n",
        "    ])\n",
        "    seq_3 = va.Sequential([\n",
        "        sometimes(va.RandomTranslate(10,10)),\n",
        "    ])\n",
        "    classes_list = os.listdir(input_dir)\n",
        "     \n",
        "    for c in classes_list:\n",
        "        print(c)\n",
        "        files_list = os.listdir(os.path.join(input_dir, c))\n",
        "        for f in files_list:\n",
        "            frames = frames_extraction(os.path.join(os.path.join(input_dir, c), f))\n",
        "            if len(frames) == seq_len:\n",
        "                X.append(frames)\n",
        "                X.append(seq_1(frames))\n",
        "                X.append(seq_2(frames))\n",
        "                X.append(seq_2(seq_1(frames)))\n",
        "                X.append(seq_3(frames))\n",
        "                X.append(seq_3(seq_1(frames)))\n",
        "                y = [0]*len(classes)\n",
        "                y[classes.index(c)] = 1\n",
        "                Y.append(y)\n",
        "                Y.append(y)\n",
        "                Y.append(y)\n",
        "                Y.append(y)\n",
        "                Y.append(y)\n",
        "                Y.append(y)\n",
        "\n",
        "\n",
        "    X = np.asarray(X)\n",
        "    Y = np.asarray(Y)\n",
        "    return X, Y"
      ],
      "execution_count": null,
      "outputs": []
    },
    {
      "cell_type": "code",
      "metadata": {
        "colab": {
          "base_uri": "https://localhost:8080/"
        },
        "id": "If4myzoj_9Sj",
        "outputId": "e3ade779-7513-4f86-e6f4-b82bfe3fff5a"
      },
      "source": [
        "X, Y = create_data(data_dir)\n",
        "X = X/255\n",
        "print(len(X))\n",
        "# X_train, X_test, y_train, y_test = train_test_split(X, Y, test_size=0.20, shuffle=True, random_state=0)"
      ],
      "execution_count": null,
      "outputs": [
        {
          "output_type": "stream",
          "text": [
            "walk\n",
            "Defected frame /content/drive/MyDrive/video_data/walk/135.mov\n",
            "Defected frame /content/drive/MyDrive/video_data/walk/143.mov\n",
            "Defected frame /content/drive/MyDrive/video_data/walk/101.mov\n",
            "fall_down\n",
            "Defected frame /content/drive/MyDrive/video_data/fall_down/145.mov\n",
            "Defected frame /content/drive/MyDrive/video_data/fall_down/143.mov\n",
            "Defected frame /content/drive/MyDrive/video_data/fall_down/172.mov\n",
            "Defected frame /content/drive/MyDrive/video_data/fall_down/21.mov\n",
            "Defected frame /content/drive/MyDrive/video_data/fall_down/26.mov\n",
            "Defected frame /content/drive/MyDrive/video_data/fall_down/46.mov\n",
            "Defected frame /content/drive/MyDrive/video_data/fall_down/52.mov\n",
            "Defected frame /content/drive/MyDrive/video_data/fall_down/57.mov\n",
            "Defected frame /content/drive/MyDrive/video_data/fall_down/81.mov\n",
            "swallow\n",
            "Defected frame /content/drive/MyDrive/video_data/swallow/47.mov\n",
            "Defected frame /content/drive/MyDrive/video_data/swallow/70.mov\n",
            "Defected frame /content/drive/MyDrive/video_data/swallow/79_crop (online-video-cutter.com).mp4\n",
            "Defected frame /content/drive/MyDrive/video_data/swallow/80 (online-video-cutter.com).mp4\n",
            "Defected frame /content/drive/MyDrive/video_data/swallow/81_crop (online-video-cutter.com).mp4\n",
            "Defected frame /content/drive/MyDrive/video_data/swallow/82_crop (online-video-cutter.com).mp4\n",
            "Defected frame /content/drive/MyDrive/video_data/swallow/83_crop (online-video-cutter.com).mp4\n",
            "Defected frame /content/drive/MyDrive/video_data/swallow/212_1 (online-video-cutter.com).mp4\n",
            "grab\n",
            "Defected frame /content/drive/MyDrive/video_data/grab/98_crop (online-video-cutter.com).mp4\n",
            "Defected frame /content/drive/MyDrive/video_data/grab/99 (online-video-cutter.com).mp4\n",
            "Defected frame /content/drive/MyDrive/video_data/grab/102_crop (online-video-cutter.com).mp4\n",
            "Defected frame /content/drive/MyDrive/video_data/grab/103_crop (online-video-cutter.com).mp4\n",
            "Defected frame /content/drive/MyDrive/video_data/grab/106_crop (online-video-cutter.com).mp4\n",
            "Defected frame /content/drive/MyDrive/video_data/grab/109_crop (online-video-cutter.com).mp4\n",
            "Defected frame /content/drive/MyDrive/video_data/grab/110_crop (online-video-cutter.com).mp4\n",
            "Defected frame /content/drive/MyDrive/video_data/grab/112_crop (online-video-cutter.com).mp4\n",
            "Defected frame /content/drive/MyDrive/video_data/grab/113 (online-video-cutter.com).mp4\n",
            "Defected frame /content/drive/MyDrive/video_data/grab/115 (online-video-cutter.com).mp4\n",
            "Defected frame /content/drive/MyDrive/video_data/grab/116 (online-video-cutter.com).mp4\n",
            "Defected frame /content/drive/MyDrive/video_data/grab/156 (online-video-cutter.com).mp4\n",
            "Defected frame /content/drive/MyDrive/video_data/grab/172_crop (online-video-cutter.com).mp4\n",
            "Defected frame /content/drive/MyDrive/video_data/grab/201_crop (online-video-cutter.com) (1).mp4\n",
            "Defected frame /content/drive/MyDrive/video_data/grab/222_crop (online-video-cutter.com).mp4\n",
            "Defected frame /content/drive/MyDrive/video_data/grab/262_1 (online-video-cutter.com).mp4\n",
            "climb\n",
            "sit\n",
            "eat\n",
            "Defected frame /content/drive/MyDrive/video_data/eat/194.mov\n",
            "Defected frame /content/drive/MyDrive/video_data/eat/160.mov\n",
            "10692\n"
          ],
          "name": "stdout"
        }
      ]
    },
    {
      "cell_type": "code",
      "metadata": {
        "id": "cY2WFH-D4fIR"
      },
      "source": [
        "# import numpy as np\n",
        "# np.save('/content/drive/MyDrive/data/save_X_six',X)\n",
        "# np.save('/content/drive/MyDrive/data/save_Y_six',Y)"
      ],
      "execution_count": null,
      "outputs": []
    },
    {
      "cell_type": "code",
      "metadata": {
        "id": "HkfuqGihbGkG"
      },
      "source": [
        "X_=np.load('/content/drive/MyDrive/data/save_X_flip_shear.npy')\n",
        "Y_=np.load('/content/drive/MyDrive/data/save_Y_flip_shear.npy')\n",
        "# X_train, y_train = train_test_split(X_, Y_, test_size=0.2, shuffle=True, random_state=36)\n",
        "# del X_\n",
        "# del Y_\n",
        "X_, Y_ = shuffle(X_,Y_, random_state = 36)"
      ],
      "execution_count": null,
      "outputs": []
    },
    {
      "cell_type": "code",
      "metadata": {
        "id": "jcNIK5Kt_9V8",
        "colab": {
          "base_uri": "https://localhost:8080/"
        },
        "outputId": "995ca587-5901-4308-d0d4-9b656581ebc2"
      },
      "source": [
        "model = Sequential()\n",
        "\n",
        "model.add(ConvLSTM2D(filters = 32, kernel_size = (3, 3),strides = (2,2), return_sequences = True, input_shape = (seq_len, img_height, img_width, 3)))\n",
        "model.add(tf.keras.layers.BatchNormalization())\n",
        "model.add(tf.keras.layers.Activation('tanh'))\n",
        "model.add(ConvLSTM2D(filters = 32, kernel_size = (3, 3),strides = (2,2), return_sequences = True))\n",
        "model.add(tf.keras.layers.BatchNormalization())\n",
        "model.add(tf.keras.layers.Activation('tanh'))\n",
        "model.add(ConvLSTM2D(filters = 64, kernel_size = (3, 3),strides = (2,2), return_sequences = True))\n",
        "model.add(tf.keras.layers.BatchNormalization())\n",
        "model.add(tf.keras.layers.Activation('tanh'))\n",
        "model.add(ConvLSTM2D(filters = 128, kernel_size = (3, 3),strides = (2,2), return_sequences = False))\n",
        "model.add(tf.keras.layers.BatchNormalization())\n",
        "model.add(tf.keras.layers.Activation('tanh'))\n",
        "\n",
        "\n",
        "model.add(Flatten())\n",
        "model.add(Dense(512, activation=\"relu\"))\n",
        "model.add(Dropout(0.5))\n",
        "model.add(Dense(7, activation = \"softmax\"))\n",
        " \n",
        "model.summary()"
      ],
      "execution_count": null,
      "outputs": [
        {
          "output_type": "stream",
          "text": [
            "Model: \"sequential\"\n",
            "_________________________________________________________________\n",
            "Layer (type)                 Output Shape              Param #   \n",
            "=================================================================\n",
            "conv_lst_m2d (ConvLSTM2D)    (None, 16, 31, 31, 32)    40448     \n",
            "_________________________________________________________________\n",
            "batch_normalization (BatchNo (None, 16, 31, 31, 32)    128       \n",
            "_________________________________________________________________\n",
            "activation (Activation)      (None, 16, 31, 31, 32)    0         \n",
            "_________________________________________________________________\n",
            "conv_lst_m2d_1 (ConvLSTM2D)  (None, 16, 15, 15, 32)    73856     \n",
            "_________________________________________________________________\n",
            "batch_normalization_1 (Batch (None, 16, 15, 15, 32)    128       \n",
            "_________________________________________________________________\n",
            "activation_1 (Activation)    (None, 16, 15, 15, 32)    0         \n",
            "_________________________________________________________________\n",
            "conv_lst_m2d_2 (ConvLSTM2D)  (None, 16, 7, 7, 64)      221440    \n",
            "_________________________________________________________________\n",
            "batch_normalization_2 (Batch (None, 16, 7, 7, 64)      256       \n",
            "_________________________________________________________________\n",
            "activation_2 (Activation)    (None, 16, 7, 7, 64)      0         \n",
            "_________________________________________________________________\n",
            "conv_lst_m2d_3 (ConvLSTM2D)  (None, 3, 3, 128)         885248    \n",
            "_________________________________________________________________\n",
            "batch_normalization_3 (Batch (None, 3, 3, 128)         512       \n",
            "_________________________________________________________________\n",
            "activation_3 (Activation)    (None, 3, 3, 128)         0         \n",
            "_________________________________________________________________\n",
            "flatten (Flatten)            (None, 1152)              0         \n",
            "_________________________________________________________________\n",
            "dense (Dense)                (None, 512)               590336    \n",
            "_________________________________________________________________\n",
            "dropout (Dropout)            (None, 512)               0         \n",
            "_________________________________________________________________\n",
            "dense_1 (Dense)              (None, 7)                 3591      \n",
            "=================================================================\n",
            "Total params: 1,815,943\n",
            "Trainable params: 1,815,431\n",
            "Non-trainable params: 512\n",
            "_________________________________________________________________\n"
          ],
          "name": "stdout"
        }
      ]
    },
    {
      "cell_type": "code",
      "metadata": {
        "id": "-90KNEiL_9cV",
        "colab": {
          "base_uri": "https://localhost:8080/",
          "height": 1000
        },
        "outputId": "7d269a0f-376c-407b-8caf-3d2027ce84f2"
      },
      "source": [
        "opt = tf.keras.optimizers.Adam(lr=0.0005)\n",
        "model.compile(loss='categorical_crossentropy', optimizer=opt, metrics=[\"accuracy\"])\n",
        "\n",
        "EPOCH = 40\n",
        "BATCH_SIZE = 128\n",
        "\n",
        "# earlystop = EarlyStopping(monitor='val_loss', mode='min', verbose=1, patience=5)\n",
        "# callbacks = tf.keras.callbacks.LearningRateScheduler(schedular)\n",
        "\n",
        "filename = '/content/drive/MyDrive/model/checkpoint-epoch-{}-batch-{}-4aug-4batch.h5'.format(EPOCH, BATCH_SIZE)\n",
        "checkpoint = ModelCheckpoint(filename, monitor='val_loss', verbose=1, save_best_only=True, mode='auto')\n",
        "\n",
        "history = model.fit(x = X_, y = Y_, epochs=EPOCH, batch_size=BATCH_SIZE, shuffle=True, validation_split=0.2, callbacks=[checkpoint])\n",
        "\n",
        "import matplotlib.pyplot as plt\n",
        "plt.plot(history.history['loss'])\n",
        "plt.plot(history.history['val_loss'])\n",
        "plt.plot(history.history['accuracy'])\n",
        "plt.plot(history.history['val_accuracy'])\n",
        "plt.xlabel('epoch')\n",
        "plt.ylabel('loss')\n",
        "plt.legend(['train', 'val','accuracy','val_accuracy'])\n",
        "plt.show()\n"
      ],
      "execution_count": null,
      "outputs": [
        {
          "output_type": "stream",
          "text": [
            "/usr/local/lib/python3.7/dist-packages/keras/optimizer_v2/optimizer_v2.py:356: UserWarning: The `lr` argument is deprecated, use `learning_rate` instead.\n",
            "  \"The `lr` argument is deprecated, use `learning_rate` instead.\")\n"
          ],
          "name": "stderr"
        },
        {
          "output_type": "stream",
          "text": [
            "Epoch 1/40\n",
            "45/45 [==============================] - 894s 20s/step - loss: 1.8312 - accuracy: 0.3029 - val_loss: 1.9697 - val_accuracy: 0.1634\n",
            "\n",
            "Epoch 00001: val_loss improved from inf to 1.96970, saving model to /content/drive/MyDrive/model/checkpoint-epoch-40-batch-128-4aug-4batch.h5\n",
            "Epoch 2/40\n",
            "45/45 [==============================] - 905s 20s/step - loss: 1.3720 - accuracy: 0.4725 - val_loss: 2.7369 - val_accuracy: 0.1634\n",
            "\n",
            "Epoch 00002: val_loss did not improve from 1.96970\n",
            "Epoch 3/40\n",
            "45/45 [==============================] - 890s 20s/step - loss: 1.0405 - accuracy: 0.6087 - val_loss: 3.5453 - val_accuracy: 0.1634\n",
            "\n",
            "Epoch 00003: val_loss did not improve from 1.96970\n",
            "Epoch 4/40\n",
            "45/45 [==============================] - 904s 20s/step - loss: 0.8082 - accuracy: 0.6989 - val_loss: 3.5118 - val_accuracy: 0.1648\n",
            "\n",
            "Epoch 00004: val_loss did not improve from 1.96970\n",
            "Epoch 5/40\n",
            "45/45 [==============================] - 882s 20s/step - loss: 0.5977 - accuracy: 0.7901 - val_loss: 5.1007 - val_accuracy: 0.1809\n",
            "\n",
            "Epoch 00005: val_loss did not improve from 1.96970\n",
            "Epoch 6/40\n",
            "45/45 [==============================] - 886s 20s/step - loss: 0.3962 - accuracy: 0.8706 - val_loss: 4.0594 - val_accuracy: 0.2504\n",
            "\n",
            "Epoch 00006: val_loss did not improve from 1.96970\n",
            "Epoch 7/40\n",
            "45/45 [==============================] - 887s 20s/step - loss: 0.2400 - accuracy: 0.9281 - val_loss: 3.7894 - val_accuracy: 0.2819\n",
            "\n",
            "Epoch 00007: val_loss did not improve from 1.96970\n",
            "Epoch 8/40\n",
            "45/45 [==============================] - 896s 20s/step - loss: 0.1600 - accuracy: 0.9558 - val_loss: 2.6241 - val_accuracy: 0.3808\n",
            "\n",
            "Epoch 00008: val_loss did not improve from 1.96970\n",
            "Epoch 9/40\n",
            "45/45 [==============================] - 892s 20s/step - loss: 0.1128 - accuracy: 0.9667 - val_loss: 1.5956 - val_accuracy: 0.5701\n",
            "\n",
            "Epoch 00009: val_loss improved from 1.96970 to 1.59563, saving model to /content/drive/MyDrive/model/checkpoint-epoch-40-batch-128-4aug-4batch.h5\n",
            "Epoch 10/40\n",
            "45/45 [==============================] - 892s 20s/step - loss: 0.0806 - accuracy: 0.9760 - val_loss: 1.5240 - val_accuracy: 0.5982\n",
            "\n",
            "Epoch 00010: val_loss improved from 1.59563 to 1.52401, saving model to /content/drive/MyDrive/model/checkpoint-epoch-40-batch-128-4aug-4batch.h5\n",
            "Epoch 11/40\n",
            "45/45 [==============================] - 892s 20s/step - loss: 0.0558 - accuracy: 0.9888 - val_loss: 1.2355 - val_accuracy: 0.6746\n",
            "\n",
            "Epoch 00011: val_loss improved from 1.52401 to 1.23550, saving model to /content/drive/MyDrive/model/checkpoint-epoch-40-batch-128-4aug-4batch.h5\n",
            "Epoch 12/40\n",
            "45/45 [==============================] - 883s 20s/step - loss: 0.0396 - accuracy: 0.9891 - val_loss: 1.1965 - val_accuracy: 0.6865\n",
            "\n",
            "Epoch 00012: val_loss improved from 1.23550 to 1.19647, saving model to /content/drive/MyDrive/model/checkpoint-epoch-40-batch-128-4aug-4batch.h5\n",
            "Epoch 13/40\n",
            "45/45 [==============================] - 898s 20s/step - loss: 0.0375 - accuracy: 0.9916 - val_loss: 1.1830 - val_accuracy: 0.6914\n",
            "\n",
            "Epoch 00013: val_loss improved from 1.19647 to 1.18301, saving model to /content/drive/MyDrive/model/checkpoint-epoch-40-batch-128-4aug-4batch.h5\n",
            "Epoch 14/40\n",
            "45/45 [==============================] - 910s 20s/step - loss: 0.0329 - accuracy: 0.9921 - val_loss: 1.0782 - val_accuracy: 0.7237\n",
            "\n",
            "Epoch 00014: val_loss improved from 1.18301 to 1.07819, saving model to /content/drive/MyDrive/model/checkpoint-epoch-40-batch-128-4aug-4batch.h5\n",
            "Epoch 15/40\n",
            "45/45 [==============================] - 920s 20s/step - loss: 0.0358 - accuracy: 0.9902 - val_loss: 1.1585 - val_accuracy: 0.7055\n",
            "\n",
            "Epoch 00015: val_loss did not improve from 1.07819\n",
            "Epoch 16/40\n",
            "45/45 [==============================] - 909s 20s/step - loss: 0.0346 - accuracy: 0.9895 - val_loss: 1.1955 - val_accuracy: 0.6999\n",
            "\n",
            "Epoch 00016: val_loss did not improve from 1.07819\n",
            "Epoch 17/40\n",
            "45/45 [==============================] - 893s 20s/step - loss: 0.0475 - accuracy: 0.9853 - val_loss: 1.4734 - val_accuracy: 0.6417\n",
            "\n",
            "Epoch 00017: val_loss did not improve from 1.07819\n",
            "Epoch 18/40\n",
            "45/45 [==============================] - 888s 20s/step - loss: 0.0664 - accuracy: 0.9774 - val_loss: 1.2127 - val_accuracy: 0.6893\n",
            "\n",
            "Epoch 00018: val_loss did not improve from 1.07819\n",
            "Epoch 19/40\n",
            "45/45 [==============================] - 899s 20s/step - loss: 0.0997 - accuracy: 0.9693 - val_loss: 2.1618 - val_accuracy: 0.5505\n",
            "\n",
            "Epoch 00019: val_loss did not improve from 1.07819\n",
            "Epoch 20/40\n",
            "45/45 [==============================] - 911s 20s/step - loss: 0.0959 - accuracy: 0.9647 - val_loss: 1.1512 - val_accuracy: 0.6935\n",
            "\n",
            "Epoch 00020: val_loss did not improve from 1.07819\n",
            "Epoch 21/40\n",
            "45/45 [==============================] - 901s 20s/step - loss: 0.0736 - accuracy: 0.9769 - val_loss: 1.3896 - val_accuracy: 0.6795\n",
            "\n",
            "Epoch 00021: val_loss did not improve from 1.07819\n",
            "Epoch 22/40\n",
            "45/45 [==============================] - 897s 20s/step - loss: 0.0420 - accuracy: 0.9863 - val_loss: 1.1612 - val_accuracy: 0.7251\n",
            "\n",
            "Epoch 00022: val_loss did not improve from 1.07819\n",
            "Epoch 23/40\n",
            "45/45 [==============================] - 890s 20s/step - loss: 0.0232 - accuracy: 0.9939 - val_loss: 1.2294 - val_accuracy: 0.7146\n",
            "\n",
            "Epoch 00023: val_loss did not improve from 1.07819\n",
            "Epoch 24/40\n",
            "45/45 [==============================] - 890s 20s/step - loss: 0.0198 - accuracy: 0.9946 - val_loss: 1.2629 - val_accuracy: 0.7041\n",
            "\n",
            "Epoch 00024: val_loss did not improve from 1.07819\n",
            "Epoch 25/40\n",
            "45/45 [==============================] - 887s 20s/step - loss: 0.0198 - accuracy: 0.9949 - val_loss: 1.2952 - val_accuracy: 0.7160\n",
            "\n",
            "Epoch 00025: val_loss did not improve from 1.07819\n",
            "Epoch 26/40\n",
            "45/45 [==============================] - 879s 20s/step - loss: 0.0185 - accuracy: 0.9937 - val_loss: 1.3432 - val_accuracy: 0.7069\n",
            "\n",
            "Epoch 00026: val_loss did not improve from 1.07819\n",
            "Epoch 27/40\n",
            "45/45 [==============================] - 882s 20s/step - loss: 0.0150 - accuracy: 0.9960 - val_loss: 1.2709 - val_accuracy: 0.7153\n",
            "\n",
            "Epoch 00027: val_loss did not improve from 1.07819\n",
            "Epoch 28/40\n",
            "45/45 [==============================] - 900s 20s/step - loss: 0.0103 - accuracy: 0.9970 - val_loss: 1.2803 - val_accuracy: 0.7083\n",
            "\n",
            "Epoch 00028: val_loss did not improve from 1.07819\n",
            "Epoch 29/40\n",
            "45/45 [==============================] - 887s 20s/step - loss: 0.0074 - accuracy: 0.9981 - val_loss: 1.2435 - val_accuracy: 0.7272\n",
            "\n",
            "Epoch 00029: val_loss did not improve from 1.07819\n",
            "Epoch 30/40\n",
            "45/45 [==============================] - 878s 20s/step - loss: 0.0048 - accuracy: 0.9981 - val_loss: 1.2759 - val_accuracy: 0.7321\n",
            "\n",
            "Epoch 00030: val_loss did not improve from 1.07819\n",
            "Epoch 31/40\n",
            "45/45 [==============================] - 887s 20s/step - loss: 0.0058 - accuracy: 0.9979 - val_loss: 1.2279 - val_accuracy: 0.7405\n",
            "\n",
            "Epoch 00031: val_loss did not improve from 1.07819\n",
            "Epoch 32/40\n",
            "45/45 [==============================] - 925s 21s/step - loss: 0.0047 - accuracy: 0.9982 - val_loss: 1.2518 - val_accuracy: 0.7405\n",
            "\n",
            "Epoch 00032: val_loss did not improve from 1.07819\n",
            "Epoch 33/40\n",
            "45/45 [==============================] - 909s 20s/step - loss: 0.0056 - accuracy: 0.9977 - val_loss: 1.3021 - val_accuracy: 0.7230\n",
            "\n",
            "Epoch 00033: val_loss did not improve from 1.07819\n",
            "Epoch 34/40\n",
            "45/45 [==============================] - 888s 20s/step - loss: 0.0052 - accuracy: 0.9981 - val_loss: 1.2305 - val_accuracy: 0.7377\n",
            "\n",
            "Epoch 00034: val_loss did not improve from 1.07819\n",
            "Epoch 35/40\n",
            "45/45 [==============================] - 886s 20s/step - loss: 0.0043 - accuracy: 0.9979 - val_loss: 1.2622 - val_accuracy: 0.7419\n",
            "\n",
            "Epoch 00035: val_loss did not improve from 1.07819\n",
            "Epoch 36/40\n",
            "45/45 [==============================] - 886s 20s/step - loss: 0.0038 - accuracy: 0.9981 - val_loss: 1.2415 - val_accuracy: 0.7419\n",
            "\n",
            "Epoch 00036: val_loss did not improve from 1.07819\n",
            "Epoch 37/40\n",
            "45/45 [==============================] - 903s 20s/step - loss: 0.0035 - accuracy: 0.9984 - val_loss: 1.2150 - val_accuracy: 0.7328\n",
            "\n",
            "Epoch 00037: val_loss did not improve from 1.07819\n",
            "Epoch 38/40\n",
            "45/45 [==============================] - 890s 20s/step - loss: 0.0037 - accuracy: 0.9984 - val_loss: 1.2212 - val_accuracy: 0.7405\n",
            "\n",
            "Epoch 00038: val_loss did not improve from 1.07819\n",
            "Epoch 39/40\n",
            "45/45 [==============================] - 904s 20s/step - loss: 0.0041 - accuracy: 0.9981 - val_loss: 1.2437 - val_accuracy: 0.7377\n",
            "\n",
            "Epoch 00039: val_loss did not improve from 1.07819\n",
            "Epoch 40/40\n",
            "45/45 [==============================] - 882s 20s/step - loss: 0.0045 - accuracy: 0.9977 - val_loss: 1.2470 - val_accuracy: 0.7489\n",
            "\n",
            "Epoch 00040: val_loss did not improve from 1.07819\n"
          ],
          "name": "stdout"
        },
        {
          "output_type": "display_data",
          "data": {
            "image/png": "[encoded data removed]",
            "text/plain": [
              "<Figure size 432x288 with 1 Axes>"
            ]
          },
          "metadata": {
            "needs_background": "light"
          }
        }
      ]
    },
    {
      "cell_type": "code",
      "metadata": {
        "id": "MQvaOR6l_9f6"
      },
      "source": [
        "from sklearn.metrics import classification_report\n",
        "from sklearn.metrics import accuracy_score\n",
        "y_pred = model.predict(X_test) \n",
        "y_pred = np.argmax(y_pred, axis = 1)\n",
        "y_test = np.argmax(y_test, axis = 1)\n",
        " \n",
        "print(classification_report(y_test, y_pred))\n",
        "\n",
        "print('accuracy score : {}'.format(accuracy_score(y_pred, y_test)))\n"
      ],
      "execution_count": null,
      "outputs": []
    },
    {
      "cell_type": "code",
      "metadata": {
        "id": "Pld5XtLH_9jC"
      },
      "source": [
        ""
      ],
      "execution_count": null,
      "outputs": []
    },
    {
      "cell_type": "code",
      "metadata": {
        "id": "RC0rMH9k_9tb"
      },
      "source": [
        ""
      ],
      "execution_count": null,
      "outputs": []
    }
  ]
}
