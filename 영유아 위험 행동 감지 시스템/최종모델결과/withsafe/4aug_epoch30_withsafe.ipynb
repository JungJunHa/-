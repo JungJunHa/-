{
  "nbformat": 4,
  "nbformat_minor": 0,
  "metadata": {
    "colab": {
      "name": "4aug_epoch30_withsafe.ipynb",
      "provenance": [],
      "collapsed_sections": [],
      "machine_shape": "hm"
    },
    "kernelspec": {
      "display_name": "Python 3",
      "name": "python3"
    },
    "language_info": {
      "name": "python"
    }
  },
  "cells": [
    {
      "cell_type": "code",
      "metadata": {
        "id": "FW50_EVu_8Qh",
        "colab": {
          "base_uri": "https://localhost:8080/"
        },
        "outputId": "d066724d-e26c-4401-911a-6ef517178bb5"
      },
      "source": [
        "!pip install vidaug\n",
        "import tensorflow as tf\n",
        "import tensorflow.keras\n",
        "from tensorflow.keras import applications\n",
        "from tensorflow.keras.preprocessing.image import ImageDataGenerator\n",
        "# from keras import optimizers\n",
        "from tensorflow.keras.models import Sequential, Model \n",
        "from tensorflow.keras.layers import *\n",
        "from tensorflow.keras.callbacks import ModelCheckpoint, LearningRateScheduler, TensorBoard, EarlyStopping\n",
        "import os\n",
        "import cv2\n",
        "import numpy as np\n",
        "from sklearn.model_selection import train_test_split\n",
        "# import keras_metrics as km\n",
        "# from keras import regularizers, optimizers\n",
        "from tensorflow.keras.callbacks import ModelCheckpoint\n",
        "from sklearn.metrics import precision_score\n",
        "from sklearn.metrics import recall_score\n",
        "from sklearn.metrics import f1_score\n",
        "from sklearn.metrics import cohen_kappa_score\n",
        "from sklearn.metrics import roc_auc_score\n",
        "from sklearn.metrics import multilabel_confusion_matrix\n",
        "from sklearn.metrics import accuracy_score\n",
        "import math\n",
        "import vidaug.augmentors as va\n",
        "from sklearn.utils import shuffle"
      ],
      "execution_count": 1,
      "outputs": [
        {
          "output_type": "stream",
          "text": [
            "Collecting vidaug\n",
            "  Downloading vidaug-1.5-py3-none-any.whl (13 kB)\n",
            "Installing collected packages: vidaug\n",
            "Successfully installed vidaug-1.5\n"
          ],
          "name": "stdout"
        }
      ]
    },
    {
      "cell_type": "code",
      "metadata": {
        "id": "KLavRlaT_9Cf"
      },
      "source": [
        "data_dir = \"/content/drive/MyDrive/video_data\"\n",
        "img_height , img_width = 64, 64\n",
        "seq_len = 16"
      ],
      "execution_count": 2,
      "outputs": []
    },
    {
      "cell_type": "code",
      "metadata": {
        "colab": {
          "base_uri": "https://localhost:8080/"
        },
        "id": "wbqgzGXp_9GL",
        "outputId": "0c25d8ba-516e-42d2-b91e-c6a5fef51643"
      },
      "source": [
        "from google.colab import drive\n",
        "drive.mount('/content/drive')"
      ],
      "execution_count": 3,
      "outputs": [
        {
          "output_type": "stream",
          "text": [
            "Mounted at /content/drive\n"
          ],
          "name": "stdout"
        }
      ]
    },
    {
      "cell_type": "code",
      "metadata": {
        "id": "nYmXq2Om_9Je"
      },
      "source": [
        "classes = [\"fall_down\", \"grab\", \"swallow\", \"walk\",\"sit\",\"climb\",'eat','safe']"
      ],
      "execution_count": 4,
      "outputs": []
    },
    {
      "cell_type": "code",
      "metadata": {
        "id": "opzT9QhX_9Md"
      },
      "source": [
        "def frames_extraction(video_path):\n",
        "    frames_list = []\n",
        "     \n",
        "    vidcap = cv2.VideoCapture(video_path)\n",
        "    total_frames = vidcap.get(cv2.CAP_PROP_FRAME_COUNT)\n",
        "\n",
        "    frames_step = total_frames//seq_len\n",
        " \n",
        "    for j in range(seq_len):\n",
        "        #here, we set the parameter 1 which is the frame number to the frame (i*frames_step)\n",
        "        vidcap.set(1,j*frames_step)\n",
        "        success,image = vidcap.read()  \n",
        "        #save your image\n",
        "        if success:\n",
        "          image = cv2.resize(image, (img_height, img_width))\n",
        "          frames_list.append(image)\n",
        "        else:\n",
        "          print(\"Defected frame {}\".format(video_path))\n",
        "          break\n",
        "\n",
        "    return frames_list"
      ],
      "execution_count": null,
      "outputs": []
    },
    {
      "cell_type": "code",
      "metadata": {
        "id": "lHNlh_4g_9Pd"
      },
      "source": [
        "def create_data(input_dir):\n",
        "    X = []\n",
        "    Y = []\n",
        "\n",
        "    sometimes = lambda aug: va.Sometimes(1, aug) # Used to apply augmentor with 100% probability\n",
        "    \n",
        "    seq_1 = va.Sequential([ \n",
        "        sometimes(va.HorizontalFlip()),\n",
        "    ])\n",
        "    seq_2 = va.Sequential([\n",
        "        sometimes(va.RandomShear(0.2,0.2)),\n",
        "    ])\n",
        "    seq_3 = va.Sequential([\n",
        "        sometimes(va.RandomTranslate(10,10)),\n",
        "    ])\n",
        "    classes_list = os.listdir(input_dir)\n",
        "     \n",
        "    for c in classes_list:\n",
        "        print(c)\n",
        "        files_list = os.listdir(os.path.join(input_dir, c))\n",
        "        for f in files_list:\n",
        "            frames = frames_extraction(os.path.join(os.path.join(input_dir, c), f))\n",
        "            if len(frames) == seq_len:\n",
        "                X.append(frames)\n",
        "                X.append(seq_1(frames))\n",
        "                X.append(seq_2(frames))\n",
        "                X.append(seq_2(seq_1(frames)))\n",
        "                X.append(seq_3(frames))\n",
        "                X.append(seq_3(seq_1(frames)))\n",
        "                y = [0]*len(classes)\n",
        "                y[classes.index(c)] = 1\n",
        "                Y.append(y)\n",
        "                Y.append(y)\n",
        "                Y.append(y)\n",
        "                Y.append(y)\n",
        "                Y.append(y)\n",
        "                Y.append(y)\n",
        "\n",
        "\n",
        "    X = np.asarray(X)\n",
        "    Y = np.asarray(Y)\n",
        "    return X, Y"
      ],
      "execution_count": null,
      "outputs": []
    },
    {
      "cell_type": "code",
      "metadata": {
        "colab": {
          "base_uri": "https://localhost:8080/"
        },
        "id": "If4myzoj_9Sj",
        "outputId": "e3ade779-7513-4f86-e6f4-b82bfe3fff5a"
      },
      "source": [
        "X, Y = create_data(data_dir)\n",
        "X = X/255\n",
        "print(len(X))\n",
        "# X_train, X_test, y_train, y_test = train_test_split(X, Y, test_size=0.20, shuffle=True, random_state=0)"
      ],
      "execution_count": null,
      "outputs": [
        {
          "output_type": "stream",
          "text": [
            "walk\n",
            "Defected frame /content/drive/MyDrive/video_data/walk/135.mov\n",
            "Defected frame /content/drive/MyDrive/video_data/walk/143.mov\n",
            "Defected frame /content/drive/MyDrive/video_data/walk/101.mov\n",
            "fall_down\n",
            "Defected frame /content/drive/MyDrive/video_data/fall_down/145.mov\n",
            "Defected frame /content/drive/MyDrive/video_data/fall_down/143.mov\n",
            "Defected frame /content/drive/MyDrive/video_data/fall_down/172.mov\n",
            "Defected frame /content/drive/MyDrive/video_data/fall_down/21.mov\n",
            "Defected frame /content/drive/MyDrive/video_data/fall_down/26.mov\n",
            "Defected frame /content/drive/MyDrive/video_data/fall_down/46.mov\n",
            "Defected frame /content/drive/MyDrive/video_data/fall_down/52.mov\n",
            "Defected frame /content/drive/MyDrive/video_data/fall_down/57.mov\n",
            "Defected frame /content/drive/MyDrive/video_data/fall_down/81.mov\n",
            "swallow\n",
            "Defected frame /content/drive/MyDrive/video_data/swallow/47.mov\n",
            "Defected frame /content/drive/MyDrive/video_data/swallow/70.mov\n",
            "Defected frame /content/drive/MyDrive/video_data/swallow/79_crop (online-video-cutter.com).mp4\n",
            "Defected frame /content/drive/MyDrive/video_data/swallow/80 (online-video-cutter.com).mp4\n",
            "Defected frame /content/drive/MyDrive/video_data/swallow/81_crop (online-video-cutter.com).mp4\n",
            "Defected frame /content/drive/MyDrive/video_data/swallow/82_crop (online-video-cutter.com).mp4\n",
            "Defected frame /content/drive/MyDrive/video_data/swallow/83_crop (online-video-cutter.com).mp4\n",
            "Defected frame /content/drive/MyDrive/video_data/swallow/212_1 (online-video-cutter.com).mp4\n",
            "grab\n",
            "Defected frame /content/drive/MyDrive/video_data/grab/98_crop (online-video-cutter.com).mp4\n",
            "Defected frame /content/drive/MyDrive/video_data/grab/99 (online-video-cutter.com).mp4\n",
            "Defected frame /content/drive/MyDrive/video_data/grab/102_crop (online-video-cutter.com).mp4\n",
            "Defected frame /content/drive/MyDrive/video_data/grab/103_crop (online-video-cutter.com).mp4\n",
            "Defected frame /content/drive/MyDrive/video_data/grab/106_crop (online-video-cutter.com).mp4\n",
            "Defected frame /content/drive/MyDrive/video_data/grab/109_crop (online-video-cutter.com).mp4\n",
            "Defected frame /content/drive/MyDrive/video_data/grab/110_crop (online-video-cutter.com).mp4\n",
            "Defected frame /content/drive/MyDrive/video_data/grab/112_crop (online-video-cutter.com).mp4\n",
            "Defected frame /content/drive/MyDrive/video_data/grab/113 (online-video-cutter.com).mp4\n",
            "Defected frame /content/drive/MyDrive/video_data/grab/115 (online-video-cutter.com).mp4\n",
            "Defected frame /content/drive/MyDrive/video_data/grab/116 (online-video-cutter.com).mp4\n",
            "Defected frame /content/drive/MyDrive/video_data/grab/156 (online-video-cutter.com).mp4\n",
            "Defected frame /content/drive/MyDrive/video_data/grab/172_crop (online-video-cutter.com).mp4\n",
            "Defected frame /content/drive/MyDrive/video_data/grab/201_crop (online-video-cutter.com) (1).mp4\n",
            "Defected frame /content/drive/MyDrive/video_data/grab/222_crop (online-video-cutter.com).mp4\n",
            "Defected frame /content/drive/MyDrive/video_data/grab/262_1 (online-video-cutter.com).mp4\n",
            "climb\n",
            "sit\n",
            "eat\n",
            "Defected frame /content/drive/MyDrive/video_data/eat/194.mov\n",
            "Defected frame /content/drive/MyDrive/video_data/eat/160.mov\n",
            "10692\n"
          ],
          "name": "stdout"
        }
      ]
    },
    {
      "cell_type": "code",
      "metadata": {
        "id": "cY2WFH-D4fIR"
      },
      "source": [
        "# import numpy as np\n",
        "# np.save('/content/drive/MyDrive/data/save_X_six',X)\n",
        "# np.save('/content/drive/MyDrive/data/save_Y_six',Y)"
      ],
      "execution_count": null,
      "outputs": []
    },
    {
      "cell_type": "code",
      "metadata": {
        "id": "HkfuqGihbGkG"
      },
      "source": [
        "X=np.load('/content/drive/MyDrive/data/save_X_flip_shear_withsafe.npy')\n",
        "Y=np.load('/content/drive/MyDrive/data/save_Y_flip_shear_withsafe.npy')\n",
        "# X_train, y_train = train_test_split(X_, Y_, test_size=0.2, shuffle=True, random_state=36)\n",
        "# del X_\n",
        "# del Y_\n",
        "X, Y = shuffle(X,Y, random_state = 36)"
      ],
      "execution_count": 5,
      "outputs": []
    },
    {
      "cell_type": "code",
      "metadata": {
        "id": "jcNIK5Kt_9V8",
        "colab": {
          "base_uri": "https://localhost:8080/"
        },
        "outputId": "e5bb2a3b-65d2-4ce8-f526-d8b036bf8d72"
      },
      "source": [
        "model = Sequential()\n",
        "\n",
        "model.add(ConvLSTM2D(filters = 32, kernel_size = (3, 3),strides = (2,2), return_sequences = True, input_shape = (seq_len, img_height, img_width, 3)))\n",
        "model.add(tf.keras.layers.BatchNormalization())\n",
        "model.add(tf.keras.layers.Activation('tanh'))\n",
        "model.add(ConvLSTM2D(filters = 32, kernel_size = (3, 3),strides = (2,2), return_sequences = True))\n",
        "model.add(tf.keras.layers.BatchNormalization())\n",
        "model.add(tf.keras.layers.Activation('tanh'))\n",
        "model.add(ConvLSTM2D(filters = 64, kernel_size = (3, 3),strides = (2,2), return_sequences = True))\n",
        "model.add(tf.keras.layers.BatchNormalization())\n",
        "model.add(tf.keras.layers.Activation('tanh'))\n",
        "model.add(ConvLSTM2D(filters = 128, kernel_size = (3, 3),strides = (2,2), return_sequences = False))\n",
        "model.add(tf.keras.layers.BatchNormalization())\n",
        "model.add(tf.keras.layers.Activation('tanh'))\n",
        "\n",
        "\n",
        "model.add(Flatten())\n",
        "model.add(Dense(512, activation=\"relu\"))\n",
        "model.add(Dropout(0.5))\n",
        "model.add(Dense(8, activation = \"softmax\"))\n",
        " \n",
        "model.summary()"
      ],
      "execution_count": 6,
      "outputs": [
        {
          "output_type": "stream",
          "text": [
            "Model: \"sequential\"\n",
            "_________________________________________________________________\n",
            "Layer (type)                 Output Shape              Param #   \n",
            "=================================================================\n",
            "conv_lst_m2d (ConvLSTM2D)    (None, 16, 31, 31, 32)    40448     \n",
            "_________________________________________________________________\n",
            "batch_normalization (BatchNo (None, 16, 31, 31, 32)    128       \n",
            "_________________________________________________________________\n",
            "activation (Activation)      (None, 16, 31, 31, 32)    0         \n",
            "_________________________________________________________________\n",
            "conv_lst_m2d_1 (ConvLSTM2D)  (None, 16, 15, 15, 32)    73856     \n",
            "_________________________________________________________________\n",
            "batch_normalization_1 (Batch (None, 16, 15, 15, 32)    128       \n",
            "_________________________________________________________________\n",
            "activation_1 (Activation)    (None, 16, 15, 15, 32)    0         \n",
            "_________________________________________________________________\n",
            "conv_lst_m2d_2 (ConvLSTM2D)  (None, 16, 7, 7, 64)      221440    \n",
            "_________________________________________________________________\n",
            "batch_normalization_2 (Batch (None, 16, 7, 7, 64)      256       \n",
            "_________________________________________________________________\n",
            "activation_2 (Activation)    (None, 16, 7, 7, 64)      0         \n",
            "_________________________________________________________________\n",
            "conv_lst_m2d_3 (ConvLSTM2D)  (None, 3, 3, 128)         885248    \n",
            "_________________________________________________________________\n",
            "batch_normalization_3 (Batch (None, 3, 3, 128)         512       \n",
            "_________________________________________________________________\n",
            "activation_3 (Activation)    (None, 3, 3, 128)         0         \n",
            "_________________________________________________________________\n",
            "flatten (Flatten)            (None, 1152)              0         \n",
            "_________________________________________________________________\n",
            "dense (Dense)                (None, 512)               590336    \n",
            "_________________________________________________________________\n",
            "dropout (Dropout)            (None, 512)               0         \n",
            "_________________________________________________________________\n",
            "dense_1 (Dense)              (None, 8)                 4104      \n",
            "=================================================================\n",
            "Total params: 1,816,456\n",
            "Trainable params: 1,815,944\n",
            "Non-trainable params: 512\n",
            "_________________________________________________________________\n"
          ],
          "name": "stdout"
        }
      ]
    },
    {
      "cell_type": "code",
      "metadata": {
        "id": "QUXho8s8_9ZC"
      },
      "source": [
        "def schedular(epoch):\n",
        "  if epoch < 10:\n",
        "    return 0.001\n",
        "  else:\n",
        "    return 0.001 * math.exp(0.1*(10-epoch))"
      ],
      "execution_count": 7,
      "outputs": []
    },
    {
      "cell_type": "code",
      "metadata": {
        "id": "-90KNEiL_9cV",
        "colab": {
          "base_uri": "https://localhost:8080/",
          "height": 1000
        },
        "outputId": "b78f2c6e-35fe-4ef5-dd62-6cf04c086eb9"
      },
      "source": [
        "opt = tf.keras.optimizers.Adam(lr=0.0005)\n",
        "model.compile(loss='categorical_crossentropy', optimizer=opt, metrics=[\"accuracy\"])\n",
        " \n",
        "earlystop = EarlyStopping(monitor='val_loss', mode='min', verbose=1, patience=5)\n",
        "callbacks = tf.keras.callbacks.LearningRateScheduler(schedular)\n",
        " \n",
        "history = model.fit(x = X, y = Y, epochs=30, batch_size = 128, shuffle=True, validation_split=0.2, callbacks=callbacks)\n",
        "\n",
        "import matplotlib.pyplot as plt\n",
        "plt.plot(history.history['loss'])\n",
        "plt.plot(history.history['val_loss'])\n",
        "plt.plot(history.history['accuracy'])\n",
        "plt.plot(history.history['val_accuracy'])\n",
        "plt.xlabel('epoch')\n",
        "plt.ylabel('loss')\n",
        "plt.legend(['train', 'val','accuracy','val_accuracy'])\n",
        "plt.show()\n"
      ],
      "execution_count": 9,
      "outputs": [
        {
          "output_type": "stream",
          "text": [
            "/usr/local/lib/python3.7/dist-packages/keras/optimizer_v2/optimizer_v2.py:356: UserWarning: The `lr` argument is deprecated, use `learning_rate` instead.\n",
            "  \"The `lr` argument is deprecated, use `learning_rate` instead.\")\n"
          ],
          "name": "stderr"
        },
        {
          "output_type": "stream",
          "text": [
            "Epoch 1/30\n",
            "45/45 [==============================] - 783s 17s/step - loss: 1.8430 - accuracy: 0.3057 - val_loss: 1.8937 - val_accuracy: 0.2118\n",
            "Epoch 2/30\n",
            "45/45 [==============================] - 780s 17s/step - loss: 1.4545 - accuracy: 0.4476 - val_loss: 2.0120 - val_accuracy: 0.2335\n",
            "Epoch 3/30\n",
            "45/45 [==============================] - 775s 17s/step - loss: 1.1674 - accuracy: 0.5612 - val_loss: 4.1214 - val_accuracy: 0.1760\n",
            "Epoch 4/30\n",
            "45/45 [==============================] - 782s 17s/step - loss: 0.8817 - accuracy: 0.6687 - val_loss: 4.5283 - val_accuracy: 0.2118\n",
            "Epoch 5/30\n",
            "45/45 [==============================] - 773s 17s/step - loss: 0.6160 - accuracy: 0.7766 - val_loss: 2.8797 - val_accuracy: 0.2595\n",
            "Epoch 6/30\n",
            "45/45 [==============================] - 768s 17s/step - loss: 0.4031 - accuracy: 0.8558 - val_loss: 3.0392 - val_accuracy: 0.3668\n",
            "Epoch 7/30\n",
            "45/45 [==============================] - 781s 17s/step - loss: 0.2543 - accuracy: 0.9153 - val_loss: 2.6455 - val_accuracy: 0.3962\n",
            "Epoch 8/30\n",
            "45/45 [==============================] - 779s 17s/step - loss: 0.1576 - accuracy: 0.9497 - val_loss: 1.8511 - val_accuracy: 0.5505\n",
            "Epoch 9/30\n",
            "45/45 [==============================] - 783s 17s/step - loss: 0.1342 - accuracy: 0.9574 - val_loss: 1.3047 - val_accuracy: 0.6269\n",
            "Epoch 10/30\n",
            "45/45 [==============================] - 783s 17s/step - loss: 0.1037 - accuracy: 0.9681 - val_loss: 1.3381 - val_accuracy: 0.6592\n",
            "Epoch 11/30\n",
            "45/45 [==============================] - 789s 18s/step - loss: 0.0990 - accuracy: 0.9695 - val_loss: 1.1660 - val_accuracy: 0.7055\n",
            "Epoch 12/30\n",
            "45/45 [==============================] - 784s 17s/step - loss: 0.0734 - accuracy: 0.9776 - val_loss: 0.9803 - val_accuracy: 0.7265\n",
            "Epoch 13/30\n",
            "45/45 [==============================] - 822s 18s/step - loss: 0.0475 - accuracy: 0.9863 - val_loss: 0.8935 - val_accuracy: 0.7560\n",
            "Epoch 14/30\n",
            "45/45 [==============================] - 807s 18s/step - loss: 0.0311 - accuracy: 0.9930 - val_loss: 0.9056 - val_accuracy: 0.7756\n",
            "Epoch 15/30\n",
            "45/45 [==============================] - 788s 18s/step - loss: 0.0180 - accuracy: 0.9949 - val_loss: 0.8380 - val_accuracy: 0.7924\n",
            "Epoch 16/30\n",
            "45/45 [==============================] - 787s 18s/step - loss: 0.0152 - accuracy: 0.9953 - val_loss: 0.9398 - val_accuracy: 0.7763\n",
            "Epoch 17/30\n",
            "45/45 [==============================] - 787s 18s/step - loss: 0.0116 - accuracy: 0.9968 - val_loss: 0.8047 - val_accuracy: 0.8093\n",
            "Epoch 18/30\n",
            "45/45 [==============================] - 783s 17s/step - loss: 0.0088 - accuracy: 0.9974 - val_loss: 0.8087 - val_accuracy: 0.8086\n",
            "Epoch 19/30\n",
            "45/45 [==============================] - 795s 18s/step - loss: 0.0070 - accuracy: 0.9975 - val_loss: 0.8064 - val_accuracy: 0.8100\n",
            "Epoch 20/30\n",
            "45/45 [==============================] - 795s 18s/step - loss: 0.0077 - accuracy: 0.9963 - val_loss: 0.8130 - val_accuracy: 0.8093\n",
            "Epoch 21/30\n",
            "45/45 [==============================] - 795s 18s/step - loss: 0.0047 - accuracy: 0.9986 - val_loss: 0.8096 - val_accuracy: 0.8086\n",
            "Epoch 22/30\n",
            "45/45 [==============================] - 785s 17s/step - loss: 0.0044 - accuracy: 0.9984 - val_loss: 0.7960 - val_accuracy: 0.8114\n",
            "Epoch 23/30\n",
            "45/45 [==============================] - 784s 17s/step - loss: 0.0044 - accuracy: 0.9979 - val_loss: 0.8067 - val_accuracy: 0.8191\n",
            "Epoch 24/30\n",
            "45/45 [==============================] - 785s 17s/step - loss: 0.0042 - accuracy: 0.9986 - val_loss: 0.7976 - val_accuracy: 0.8184\n",
            "Epoch 25/30\n",
            "45/45 [==============================] - 777s 17s/step - loss: 0.0052 - accuracy: 0.9979 - val_loss: 0.8010 - val_accuracy: 0.8184\n",
            "Epoch 26/30\n",
            "45/45 [==============================] - 776s 17s/step - loss: 0.0038 - accuracy: 0.9982 - val_loss: 0.8109 - val_accuracy: 0.8191\n",
            "Epoch 27/30\n",
            "45/45 [==============================] - 779s 17s/step - loss: 0.0042 - accuracy: 0.9982 - val_loss: 0.8154 - val_accuracy: 0.8191\n",
            "Epoch 28/30\n",
            "45/45 [==============================] - 785s 17s/step - loss: 0.0046 - accuracy: 0.9981 - val_loss: 0.8118 - val_accuracy: 0.8177\n",
            "Epoch 29/30\n",
            "45/45 [==============================] - 790s 18s/step - loss: 0.0041 - accuracy: 0.9977 - val_loss: 0.8161 - val_accuracy: 0.8170\n",
            "Epoch 30/30\n",
            "45/45 [==============================] - 807s 18s/step - loss: 0.0035 - accuracy: 0.9989 - val_loss: 0.8197 - val_accuracy: 0.8184\n"
          ],
          "name": "stdout"
        },
        {
          "output_type": "display_data",
          "data": {
            "image/png": "[encoded data removed]",
            "text/plain": [
              "<Figure size 432x288 with 1 Axes>"
            ]
          },
          "metadata": {
            "needs_background": "light"
          }
        }
      ]
    },
    {
      "cell_type": "code",
      "metadata": {
        "id": "Pld5XtLH_9jC"
      },
      "source": [
        "model.save('/content/drive/MyDrive/model/4aug_epoch30_withsafe.h5')"
      ],
      "execution_count": 10,
      "outputs": []
    },
    {
      "cell_type": "code",
      "metadata": {
        "id": "MQvaOR6l_9f6"
      },
      "source": [
        "from sklearn.metrics import classification_report\n",
        "from sklearn.metrics import accuracy_score\n",
        "y_pred = model.predict(X_test) \n",
        "y_pred = np.argmax(y_pred, axis = 1)\n",
        "y_test = np.argmax(y_test, axis = 1)\n",
        " \n",
        "print(classification_report(y_test, y_pred))\n",
        "\n",
        "print('accuracy score : {}'.format(accuracy_score(y_pred, y_test)))\n"
      ],
      "execution_count": null,
      "outputs": []
    },
    {
      "cell_type": "code",
      "metadata": {
        "id": "ZCfk5lqU_9mr"
      },
      "source": [
        ""
      ],
      "execution_count": null,
      "outputs": []
    },
    {
      "cell_type": "code",
      "metadata": {
        "id": "n76YdAYL_9pz"
      },
      "source": [
        ""
      ],
      "execution_count": null,
      "outputs": []
    },
    {
      "cell_type": "code",
      "metadata": {
        "id": "RC0rMH9k_9tb"
      },
      "source": [
        ""
      ],
      "execution_count": null,
      "outputs": []
    }
  ]
}
