{
  "nbformat": 4,
  "nbformat_minor": 0,
  "metadata": {
    "colab": {
      "name": "제대로된코드_4배_4번_2.ipynb의 사본의 사본",
      "provenance": [],
      "collapsed_sections": [],
      "machine_shape": "hm"
    },
    "kernelspec": {
      "display_name": "Python 3",
      "name": "python3"
    },
    "language_info": {
      "name": "python"
    }
  },
  "cells": [
    {
      "cell_type": "code",
      "metadata": {
        "id": "FW50_EVu_8Qh",
        "colab": {
          "base_uri": "https://localhost:8080/"
        },
        "outputId": "86204375-622b-41bd-9c2f-a8e1df8c429e"
      },
      "source": [
        "!pip install vidaug\n",
        "import tensorflow as tf\n",
        "import tensorflow.keras\n",
        "from tensorflow.keras import applications\n",
        "from tensorflow.keras.preprocessing.image import ImageDataGenerator\n",
        "# from keras import optimizers\n",
        "from tensorflow.keras.models import Sequential, Model \n",
        "from tensorflow.keras.layers import *\n",
        "from tensorflow.keras.callbacks import ModelCheckpoint, LearningRateScheduler, TensorBoard, EarlyStopping\n",
        "import os\n",
        "import cv2\n",
        "import numpy as np\n",
        "from sklearn.model_selection import train_test_split\n",
        "# import keras_metrics as km\n",
        "# from keras import regularizers, optimizers\n",
        "from tensorflow.keras.callbacks import ModelCheckpoint\n",
        "from sklearn.metrics import precision_score\n",
        "from sklearn.metrics import recall_score\n",
        "from sklearn.metrics import f1_score\n",
        "from sklearn.metrics import cohen_kappa_score\n",
        "from sklearn.metrics import roc_auc_score\n",
        "from sklearn.metrics import multilabel_confusion_matrix\n",
        "from sklearn.metrics import accuracy_score\n",
        "import math\n",
        "import vidaug.augmentors as va\n",
        "from sklearn.utils import shuffle"
      ],
      "execution_count": null,
      "outputs": [
        {
          "output_type": "stream",
          "text": [
            "Collecting vidaug\n",
            "  Downloading vidaug-1.5-py3-none-any.whl (13 kB)\n",
            "Installing collected packages: vidaug\n",
            "Successfully installed vidaug-1.5\n"
          ],
          "name": "stdout"
        }
      ]
    },
    {
      "cell_type": "code",
      "metadata": {
        "id": "KLavRlaT_9Cf"
      },
      "source": [
        "data_dir = \"/content/drive/MyDrive/video_data\"\n",
        "img_height , img_width = 64, 64\n",
        "seq_len = 16"
      ],
      "execution_count": null,
      "outputs": []
    },
    {
      "cell_type": "code",
      "metadata": {
        "colab": {
          "base_uri": "https://localhost:8080/"
        },
        "id": "wbqgzGXp_9GL",
        "outputId": "8ebd18b3-281f-446a-ae27-4dfb09fd19ef"
      },
      "source": [
        "from google.colab import drive\n",
        "drive.mount('/content/drive')"
      ],
      "execution_count": null,
      "outputs": [
        {
          "output_type": "stream",
          "text": [
            "Mounted at /content/drive\n"
          ],
          "name": "stdout"
        }
      ]
    },
    {
      "cell_type": "code",
      "metadata": {
        "id": "nYmXq2Om_9Je"
      },
      "source": [
        "classes = [\"fall_down\", \"grab\", \"swallow\", \"walk\",\"sit\",\"climb\",'eat']"
      ],
      "execution_count": null,
      "outputs": []
    },
    {
      "cell_type": "code",
      "metadata": {
        "id": "opzT9QhX_9Md"
      },
      "source": [
        "def frames_extraction(video_path):\n",
        "    frames_list = []\n",
        "     \n",
        "    vidcap = cv2.VideoCapture(video_path)\n",
        "    total_frames = vidcap.get(cv2.CAP_PROP_FRAME_COUNT)\n",
        "\n",
        "    frames_step = total_frames//seq_len\n",
        " \n",
        "    for j in range(seq_len):\n",
        "        #here, we set the parameter 1 which is the frame number to the frame (i*frames_step)\n",
        "        vidcap.set(1,j*frames_step)\n",
        "        success,image = vidcap.read()  \n",
        "        #save your image\n",
        "        if success:\n",
        "          image = cv2.resize(image, (img_height, img_width))\n",
        "          frames_list.append(image)\n",
        "        else:\n",
        "          print(\"Defected frame {}\".format(video_path))\n",
        "          break\n",
        "\n",
        "    return frames_list"
      ],
      "execution_count": null,
      "outputs": []
    },
    {
      "cell_type": "code",
      "metadata": {
        "id": "lHNlh_4g_9Pd"
      },
      "source": [
        "def create_data(input_dir):\n",
        "    X = []\n",
        "    Y = []\n",
        "\n",
        "    sometimes = lambda aug: va.Sometimes(1, aug) # Used to apply augmentor with 100% probability\n",
        "    \n",
        "    seq_1 = va.Sequential([ \n",
        "        sometimes(va.HorizontalFlip()),\n",
        "    ])\n",
        "    seq_2 = va.Sequential([\n",
        "        sometimes(va.RandomShear(0.2,0.2)),\n",
        "    ])\n",
        "    seq_3 = va.Sequential([\n",
        "        sometimes(va.RandomTranslate(10,10)),\n",
        "    ])\n",
        "    classes_list = os.listdir(input_dir)\n",
        "     \n",
        "    for c in classes_list:\n",
        "        print(c)\n",
        "        files_list = os.listdir(os.path.join(input_dir, c))\n",
        "        for f in files_list:\n",
        "            frames = frames_extraction(os.path.join(os.path.join(input_dir, c), f))\n",
        "            if len(frames) == seq_len:\n",
        "                X.append(frames)\n",
        "                X.append(seq_1(frames))\n",
        "                X.append(seq_2(frames))\n",
        "                X.append(seq_2(seq_1(frames)))\n",
        "                X.append(seq_3(frames))\n",
        "                X.append(seq_3(seq_1(frames)))\n",
        "                y = [0]*len(classes)\n",
        "                y[classes.index(c)] = 1\n",
        "                Y.append(y)\n",
        "                Y.append(y)\n",
        "                Y.append(y)\n",
        "                Y.append(y)\n",
        "                Y.append(y)\n",
        "                Y.append(y)\n",
        "\n",
        "\n",
        "    X = np.asarray(X)\n",
        "    Y = np.asarray(Y)\n",
        "    return X, Y"
      ],
      "execution_count": null,
      "outputs": []
    },
    {
      "cell_type": "code",
      "metadata": {
        "colab": {
          "base_uri": "https://localhost:8080/"
        },
        "id": "If4myzoj_9Sj",
        "outputId": "e3ade779-7513-4f86-e6f4-b82bfe3fff5a"
      },
      "source": [
        "X, Y = create_data(data_dir)\n",
        "X = X/255\n",
        "print(len(X))\n",
        "# X_train, X_test, y_train, y_test = train_test_split(X, Y, test_size=0.20, shuffle=True, random_state=0)"
      ],
      "execution_count": null,
      "outputs": [
        {
          "output_type": "stream",
          "text": [
            "walk\n",
            "Defected frame /content/drive/MyDrive/video_data/walk/135.mov\n",
            "Defected frame /content/drive/MyDrive/video_data/walk/143.mov\n",
            "Defected frame /content/drive/MyDrive/video_data/walk/101.mov\n",
            "fall_down\n",
            "Defected frame /content/drive/MyDrive/video_data/fall_down/145.mov\n",
            "Defected frame /content/drive/MyDrive/video_data/fall_down/143.mov\n",
            "Defected frame /content/drive/MyDrive/video_data/fall_down/172.mov\n",
            "Defected frame /content/drive/MyDrive/video_data/fall_down/21.mov\n",
            "Defected frame /content/drive/MyDrive/video_data/fall_down/26.mov\n",
            "Defected frame /content/drive/MyDrive/video_data/fall_down/46.mov\n",
            "Defected frame /content/drive/MyDrive/video_data/fall_down/52.mov\n",
            "Defected frame /content/drive/MyDrive/video_data/fall_down/57.mov\n",
            "Defected frame /content/drive/MyDrive/video_data/fall_down/81.mov\n",
            "swallow\n",
            "Defected frame /content/drive/MyDrive/video_data/swallow/47.mov\n",
            "Defected frame /content/drive/MyDrive/video_data/swallow/70.mov\n",
            "Defected frame /content/drive/MyDrive/video_data/swallow/79_crop (online-video-cutter.com).mp4\n",
            "Defected frame /content/drive/MyDrive/video_data/swallow/80 (online-video-cutter.com).mp4\n",
            "Defected frame /content/drive/MyDrive/video_data/swallow/81_crop (online-video-cutter.com).mp4\n",
            "Defected frame /content/drive/MyDrive/video_data/swallow/82_crop (online-video-cutter.com).mp4\n",
            "Defected frame /content/drive/MyDrive/video_data/swallow/83_crop (online-video-cutter.com).mp4\n",
            "Defected frame /content/drive/MyDrive/video_data/swallow/212_1 (online-video-cutter.com).mp4\n",
            "grab\n",
            "Defected frame /content/drive/MyDrive/video_data/grab/98_crop (online-video-cutter.com).mp4\n",
            "Defected frame /content/drive/MyDrive/video_data/grab/99 (online-video-cutter.com).mp4\n",
            "Defected frame /content/drive/MyDrive/video_data/grab/102_crop (online-video-cutter.com).mp4\n",
            "Defected frame /content/drive/MyDrive/video_data/grab/103_crop (online-video-cutter.com).mp4\n",
            "Defected frame /content/drive/MyDrive/video_data/grab/106_crop (online-video-cutter.com).mp4\n",
            "Defected frame /content/drive/MyDrive/video_data/grab/109_crop (online-video-cutter.com).mp4\n",
            "Defected frame /content/drive/MyDrive/video_data/grab/110_crop (online-video-cutter.com).mp4\n",
            "Defected frame /content/drive/MyDrive/video_data/grab/112_crop (online-video-cutter.com).mp4\n",
            "Defected frame /content/drive/MyDrive/video_data/grab/113 (online-video-cutter.com).mp4\n",
            "Defected frame /content/drive/MyDrive/video_data/grab/115 (online-video-cutter.com).mp4\n",
            "Defected frame /content/drive/MyDrive/video_data/grab/116 (online-video-cutter.com).mp4\n",
            "Defected frame /content/drive/MyDrive/video_data/grab/156 (online-video-cutter.com).mp4\n",
            "Defected frame /content/drive/MyDrive/video_data/grab/172_crop (online-video-cutter.com).mp4\n",
            "Defected frame /content/drive/MyDrive/video_data/grab/201_crop (online-video-cutter.com) (1).mp4\n",
            "Defected frame /content/drive/MyDrive/video_data/grab/222_crop (online-video-cutter.com).mp4\n",
            "Defected frame /content/drive/MyDrive/video_data/grab/262_1 (online-video-cutter.com).mp4\n",
            "climb\n",
            "sit\n",
            "eat\n",
            "Defected frame /content/drive/MyDrive/video_data/eat/194.mov\n",
            "Defected frame /content/drive/MyDrive/video_data/eat/160.mov\n",
            "10692\n"
          ],
          "name": "stdout"
        }
      ]
    },
    {
      "cell_type": "code",
      "metadata": {
        "id": "cY2WFH-D4fIR"
      },
      "source": [
        "# import numpy as np\n",
        "# np.save('/content/drive/MyDrive/data/save_X_six',X)\n",
        "# np.save('/content/drive/MyDrive/data/save_Y_six',Y)"
      ],
      "execution_count": null,
      "outputs": []
    },
    {
      "cell_type": "code",
      "metadata": {
        "id": "HkfuqGihbGkG"
      },
      "source": [
        "X_=np.load('/content/drive/MyDrive/data/save_X_flip_shear.npy')\n",
        "Y_=np.load('/content/drive/MyDrive/data/save_Y_flip_shear.npy')\n",
        "# X_train, y_train = train_test_split(X_, Y_, test_size=0.2, shuffle=True, random_state=36)\n",
        "# del X_\n",
        "# del Y_\n",
        "X_, Y_ = shuffle(X_,Y_, random_state = 36)"
      ],
      "execution_count": null,
      "outputs": []
    },
    {
      "cell_type": "code",
      "metadata": {
        "id": "jcNIK5Kt_9V8",
        "colab": {
          "base_uri": "https://localhost:8080/"
        },
        "outputId": "4bc0945c-e16a-4610-f40f-bdd1a22a8f6b"
      },
      "source": [
        "model = Sequential()\n",
        "\n",
        "model.add(ConvLSTM2D(filters = 32, kernel_size = (3, 3),strides = (2,2), return_sequences = True, input_shape = (seq_len, img_height, img_width, 3)))\n",
        "model.add(tf.keras.layers.BatchNormalization())\n",
        "model.add(tf.keras.layers.Activation('tanh'))\n",
        "model.add(ConvLSTM2D(filters = 32, kernel_size = (3, 3),strides = (2,2), return_sequences = True))\n",
        "model.add(tf.keras.layers.BatchNormalization())\n",
        "model.add(tf.keras.layers.Activation('tanh'))\n",
        "model.add(ConvLSTM2D(filters = 64, kernel_size = (3, 3),strides = (2,2), return_sequences = True))\n",
        "model.add(tf.keras.layers.BatchNormalization())\n",
        "model.add(tf.keras.layers.Activation('tanh'))\n",
        "model.add(ConvLSTM2D(filters = 128, kernel_size = (3, 3),strides = (2,2), return_sequences = False))\n",
        "model.add(tf.keras.layers.BatchNormalization())\n",
        "model.add(tf.keras.layers.Activation('tanh'))\n",
        "\n",
        "\n",
        "model.add(Flatten())\n",
        "model.add(Dense(512, activation=\"relu\"))\n",
        "model.add(Dropout(0.5))\n",
        "model.add(Dense(7, activation = \"softmax\"))\n",
        " \n",
        "model.summary()"
      ],
      "execution_count": null,
      "outputs": [
        {
          "output_type": "stream",
          "text": [
            "Model: \"sequential\"\n",
            "_________________________________________________________________\n",
            "Layer (type)                 Output Shape              Param #   \n",
            "=================================================================\n",
            "conv_lst_m2d (ConvLSTM2D)    (None, 16, 31, 31, 32)    40448     \n",
            "_________________________________________________________________\n",
            "batch_normalization (BatchNo (None, 16, 31, 31, 32)    128       \n",
            "_________________________________________________________________\n",
            "activation (Activation)      (None, 16, 31, 31, 32)    0         \n",
            "_________________________________________________________________\n",
            "conv_lst_m2d_1 (ConvLSTM2D)  (None, 16, 15, 15, 32)    73856     \n",
            "_________________________________________________________________\n",
            "batch_normalization_1 (Batch (None, 16, 15, 15, 32)    128       \n",
            "_________________________________________________________________\n",
            "activation_1 (Activation)    (None, 16, 15, 15, 32)    0         \n",
            "_________________________________________________________________\n",
            "conv_lst_m2d_2 (ConvLSTM2D)  (None, 16, 7, 7, 64)      221440    \n",
            "_________________________________________________________________\n",
            "batch_normalization_2 (Batch (None, 16, 7, 7, 64)      256       \n",
            "_________________________________________________________________\n",
            "activation_2 (Activation)    (None, 16, 7, 7, 64)      0         \n",
            "_________________________________________________________________\n",
            "conv_lst_m2d_3 (ConvLSTM2D)  (None, 3, 3, 128)         885248    \n",
            "_________________________________________________________________\n",
            "batch_normalization_3 (Batch (None, 3, 3, 128)         512       \n",
            "_________________________________________________________________\n",
            "activation_3 (Activation)    (None, 3, 3, 128)         0         \n",
            "_________________________________________________________________\n",
            "flatten (Flatten)            (None, 1152)              0         \n",
            "_________________________________________________________________\n",
            "dense (Dense)                (None, 512)               590336    \n",
            "_________________________________________________________________\n",
            "dropout (Dropout)            (None, 512)               0         \n",
            "_________________________________________________________________\n",
            "dense_1 (Dense)              (None, 7)                 3591      \n",
            "=================================================================\n",
            "Total params: 1,815,943\n",
            "Trainable params: 1,815,431\n",
            "Non-trainable params: 512\n",
            "_________________________________________________________________\n"
          ],
          "name": "stdout"
        }
      ]
    },
    {
      "cell_type": "code",
      "metadata": {
        "id": "QUXho8s8_9ZC"
      },
      "source": [
        "def schedular(epoch):\n",
        "  if epoch < 10:\n",
        "    return 0.001\n",
        "  else:\n",
        "    return 0.001 * math.exp(0.1*(10-epoch))"
      ],
      "execution_count": null,
      "outputs": []
    },
    {
      "cell_type": "code",
      "metadata": {
        "id": "-90KNEiL_9cV",
        "colab": {
          "base_uri": "https://localhost:8080/",
          "height": 1000
        },
        "outputId": "b4703cc8-90f7-4366-8f62-1c1be7a249d1"
      },
      "source": [
        "opt = tf.keras.optimizers.Adam(lr=0.0005)\n",
        "model.compile(loss='categorical_crossentropy', optimizer=opt, metrics=[\"accuracy\"])\n",
        " \n",
        "earlystop = EarlyStopping(monitor='val_loss', mode='min', verbose=1, patience=5)\n",
        "callbacks = tf.keras.callbacks.LearningRateScheduler(schedular)\n",
        " \n",
        "history = model.fit(x = X_, y = Y_, epochs=30, batch_size = 128, shuffle=True, validation_split=0.2, callbacks=callbacks)\n",
        "\n",
        "import matplotlib.pyplot as plt\n",
        "plt.plot(history.history['loss'])\n",
        "plt.plot(history.history['val_loss'])\n",
        "plt.plot(history.history['accuracy'])\n",
        "plt.plot(history.history['val_accuracy'])\n",
        "plt.xlabel('epoch')\n",
        "plt.ylabel('loss')\n",
        "plt.legend(['train', 'val','accuracy','val_accuracy'])\n",
        "plt.show()\n"
      ],
      "execution_count": null,
      "outputs": [
        {
          "output_type": "stream",
          "text": [
            "/usr/local/lib/python3.7/dist-packages/keras/optimizer_v2/optimizer_v2.py:356: UserWarning: The `lr` argument is deprecated, use `learning_rate` instead.\n",
            "  \"The `lr` argument is deprecated, use `learning_rate` instead.\")\n"
          ],
          "name": "stderr"
        },
        {
          "output_type": "stream",
          "text": [
            "Epoch 1/30\n",
            "45/45 [==============================] - 867s 19s/step - loss: 1.8980 - accuracy: 0.3004 - val_loss: 2.0527 - val_accuracy: 0.2153\n",
            "Epoch 2/30\n",
            "45/45 [==============================] - 865s 19s/step - loss: 1.4235 - accuracy: 0.4558 - val_loss: 2.5893 - val_accuracy: 0.1823\n",
            "Epoch 3/30\n",
            "45/45 [==============================] - 871s 19s/step - loss: 1.1076 - accuracy: 0.5868 - val_loss: 2.9402 - val_accuracy: 0.1886\n",
            "Epoch 4/30\n",
            "45/45 [==============================] - 859s 19s/step - loss: 0.7968 - accuracy: 0.7020 - val_loss: 3.1117 - val_accuracy: 0.2342\n",
            "Epoch 5/30\n",
            "45/45 [==============================] - 865s 19s/step - loss: 0.5308 - accuracy: 0.8101 - val_loss: 3.2248 - val_accuracy: 0.2230\n",
            "Epoch 6/30\n",
            "45/45 [==============================] - 854s 19s/step - loss: 0.3400 - accuracy: 0.8837 - val_loss: 2.2498 - val_accuracy: 0.3717\n",
            "Epoch 7/30\n",
            "45/45 [==============================] - 863s 19s/step - loss: 0.1972 - accuracy: 0.9376 - val_loss: 1.8061 - val_accuracy: 0.4818\n",
            "Epoch 8/30\n",
            "45/45 [==============================] - 858s 19s/step - loss: 0.1276 - accuracy: 0.9637 - val_loss: 1.9432 - val_accuracy: 0.5154\n",
            "Epoch 9/30\n",
            "45/45 [==============================] - 858s 19s/step - loss: 0.1148 - accuracy: 0.9632 - val_loss: 1.3035 - val_accuracy: 0.6353\n",
            "Epoch 10/30\n",
            "45/45 [==============================] - 857s 19s/step - loss: 0.1019 - accuracy: 0.9658 - val_loss: 1.5174 - val_accuracy: 0.6031\n",
            "Epoch 11/30\n",
            "45/45 [==============================] - 857s 19s/step - loss: 0.0939 - accuracy: 0.9716 - val_loss: 1.2985 - val_accuracy: 0.6557\n",
            "Epoch 12/30\n",
            "45/45 [==============================] - 858s 19s/step - loss: 0.0561 - accuracy: 0.9840 - val_loss: 0.9280 - val_accuracy: 0.7342\n",
            "Epoch 13/30\n",
            "45/45 [==============================] - 855s 19s/step - loss: 0.0373 - accuracy: 0.9890 - val_loss: 1.0075 - val_accuracy: 0.7363\n",
            "Epoch 14/30\n",
            "45/45 [==============================] - 869s 19s/step - loss: 0.0319 - accuracy: 0.9919 - val_loss: 1.0399 - val_accuracy: 0.7412\n",
            "Epoch 15/30\n",
            "45/45 [==============================] - 874s 19s/step - loss: 0.0217 - accuracy: 0.9930 - val_loss: 0.9406 - val_accuracy: 0.7553\n",
            "Epoch 16/30\n",
            "45/45 [==============================] - 864s 19s/step - loss: 0.0130 - accuracy: 0.9965 - val_loss: 0.9525 - val_accuracy: 0.7623\n",
            "Epoch 17/30\n",
            "45/45 [==============================] - 868s 19s/step - loss: 0.0093 - accuracy: 0.9977 - val_loss: 0.8998 - val_accuracy: 0.7770\n",
            "Epoch 18/30\n",
            "45/45 [==============================] - 861s 19s/step - loss: 0.0074 - accuracy: 0.9979 - val_loss: 0.9091 - val_accuracy: 0.7742\n",
            "Epoch 19/30\n",
            "45/45 [==============================] - 857s 19s/step - loss: 0.0053 - accuracy: 0.9982 - val_loss: 0.8607 - val_accuracy: 0.7784\n",
            "Epoch 20/30\n",
            "45/45 [==============================] - 855s 19s/step - loss: 0.0058 - accuracy: 0.9981 - val_loss: 0.8552 - val_accuracy: 0.7791\n",
            "Epoch 21/30\n",
            "45/45 [==============================] - 858s 19s/step - loss: 0.0055 - accuracy: 0.9975 - val_loss: 0.8660 - val_accuracy: 0.7924\n",
            "Epoch 22/30\n",
            "45/45 [==============================] - 855s 19s/step - loss: 0.0066 - accuracy: 0.9977 - val_loss: 0.8488 - val_accuracy: 0.7917\n",
            "Epoch 23/30\n",
            "45/45 [==============================] - 858s 19s/step - loss: 0.0048 - accuracy: 0.9984 - val_loss: 0.8462 - val_accuracy: 0.7987\n",
            "Epoch 24/30\n",
            "45/45 [==============================] - 866s 19s/step - loss: 0.0035 - accuracy: 0.9982 - val_loss: 0.8685 - val_accuracy: 0.7959\n",
            "Epoch 25/30\n",
            "45/45 [==============================] - 863s 19s/step - loss: 0.0060 - accuracy: 0.9977 - val_loss: 0.8690 - val_accuracy: 0.7959\n",
            "Epoch 26/30\n",
            "45/45 [==============================] - 857s 19s/step - loss: 0.0052 - accuracy: 0.9974 - val_loss: 0.8570 - val_accuracy: 0.7959\n",
            "Epoch 27/30\n",
            "45/45 [==============================] - 860s 19s/step - loss: 0.0044 - accuracy: 0.9982 - val_loss: 0.8765 - val_accuracy: 0.7952\n",
            "Epoch 28/30\n",
            "45/45 [==============================] - 859s 19s/step - loss: 0.0041 - accuracy: 0.9979 - val_loss: 0.8626 - val_accuracy: 0.7966\n",
            "Epoch 29/30\n",
            "45/45 [==============================] - 860s 19s/step - loss: 0.0038 - accuracy: 0.9981 - val_loss: 0.8674 - val_accuracy: 0.7973\n",
            "Epoch 30/30\n",
            "45/45 [==============================] - 877s 20s/step - loss: 0.0040 - accuracy: 0.9977 - val_loss: 0.8537 - val_accuracy: 0.7980\n"
          ],
          "name": "stdout"
        },
        {
          "output_type": "display_data",
          "data": {
            "image/png": "[encoded data removed]",
            "text/plain": [
              "<Figure size 432x288 with 1 Axes>"
            ]
          },
          "metadata": {
            "needs_background": "light"
          }
        }
      ]
    },
    {
      "cell_type": "code",
      "metadata": {
        "id": "Pld5XtLH_9jC"
      },
      "source": [
        "model.save('/content/drive/MyDrive/data/4aug_epoch30.h5')\n",
        "#data로 잘못 들어갔으니 model로 옮기자"
      ],
      "execution_count": null,
      "outputs": []
    },
    {
      "cell_type": "code",
      "metadata": {
        "id": "MQvaOR6l_9f6"
      },
      "source": [
        "from sklearn.metrics import classification_report\n",
        "from sklearn.metrics import accuracy_score\n",
        "y_pred = model.predict(X_test) \n",
        "y_pred = np.argmax(y_pred, axis = 1)\n",
        "y_test = np.argmax(y_test, axis = 1)\n",
        " \n",
        "print(classification_report(y_test, y_pred))\n",
        "\n",
        "print('accuracy score : {}'.format(accuracy_score(y_pred, y_test)))\n"
      ],
      "execution_count": null,
      "outputs": []
    },
    {
      "cell_type": "code",
      "metadata": {
        "id": "ZCfk5lqU_9mr"
      },
      "source": [
        ""
      ],
      "execution_count": null,
      "outputs": []
    },
    {
      "cell_type": "code",
      "metadata": {
        "id": "n76YdAYL_9pz"
      },
      "source": [
        ""
      ],
      "execution_count": null,
      "outputs": []
    },
    {
      "cell_type": "code",
      "metadata": {
        "id": "RC0rMH9k_9tb"
      },
      "source": [
        ""
      ],
      "execution_count": null,
      "outputs": []
    }
  ]
}
