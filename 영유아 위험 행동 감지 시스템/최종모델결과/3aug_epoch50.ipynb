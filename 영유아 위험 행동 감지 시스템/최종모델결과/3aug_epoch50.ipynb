{
  "nbformat": 4,
  "nbformat_minor": 0,
  "metadata": {
    "colab": {
      "name": "제대로된코드_augmentation.ipynb",
      "provenance": [],
      "collapsed_sections": [],
      "machine_shape": "hm"
    },
    "kernelspec": {
      "display_name": "Python 3",
      "name": "python3"
    },
    "language_info": {
      "name": "python"
    }
  },
  "cells": [
    {
      "cell_type": "code",
      "metadata": {
        "id": "FW50_EVu_8Qh",
        "colab": {
          "base_uri": "https://localhost:8080/"
        },
        "outputId": "4dd53eb6-1f0f-4662-a028-63b70b0bf017"
      },
      "source": [
        "!pip install vidaug\n",
        "import tensorflow as tf\n",
        "import tensorflow.keras\n",
        "from tensorflow.keras import applications\n",
        "from tensorflow.keras.preprocessing.image import ImageDataGenerator\n",
        "# from keras import optimizers\n",
        "from tensorflow.keras.models import Sequential, Model \n",
        "from tensorflow.keras.layers import *\n",
        "from tensorflow.keras.callbacks import ModelCheckpoint, LearningRateScheduler, TensorBoard, EarlyStopping\n",
        "import os\n",
        "import cv2\n",
        "import numpy as np\n",
        "from sklearn.model_selection import train_test_split\n",
        "# import keras_metrics as km\n",
        "# from keras import regularizers, optimizers\n",
        "from tensorflow.keras.callbacks import ModelCheckpoint\n",
        "from sklearn.metrics import precision_score\n",
        "from sklearn.metrics import recall_score\n",
        "from sklearn.metrics import f1_score\n",
        "from sklearn.metrics import cohen_kappa_score\n",
        "from sklearn.metrics import roc_auc_score\n",
        "from sklearn.metrics import multilabel_confusion_matrix\n",
        "from sklearn.metrics import accuracy_score\n",
        "import math\n",
        "import vidaug.augmentors as va"
      ],
      "execution_count": 1,
      "outputs": [
        {
          "output_type": "stream",
          "text": [
            "Requirement already satisfied: vidaug in /usr/local/lib/python3.7/dist-packages (1.5)\n"
          ],
          "name": "stdout"
        }
      ]
    },
    {
      "cell_type": "code",
      "metadata": {
        "id": "KLavRlaT_9Cf"
      },
      "source": [
        "data_dir = \"/content/drive/MyDrive/video_data\"\n",
        "img_height , img_width = 64, 64\n",
        "seq_len = 16"
      ],
      "execution_count": 2,
      "outputs": []
    },
    {
      "cell_type": "code",
      "metadata": {
        "colab": {
          "base_uri": "https://localhost:8080/"
        },
        "id": "wbqgzGXp_9GL",
        "outputId": "f84aa269-cd5a-440b-dff9-6d744b7d393c"
      },
      "source": [
        "from google.colab import drive\n",
        "drive.mount('/content/drive')"
      ],
      "execution_count": 3,
      "outputs": [
        {
          "output_type": "stream",
          "text": [
            "Drive already mounted at /content/drive; to attempt to forcibly remount, call drive.mount(\"/content/drive\", force_remount=True).\n"
          ],
          "name": "stdout"
        }
      ]
    },
    {
      "cell_type": "code",
      "metadata": {
        "id": "nYmXq2Om_9Je"
      },
      "source": [
        "classes = [\"fall_down\", \"grab\", \"swallow\", \"walk\",\"sit\",\"climb\",\"eat\"]"
      ],
      "execution_count": 4,
      "outputs": []
    },
    {
      "cell_type": "code",
      "metadata": {
        "id": "opzT9QhX_9Md"
      },
      "source": [
        "def frames_extraction(video_path):\n",
        "    frames_list = []\n",
        "     \n",
        "    vidcap = cv2.VideoCapture(video_path)\n",
        "    total_frames = vidcap.get(cv2.CAP_PROP_FRAME_COUNT)\n",
        "\n",
        "    frames_step = total_frames//seq_len\n",
        " \n",
        "    for j in range(seq_len):\n",
        "        #here, we set the parameter 1 which is the frame number to the frame (i*frames_step)\n",
        "        vidcap.set(1,j*frames_step)\n",
        "        success,image = vidcap.read()  \n",
        "        #save your image\n",
        "        if success:\n",
        "          image = cv2.resize(image, (img_height, img_width))\n",
        "          frames_list.append(image)\n",
        "        else:\n",
        "          print(\"Defected frame {}\".format(video_path))\n",
        "          break\n",
        "    return frames_list"
      ],
      "execution_count": 5,
      "outputs": []
    },
    {
      "cell_type": "code",
      "metadata": {
        "id": "lHNlh_4g_9Pd"
      },
      "source": [
        "def create_data(input_dir):\n",
        "    X = []\n",
        "    Y = []\n",
        "\n",
        "    sometimes = lambda aug: va.Sometimes(1, aug) # Used to apply augmentor with 100% probability\n",
        "    seq = va.Sequential([ # randomly rotates the video with a degree randomly choosen from [-10, 10]  \n",
        "        sometimes(va.HorizontalFlip()),\n",
        "    ])\n",
        "\n",
        "    classes_list = os.listdir(input_dir)\n",
        "     \n",
        "    for c in classes_list:\n",
        "        print(c)\n",
        "        files_list = os.listdir(os.path.join(input_dir, c))\n",
        "        for f in files_list:\n",
        "            frames = frames_extraction(os.path.join(os.path.join(input_dir, c), f))\n",
        "            if len(frames) == seq_len:\n",
        "                X.append(frames)\n",
        "                X.append(seq(frames))\n",
        "\n",
        "                y = [0]*len(classes)\n",
        "                y[classes.index(c)] = 1\n",
        "                Y.append(y)\n",
        "                Y.append(y)\n",
        "\n",
        "    X = np.asarray(X)\n",
        "    Y = np.asarray(Y)\n",
        "    return X, Y"
      ],
      "execution_count": 6,
      "outputs": []
    },
    {
      "cell_type": "code",
      "metadata": {
        "id": "c0p3Ly3fBI7r"
      },
      "source": [
        "import numpy as np\n",
        "np.save('/content/drive/MyDrive/data/save_X_flip',X)\n",
        "np.save('/content/drive/MyDrive/data/save_Y_flip',Y)"
      ],
      "execution_count": null,
      "outputs": []
    },
    {
      "cell_type": "code",
      "metadata": {
        "id": "-hXxvnApOejx"
      },
      "source": [
        "X_=np.load('/content/drive/MyDrive/data/save_X_triple.npy')\n",
        "Y_=np.load('/content/drive/MyDrive/data/save_Y_triple.npy')\n",
        "X_train, X_test, y_train, y_test = train_test_split(X_, Y_, test_size=0.20, shuffle=True, random_state=36)\n",
        "del X_\n",
        "del Y_"
      ],
      "execution_count": 4,
      "outputs": []
    },
    {
      "cell_type": "code",
      "metadata": {
        "colab": {
          "base_uri": "https://localhost:8080/"
        },
        "id": "jcNIK5Kt_9V8",
        "outputId": "e6206b3d-5064-4f25-b4ef-5b453c9b91d6"
      },
      "source": [
        "model = Sequential()\n",
        "\n",
        "model.add(ConvLSTM2D(filters = 32, kernel_size = (3, 3),strides = (2,2), return_sequences = True, input_shape = (seq_len, img_height, img_width, 3)))\n",
        "model.add(tf.keras.layers.BatchNormalization())\n",
        "model.add(tf.keras.layers.Activation('tanh'))\n",
        "model.add(ConvLSTM2D(filters = 32, kernel_size = (3, 3),strides = (2,2), return_sequences = True))\n",
        "model.add(tf.keras.layers.BatchNormalization())\n",
        "model.add(tf.keras.layers.Activation('tanh'))\n",
        "model.add(ConvLSTM2D(filters = 64, kernel_size = (3, 3),strides = (2,2), return_sequences = True))\n",
        "model.add(tf.keras.layers.BatchNormalization())\n",
        "model.add(tf.keras.layers.Activation('tanh'))\n",
        "model.add(ConvLSTM2D(filters = 128, kernel_size = (3, 3),strides = (2,2), return_sequences = False))\n",
        "model.add(tf.keras.layers.BatchNormalization())\n",
        "model.add(tf.keras.layers.Activation('tanh'))\n",
        "\n",
        "\n",
        "model.add(Flatten())\n",
        "model.add(Dense(512, activation=\"relu\"))\n",
        "model.add(Dropout(0.5))\n",
        "model.add(Dense(7, activation = \"softmax\"))\n",
        " \n",
        "model.summary()"
      ],
      "execution_count": 5,
      "outputs": [
        {
          "output_type": "stream",
          "text": [
            "Model: \"sequential\"\n",
            "_________________________________________________________________\n",
            "Layer (type)                 Output Shape              Param #   \n",
            "=================================================================\n",
            "conv_lst_m2d (ConvLSTM2D)    (None, 16, 31, 31, 32)    40448     \n",
            "_________________________________________________________________\n",
            "batch_normalization (BatchNo (None, 16, 31, 31, 32)    128       \n",
            "_________________________________________________________________\n",
            "activation (Activation)      (None, 16, 31, 31, 32)    0         \n",
            "_________________________________________________________________\n",
            "conv_lst_m2d_1 (ConvLSTM2D)  (None, 16, 15, 15, 32)    73856     \n",
            "_________________________________________________________________\n",
            "batch_normalization_1 (Batch (None, 16, 15, 15, 32)    128       \n",
            "_________________________________________________________________\n",
            "activation_1 (Activation)    (None, 16, 15, 15, 32)    0         \n",
            "_________________________________________________________________\n",
            "conv_lst_m2d_2 (ConvLSTM2D)  (None, 16, 7, 7, 64)      221440    \n",
            "_________________________________________________________________\n",
            "batch_normalization_2 (Batch (None, 16, 7, 7, 64)      256       \n",
            "_________________________________________________________________\n",
            "activation_2 (Activation)    (None, 16, 7, 7, 64)      0         \n",
            "_________________________________________________________________\n",
            "conv_lst_m2d_3 (ConvLSTM2D)  (None, 3, 3, 128)         885248    \n",
            "_________________________________________________________________\n",
            "batch_normalization_3 (Batch (None, 3, 3, 128)         512       \n",
            "_________________________________________________________________\n",
            "activation_3 (Activation)    (None, 3, 3, 128)         0         \n",
            "_________________________________________________________________\n",
            "flatten (Flatten)            (None, 1152)              0         \n",
            "_________________________________________________________________\n",
            "dense (Dense)                (None, 512)               590336    \n",
            "_________________________________________________________________\n",
            "dropout (Dropout)            (None, 512)               0         \n",
            "_________________________________________________________________\n",
            "dense_1 (Dense)              (None, 7)                 3591      \n",
            "=================================================================\n",
            "Total params: 1,815,943\n",
            "Trainable params: 1,815,431\n",
            "Non-trainable params: 512\n",
            "_________________________________________________________________\n"
          ],
          "name": "stdout"
        }
      ]
    },
    {
      "cell_type": "code",
      "metadata": {
        "id": "QUXho8s8_9ZC"
      },
      "source": [
        "def schedular(epoch):\n",
        "  if epoch < 10:\n",
        "    return 0.001\n",
        "  else:\n",
        "    return 0.001 * math.exp(0.1*(10-epoch))"
      ],
      "execution_count": 6,
      "outputs": []
    },
    {
      "cell_type": "code",
      "metadata": {
        "colab": {
          "base_uri": "https://localhost:8080/",
          "height": 1000
        },
        "id": "-90KNEiL_9cV",
        "outputId": "85034583-1954-4346-9344-b693f22e5af6"
      },
      "source": [
        "opt = tf.keras.optimizers.Adam(lr=0.0005)\n",
        "model.compile(loss='categorical_crossentropy', optimizer=opt, metrics=[\"accuracy\"])\n",
        " \n",
        "earlystop = EarlyStopping(monitor='val_loss', mode='min', verbose=1, patience=5)\n",
        "callbacks = tf.keras.callbacks.LearningRateScheduler(schedular)\n",
        " \n",
        "history = model.fit(x = X_train, y = y_train, epochs=50, batch_size = 64, shuffle=True, validation_split=0.3, callbacks=callbacks)\n",
        "\n",
        "import matplotlib.pyplot as plt\n",
        "plt.plot(history.history['loss'])\n",
        "plt.plot(history.history['val_loss'])\n",
        "plt.plot(history.history['accuracy'])\n",
        "plt.plot(history.history['val_accuracy'])\n",
        "plt.xlabel('epoch')\n",
        "plt.ylabel('loss')\n",
        "plt.legend(['train', 'val','accuracy','val_accuracy'])\n",
        "plt.show()\n"
      ],
      "execution_count": 7,
      "outputs": [
        {
          "output_type": "stream",
          "text": [
            "/usr/local/lib/python3.7/dist-packages/keras/optimizer_v2/optimizer_v2.py:356: UserWarning: The `lr` argument is deprecated, use `learning_rate` instead.\n",
            "  \"The `lr` argument is deprecated, use `learning_rate` instead.\")\n"
          ],
          "name": "stderr"
        },
        {
          "output_type": "stream",
          "text": [
            "Epoch 1/50\n",
            "47/47 [==============================] - 507s 11s/step - loss: 1.9222 - accuracy: 0.2706 - val_loss: 2.0070 - val_accuracy: 0.1528\n",
            "Epoch 2/50\n",
            "47/47 [==============================] - 487s 10s/step - loss: 1.6453 - accuracy: 0.3618 - val_loss: 2.2864 - val_accuracy: 0.1613\n",
            "Epoch 3/50\n",
            "47/47 [==============================] - 488s 10s/step - loss: 1.4416 - accuracy: 0.4494 - val_loss: 2.0824 - val_accuracy: 0.3063\n",
            "Epoch 4/50\n",
            "47/47 [==============================] - 496s 11s/step - loss: 1.2304 - accuracy: 0.5289 - val_loss: 2.5000 - val_accuracy: 0.2307\n",
            "Epoch 5/50\n",
            "47/47 [==============================] - 477s 10s/step - loss: 0.9727 - accuracy: 0.6285 - val_loss: 2.6147 - val_accuracy: 0.2876\n",
            "Epoch 6/50\n",
            "47/47 [==============================] - 460s 10s/step - loss: 0.7379 - accuracy: 0.7280 - val_loss: 1.9302 - val_accuracy: 0.3687\n",
            "Epoch 7/50\n",
            "47/47 [==============================] - 457s 10s/step - loss: 0.5639 - accuracy: 0.7915 - val_loss: 1.5256 - val_accuracy: 0.4731\n",
            "Epoch 8/50\n",
            "47/47 [==============================] - 476s 10s/step - loss: 0.3548 - accuracy: 0.8791 - val_loss: 1.3018 - val_accuracy: 0.5503\n",
            "Epoch 9/50\n",
            "47/47 [==============================] - 493s 11s/step - loss: 0.2136 - accuracy: 0.9332 - val_loss: 1.5613 - val_accuracy: 0.5401\n",
            "Epoch 10/50\n",
            "47/47 [==============================] - 494s 11s/step - loss: 0.1827 - accuracy: 0.9415 - val_loss: 1.3572 - val_accuracy: 0.6009\n",
            "Epoch 11/50\n",
            "47/47 [==============================] - 495s 11s/step - loss: 0.1335 - accuracy: 0.9546 - val_loss: 1.2477 - val_accuracy: 0.6298\n",
            "Epoch 12/50\n",
            "47/47 [==============================] - 499s 11s/step - loss: 0.0963 - accuracy: 0.9669 - val_loss: 1.8268 - val_accuracy: 0.5565\n",
            "Epoch 13/50\n",
            "47/47 [==============================] - 505s 11s/step - loss: 0.0573 - accuracy: 0.9853 - val_loss: 1.3911 - val_accuracy: 0.6500\n",
            "Epoch 14/50\n",
            "47/47 [==============================] - 477s 10s/step - loss: 0.0380 - accuracy: 0.9896 - val_loss: 1.5306 - val_accuracy: 0.6345\n",
            "Epoch 15/50\n",
            "47/47 [==============================] - 462s 10s/step - loss: 0.0229 - accuracy: 0.9953 - val_loss: 1.2692 - val_accuracy: 0.6913\n",
            "Epoch 16/50\n",
            "47/47 [==============================] - 471s 10s/step - loss: 0.0167 - accuracy: 0.9960 - val_loss: 1.2465 - val_accuracy: 0.6929\n",
            "Epoch 17/50\n",
            "47/47 [==============================] - 470s 10s/step - loss: 0.0112 - accuracy: 0.9973 - val_loss: 1.2763 - val_accuracy: 0.6991\n",
            "Epoch 18/50\n",
            "47/47 [==============================] - 449s 10s/step - loss: 0.0085 - accuracy: 0.9983 - val_loss: 1.2685 - val_accuracy: 0.6960\n",
            "Epoch 19/50\n",
            "47/47 [==============================] - 442s 9s/step - loss: 0.0098 - accuracy: 0.9970 - val_loss: 1.2595 - val_accuracy: 0.7077\n",
            "Epoch 20/50\n",
            "47/47 [==============================] - 447s 10s/step - loss: 0.0079 - accuracy: 0.9983 - val_loss: 1.2637 - val_accuracy: 0.7062\n",
            "Epoch 21/50\n",
            "47/47 [==============================] - 438s 9s/step - loss: 0.0063 - accuracy: 0.9980 - val_loss: 1.2791 - val_accuracy: 0.7077\n",
            "Epoch 22/50\n",
            "47/47 [==============================] - 458s 10s/step - loss: 0.0048 - accuracy: 0.9980 - val_loss: 1.2802 - val_accuracy: 0.7124\n",
            "Epoch 23/50\n",
            "47/47 [==============================] - 472s 10s/step - loss: 0.0052 - accuracy: 0.9977 - val_loss: 1.2758 - val_accuracy: 0.7108\n",
            "Epoch 24/50\n",
            "47/47 [==============================] - 469s 10s/step - loss: 0.0055 - accuracy: 0.9983 - val_loss: 1.2916 - val_accuracy: 0.7046\n",
            "Epoch 25/50\n",
            "47/47 [==============================] - 465s 10s/step - loss: 0.0068 - accuracy: 0.9980 - val_loss: 1.3106 - val_accuracy: 0.7023\n",
            "Epoch 26/50\n",
            "47/47 [==============================] - 471s 10s/step - loss: 0.0068 - accuracy: 0.9970 - val_loss: 1.3032 - val_accuracy: 0.7038\n",
            "Epoch 27/50\n",
            "47/47 [==============================] - 487s 10s/step - loss: 0.0080 - accuracy: 0.9970 - val_loss: 1.3011 - val_accuracy: 0.7101\n",
            "Epoch 28/50\n",
            "47/47 [==============================] - 502s 11s/step - loss: 0.0053 - accuracy: 0.9977 - val_loss: 1.3060 - val_accuracy: 0.7101\n",
            "Epoch 29/50\n",
            "47/47 [==============================] - 496s 11s/step - loss: 0.0044 - accuracy: 0.9980 - val_loss: 1.3029 - val_accuracy: 0.7062\n",
            "Epoch 30/50\n",
            "47/47 [==============================] - 479s 10s/step - loss: 0.0045 - accuracy: 0.9987 - val_loss: 1.3089 - val_accuracy: 0.7116\n",
            "Epoch 31/50\n",
            "47/47 [==============================] - 494s 11s/step - loss: 0.0051 - accuracy: 0.9983 - val_loss: 1.3146 - val_accuracy: 0.7093\n",
            "Epoch 32/50\n",
            "47/47 [==============================] - 495s 11s/step - loss: 0.0054 - accuracy: 0.9977 - val_loss: 1.3121 - val_accuracy: 0.7132\n",
            "Epoch 33/50\n",
            "47/47 [==============================] - 496s 11s/step - loss: 0.0047 - accuracy: 0.9980 - val_loss: 1.3125 - val_accuracy: 0.7155\n",
            "Epoch 34/50\n",
            "47/47 [==============================] - 494s 11s/step - loss: 0.0042 - accuracy: 0.9987 - val_loss: 1.3143 - val_accuracy: 0.7108\n",
            "Epoch 35/50\n",
            "47/47 [==============================] - 505s 11s/step - loss: 0.0046 - accuracy: 0.9980 - val_loss: 1.3161 - val_accuracy: 0.7116\n",
            "Epoch 36/50\n",
            "47/47 [==============================] - 495s 11s/step - loss: 0.0035 - accuracy: 0.9983 - val_loss: 1.3203 - val_accuracy: 0.7132\n",
            "Epoch 37/50\n",
            "47/47 [==============================] - 487s 10s/step - loss: 0.0034 - accuracy: 0.9987 - val_loss: 1.3274 - val_accuracy: 0.7140\n",
            "Epoch 38/50\n",
            "47/47 [==============================] - 497s 11s/step - loss: 0.0033 - accuracy: 0.9987 - val_loss: 1.3301 - val_accuracy: 0.7093\n",
            "Epoch 39/50\n",
            "47/47 [==============================] - 512s 11s/step - loss: 0.0032 - accuracy: 0.9993 - val_loss: 1.3292 - val_accuracy: 0.7132\n",
            "Epoch 40/50\n",
            "47/47 [==============================] - 496s 11s/step - loss: 0.0033 - accuracy: 0.9987 - val_loss: 1.3303 - val_accuracy: 0.7093\n",
            "Epoch 41/50\n",
            "47/47 [==============================] - 501s 11s/step - loss: 0.0037 - accuracy: 0.9983 - val_loss: 1.3303 - val_accuracy: 0.7108\n",
            "Epoch 42/50\n",
            "47/47 [==============================] - 508s 11s/step - loss: 0.0033 - accuracy: 0.9983 - val_loss: 1.3299 - val_accuracy: 0.7116\n",
            "Epoch 43/50\n",
            "47/47 [==============================] - 502s 11s/step - loss: 0.0039 - accuracy: 0.9987 - val_loss: 1.3314 - val_accuracy: 0.7116\n",
            "Epoch 44/50\n",
            "47/47 [==============================] - 505s 11s/step - loss: 0.0040 - accuracy: 0.9983 - val_loss: 1.3293 - val_accuracy: 0.7124\n",
            "Epoch 45/50\n",
            "47/47 [==============================] - 537s 11s/step - loss: 0.0034 - accuracy: 0.9983 - val_loss: 1.3279 - val_accuracy: 0.7116\n",
            "Epoch 46/50\n",
            "47/47 [==============================] - 522s 11s/step - loss: 0.0041 - accuracy: 0.9983 - val_loss: 1.3288 - val_accuracy: 0.7140\n",
            "Epoch 47/50\n",
            "47/47 [==============================] - 507s 11s/step - loss: 0.0045 - accuracy: 0.9983 - val_loss: 1.3299 - val_accuracy: 0.7132\n",
            "Epoch 48/50\n",
            "47/47 [==============================] - 491s 10s/step - loss: 0.0034 - accuracy: 0.9990 - val_loss: 1.3296 - val_accuracy: 0.7132\n",
            "Epoch 49/50\n",
            "47/47 [==============================] - 474s 10s/step - loss: 0.0018 - accuracy: 0.9997 - val_loss: 1.3297 - val_accuracy: 0.7132\n",
            "Epoch 50/50\n",
            "47/47 [==============================] - 480s 10s/step - loss: 0.0041 - accuracy: 0.9983 - val_loss: 1.3304 - val_accuracy: 0.7124\n"
          ],
          "name": "stdout"
        },
        {
          "output_type": "display_data",
          "data": {
            "image/png": "[encoded data removed]",
            "text/plain": [
              "<Figure size 432x288 with 1 Axes>"
            ]
          },
          "metadata": {
            "needs_background": "light"
          }
        }
      ]
    },
    {
      "cell_type": "code",
      "metadata": {
        "id": "MQvaOR6l_9f6",
        "colab": {
          "base_uri": "https://localhost:8080/"
        },
        "outputId": "6f922920-f352-417a-a1bf-b2cff4a569b9"
      },
      "source": [
        "from sklearn.metrics import classification_report\n",
        "from sklearn.metrics import accuracy_score\n",
        "y_pred = model.predict(X_test) \n",
        "y_pred = np.argmax(y_pred, axis = 1)\n",
        "y_test = np.argmax(y_test, axis = 1)\n",
        " \n",
        "print(classification_report(y_test, y_pred))\n",
        "\n",
        "print('accuracy score : {}'.format(accuracy_score(y_pred, y_test)))\n"
      ],
      "execution_count": 8,
      "outputs": [
        {
          "output_type": "stream",
          "text": [
            "              precision    recall  f1-score   support\n",
            "\n",
            "           0       0.68      0.66      0.67       197\n",
            "           1       0.72      0.71      0.72       146\n",
            "           2       0.71      0.68      0.69       230\n",
            "           3       0.64      0.71      0.68       164\n",
            "           4       0.73      0.79      0.76       145\n",
            "           5       0.67      0.67      0.67       122\n",
            "           6       0.79      0.64      0.71        66\n",
            "\n",
            "    accuracy                           0.70      1070\n",
            "   macro avg       0.71      0.70      0.70      1070\n",
            "weighted avg       0.70      0.70      0.70      1070\n",
            "\n",
            "accuracy score : 0.6981308411214954\n"
          ],
          "name": "stdout"
        }
      ]
    },
    {
      "cell_type": "code",
      "metadata": {
        "id": "Pld5XtLH_9jC"
      },
      "source": [
        ""
      ],
      "execution_count": null,
      "outputs": []
    },
    {
      "cell_type": "code",
      "metadata": {
        "id": "ZCfk5lqU_9mr"
      },
      "source": [
        ""
      ],
      "execution_count": null,
      "outputs": []
    },
    {
      "cell_type": "code",
      "metadata": {
        "id": "n76YdAYL_9pz"
      },
      "source": [
        ""
      ],
      "execution_count": null,
      "outputs": []
    },
    {
      "cell_type": "code",
      "metadata": {
        "id": "RC0rMH9k_9tb"
      },
      "source": [
        ""
      ],
      "execution_count": null,
      "outputs": []
    },
    {
      "cell_type": "code",
      "metadata": {
        "id": "AfqYqeCDBAhA"
      },
      "source": [
        ""
      ],
      "execution_count": null,
      "outputs": []
    },
    {
      "cell_type": "code",
      "metadata": {
        "id": "i9DJ9YEDOduq"
      },
      "source": [
        ""
      ],
      "execution_count": null,
      "outputs": []
    }
  ]
}
