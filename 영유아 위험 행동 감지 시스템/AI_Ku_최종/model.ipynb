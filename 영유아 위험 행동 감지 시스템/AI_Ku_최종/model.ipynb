{
  "nbformat": 4,
  "nbformat_minor": 0,
  "metadata": {
    "colab": {
      "name": "model.ipynb",
      "provenance": [],
      "collapsed_sections": [],
      "machine_shape": "hm"
    },
    "kernelspec": {
      "display_name": "Python 3",
      "name": "python3"
    },
    "language_info": {
      "name": "python"
    }
  },
  "cells": [
    {
      "cell_type": "code",
      "metadata": {
        "id": "FW50_EVu_8Qh",
        "colab": {
          "base_uri": "https://localhost:8080/"
        },
        "outputId": "a7b5fa53-4742-4d58-9e8d-ffc40bc1a888"
      },
      "source": [
        "!pip install vidaug\n",
        "import tensorflow as tf\n",
        "import tensorflow.keras\n",
        "from tensorflow.keras import applications\n",
        "from tensorflow.keras.preprocessing.image import ImageDataGenerator\n",
        "# from keras import optimizers\n",
        "from tensorflow.keras.models import Sequential, Model \n",
        "from tensorflow.keras.layers import *\n",
        "from tensorflow.keras.callbacks import ModelCheckpoint, LearningRateScheduler, TensorBoard, EarlyStopping\n",
        "import os\n",
        "import cv2\n",
        "import numpy as np\n",
        "from sklearn.model_selection import train_test_split\n",
        "# import keras_metrics as km\n",
        "# from keras import regularizers, optimizers\n",
        "from tensorflow.keras.callbacks import ModelCheckpoint\n",
        "from sklearn.metrics import precision_score\n",
        "from sklearn.metrics import recall_score\n",
        "from sklearn.metrics import f1_score\n",
        "from sklearn.metrics import cohen_kappa_score\n",
        "from sklearn.metrics import roc_auc_score\n",
        "from sklearn.metrics import multilabel_confusion_matrix\n",
        "from sklearn.metrics import accuracy_score\n",
        "import math\n",
        "import vidaug.augmentors as va\n",
        "from sklearn.utils import shuffle"
      ],
      "execution_count": 1,
      "outputs": [
        {
          "output_type": "stream",
          "text": [
            "Collecting vidaug\n",
            "  Downloading vidaug-1.5-py3-none-any.whl (13 kB)\n",
            "Installing collected packages: vidaug\n",
            "Successfully installed vidaug-1.5\n"
          ],
          "name": "stdout"
        }
      ]
    },
    {
      "cell_type": "code",
      "metadata": {
        "id": "KLavRlaT_9Cf"
      },
      "source": [
        "data_dir = \"/content/drive/MyDrive/video_data\"\n",
        "img_height , img_width = 64, 64\n",
        "seq_len = 16"
      ],
      "execution_count": 2,
      "outputs": []
    },
    {
      "cell_type": "code",
      "metadata": {
        "colab": {
          "base_uri": "https://localhost:8080/"
        },
        "id": "wbqgzGXp_9GL",
        "outputId": "9bd43369-da8b-4e23-982a-ade2de8da129"
      },
      "source": [
        "from google.colab import drive\n",
        "drive.mount('/content/drive')"
      ],
      "execution_count": 3,
      "outputs": [
        {
          "output_type": "stream",
          "text": [
            "Mounted at /content/drive\n"
          ],
          "name": "stdout"
        }
      ]
    },
    {
      "cell_type": "code",
      "metadata": {
        "id": "HkfuqGihbGkG"
      },
      "source": [
        "X_=np.load('/content/drive/MyDrive/data/save_X_flip_shear_withsafe.npy')\n",
        "Y_=np.load('/content/drive/MyDrive/data/save_Y_flip_shear_withsafe.npy')\n",
        "X_train, X_test, y_train, y_test = train_test_split(X_, Y_, test_size=0.2, shuffle=True, random_state=36)\n",
        "del X_\n",
        "del Y_\n",
        "# X_, Y_ = shuffle(X_,Y_, random_state = 36)"
      ],
      "execution_count": 4,
      "outputs": []
    },
    {
      "cell_type": "code",
      "metadata": {
        "id": "jcNIK5Kt_9V8",
        "colab": {
          "base_uri": "https://localhost:8080/"
        },
        "outputId": "7bec9279-dbdb-4664-b4fe-7820fb9703a3"
      },
      "source": [
        "model = Sequential()\n",
        "\n",
        "model.add(ConvLSTM2D(filters = 32, kernel_size = (3, 3),strides = (2,2), return_sequences = True, input_shape = (seq_len, img_height, img_width, 3)))\n",
        "model.add(tf.keras.layers.BatchNormalization())\n",
        "model.add(tf.keras.layers.Activation('tanh'))\n",
        "model.add(ConvLSTM2D(filters = 32, kernel_size = (3, 3),strides = (2,2), return_sequences = True))\n",
        "model.add(tf.keras.layers.BatchNormalization())\n",
        "model.add(tf.keras.layers.Activation('tanh'))\n",
        "model.add(ConvLSTM2D(filters = 64, kernel_size = (3, 3),strides = (2,2), return_sequences = True))\n",
        "model.add(tf.keras.layers.BatchNormalization())\n",
        "model.add(tf.keras.layers.Activation('tanh'))\n",
        "model.add(ConvLSTM2D(filters = 128, kernel_size = (3, 3),strides = (2,2), return_sequences = False))\n",
        "model.add(tf.keras.layers.BatchNormalization())\n",
        "model.add(tf.keras.layers.Activation('tanh'))\n",
        "\n",
        "\n",
        "model.add(Flatten())\n",
        "model.add(Dense(512, activation=\"relu\"))\n",
        "model.add(Dropout(0.5))\n",
        "model.add(Dense(8, activation = \"softmax\"))\n",
        " \n",
        "model.summary()"
      ],
      "execution_count": 5,
      "outputs": [
        {
          "output_type": "stream",
          "text": [
            "Model: \"sequential\"\n",
            "_________________________________________________________________\n",
            "Layer (type)                 Output Shape              Param #   \n",
            "=================================================================\n",
            "conv_lst_m2d (ConvLSTM2D)    (None, 16, 31, 31, 32)    40448     \n",
            "_________________________________________________________________\n",
            "batch_normalization (BatchNo (None, 16, 31, 31, 32)    128       \n",
            "_________________________________________________________________\n",
            "activation (Activation)      (None, 16, 31, 31, 32)    0         \n",
            "_________________________________________________________________\n",
            "conv_lst_m2d_1 (ConvLSTM2D)  (None, 16, 15, 15, 32)    73856     \n",
            "_________________________________________________________________\n",
            "batch_normalization_1 (Batch (None, 16, 15, 15, 32)    128       \n",
            "_________________________________________________________________\n",
            "activation_1 (Activation)    (None, 16, 15, 15, 32)    0         \n",
            "_________________________________________________________________\n",
            "conv_lst_m2d_2 (ConvLSTM2D)  (None, 16, 7, 7, 64)      221440    \n",
            "_________________________________________________________________\n",
            "batch_normalization_2 (Batch (None, 16, 7, 7, 64)      256       \n",
            "_________________________________________________________________\n",
            "activation_2 (Activation)    (None, 16, 7, 7, 64)      0         \n",
            "_________________________________________________________________\n",
            "conv_lst_m2d_3 (ConvLSTM2D)  (None, 3, 3, 128)         885248    \n",
            "_________________________________________________________________\n",
            "batch_normalization_3 (Batch (None, 3, 3, 128)         512       \n",
            "_________________________________________________________________\n",
            "activation_3 (Activation)    (None, 3, 3, 128)         0         \n",
            "_________________________________________________________________\n",
            "flatten (Flatten)            (None, 1152)              0         \n",
            "_________________________________________________________________\n",
            "dense (Dense)                (None, 512)               590336    \n",
            "_________________________________________________________________\n",
            "dropout (Dropout)            (None, 512)               0         \n",
            "_________________________________________________________________\n",
            "dense_1 (Dense)              (None, 8)                 4104      \n",
            "=================================================================\n",
            "Total params: 1,816,456\n",
            "Trainable params: 1,815,944\n",
            "Non-trainable params: 512\n",
            "_________________________________________________________________\n"
          ],
          "name": "stdout"
        }
      ]
    },
    {
      "cell_type": "code",
      "metadata": {
        "id": "QUXho8s8_9ZC"
      },
      "source": [
        "def schedular(epoch):\n",
        "  if epoch < 10:\n",
        "    return 0.001\n",
        "  else:\n",
        "    return 0.001 * math.exp(0.1*(10-epoch))"
      ],
      "execution_count": 6,
      "outputs": []
    },
    {
      "cell_type": "code",
      "metadata": {
        "id": "-90KNEiL_9cV",
        "colab": {
          "base_uri": "https://localhost:8080/",
          "height": 1000
        },
        "outputId": "07d722c0-d2ec-4d30-a7f9-b19b627fc239"
      },
      "source": [
        "opt = tf.keras.optimizers.Adam(lr=0.0005)\n",
        "model.compile(loss='categorical_crossentropy', optimizer=opt, metrics=[\"accuracy\"])\n",
        " \n",
        "# earlystop = EarlyStopping(monitor='val_loss', mode='min', verbose=1, patience=5)\n",
        "callbacks = tf.keras.callbacks.LearningRateScheduler(schedular)\n",
        " \n",
        "history = model.fit(x = X_train, y = y_train, epochs=25, batch_size = 128, shuffle=True, validation_split=0.2, callbacks=callbacks)\n",
        "\n",
        "import matplotlib.pyplot as plt\n",
        "plt.plot(history.history['loss'])\n",
        "plt.plot(history.history['val_loss'])\n",
        "plt.plot(history.history['accuracy'])\n",
        "plt.plot(history.history['val_accuracy'])\n",
        "plt.xlabel('epoch')\n",
        "plt.ylabel('loss')\n",
        "plt.legend(['train', 'val','accuracy','val_accuracy'])\n",
        "plt.show()\n"
      ],
      "execution_count": 7,
      "outputs": [
        {
          "output_type": "stream",
          "text": [
            "/usr/local/lib/python3.7/dist-packages/keras/optimizer_v2/optimizer_v2.py:356: UserWarning: The `lr` argument is deprecated, use `learning_rate` instead.\n",
            "  \"The `lr` argument is deprecated, use `learning_rate` instead.\")\n"
          ],
          "name": "stderr"
        },
        {
          "output_type": "stream",
          "text": [
            "Epoch 1/25\n",
            "36/36 [==============================] - 641s 18s/step - loss: 1.9136 - accuracy: 0.2844 - val_loss: 1.9544 - val_accuracy: 0.2077\n",
            "Epoch 2/25\n",
            "36/36 [==============================] - 631s 18s/step - loss: 1.5051 - accuracy: 0.4179 - val_loss: 1.9941 - val_accuracy: 0.1648\n",
            "Epoch 3/25\n",
            "36/36 [==============================] - 630s 18s/step - loss: 1.2470 - accuracy: 0.5295 - val_loss: 1.9467 - val_accuracy: 0.2156\n",
            "Epoch 4/25\n",
            "36/36 [==============================] - 629s 18s/step - loss: 0.9805 - accuracy: 0.6275 - val_loss: 1.8254 - val_accuracy: 0.2796\n",
            "Epoch 5/25\n",
            "36/36 [==============================] - 633s 18s/step - loss: 0.7238 - accuracy: 0.7369 - val_loss: 1.8865 - val_accuracy: 0.2883\n",
            "Epoch 6/25\n",
            "36/36 [==============================] - 631s 18s/step - loss: 0.5344 - accuracy: 0.8169 - val_loss: 2.2928 - val_accuracy: 0.2805\n",
            "Epoch 7/25\n",
            "36/36 [==============================] - 633s 18s/step - loss: 0.3531 - accuracy: 0.8742 - val_loss: 2.4987 - val_accuracy: 0.2778\n",
            "Epoch 8/25\n",
            "36/36 [==============================] - 631s 18s/step - loss: 0.2192 - accuracy: 0.9320 - val_loss: 2.6373 - val_accuracy: 0.3348\n",
            "Epoch 9/25\n",
            "36/36 [==============================] - 631s 18s/step - loss: 0.1542 - accuracy: 0.9513 - val_loss: 2.4279 - val_accuracy: 0.4032\n",
            "Epoch 10/25\n",
            "36/36 [==============================] - 614s 17s/step - loss: 0.1251 - accuracy: 0.9625 - val_loss: 2.3778 - val_accuracy: 0.4452\n",
            "Epoch 11/25\n",
            "36/36 [==============================] - 613s 17s/step - loss: 0.0905 - accuracy: 0.9741 - val_loss: 2.3564 - val_accuracy: 0.4750\n",
            "Epoch 12/25\n",
            "36/36 [==============================] - 623s 17s/step - loss: 0.0506 - accuracy: 0.9855 - val_loss: 1.4269 - val_accuracy: 0.6205\n",
            "Epoch 13/25\n",
            "36/36 [==============================] - 608s 17s/step - loss: 0.0353 - accuracy: 0.9912 - val_loss: 1.7199 - val_accuracy: 0.5802\n",
            "Epoch 14/25\n",
            "36/36 [==============================] - 616s 17s/step - loss: 0.0252 - accuracy: 0.9945 - val_loss: 1.3455 - val_accuracy: 0.6670\n",
            "Epoch 15/25\n",
            "36/36 [==============================] - 611s 17s/step - loss: 0.0117 - accuracy: 0.9976 - val_loss: 1.2639 - val_accuracy: 0.7011\n",
            "Epoch 16/25\n",
            "36/36 [==============================] - 615s 17s/step - loss: 0.0073 - accuracy: 0.9989 - val_loss: 1.0195 - val_accuracy: 0.7528\n",
            "Epoch 17/25\n",
            "36/36 [==============================] - 611s 17s/step - loss: 0.0068 - accuracy: 0.9985 - val_loss: 1.0158 - val_accuracy: 0.7590\n",
            "Epoch 18/25\n",
            "36/36 [==============================] - 629s 17s/step - loss: 0.0052 - accuracy: 0.9987 - val_loss: 0.9898 - val_accuracy: 0.7669\n",
            "Epoch 19/25\n",
            "36/36 [==============================] - 609s 17s/step - loss: 0.0047 - accuracy: 0.9987 - val_loss: 0.9502 - val_accuracy: 0.7748\n",
            "Epoch 20/25\n",
            "36/36 [==============================] - 600s 17s/step - loss: 0.0043 - accuracy: 0.9985 - val_loss: 0.9534 - val_accuracy: 0.7853\n",
            "Epoch 21/25\n",
            "36/36 [==============================] - 601s 17s/step - loss: 0.0038 - accuracy: 0.9993 - val_loss: 0.9458 - val_accuracy: 0.7765\n",
            "Epoch 22/25\n",
            "36/36 [==============================] - 611s 17s/step - loss: 0.0041 - accuracy: 0.9985 - val_loss: 0.9446 - val_accuracy: 0.7800\n",
            "Epoch 23/25\n",
            "36/36 [==============================] - 608s 17s/step - loss: 0.0042 - accuracy: 0.9991 - val_loss: 0.9398 - val_accuracy: 0.7800\n",
            "Epoch 24/25\n",
            "36/36 [==============================] - 607s 17s/step - loss: 0.0042 - accuracy: 0.9987 - val_loss: 0.9402 - val_accuracy: 0.7835\n",
            "Epoch 25/25\n",
            "36/36 [==============================] - 605s 17s/step - loss: 0.0033 - accuracy: 0.9985 - val_loss: 0.9392 - val_accuracy: 0.7879\n"
          ],
          "name": "stdout"
        },
        {
          "output_type": "display_data",
          "data": {
            "image/png": "[encoded data removed]",
            "text/plain": [
              "<Figure size 432x288 with 1 Axes>"
            ]
          },
          "metadata": {
            "needs_background": "light"
          }
        }
      ]
    },
    {
      "cell_type": "code",
      "metadata": {
        "id": "Pld5XtLH_9jC"
      },
      "source": [
        "model.save('/content/drive/MyDrive/model/final_model.h5')"
      ],
      "execution_count": 9,
      "outputs": []
    },
    {
      "cell_type": "code",
      "metadata": {
        "id": "MQvaOR6l_9f6",
        "colab": {
          "base_uri": "https://localhost:8080/"
        },
        "outputId": "09f844ec-603c-42ea-95f1-eb078803d6cf"
      },
      "source": [
        "from sklearn.metrics import classification_report\n",
        "from sklearn.metrics import accuracy_score\n",
        "y_pred = model.predict(X_test) \n",
        "y_pred = np.argmax(y_pred, axis = 1)\n",
        "y_test = np.argmax(y_test, axis = 1)\n",
        " \n",
        "print(classification_report(y_test, y_pred))\n",
        "\n",
        "print('accuracy score : {}'.format(accuracy_score(y_pred, y_test)))\n"
      ],
      "execution_count": 8,
      "outputs": [
        {
          "output_type": "stream",
          "text": [
            "              precision    recall  f1-score   support\n",
            "\n",
            "           0       0.79      0.76      0.78       277\n",
            "           1       0.81      0.76      0.78       219\n",
            "           2       0.76      0.84      0.80       283\n",
            "           3       0.77      0.75      0.76       232\n",
            "           4       0.85      0.86      0.86       188\n",
            "           5       0.70      0.77      0.74       146\n",
            "           6       0.80      0.64      0.71        81\n",
            "\n",
            "    accuracy                           0.78      1426\n",
            "   macro avg       0.78      0.77      0.78      1426\n",
            "weighted avg       0.78      0.78      0.78      1426\n",
            "\n",
            "accuracy score : 0.782608695652174\n"
          ],
          "name": "stdout"
        }
      ]
    },
    {
      "cell_type": "code",
      "metadata": {
        "id": "1kryH_bDMTYs"
      },
      "source": [
        ""
      ],
      "execution_count": null,
      "outputs": []
    }
  ]
}