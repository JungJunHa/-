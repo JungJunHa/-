{
  "nbformat": 4,
  "nbformat_minor": 0,
  "metadata": {
    "colab": {
      "provenance": [],
      "machine_shape": "hm"
    },
    "kernelspec": {
      "name": "python3",
      "display_name": "Python 3"
    },
    "language_info": {
      "name": "python"
    },
    "gpuClass": "standard",
    "widgets": {
      "application/vnd.jupyter.widget-state+json": {
        "60f82b699d5549ea8e132cb55276432c": {
          "model_module": "@jupyter-widgets/controls",
          "model_name": "HBoxModel",
          "model_module_version": "1.5.0",
          "state": {
            "_dom_classes": [],
            "_model_module": "@jupyter-widgets/controls",
            "_model_module_version": "1.5.0",
            "_model_name": "HBoxModel",
            "_view_count": null,
            "_view_module": "@jupyter-widgets/controls",
            "_view_module_version": "1.5.0",
            "_view_name": "HBoxView",
            "box_style": "",
            "children": [
              "IPY_MODEL_e66cff4e98dc4f96b10e03418ea2d988",
              "IPY_MODEL_557899723f414cbca8263aa37b14f97f",
              "IPY_MODEL_2e6d4ebf0b0c4488b0421498dee1b30c"
            ],
            "layout": "IPY_MODEL_7de1aff0f28c4490801b2a6d2873e8e0"
          }
        },
        "e66cff4e98dc4f96b10e03418ea2d988": {
          "model_module": "@jupyter-widgets/controls",
          "model_name": "HTMLModel",
          "model_module_version": "1.5.0",
          "state": {
            "_dom_classes": [],
            "_model_module": "@jupyter-widgets/controls",
            "_model_module_version": "1.5.0",
            "_model_name": "HTMLModel",
            "_view_count": null,
            "_view_module": "@jupyter-widgets/controls",
            "_view_module_version": "1.5.0",
            "_view_name": "HTMLView",
            "description": "",
            "description_tooltip": null,
            "layout": "IPY_MODEL_dfa7963b4c8a464ab9ed46a24e478899",
            "placeholder": "​",
            "style": "IPY_MODEL_4281ea60cb4b4596bcbc6f293d97e1f9",
            "value": "100%"
          }
        },
        "557899723f414cbca8263aa37b14f97f": {
          "model_module": "@jupyter-widgets/controls",
          "model_name": "FloatProgressModel",
          "model_module_version": "1.5.0",
          "state": {
            "_dom_classes": [],
            "_model_module": "@jupyter-widgets/controls",
            "_model_module_version": "1.5.0",
            "_model_name": "FloatProgressModel",
            "_view_count": null,
            "_view_module": "@jupyter-widgets/controls",
            "_view_module_version": "1.5.0",
            "_view_name": "ProgressView",
            "bar_style": "success",
            "description": "",
            "description_tooltip": null,
            "layout": "IPY_MODEL_f7e595dc6ccd4f9eb6ed13718f399276",
            "max": 150000,
            "min": 0,
            "orientation": "horizontal",
            "style": "IPY_MODEL_5b9d0c03016043ac8b93146b1d38608d",
            "value": 150000
          }
        },
        "2e6d4ebf0b0c4488b0421498dee1b30c": {
          "model_module": "@jupyter-widgets/controls",
          "model_name": "HTMLModel",
          "model_module_version": "1.5.0",
          "state": {
            "_dom_classes": [],
            "_model_module": "@jupyter-widgets/controls",
            "_model_module_version": "1.5.0",
            "_model_name": "HTMLModel",
            "_view_count": null,
            "_view_module": "@jupyter-widgets/controls",
            "_view_module_version": "1.5.0",
            "_view_name": "HTMLView",
            "description": "",
            "description_tooltip": null,
            "layout": "IPY_MODEL_6de935a1e32742e7b36ff1432674d513",
            "placeholder": "​",
            "style": "IPY_MODEL_1cf8c77988ca46dd9f53b3d0ebcaf694",
            "value": " 150000/150000 [00:29&lt;00:00, 4606.90it/s]"
          }
        },
        "7de1aff0f28c4490801b2a6d2873e8e0": {
          "model_module": "@jupyter-widgets/base",
          "model_name": "LayoutModel",
          "model_module_version": "1.2.0",
          "state": {
            "_model_module": "@jupyter-widgets/base",
            "_model_module_version": "1.2.0",
            "_model_name": "LayoutModel",
            "_view_count": null,
            "_view_module": "@jupyter-widgets/base",
            "_view_module_version": "1.2.0",
            "_view_name": "LayoutView",
            "align_content": null,
            "align_items": null,
            "align_self": null,
            "border": null,
            "bottom": null,
            "display": null,
            "flex": null,
            "flex_flow": null,
            "grid_area": null,
            "grid_auto_columns": null,
            "grid_auto_flow": null,
            "grid_auto_rows": null,
            "grid_column": null,
            "grid_gap": null,
            "grid_row": null,
            "grid_template_areas": null,
            "grid_template_columns": null,
            "grid_template_rows": null,
            "height": null,
            "justify_content": null,
            "justify_items": null,
            "left": null,
            "margin": null,
            "max_height": null,
            "max_width": null,
            "min_height": null,
            "min_width": null,
            "object_fit": null,
            "object_position": null,
            "order": null,
            "overflow": null,
            "overflow_x": null,
            "overflow_y": null,
            "padding": null,
            "right": null,
            "top": null,
            "visibility": null,
            "width": null
          }
        },
        "dfa7963b4c8a464ab9ed46a24e478899": {
          "model_module": "@jupyter-widgets/base",
          "model_name": "LayoutModel",
          "model_module_version": "1.2.0",
          "state": {
            "_model_module": "@jupyter-widgets/base",
            "_model_module_version": "1.2.0",
            "_model_name": "LayoutModel",
            "_view_count": null,
            "_view_module": "@jupyter-widgets/base",
            "_view_module_version": "1.2.0",
            "_view_name": "LayoutView",
            "align_content": null,
            "align_items": null,
            "align_self": null,
            "border": null,
            "bottom": null,
            "display": null,
            "flex": null,
            "flex_flow": null,
            "grid_area": null,
            "grid_auto_columns": null,
            "grid_auto_flow": null,
            "grid_auto_rows": null,
            "grid_column": null,
            "grid_gap": null,
            "grid_row": null,
            "grid_template_areas": null,
            "grid_template_columns": null,
            "grid_template_rows": null,
            "height": null,
            "justify_content": null,
            "justify_items": null,
            "left": null,
            "margin": null,
            "max_height": null,
            "max_width": null,
            "min_height": null,
            "min_width": null,
            "object_fit": null,
            "object_position": null,
            "order": null,
            "overflow": null,
            "overflow_x": null,
            "overflow_y": null,
            "padding": null,
            "right": null,
            "top": null,
            "visibility": null,
            "width": null
          }
        },
        "4281ea60cb4b4596bcbc6f293d97e1f9": {
          "model_module": "@jupyter-widgets/controls",
          "model_name": "DescriptionStyleModel",
          "model_module_version": "1.5.0",
          "state": {
            "_model_module": "@jupyter-widgets/controls",
            "_model_module_version": "1.5.0",
            "_model_name": "DescriptionStyleModel",
            "_view_count": null,
            "_view_module": "@jupyter-widgets/base",
            "_view_module_version": "1.2.0",
            "_view_name": "StyleView",
            "description_width": ""
          }
        },
        "f7e595dc6ccd4f9eb6ed13718f399276": {
          "model_module": "@jupyter-widgets/base",
          "model_name": "LayoutModel",
          "model_module_version": "1.2.0",
          "state": {
            "_model_module": "@jupyter-widgets/base",
            "_model_module_version": "1.2.0",
            "_model_name": "LayoutModel",
            "_view_count": null,
            "_view_module": "@jupyter-widgets/base",
            "_view_module_version": "1.2.0",
            "_view_name": "LayoutView",
            "align_content": null,
            "align_items": null,
            "align_self": null,
            "border": null,
            "bottom": null,
            "display": null,
            "flex": null,
            "flex_flow": null,
            "grid_area": null,
            "grid_auto_columns": null,
            "grid_auto_flow": null,
            "grid_auto_rows": null,
            "grid_column": null,
            "grid_gap": null,
            "grid_row": null,
            "grid_template_areas": null,
            "grid_template_columns": null,
            "grid_template_rows": null,
            "height": null,
            "justify_content": null,
            "justify_items": null,
            "left": null,
            "margin": null,
            "max_height": null,
            "max_width": null,
            "min_height": null,
            "min_width": null,
            "object_fit": null,
            "object_position": null,
            "order": null,
            "overflow": null,
            "overflow_x": null,
            "overflow_y": null,
            "padding": null,
            "right": null,
            "top": null,
            "visibility": null,
            "width": null
          }
        },
        "5b9d0c03016043ac8b93146b1d38608d": {
          "model_module": "@jupyter-widgets/controls",
          "model_name": "ProgressStyleModel",
          "model_module_version": "1.5.0",
          "state": {
            "_model_module": "@jupyter-widgets/controls",
            "_model_module_version": "1.5.0",
            "_model_name": "ProgressStyleModel",
            "_view_count": null,
            "_view_module": "@jupyter-widgets/base",
            "_view_module_version": "1.2.0",
            "_view_name": "StyleView",
            "bar_color": null,
            "description_width": ""
          }
        },
        "6de935a1e32742e7b36ff1432674d513": {
          "model_module": "@jupyter-widgets/base",
          "model_name": "LayoutModel",
          "model_module_version": "1.2.0",
          "state": {
            "_model_module": "@jupyter-widgets/base",
            "_model_module_version": "1.2.0",
            "_model_name": "LayoutModel",
            "_view_count": null,
            "_view_module": "@jupyter-widgets/base",
            "_view_module_version": "1.2.0",
            "_view_name": "LayoutView",
            "align_content": null,
            "align_items": null,
            "align_self": null,
            "border": null,
            "bottom": null,
            "display": null,
            "flex": null,
            "flex_flow": null,
            "grid_area": null,
            "grid_auto_columns": null,
            "grid_auto_flow": null,
            "grid_auto_rows": null,
            "grid_column": null,
            "grid_gap": null,
            "grid_row": null,
            "grid_template_areas": null,
            "grid_template_columns": null,
            "grid_template_rows": null,
            "height": null,
            "justify_content": null,
            "justify_items": null,
            "left": null,
            "margin": null,
            "max_height": null,
            "max_width": null,
            "min_height": null,
            "min_width": null,
            "object_fit": null,
            "object_position": null,
            "order": null,
            "overflow": null,
            "overflow_x": null,
            "overflow_y": null,
            "padding": null,
            "right": null,
            "top": null,
            "visibility": null,
            "width": null
          }
        },
        "1cf8c77988ca46dd9f53b3d0ebcaf694": {
          "model_module": "@jupyter-widgets/controls",
          "model_name": "DescriptionStyleModel",
          "model_module_version": "1.5.0",
          "state": {
            "_model_module": "@jupyter-widgets/controls",
            "_model_module_version": "1.5.0",
            "_model_name": "DescriptionStyleModel",
            "_view_count": null,
            "_view_module": "@jupyter-widgets/base",
            "_view_module_version": "1.2.0",
            "_view_name": "StyleView",
            "description_width": ""
          }
        },
        "f515b8dd29be4fcb962c6798afd89ebd": {
          "model_module": "@jupyter-widgets/controls",
          "model_name": "HBoxModel",
          "model_module_version": "1.5.0",
          "state": {
            "_dom_classes": [],
            "_model_module": "@jupyter-widgets/controls",
            "_model_module_version": "1.5.0",
            "_model_name": "HBoxModel",
            "_view_count": null,
            "_view_module": "@jupyter-widgets/controls",
            "_view_module_version": "1.5.0",
            "_view_name": "HBoxView",
            "box_style": "",
            "children": [
              "IPY_MODEL_d9f596b96bc04f9489743a93cbed9c08",
              "IPY_MODEL_01e792de6c6e4e45a2f1b2fd16895e8e",
              "IPY_MODEL_ead26a043ccd4879aa0f9354fd453809"
            ],
            "layout": "IPY_MODEL_3bfb649cb8524f2ba9f3c0936853e842"
          }
        },
        "d9f596b96bc04f9489743a93cbed9c08": {
          "model_module": "@jupyter-widgets/controls",
          "model_name": "HTMLModel",
          "model_module_version": "1.5.0",
          "state": {
            "_dom_classes": [],
            "_model_module": "@jupyter-widgets/controls",
            "_model_module_version": "1.5.0",
            "_model_name": "HTMLModel",
            "_view_count": null,
            "_view_module": "@jupyter-widgets/controls",
            "_view_module_version": "1.5.0",
            "_view_name": "HTMLView",
            "description": "",
            "description_tooltip": null,
            "layout": "IPY_MODEL_b3a3d4d8d56a4389af4c38059989ba9b",
            "placeholder": "​",
            "style": "IPY_MODEL_df9e8670ea784acaba3ad5ff3cf5dea2",
            "value": ""
          }
        },
        "01e792de6c6e4e45a2f1b2fd16895e8e": {
          "model_module": "@jupyter-widgets/controls",
          "model_name": "FloatProgressModel",
          "model_module_version": "1.5.0",
          "state": {
            "_dom_classes": [],
            "_model_module": "@jupyter-widgets/controls",
            "_model_module_version": "1.5.0",
            "_model_name": "FloatProgressModel",
            "_view_count": null,
            "_view_module": "@jupyter-widgets/controls",
            "_view_module_version": "1.5.0",
            "_view_name": "ProgressView",
            "bar_style": "success",
            "description": "",
            "description_tooltip": null,
            "layout": "IPY_MODEL_60b6527044df4648bef16eff9dc2ef20",
            "max": 1671,
            "min": 0,
            "orientation": "horizontal",
            "style": "IPY_MODEL_8d8bef28a1ff41f4bb102917c74b4173",
            "value": 1671
          }
        },
        "ead26a043ccd4879aa0f9354fd453809": {
          "model_module": "@jupyter-widgets/controls",
          "model_name": "HTMLModel",
          "model_module_version": "1.5.0",
          "state": {
            "_dom_classes": [],
            "_model_module": "@jupyter-widgets/controls",
            "_model_module_version": "1.5.0",
            "_model_name": "HTMLModel",
            "_view_count": null,
            "_view_module": "@jupyter-widgets/controls",
            "_view_module_version": "1.5.0",
            "_view_name": "HTMLView",
            "description": "",
            "description_tooltip": null,
            "layout": "IPY_MODEL_a97edf1b799941c9a6d8f8c7d87bb9a4",
            "placeholder": "​",
            "style": "IPY_MODEL_8a39fb5522684b139cb33177d9a21ad3",
            "value": " 1672/? [05:28&lt;00:00,  6.19it/s]"
          }
        },
        "3bfb649cb8524f2ba9f3c0936853e842": {
          "model_module": "@jupyter-widgets/base",
          "model_name": "LayoutModel",
          "model_module_version": "1.2.0",
          "state": {
            "_model_module": "@jupyter-widgets/base",
            "_model_module_version": "1.2.0",
            "_model_name": "LayoutModel",
            "_view_count": null,
            "_view_module": "@jupyter-widgets/base",
            "_view_module_version": "1.2.0",
            "_view_name": "LayoutView",
            "align_content": null,
            "align_items": null,
            "align_self": null,
            "border": null,
            "bottom": null,
            "display": null,
            "flex": null,
            "flex_flow": null,
            "grid_area": null,
            "grid_auto_columns": null,
            "grid_auto_flow": null,
            "grid_auto_rows": null,
            "grid_column": null,
            "grid_gap": null,
            "grid_row": null,
            "grid_template_areas": null,
            "grid_template_columns": null,
            "grid_template_rows": null,
            "height": null,
            "justify_content": null,
            "justify_items": null,
            "left": null,
            "margin": null,
            "max_height": null,
            "max_width": null,
            "min_height": null,
            "min_width": null,
            "object_fit": null,
            "object_position": null,
            "order": null,
            "overflow": null,
            "overflow_x": null,
            "overflow_y": null,
            "padding": null,
            "right": null,
            "top": null,
            "visibility": null,
            "width": null
          }
        },
        "b3a3d4d8d56a4389af4c38059989ba9b": {
          "model_module": "@jupyter-widgets/base",
          "model_name": "LayoutModel",
          "model_module_version": "1.2.0",
          "state": {
            "_model_module": "@jupyter-widgets/base",
            "_model_module_version": "1.2.0",
            "_model_name": "LayoutModel",
            "_view_count": null,
            "_view_module": "@jupyter-widgets/base",
            "_view_module_version": "1.2.0",
            "_view_name": "LayoutView",
            "align_content": null,
            "align_items": null,
            "align_self": null,
            "border": null,
            "bottom": null,
            "display": null,
            "flex": null,
            "flex_flow": null,
            "grid_area": null,
            "grid_auto_columns": null,
            "grid_auto_flow": null,
            "grid_auto_rows": null,
            "grid_column": null,
            "grid_gap": null,
            "grid_row": null,
            "grid_template_areas": null,
            "grid_template_columns": null,
            "grid_template_rows": null,
            "height": null,
            "justify_content": null,
            "justify_items": null,
            "left": null,
            "margin": null,
            "max_height": null,
            "max_width": null,
            "min_height": null,
            "min_width": null,
            "object_fit": null,
            "object_position": null,
            "order": null,
            "overflow": null,
            "overflow_x": null,
            "overflow_y": null,
            "padding": null,
            "right": null,
            "top": null,
            "visibility": null,
            "width": null
          }
        },
        "df9e8670ea784acaba3ad5ff3cf5dea2": {
          "model_module": "@jupyter-widgets/controls",
          "model_name": "DescriptionStyleModel",
          "model_module_version": "1.5.0",
          "state": {
            "_model_module": "@jupyter-widgets/controls",
            "_model_module_version": "1.5.0",
            "_model_name": "DescriptionStyleModel",
            "_view_count": null,
            "_view_module": "@jupyter-widgets/base",
            "_view_module_version": "1.2.0",
            "_view_name": "StyleView",
            "description_width": ""
          }
        },
        "60b6527044df4648bef16eff9dc2ef20": {
          "model_module": "@jupyter-widgets/base",
          "model_name": "LayoutModel",
          "model_module_version": "1.2.0",
          "state": {
            "_model_module": "@jupyter-widgets/base",
            "_model_module_version": "1.2.0",
            "_model_name": "LayoutModel",
            "_view_count": null,
            "_view_module": "@jupyter-widgets/base",
            "_view_module_version": "1.2.0",
            "_view_name": "LayoutView",
            "align_content": null,
            "align_items": null,
            "align_self": null,
            "border": null,
            "bottom": null,
            "display": null,
            "flex": null,
            "flex_flow": null,
            "grid_area": null,
            "grid_auto_columns": null,
            "grid_auto_flow": null,
            "grid_auto_rows": null,
            "grid_column": null,
            "grid_gap": null,
            "grid_row": null,
            "grid_template_areas": null,
            "grid_template_columns": null,
            "grid_template_rows": null,
            "height": null,
            "justify_content": null,
            "justify_items": null,
            "left": null,
            "margin": null,
            "max_height": null,
            "max_width": null,
            "min_height": null,
            "min_width": null,
            "object_fit": null,
            "object_position": null,
            "order": null,
            "overflow": null,
            "overflow_x": null,
            "overflow_y": null,
            "padding": null,
            "right": null,
            "top": null,
            "visibility": null,
            "width": null
          }
        },
        "8d8bef28a1ff41f4bb102917c74b4173": {
          "model_module": "@jupyter-widgets/controls",
          "model_name": "ProgressStyleModel",
          "model_module_version": "1.5.0",
          "state": {
            "_model_module": "@jupyter-widgets/controls",
            "_model_module_version": "1.5.0",
            "_model_name": "ProgressStyleModel",
            "_view_count": null,
            "_view_module": "@jupyter-widgets/base",
            "_view_module_version": "1.2.0",
            "_view_name": "StyleView",
            "bar_color": null,
            "description_width": ""
          }
        },
        "a97edf1b799941c9a6d8f8c7d87bb9a4": {
          "model_module": "@jupyter-widgets/base",
          "model_name": "LayoutModel",
          "model_module_version": "1.2.0",
          "state": {
            "_model_module": "@jupyter-widgets/base",
            "_model_module_version": "1.2.0",
            "_model_name": "LayoutModel",
            "_view_count": null,
            "_view_module": "@jupyter-widgets/base",
            "_view_module_version": "1.2.0",
            "_view_name": "LayoutView",
            "align_content": null,
            "align_items": null,
            "align_self": null,
            "border": null,
            "bottom": null,
            "display": null,
            "flex": null,
            "flex_flow": null,
            "grid_area": null,
            "grid_auto_columns": null,
            "grid_auto_flow": null,
            "grid_auto_rows": null,
            "grid_column": null,
            "grid_gap": null,
            "grid_row": null,
            "grid_template_areas": null,
            "grid_template_columns": null,
            "grid_template_rows": null,
            "height": null,
            "justify_content": null,
            "justify_items": null,
            "left": null,
            "margin": null,
            "max_height": null,
            "max_width": null,
            "min_height": null,
            "min_width": null,
            "object_fit": null,
            "object_position": null,
            "order": null,
            "overflow": null,
            "overflow_x": null,
            "overflow_y": null,
            "padding": null,
            "right": null,
            "top": null,
            "visibility": null,
            "width": null
          }
        },
        "8a39fb5522684b139cb33177d9a21ad3": {
          "model_module": "@jupyter-widgets/controls",
          "model_name": "DescriptionStyleModel",
          "model_module_version": "1.5.0",
          "state": {
            "_model_module": "@jupyter-widgets/controls",
            "_model_module_version": "1.5.0",
            "_model_name": "DescriptionStyleModel",
            "_view_count": null,
            "_view_module": "@jupyter-widgets/base",
            "_view_module_version": "1.2.0",
            "_view_name": "StyleView",
            "description_width": ""
          }
        }
      }
    }
  },
  "cells": [
    {
      "cell_type": "code",
      "execution_count": 1,
      "metadata": {
        "colab": {
          "base_uri": "https://localhost:8080/"
        },
        "id": "if5kMSksR0rg",
        "outputId": "184a892a-1d38-447e-f859-d5539b8f51ff"
      },
      "outputs": [
        {
          "output_type": "stream",
          "name": "stdout",
          "text": [
            "Mounted at /content/drive\n"
          ]
        }
      ],
      "source": [
        "import pandas as pd\n",
        "from pathlib import Path\n",
        "import os\n",
        "import random\n",
        "import numpy as np\n",
        "import json\n",
        "from datetime import timedelta\n",
        "from collections import Counter\n",
        "from tqdm.notebook import tqdm\n",
        "from heapq import nlargest\n",
        "\n",
        "import matplotlib.pyplot as plt\n",
        "import seaborn as sns\n",
        "sns.set_theme()\n",
        "\n",
        "import warnings\n",
        "warnings.filterwarnings('ignore')\n",
        "from google.colab import drive\n",
        "drive.mount('/content/drive')"
      ]
    },
    {
      "cell_type": "code",
      "source": [
        "### Paths ###\n",
        "\n",
        "DATA_PATH = Path('/content/drive/MyDrive/KAGGLE/Shopper-2022/otto-recommender-system')\n",
        "TRAIN_PATH = DATA_PATH/'train.jsonl'\n",
        "TEST_PATH = DATA_PATH/'test.jsonl'\n",
        "SAMPLE_SUB_PATH = Path('/content/drive/MyDrive/KAGGLE/Shopper-2022/otto-recommender-system/sample_submission.csv')"
      ],
      "metadata": {
        "id": "zjB_CuPkS8ZG"
      },
      "execution_count": 2,
      "outputs": []
    },
    {
      "cell_type": "code",
      "source": [
        "# Lets check how many lines the training data has!\n",
        "\n",
        "with open(TRAIN_PATH, 'r') as f:\n",
        "    print(f\"We have {len(f.readlines()):,} lines in the training data\")"
      ],
      "metadata": {
        "colab": {
          "base_uri": "https://localhost:8080/"
        },
        "id": "0nPbCJR1ziTE",
        "outputId": "d7d1e2a7-90b9-4db3-e5cd-5b5739c1da4f"
      },
      "execution_count": 3,
      "outputs": [
        {
          "output_type": "stream",
          "name": "stdout",
          "text": [
            "We have 12,899,779 lines in the training data\n"
          ]
        }
      ]
    },
    {
      "cell_type": "code",
      "source": [
        "# Load in a sample to a pandas df\n",
        "\n",
        "sample_size = 150000\n",
        "\n",
        "chunks = pd.read_json(TRAIN_PATH, lines=True, chunksize = sample_size)\n",
        "\n",
        "for c in chunks:\n",
        "    sample_train_df = c\n",
        "    break"
      ],
      "metadata": {
        "id": "dXi8fZJ5zo6e"
      },
      "execution_count": 4,
      "outputs": []
    },
    {
      "cell_type": "code",
      "source": [
        "sample_train_df.set_index('session', drop=True, inplace=True)\n",
        "sample_train_df.head()"
      ],
      "metadata": {
        "colab": {
          "base_uri": "https://localhost:8080/",
          "height": 237
        },
        "id": "kRc878EIRtH8",
        "outputId": "9d1d9953-c2bc-46b8-ab81-5c8ee8e5afd6"
      },
      "execution_count": 5,
      "outputs": [
        {
          "output_type": "execute_result",
          "data": {
            "text/plain": [
              "                                                    events\n",
              "session                                                   \n",
              "0        [{'aid': 1517085, 'ts': 1659304800025, 'type':...\n",
              "1        [{'aid': 424964, 'ts': 1659304800025, 'type': ...\n",
              "2        [{'aid': 763743, 'ts': 1659304800038, 'type': ...\n",
              "3        [{'aid': 1425967, 'ts': 1659304800095, 'type':...\n",
              "4        [{'aid': 613619, 'ts': 1659304800119, 'type': ..."
            ],
            "text/html": [
              "\n",
              "  <div id=\"df-a871ac53-d8ac-4de8-aa83-2324af867ed0\">\n",
              "    <div class=\"colab-df-container\">\n",
              "      <div>\n",
              "<style scoped>\n",
              "    .dataframe tbody tr th:only-of-type {\n",
              "        vertical-align: middle;\n",
              "    }\n",
              "\n",
              "    .dataframe tbody tr th {\n",
              "        vertical-align: top;\n",
              "    }\n",
              "\n",
              "    .dataframe thead th {\n",
              "        text-align: right;\n",
              "    }\n",
              "</style>\n",
              "<table border=\"1\" class=\"dataframe\">\n",
              "  <thead>\n",
              "    <tr style=\"text-align: right;\">\n",
              "      <th></th>\n",
              "      <th>events</th>\n",
              "    </tr>\n",
              "    <tr>\n",
              "      <th>session</th>\n",
              "      <th></th>\n",
              "    </tr>\n",
              "  </thead>\n",
              "  <tbody>\n",
              "    <tr>\n",
              "      <th>0</th>\n",
              "      <td>[{'aid': 1517085, 'ts': 1659304800025, 'type':...</td>\n",
              "    </tr>\n",
              "    <tr>\n",
              "      <th>1</th>\n",
              "      <td>[{'aid': 424964, 'ts': 1659304800025, 'type': ...</td>\n",
              "    </tr>\n",
              "    <tr>\n",
              "      <th>2</th>\n",
              "      <td>[{'aid': 763743, 'ts': 1659304800038, 'type': ...</td>\n",
              "    </tr>\n",
              "    <tr>\n",
              "      <th>3</th>\n",
              "      <td>[{'aid': 1425967, 'ts': 1659304800095, 'type':...</td>\n",
              "    </tr>\n",
              "    <tr>\n",
              "      <th>4</th>\n",
              "      <td>[{'aid': 613619, 'ts': 1659304800119, 'type': ...</td>\n",
              "    </tr>\n",
              "  </tbody>\n",
              "</table>\n",
              "</div>\n",
              "      <button class=\"colab-df-convert\" onclick=\"convertToInteractive('df-a871ac53-d8ac-4de8-aa83-2324af867ed0')\"\n",
              "              title=\"Convert this dataframe to an interactive table.\"\n",
              "              style=\"display:none;\">\n",
              "        \n",
              "  <svg xmlns=\"http://www.w3.org/2000/svg\" height=\"24px\"viewBox=\"0 0 24 24\"\n",
              "       width=\"24px\">\n",
              "    <path d=\"M0 0h24v24H0V0z\" fill=\"none\"/>\n",
              "    <path d=\"M18.56 5.44l.94 2.06.94-2.06 2.06-.94-2.06-.94-.94-2.06-.94 2.06-2.06.94zm-11 1L8.5 8.5l.94-2.06 2.06-.94-2.06-.94L8.5 2.5l-.94 2.06-2.06.94zm10 10l.94 2.06.94-2.06 2.06-.94-2.06-.94-.94-2.06-.94 2.06-2.06.94z\"/><path d=\"M17.41 7.96l-1.37-1.37c-.4-.4-.92-.59-1.43-.59-.52 0-1.04.2-1.43.59L10.3 9.45l-7.72 7.72c-.78.78-.78 2.05 0 2.83L4 21.41c.39.39.9.59 1.41.59.51 0 1.02-.2 1.41-.59l7.78-7.78 2.81-2.81c.8-.78.8-2.07 0-2.86zM5.41 20L4 18.59l7.72-7.72 1.47 1.35L5.41 20z\"/>\n",
              "  </svg>\n",
              "      </button>\n",
              "      \n",
              "  <style>\n",
              "    .colab-df-container {\n",
              "      display:flex;\n",
              "      flex-wrap:wrap;\n",
              "      gap: 12px;\n",
              "    }\n",
              "\n",
              "    .colab-df-convert {\n",
              "      background-color: #E8F0FE;\n",
              "      border: none;\n",
              "      border-radius: 50%;\n",
              "      cursor: pointer;\n",
              "      display: none;\n",
              "      fill: #1967D2;\n",
              "      height: 32px;\n",
              "      padding: 0 0 0 0;\n",
              "      width: 32px;\n",
              "    }\n",
              "\n",
              "    .colab-df-convert:hover {\n",
              "      background-color: #E2EBFA;\n",
              "      box-shadow: 0px 1px 2px rgba(60, 64, 67, 0.3), 0px 1px 3px 1px rgba(60, 64, 67, 0.15);\n",
              "      fill: #174EA6;\n",
              "    }\n",
              "\n",
              "    [theme=dark] .colab-df-convert {\n",
              "      background-color: #3B4455;\n",
              "      fill: #D2E3FC;\n",
              "    }\n",
              "\n",
              "    [theme=dark] .colab-df-convert:hover {\n",
              "      background-color: #434B5C;\n",
              "      box-shadow: 0px 1px 3px 1px rgba(0, 0, 0, 0.15);\n",
              "      filter: drop-shadow(0px 1px 2px rgba(0, 0, 0, 0.3));\n",
              "      fill: #FFFFFF;\n",
              "    }\n",
              "  </style>\n",
              "\n",
              "      <script>\n",
              "        const buttonEl =\n",
              "          document.querySelector('#df-a871ac53-d8ac-4de8-aa83-2324af867ed0 button.colab-df-convert');\n",
              "        buttonEl.style.display =\n",
              "          google.colab.kernel.accessAllowed ? 'block' : 'none';\n",
              "\n",
              "        async function convertToInteractive(key) {\n",
              "          const element = document.querySelector('#df-a871ac53-d8ac-4de8-aa83-2324af867ed0');\n",
              "          const dataTable =\n",
              "            await google.colab.kernel.invokeFunction('convertToInteractive',\n",
              "                                                     [key], {});\n",
              "          if (!dataTable) return;\n",
              "\n",
              "          const docLinkHtml = 'Like what you see? Visit the ' +\n",
              "            '<a target=\"_blank\" href=https://colab.research.google.com/notebooks/data_table.ipynb>data table notebook</a>'\n",
              "            + ' to learn more about interactive tables.';\n",
              "          element.innerHTML = '';\n",
              "          dataTable['output_type'] = 'display_data';\n",
              "          await google.colab.output.renderOutput(dataTable, element);\n",
              "          const docLink = document.createElement('div');\n",
              "          docLink.innerHTML = docLinkHtml;\n",
              "          element.appendChild(docLink);\n",
              "        }\n",
              "      </script>\n",
              "    </div>\n",
              "  </div>\n",
              "  "
            ]
          },
          "metadata": {},
          "execution_count": 5
        }
      ]
    },
    {
      "cell_type": "markdown",
      "source": [
        "### Data structure\n",
        "session - 고유한 세션 ID입니다. 각 세션에는 시간순으로 정렬된 이벤트 목록이 포함됩니다.\n",
        "\n",
        "events - 세션에서 이벤트의 시간 순서 시퀀스입니다. 각 이벤트에는 3가지 정보가 포함됩니다.\n",
        "\n",
        "1. aid - 관련 이벤트의 아티클 ID(제품 코드)\n",
        "\n",
        "2. ts - 이벤트의 유닉스 타임스탬프(유닉스 타임스탬프는 1970년 1월 1일 00:00:00 UTC 이후 경과된 마이크로초 수입니다.)\n",
        "\n",
        "3. type - 이벤트 유형, 즉 제품을 클릭했는지(클릭했는지), 사용자 카트에 추가했는지(클릭했는지), 세션 중에 주문했는지(주문)"
      ],
      "metadata": {
        "id": "zZ3xRmzYR-Vx"
      }
    },
    {
      "cell_type": "code",
      "source": [
        "# Let's look at an example session and print out some basic info\n",
        "\n",
        "# Sample the first session in the df\n",
        "example_session = sample_train_df.iloc[0].item()\n",
        "print(f'This session was {len(example_session)} actions long \\n')\n",
        "print(f'The first action in the session: \\n {example_session[0]} \\n')\n",
        "\n",
        "# Time of session\n",
        "time_elapsed = example_session[-1][\"ts\"] - example_session[0][\"ts\"]\n",
        "# The timestamp is in microseconds since 00:00:00 UTC on 1 January 1970\n",
        "print(f'The first session elapsed: {str(timedelta(microseconds=time_elapsed))} \\n')\n",
        "\n",
        "# Count the frequency of actions within the session\n",
        "action_counts = {}\n",
        "for action in example_session:\n",
        "    action_counts[action['type']] = action_counts.get(action['type'], 0) + 1  \n",
        "print(f'The first session contains the following frequency of actions: {action_counts}')"
      ],
      "metadata": {
        "colab": {
          "base_uri": "https://localhost:8080/"
        },
        "id": "TlBhtAXlRtv9",
        "outputId": "0598cb21-ca67-4aa1-c5ca-e89f7157e4b8"
      },
      "execution_count": 6,
      "outputs": [
        {
          "output_type": "stream",
          "name": "stdout",
          "text": [
            "This session was 276 actions long \n",
            "\n",
            "The first action in the session: \n",
            " {'aid': 1517085, 'ts': 1659304800025, 'type': 'clicks'} \n",
            "\n",
            "The first session elapsed: 0:39:40.183682 \n",
            "\n",
            "The first session contains the following frequency of actions: {'clicks': 255, 'carts': 17, 'orders': 4}\n"
          ]
        }
      ]
    },
    {
      "cell_type": "markdown",
      "source": [
        "### EDA"
      ],
      "metadata": {
        "id": "mRxsWhgwTAMK"
      }
    },
    {
      "cell_type": "code",
      "source": [
        "### Extract information from each session and add it to the df ###\n",
        "\n",
        "action_counts_list, article_id_counts_list, session_length_time_list, session_length_action_list = ([] for i in range(4))\n",
        "overall_action_counts = {}\n",
        "overall_article_id_counts = {}\n",
        "\n",
        "for i, row in tqdm(sample_train_df.iterrows(), total=len(sample_train_df)):\n",
        "    \n",
        "    actions = row['events']\n",
        "    \n",
        "    # Get the frequency of actions and article_ids\n",
        "    action_counts = {}\n",
        "    article_id_counts = {}\n",
        "    for action in actions:\n",
        "        action_counts[action['type']] = action_counts.get(action['type'], 0) + 1\n",
        "        article_id_counts[action['aid']] = article_id_counts.get(action['aid'], 0) + 1\n",
        "        overall_action_counts[action['type']] = overall_action_counts.get(action['type'], 0) + 1\n",
        "        overall_article_id_counts[action['aid']] = overall_article_id_counts.get(action['aid'], 0) + 1\n",
        "        \n",
        "    # Get the length of the session\n",
        "    session_length_time = actions[-1]['ts'] - actions[0]['ts']\n",
        "    \n",
        "    # Add to list\n",
        "    action_counts_list.append(action_counts)\n",
        "    article_id_counts_list.append(article_id_counts)\n",
        "    session_length_time_list.append(session_length_time)\n",
        "    session_length_action_list.append(len(actions))\n",
        "    \n",
        "sample_train_df['action_counts'] = action_counts_list\n",
        "sample_train_df['article_id_counts'] = article_id_counts_list\n",
        "sample_train_df['session_length_unix'] = session_length_time_list\n",
        "sample_train_df['session_length_minutes'] = sample_train_df['session_length_unix']*1.66667e-8    # Convert to minutes\n",
        "sample_train_df['session_length_action'] = session_length_action_list"
      ],
      "metadata": {
        "colab": {
          "base_uri": "https://localhost:8080/",
          "height": 49,
          "referenced_widgets": [
            "60f82b699d5549ea8e132cb55276432c",
            "e66cff4e98dc4f96b10e03418ea2d988",
            "557899723f414cbca8263aa37b14f97f",
            "2e6d4ebf0b0c4488b0421498dee1b30c",
            "7de1aff0f28c4490801b2a6d2873e8e0",
            "dfa7963b4c8a464ab9ed46a24e478899",
            "4281ea60cb4b4596bcbc6f293d97e1f9",
            "f7e595dc6ccd4f9eb6ed13718f399276",
            "5b9d0c03016043ac8b93146b1d38608d",
            "6de935a1e32742e7b36ff1432674d513",
            "1cf8c77988ca46dd9f53b3d0ebcaf694"
          ]
        },
        "id": "SNXBhcU7S4EH",
        "outputId": "a899100b-7e5f-494e-fcce-eaf4afa61b4c"
      },
      "execution_count": 7,
      "outputs": [
        {
          "output_type": "display_data",
          "data": {
            "text/plain": [
              "  0%|          | 0/150000 [00:00<?, ?it/s]"
            ],
            "application/vnd.jupyter.widget-view+json": {
              "version_major": 2,
              "version_minor": 0,
              "model_id": "60f82b699d5549ea8e132cb55276432c"
            }
          },
          "metadata": {}
        }
      ]
    },
    {
      "cell_type": "code",
      "source": [
        "### Actions ###\n",
        "\n",
        "total_actions = sum(overall_action_counts.values())\n",
        "\n",
        "plt.figure(figsize=(8,6))\n",
        "sns.barplot(x=list(overall_action_counts.keys()), y=[i/total_actions for i in overall_action_counts.values()]);\n",
        "plt.title(f'Action frequency', fontsize=12)\n",
        "plt.ylabel('Count', fontsize=12)\n",
        "plt.xlabel('Category', fontsize=12)\n",
        "plt.show()"
      ],
      "metadata": {
        "colab": {
          "base_uri": "https://localhost:8080/",
          "height": 410
        },
        "id": "3vKhhvK7TC4V",
        "outputId": "ba7647a1-65b8-420e-9e39-e54c7506f9a6"
      },
      "execution_count": 8,
      "outputs": [
        {
          "output_type": "display_data",
          "data": {
            "text/plain": [
              "<Figure size 576x432 with 1 Axes>"
            ],
            "image/png": "[encoded data removed]"
          },
          "metadata": {}
        }
      ]
    },
    {
      "cell_type": "code",
      "source": [
        "fig, ax = plt.subplots(1,2, figsize=(24, 10))\n",
        "\n",
        "p = sns.distplot(sample_train_df['session_length_action'], color=\"y\", bins= 70, ax=ax[0], kde=False)\n",
        "p.set_xlabel(\"Number of actions\", fontsize = 16)\n",
        "p.set_ylabel(\"Density\", fontsize = 16)\n",
        "p.set_title(\"Distribution of the number of actions taken in each session\", fontsize = 14)\n",
        "p.axvline(sample_train_df['session_length_action'].mean(), color='r', linestyle='--', label=\"Mean\")\n",
        "\n",
        "p = sns.distplot(sample_train_df['session_length_minutes'], color=\"b\", bins= 70, ax=ax[1], kde=False)\n",
        "p.set_xlabel(\"Minutes\", fontsize = 16)\n",
        "p.set_ylabel(\"Density\", fontsize = 16)\n",
        "p.set_title(\"Length of each session\", fontsize = 16);"
      ],
      "metadata": {
        "colab": {
          "base_uri": "https://localhost:8080/",
          "height": 620
        },
        "id": "h-EqXU_6TH71",
        "outputId": "5478cdd0-5337-4994-d815-d9ce4f3279af"
      },
      "execution_count": 9,
      "outputs": [
        {
          "output_type": "display_data",
          "data": {
            "text/plain": [
              "<Figure size 1728x720 with 2 Axes>"
            ],
            "image/png": "[encoded data removed]"
          },
          "metadata": {}
        }
      ]
    },
    {
      "cell_type": "code",
      "source": [
        "print(f'{round(len(sample_train_df[sample_train_df[\"session_length_action\"]<10])/len(sample_train_df),3)*100}% of the sessions had less than 10 actions')"
      ],
      "metadata": {
        "colab": {
          "base_uri": "https://localhost:8080/"
        },
        "id": "aLxym6JCTPSN",
        "outputId": "77f12f70-8aaa-45a7-d17e-d520bc212796"
      },
      "execution_count": 10,
      "outputs": [
        {
          "output_type": "stream",
          "name": "stdout",
          "text": [
            "34.8% of the sessions had less than 10 actions\n"
          ]
        }
      ]
    },
    {
      "cell_type": "code",
      "source": [
        "article_id_freq = list(overall_article_id_counts.values())\n",
        "cut_off = [i for i in article_id_freq if i<30]\n",
        "\n",
        "plt.figure(figsize=(8,6))\n",
        "sns.distplot(cut_off, bins=30, kde=False);\n",
        "plt.title(f'Article ID frequency', fontsize=12)\n",
        "plt.ylabel('Count', fontsize=12)\n",
        "plt.xlabel('Article', fontsize=12);"
      ],
      "metadata": {
        "colab": {
          "base_uri": "https://localhost:8080/",
          "height": 410
        },
        "id": "JbjJvkNhTWK8",
        "outputId": "7cefaa2f-9bb8-40ad-fd2b-ad20d7276914"
      },
      "execution_count": 11,
      "outputs": [
        {
          "output_type": "display_data",
          "data": {
            "text/plain": [
              "<Figure size 576x432 with 1 Axes>"
            ],
            "image/png": "[encoded data removed]"
          },
          "metadata": {}
        }
      ]
    },
    {
      "cell_type": "code",
      "source": [
        "### Look at the most interacted with articles ###\n",
        "print(f'Frequency of most common articles: {sorted(list(overall_article_id_counts.values()))[-5:]} \\n')\n",
        "res = nlargest(5, overall_article_id_counts, key = overall_article_id_counts.get)\n",
        "print(f'IDs for those common articles: {res}')"
      ],
      "metadata": {
        "colab": {
          "base_uri": "https://localhost:8080/"
        },
        "id": "QcAX-nJxTZPl",
        "outputId": "d728bcf6-a2da-4029-8e48-d303a13ad697"
      },
      "execution_count": 12,
      "outputs": [
        {
          "output_type": "stream",
          "name": "stdout",
          "text": [
            "Frequency of most common articles: [3877, 4259, 4323, 4503, 5000] \n",
            "\n",
            "IDs for those common articles: [29735, 1603001, 832192, 1733943, 108125]\n"
          ]
        }
      ]
    },
    {
      "cell_type": "markdown",
      "source": [
        "### Baseline Code\n",
        "\n",
        "'테스트 데이터'에는 훈련 데이터와 유사한 잘린 세션 데이터가 포함되어 있다. 이 작업은 세션 잘라내기 후 클릭되는 다음 보조 도구와 카트 및 주문에 추가되는 나머지 보조 도구를 예측하는 것입니다. 각 세션 유형에 대해 최대 20개의 값을 예측할 수 있습니다.\n",
        "\n",
        "제출된 내용은 각 작업 유형별 리콜에서 평가되며, 세 가지 리콜 값은 가중치 평균이 적용됩니다. {'클릭': 0.10, '카트': 0.30, '주문': 0.60}. 대부분의 가중치가 적용되므로 '주문' 예측을 정확하게 하는 것이 중요합니다. :)\n",
        "\n",
        "테스트 데이터의 각 세션에 대해 마지막 타임스탬프가 테스트 세션을 수행한 후 발생하는 각 유형에 대한 보조 값을 예측하는 작업을 수행합니다. 즉, 테스트 데이터에는 타임스탬프에 의해 잘린 세션이 포함되어 있으며 잘린 지점 이후에 어떤 일이 발생할지 예측해야 합니다.\n",
        "\n",
        "클릭의 경우 각 세션에 대한 실제 값은 하나뿐이며, 이 값은 세션 중에 클릭된 다음 보조 값입니다(최대 20개의 보조 값을 예측할 수 있음). 카트 및 주문에 대한 기본 진실에는 세션 중에 각각 카트에 추가되고 주문된 모든 지원 값이 포함됩니다.\n",
        "\n",
        "각 세션 및 유형 조합은 제출의 session_type 행(세션당 3개 행)에 나타나야 하며 예측은 공백으로 구분되어야 합니다. 이는 아래의 sample_test_df에서 확인할 수 있습니다."
      ],
      "metadata": {
        "id": "Jdo42a0STsd6"
      }
    },
    {
      "cell_type": "code",
      "source": [
        "with open(TEST_PATH, 'r') as f:\n",
        "    print(f\"We have {len(f.readlines()):,} lines in the test data\")"
      ],
      "metadata": {
        "colab": {
          "base_uri": "https://localhost:8080/"
        },
        "id": "H3Q4pWcUTnj1",
        "outputId": "be51a7f0-8f68-4466-c85c-729e8f96a952"
      },
      "execution_count": 13,
      "outputs": [
        {
          "output_type": "stream",
          "name": "stdout",
          "text": [
            "We have 1,671,803 lines in the test data\n"
          ]
        }
      ]
    },
    {
      "cell_type": "code",
      "source": [
        "# Load in a sample to a pandas df\n",
        "\n",
        "sample_size = 150\n",
        "\n",
        "chunks = pd.read_json(TEST_PATH, lines=True, chunksize = sample_size)\n",
        "\n",
        "for c in chunks:\n",
        "    sample_test_df = c\n",
        "    break"
      ],
      "metadata": {
        "id": "_qgaI_KGTxVc"
      },
      "execution_count": 14,
      "outputs": []
    },
    {
      "cell_type": "code",
      "source": [
        "sample_test_df.head()"
      ],
      "metadata": {
        "colab": {
          "base_uri": "https://localhost:8080/",
          "height": 206
        },
        "id": "fCktIoKlTybE",
        "outputId": "face7425-a307-4fb2-a16d-f8369743f79a"
      },
      "execution_count": 15,
      "outputs": [
        {
          "output_type": "execute_result",
          "data": {
            "text/plain": [
              "    session                                             events\n",
              "0  12899779  [{'aid': 59625, 'ts': 1661724000278, 'type': '...\n",
              "1  12899780  [{'aid': 1142000, 'ts': 1661724000378, 'type':...\n",
              "2  12899781  [{'aid': 141736, 'ts': 1661724000559, 'type': ...\n",
              "3  12899782  [{'aid': 1669402, 'ts': 1661724000568, 'type':...\n",
              "4  12899783  [{'aid': 255297, 'ts': 1661724000572, 'type': ..."
            ],
            "text/html": [
              "\n",
              "  <div id=\"df-6c57a631-724c-44fd-80b3-c4d9eebfa7e2\">\n",
              "    <div class=\"colab-df-container\">\n",
              "      <div>\n",
              "<style scoped>\n",
              "    .dataframe tbody tr th:only-of-type {\n",
              "        vertical-align: middle;\n",
              "    }\n",
              "\n",
              "    .dataframe tbody tr th {\n",
              "        vertical-align: top;\n",
              "    }\n",
              "\n",
              "    .dataframe thead th {\n",
              "        text-align: right;\n",
              "    }\n",
              "</style>\n",
              "<table border=\"1\" class=\"dataframe\">\n",
              "  <thead>\n",
              "    <tr style=\"text-align: right;\">\n",
              "      <th></th>\n",
              "      <th>session</th>\n",
              "      <th>events</th>\n",
              "    </tr>\n",
              "  </thead>\n",
              "  <tbody>\n",
              "    <tr>\n",
              "      <th>0</th>\n",
              "      <td>12899779</td>\n",
              "      <td>[{'aid': 59625, 'ts': 1661724000278, 'type': '...</td>\n",
              "    </tr>\n",
              "    <tr>\n",
              "      <th>1</th>\n",
              "      <td>12899780</td>\n",
              "      <td>[{'aid': 1142000, 'ts': 1661724000378, 'type':...</td>\n",
              "    </tr>\n",
              "    <tr>\n",
              "      <th>2</th>\n",
              "      <td>12899781</td>\n",
              "      <td>[{'aid': 141736, 'ts': 1661724000559, 'type': ...</td>\n",
              "    </tr>\n",
              "    <tr>\n",
              "      <th>3</th>\n",
              "      <td>12899782</td>\n",
              "      <td>[{'aid': 1669402, 'ts': 1661724000568, 'type':...</td>\n",
              "    </tr>\n",
              "    <tr>\n",
              "      <th>4</th>\n",
              "      <td>12899783</td>\n",
              "      <td>[{'aid': 255297, 'ts': 1661724000572, 'type': ...</td>\n",
              "    </tr>\n",
              "  </tbody>\n",
              "</table>\n",
              "</div>\n",
              "      <button class=\"colab-df-convert\" onclick=\"convertToInteractive('df-6c57a631-724c-44fd-80b3-c4d9eebfa7e2')\"\n",
              "              title=\"Convert this dataframe to an interactive table.\"\n",
              "              style=\"display:none;\">\n",
              "        \n",
              "  <svg xmlns=\"http://www.w3.org/2000/svg\" height=\"24px\"viewBox=\"0 0 24 24\"\n",
              "       width=\"24px\">\n",
              "    <path d=\"M0 0h24v24H0V0z\" fill=\"none\"/>\n",
              "    <path d=\"M18.56 5.44l.94 2.06.94-2.06 2.06-.94-2.06-.94-.94-2.06-.94 2.06-2.06.94zm-11 1L8.5 8.5l.94-2.06 2.06-.94-2.06-.94L8.5 2.5l-.94 2.06-2.06.94zm10 10l.94 2.06.94-2.06 2.06-.94-2.06-.94-.94-2.06-.94 2.06-2.06.94z\"/><path d=\"M17.41 7.96l-1.37-1.37c-.4-.4-.92-.59-1.43-.59-.52 0-1.04.2-1.43.59L10.3 9.45l-7.72 7.72c-.78.78-.78 2.05 0 2.83L4 21.41c.39.39.9.59 1.41.59.51 0 1.02-.2 1.41-.59l7.78-7.78 2.81-2.81c.8-.78.8-2.07 0-2.86zM5.41 20L4 18.59l7.72-7.72 1.47 1.35L5.41 20z\"/>\n",
              "  </svg>\n",
              "      </button>\n",
              "      \n",
              "  <style>\n",
              "    .colab-df-container {\n",
              "      display:flex;\n",
              "      flex-wrap:wrap;\n",
              "      gap: 12px;\n",
              "    }\n",
              "\n",
              "    .colab-df-convert {\n",
              "      background-color: #E8F0FE;\n",
              "      border: none;\n",
              "      border-radius: 50%;\n",
              "      cursor: pointer;\n",
              "      display: none;\n",
              "      fill: #1967D2;\n",
              "      height: 32px;\n",
              "      padding: 0 0 0 0;\n",
              "      width: 32px;\n",
              "    }\n",
              "\n",
              "    .colab-df-convert:hover {\n",
              "      background-color: #E2EBFA;\n",
              "      box-shadow: 0px 1px 2px rgba(60, 64, 67, 0.3), 0px 1px 3px 1px rgba(60, 64, 67, 0.15);\n",
              "      fill: #174EA6;\n",
              "    }\n",
              "\n",
              "    [theme=dark] .colab-df-convert {\n",
              "      background-color: #3B4455;\n",
              "      fill: #D2E3FC;\n",
              "    }\n",
              "\n",
              "    [theme=dark] .colab-df-convert:hover {\n",
              "      background-color: #434B5C;\n",
              "      box-shadow: 0px 1px 3px 1px rgba(0, 0, 0, 0.15);\n",
              "      filter: drop-shadow(0px 1px 2px rgba(0, 0, 0, 0.3));\n",
              "      fill: #FFFFFF;\n",
              "    }\n",
              "  </style>\n",
              "\n",
              "      <script>\n",
              "        const buttonEl =\n",
              "          document.querySelector('#df-6c57a631-724c-44fd-80b3-c4d9eebfa7e2 button.colab-df-convert');\n",
              "        buttonEl.style.display =\n",
              "          google.colab.kernel.accessAllowed ? 'block' : 'none';\n",
              "\n",
              "        async function convertToInteractive(key) {\n",
              "          const element = document.querySelector('#df-6c57a631-724c-44fd-80b3-c4d9eebfa7e2');\n",
              "          const dataTable =\n",
              "            await google.colab.kernel.invokeFunction('convertToInteractive',\n",
              "                                                     [key], {});\n",
              "          if (!dataTable) return;\n",
              "\n",
              "          const docLinkHtml = 'Like what you see? Visit the ' +\n",
              "            '<a target=\"_blank\" href=https://colab.research.google.com/notebooks/data_table.ipynb>data table notebook</a>'\n",
              "            + ' to learn more about interactive tables.';\n",
              "          element.innerHTML = '';\n",
              "          dataTable['output_type'] = 'display_data';\n",
              "          await google.colab.output.renderOutput(dataTable, element);\n",
              "          const docLink = document.createElement('div');\n",
              "          docLink.innerHTML = docLinkHtml;\n",
              "          element.appendChild(docLink);\n",
              "        }\n",
              "      </script>\n",
              "    </div>\n",
              "  </div>\n",
              "  "
            ]
          },
          "metadata": {},
          "execution_count": 15
        }
      ]
    },
    {
      "cell_type": "markdown",
      "source": [
        "검정 집합의 각 세션에 대해 예측(라벨)이 있습니다. 이것은 해당 세션에서 다음에 상호 작용할 기사를 예측합니다. 각 세션에는 세 가지 동작(클릭, 카트, 주문)이 있으며 세 가지 동작 모두에 대한 예측이 이루어집니다."
      ],
      "metadata": {
        "id": "tH98g8DvT-Vc"
      }
    },
    {
      "cell_type": "code",
      "source": [
        "sample_submission = pd.read_csv(SAMPLE_SUB_PATH)\n",
        "sample_submission.head()"
      ],
      "metadata": {
        "colab": {
          "base_uri": "https://localhost:8080/",
          "height": 206
        },
        "id": "TzRoXMjATzms",
        "outputId": "90dd9f1b-3d0b-40e8-a822-0de0e626b7d1"
      },
      "execution_count": 16,
      "outputs": [
        {
          "output_type": "execute_result",
          "data": {
            "text/plain": [
              "      session_type                labels\n",
              "0  12899779_clicks  129004 126836 118524\n",
              "1   12899779_carts  129004 126836 118524\n",
              "2  12899779_orders  129004 126836 118524\n",
              "3  12899780_clicks  129004 126836 118524\n",
              "4   12899780_carts  129004 126836 118524"
            ],
            "text/html": [
              "\n",
              "  <div id=\"df-12db31e1-5f05-4afb-ac52-d54977e1666e\">\n",
              "    <div class=\"colab-df-container\">\n",
              "      <div>\n",
              "<style scoped>\n",
              "    .dataframe tbody tr th:only-of-type {\n",
              "        vertical-align: middle;\n",
              "    }\n",
              "\n",
              "    .dataframe tbody tr th {\n",
              "        vertical-align: top;\n",
              "    }\n",
              "\n",
              "    .dataframe thead th {\n",
              "        text-align: right;\n",
              "    }\n",
              "</style>\n",
              "<table border=\"1\" class=\"dataframe\">\n",
              "  <thead>\n",
              "    <tr style=\"text-align: right;\">\n",
              "      <th></th>\n",
              "      <th>session_type</th>\n",
              "      <th>labels</th>\n",
              "    </tr>\n",
              "  </thead>\n",
              "  <tbody>\n",
              "    <tr>\n",
              "      <th>0</th>\n",
              "      <td>12899779_clicks</td>\n",
              "      <td>129004 126836 118524</td>\n",
              "    </tr>\n",
              "    <tr>\n",
              "      <th>1</th>\n",
              "      <td>12899779_carts</td>\n",
              "      <td>129004 126836 118524</td>\n",
              "    </tr>\n",
              "    <tr>\n",
              "      <th>2</th>\n",
              "      <td>12899779_orders</td>\n",
              "      <td>129004 126836 118524</td>\n",
              "    </tr>\n",
              "    <tr>\n",
              "      <th>3</th>\n",
              "      <td>12899780_clicks</td>\n",
              "      <td>129004 126836 118524</td>\n",
              "    </tr>\n",
              "    <tr>\n",
              "      <th>4</th>\n",
              "      <td>12899780_carts</td>\n",
              "      <td>129004 126836 118524</td>\n",
              "    </tr>\n",
              "  </tbody>\n",
              "</table>\n",
              "</div>\n",
              "      <button class=\"colab-df-convert\" onclick=\"convertToInteractive('df-12db31e1-5f05-4afb-ac52-d54977e1666e')\"\n",
              "              title=\"Convert this dataframe to an interactive table.\"\n",
              "              style=\"display:none;\">\n",
              "        \n",
              "  <svg xmlns=\"http://www.w3.org/2000/svg\" height=\"24px\"viewBox=\"0 0 24 24\"\n",
              "       width=\"24px\">\n",
              "    <path d=\"M0 0h24v24H0V0z\" fill=\"none\"/>\n",
              "    <path d=\"M18.56 5.44l.94 2.06.94-2.06 2.06-.94-2.06-.94-.94-2.06-.94 2.06-2.06.94zm-11 1L8.5 8.5l.94-2.06 2.06-.94-2.06-.94L8.5 2.5l-.94 2.06-2.06.94zm10 10l.94 2.06.94-2.06 2.06-.94-2.06-.94-.94-2.06-.94 2.06-2.06.94z\"/><path d=\"M17.41 7.96l-1.37-1.37c-.4-.4-.92-.59-1.43-.59-.52 0-1.04.2-1.43.59L10.3 9.45l-7.72 7.72c-.78.78-.78 2.05 0 2.83L4 21.41c.39.39.9.59 1.41.59.51 0 1.02-.2 1.41-.59l7.78-7.78 2.81-2.81c.8-.78.8-2.07 0-2.86zM5.41 20L4 18.59l7.72-7.72 1.47 1.35L5.41 20z\"/>\n",
              "  </svg>\n",
              "      </button>\n",
              "      \n",
              "  <style>\n",
              "    .colab-df-container {\n",
              "      display:flex;\n",
              "      flex-wrap:wrap;\n",
              "      gap: 12px;\n",
              "    }\n",
              "\n",
              "    .colab-df-convert {\n",
              "      background-color: #E8F0FE;\n",
              "      border: none;\n",
              "      border-radius: 50%;\n",
              "      cursor: pointer;\n",
              "      display: none;\n",
              "      fill: #1967D2;\n",
              "      height: 32px;\n",
              "      padding: 0 0 0 0;\n",
              "      width: 32px;\n",
              "    }\n",
              "\n",
              "    .colab-df-convert:hover {\n",
              "      background-color: #E2EBFA;\n",
              "      box-shadow: 0px 1px 2px rgba(60, 64, 67, 0.3), 0px 1px 3px 1px rgba(60, 64, 67, 0.15);\n",
              "      fill: #174EA6;\n",
              "    }\n",
              "\n",
              "    [theme=dark] .colab-df-convert {\n",
              "      background-color: #3B4455;\n",
              "      fill: #D2E3FC;\n",
              "    }\n",
              "\n",
              "    [theme=dark] .colab-df-convert:hover {\n",
              "      background-color: #434B5C;\n",
              "      box-shadow: 0px 1px 3px 1px rgba(0, 0, 0, 0.15);\n",
              "      filter: drop-shadow(0px 1px 2px rgba(0, 0, 0, 0.3));\n",
              "      fill: #FFFFFF;\n",
              "    }\n",
              "  </style>\n",
              "\n",
              "      <script>\n",
              "        const buttonEl =\n",
              "          document.querySelector('#df-12db31e1-5f05-4afb-ac52-d54977e1666e button.colab-df-convert');\n",
              "        buttonEl.style.display =\n",
              "          google.colab.kernel.accessAllowed ? 'block' : 'none';\n",
              "\n",
              "        async function convertToInteractive(key) {\n",
              "          const element = document.querySelector('#df-12db31e1-5f05-4afb-ac52-d54977e1666e');\n",
              "          const dataTable =\n",
              "            await google.colab.kernel.invokeFunction('convertToInteractive',\n",
              "                                                     [key], {});\n",
              "          if (!dataTable) return;\n",
              "\n",
              "          const docLinkHtml = 'Like what you see? Visit the ' +\n",
              "            '<a target=\"_blank\" href=https://colab.research.google.com/notebooks/data_table.ipynb>data table notebook</a>'\n",
              "            + ' to learn more about interactive tables.';\n",
              "          element.innerHTML = '';\n",
              "          dataTable['output_type'] = 'display_data';\n",
              "          await google.colab.output.renderOutput(dataTable, element);\n",
              "          const docLink = document.createElement('div');\n",
              "          docLink.innerHTML = docLinkHtml;\n",
              "          element.appendChild(docLink);\n",
              "        }\n",
              "      </script>\n",
              "    </div>\n",
              "  </div>\n",
              "  "
            ]
          },
          "metadata": {},
          "execution_count": 16
        }
      ]
    },
    {
      "cell_type": "code",
      "source": [
        "sample_size = 150000\n",
        "\n",
        "chunks = pd.read_json(TRAIN_PATH, lines=True, chunksize = sample_size)\n",
        "\n",
        "clicks_article_list = []\n",
        "carts_article_list = []\n",
        "orders_article_list = []\n",
        "\n",
        "for e, c in enumerate(chunks):\n",
        "    \n",
        "    # Save time by not using all the data\n",
        "    if e > 2:\n",
        "        break\n",
        "    \n",
        "    sample_train_df = c\n",
        "    \n",
        "    for i, row in c.iterrows():\n",
        "        actions = row['events']\n",
        "        for action in actions:\n",
        "            if action['type'] == 'clicks':\n",
        "                clicks_article_list.append(action['aid'])\n",
        "            elif action['type'] == 'carts':\n",
        "                carts_article_list.append(action['aid'])\n",
        "            else:\n",
        "                orders_article_list.append(action['aid'])"
      ],
      "metadata": {
        "id": "UlsV5g4VT14M"
      },
      "execution_count": 17,
      "outputs": []
    },
    {
      "cell_type": "code",
      "source": [
        "# Create dictionaries with articles and their frequencies\n",
        "article_click_freq = Counter(clicks_article_list)\n",
        "article_carts_freq = Counter(carts_article_list)\n",
        "article_order_freq = Counter(orders_article_list)"
      ],
      "metadata": {
        "id": "gNKYBbERUB9d"
      },
      "execution_count": 18,
      "outputs": []
    },
    {
      "cell_type": "code",
      "source": [
        "# Get the 20 most frequent articles for each action\n",
        "top_click_article = nlargest(20, article_click_freq, key = article_click_freq.get)\n",
        "top_carts_article = nlargest(20, article_carts_freq, key = article_carts_freq.get)\n",
        "top_order_article = nlargest(20, article_order_freq, key = article_order_freq.get) "
      ],
      "metadata": {
        "id": "GduBDMkzUDqt"
      },
      "execution_count": 19,
      "outputs": []
    },
    {
      "cell_type": "code",
      "source": [
        "# Create a dict with this info\n",
        "frequent_articles = {'clicks': top_click_article, 'carts':top_carts_article, 'order':top_order_article}"
      ],
      "metadata": {
        "id": "ttoLV98uUEtl"
      },
      "execution_count": 20,
      "outputs": []
    },
    {
      "cell_type": "code",
      "source": [
        "for action in ['clicks', 'carts', 'order']:\n",
        "    print(f'Most frequent articles for {action}: {frequent_articles[action][-5:]}')"
      ],
      "metadata": {
        "colab": {
          "base_uri": "https://localhost:8080/"
        },
        "id": "aeRQfxeFUI8d",
        "outputId": "e3994876-17e8-45dc-a8e9-b7093568b22f"
      },
      "execution_count": 21,
      "outputs": [
        {
          "output_type": "stream",
          "name": "stdout",
          "text": [
            "Most frequent articles for clicks: [1196256, 1502122, 673407, 508883, 1743151]\n",
            "Most frequent articles for carts: [1743151, 544144, 1498443, 351335, 247240]\n",
            "Most frequent articles for order: [923948, 801774, 247240, 1111967, 563117]\n"
          ]
        }
      ]
    },
    {
      "cell_type": "markdown",
      "source": [
        "중복되는 부분이 있지만 기사는 다른 작업에 따라 변경됩니다!\n",
        "\n",
        "이 기준선은 사람들이 이전에 상호 작용했던 기사와 자주 상호 작용한다는 사실을 사용할 것이다. 예측은 세션에서 가장 자주 사용되는 상위 20개 기사로 구성됩니다. 세션에 20개 미만의 기사가 있는 경우 위에서 확인한 것처럼 교육 데이터에서 가장 자주 나오는 기사로 예측이 패딩됩니다."
      ],
      "metadata": {
        "id": "-fBgUd2HULPQ"
      }
    },
    {
      "cell_type": "code",
      "source": [
        "test_data = pd.read_json(TEST_PATH, lines=True, chunksize=1000)\n",
        "\n",
        "preds = []\n",
        "\n",
        "for chunk in tqdm(test_data, total=1671):\n",
        "    \n",
        "    for i, row in chunk.iterrows():\n",
        "        actions = row['events']\n",
        "        article_id_list = []\n",
        "        for action in actions:\n",
        "            article_id_list.append(action['aid'])\n",
        "            \n",
        "        # Get 20 most common article ID for the session\n",
        "        article_freq = Counter(article_id_list)\n",
        "        top_articles = nlargest(20, article_freq, key = article_freq.get)\n",
        "        \n",
        "        # Pad with most popular items in training\n",
        "        padding_size = -(20 - len(top_articles))\n",
        "        for action in ['clicks', 'carts', 'order']:\n",
        "            top_articles = top_articles + frequent_articles[action][padding_size:]\n",
        "            preds.append(\" \".join([str(id) for id in top_articles]))"
      ],
      "metadata": {
        "colab": {
          "base_uri": "https://localhost:8080/",
          "height": 49,
          "referenced_widgets": [
            "f515b8dd29be4fcb962c6798afd89ebd",
            "d9f596b96bc04f9489743a93cbed9c08",
            "01e792de6c6e4e45a2f1b2fd16895e8e",
            "ead26a043ccd4879aa0f9354fd453809",
            "3bfb649cb8524f2ba9f3c0936853e842",
            "b3a3d4d8d56a4389af4c38059989ba9b",
            "df9e8670ea784acaba3ad5ff3cf5dea2",
            "60b6527044df4648bef16eff9dc2ef20",
            "8d8bef28a1ff41f4bb102917c74b4173",
            "a97edf1b799941c9a6d8f8c7d87bb9a4",
            "8a39fb5522684b139cb33177d9a21ad3"
          ]
        },
        "id": "ZKA5hL-YUMkU",
        "outputId": "3455e873-5d06-4e07-c0fc-81ae562c3b99"
      },
      "execution_count": 22,
      "outputs": [
        {
          "output_type": "display_data",
          "data": {
            "text/plain": [
              "  0%|          | 0/1671 [00:00<?, ?it/s]"
            ],
            "application/vnd.jupyter.widget-view+json": {
              "version_major": 2,
              "version_minor": 0,
              "model_id": "f515b8dd29be4fcb962c6798afd89ebd"
            }
          },
          "metadata": {}
        }
      ]
    },
    {
      "cell_type": "code",
      "source": [
        "import math\n",
        "# Predict the 20 most common atricles for each test session\n",
        "sample_submission['labels'] = preds"
      ],
      "metadata": {
        "id": "EMkLz4_mUk21"
      },
      "execution_count": 23,
      "outputs": []
    },
    {
      "cell_type": "code",
      "source": [
        "sample_submission.to_csv('/content/drive/MyDrive/KAGGLE/Shopper-2022/otto-recommender-system/submission.csv', index=False)"
      ],
      "metadata": {
        "id": "y0KVAg9vUqT6"
      },
      "execution_count": 24,
      "outputs": []
    },
    {
      "cell_type": "code",
      "source": [],
      "metadata": {
        "id": "vCE92cKOV8s0"
      },
      "execution_count": null,
      "outputs": []
    }
  ]
}